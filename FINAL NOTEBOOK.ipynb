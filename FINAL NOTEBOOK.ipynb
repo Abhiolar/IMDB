{
 "cells": [
  {
   "cell_type": "markdown",
   "metadata": {},
   "source": [
    "# Authors"
   ]
  },
  {
   "cell_type": "markdown",
   "metadata": {},
   "source": [
    "Yusuf Olodo and Carlos Cutillas"
   ]
  },
  {
   "cell_type": "markdown",
   "metadata": {},
   "source": [
    "# Business problem"
   ]
  },
  {
   "cell_type": "markdown",
   "metadata": {},
   "source": [
    "# Analysis "
   ]
  },
  {
   "cell_type": "markdown",
   "metadata": {},
   "source": [
    "## Data importing and cleaning "
   ]
  },
  {
   "cell_type": "code",
   "execution_count": 61,
   "metadata": {
    "ExecuteTime": {
     "end_time": "2019-11-15T00:29:17.677797Z",
     "start_time": "2019-11-15T00:29:17.671667Z"
    }
   },
   "outputs": [],
   "source": [
    "import pandas as pd \n",
    "import numpy as np \n",
    "from matplotlib import pyplot as plt\n",
    "%matplotlib inline\n",
    "import seaborn as sns\n",
    "sns.set_style('darkgrid')\n",
    "import random\n",
    "import scipy.stats as stats\n",
    "import re"
   ]
  },
  {
   "cell_type": "code",
   "execution_count": 2,
   "metadata": {
    "ExecuteTime": {
     "end_time": "2019-11-15T00:05:34.208266Z",
     "start_time": "2019-11-15T00:05:34.172747Z"
    }
   },
   "outputs": [],
   "source": [
    "data = pd.read_csv('movies_last.csv')"
   ]
  },
  {
   "cell_type": "code",
   "execution_count": 3,
   "metadata": {
    "ExecuteTime": {
     "end_time": "2019-11-15T00:05:34.216011Z",
     "start_time": "2019-11-15T00:05:34.211040Z"
    }
   },
   "outputs": [],
   "source": [
    "data.drop(['Unnamed: 0', 'Unnamed: 0.1'], axis=1, inplace = True)"
   ]
  },
  {
   "cell_type": "code",
   "execution_count": 9,
   "metadata": {
    "ExecuteTime": {
     "end_time": "2019-11-15T00:06:40.769530Z",
     "start_time": "2019-11-15T00:06:40.766298Z"
    }
   },
   "outputs": [],
   "source": [
    "# Importing function for data cleaning .py file \n",
    "from data_preparing import get_decade"
   ]
  },
  {
   "cell_type": "code",
   "execution_count": 7,
   "metadata": {
    "ExecuteTime": {
     "end_time": "2019-11-15T00:06:04.122077Z",
     "start_time": "2019-11-15T00:06:04.061681Z"
    }
   },
   "outputs": [],
   "source": [
    "data['all_years'] = data['all_years'].apply(lambda x: re.sub('[^0-9]','', x))\n",
    "\n",
    "data['all_genres'] = data['all_genres'].apply(lambda x: x[1:])\n",
    "\n",
    "data['all_gross'] = data['all_gross'].apply(lambda x: x.replace(',',''))\n",
    "data['all_gross'] = data['all_gross'].apply(lambda x:  int(x) if x != 'no' else 0)\n",
    "\n",
    "data['all_scores'] = data['all_scores'].apply(lambda x: x.replace('.',''))\n",
    "data['all_scores'] = data['all_scores'].apply(lambda x: int(x) if x != 'NO' else 0)\n",
    "\n",
    "data['all_meta'] = data['all_meta'].apply(lambda x: int(x.replace('.','')) if x != 'no' else 0)\n",
    "\n",
    "\n",
    "data['all_years'] = data['all_years'].apply(lambda x: int(x))\n",
    "\n",
    "data['dec'] = data['all_years'].apply(lambda x: int(str(x)[2]))\n",
    "data['decade'] = data['dec'].apply(lambda x: get_decade(x))"
   ]
  },
  {
   "cell_type": "code",
   "execution_count": 10,
   "metadata": {
    "ExecuteTime": {
     "end_time": "2019-11-15T00:06:54.284315Z",
     "start_time": "2019-11-15T00:06:54.278079Z"
    }
   },
   "outputs": [],
   "source": [
    "del data['dec']"
   ]
  },
  {
   "cell_type": "markdown",
   "metadata": {},
   "source": [
    "### Importing external csv to get the budget "
   ]
  },
  {
   "cell_type": "code",
   "execution_count": 11,
   "metadata": {
    "ExecuteTime": {
     "end_time": "2019-11-15T00:08:13.561658Z",
     "start_time": "2019-11-15T00:08:12.899290Z"
    }
   },
   "outputs": [
    {
     "name": "stderr",
     "output_type": "stream",
     "text": [
      "/Users/carloscutillas/anaconda3/lib/python3.7/site-packages/IPython/core/interactiveshell.py:3057: DtypeWarning: Columns (10) have mixed types. Specify dtype option on import or set low_memory=False.\n",
      "  interactivity=interactivity, compiler=compiler, result=result)\n"
     ]
    }
   ],
   "source": [
    "movies_metadata = pd.read_csv('movies_metadata.csv')"
   ]
  },
  {
   "cell_type": "code",
   "execution_count": 12,
   "metadata": {
    "ExecuteTime": {
     "end_time": "2019-11-15T00:08:13.840093Z",
     "start_time": "2019-11-15T00:08:13.835691Z"
    }
   },
   "outputs": [],
   "source": [
    "budget_and_id = movies_metadata[['budget', 'imdb_id']]"
   ]
  },
  {
   "cell_type": "markdown",
   "metadata": {},
   "source": [
    "###  Importing external csv to get CPI inflation index "
   ]
  },
  {
   "cell_type": "code",
   "execution_count": 13,
   "metadata": {
    "ExecuteTime": {
     "end_time": "2019-11-15T00:08:15.153300Z",
     "start_time": "2019-11-15T00:08:14.253610Z"
    }
   },
   "outputs": [],
   "source": [
    "inflation = pd.read_csv('https://pkgstore.datahub.io/core/cpi-us/cpiai_csv/data/b17bfacbda3c08e51cd13fe544b8fca4/cpiai_csv.csv')"
   ]
  },
  {
   "cell_type": "markdown",
   "metadata": {},
   "source": [
    "### Cleaning new merges "
   ]
  },
  {
   "cell_type": "code",
   "execution_count": 14,
   "metadata": {
    "ExecuteTime": {
     "end_time": "2019-11-15T00:08:50.647271Z",
     "start_time": "2019-11-15T00:08:50.641520Z"
    }
   },
   "outputs": [],
   "source": [
    "inflation['Date'] = inflation['Date'].apply(lambda x: x[:4]) \n",
    "\n",
    "inflation['Date'] = inflation['Date'].astype(int)"
   ]
  },
  {
   "cell_type": "code",
   "execution_count": 15,
   "metadata": {
    "ExecuteTime": {
     "end_time": "2019-11-15T00:09:01.321096Z",
     "start_time": "2019-11-15T00:09:01.310373Z"
    }
   },
   "outputs": [],
   "source": [
    "inf = inflation.groupby('Date').mean().reset_index(level= 0)"
   ]
  },
  {
   "cell_type": "markdown",
   "metadata": {},
   "source": [
    "### Creating a dataframe with all the data together "
   ]
  },
  {
   "cell_type": "code",
   "execution_count": 16,
   "metadata": {
    "ExecuteTime": {
     "end_time": "2019-11-15T00:09:43.505173Z",
     "start_time": "2019-11-15T00:09:43.476883Z"
    }
   },
   "outputs": [],
   "source": [
    "all_data = pd.merge(data, budget_and_id,how='left', left_on='id', right_on='imdb_id')"
   ]
  },
  {
   "cell_type": "code",
   "execution_count": 17,
   "metadata": {
    "ExecuteTime": {
     "end_time": "2019-11-15T00:09:45.164835Z",
     "start_time": "2019-11-15T00:09:45.151821Z"
    }
   },
   "outputs": [],
   "source": [
    "all_data.dropna(inplace=True)"
   ]
  },
  {
   "cell_type": "code",
   "execution_count": 19,
   "metadata": {
    "ExecuteTime": {
     "end_time": "2019-11-15T00:10:04.941183Z",
     "start_time": "2019-11-15T00:10:04.934371Z"
    }
   },
   "outputs": [],
   "source": [
    "all_data['budget'] = all_data['budget'].astype(int)\n",
    "all_data['genre_bis'] = all_data['all_genres'].apply(lambda x: 'Action' if 'Action' in x\n",
    "                                                     else ('Romance' if 'Romance' in x else 'no') \n",
    "                                                    )"
   ]
  },
  {
   "cell_type": "code",
   "execution_count": 20,
   "metadata": {
    "ExecuteTime": {
     "end_time": "2019-11-15T00:10:16.474151Z",
     "start_time": "2019-11-15T00:10:16.456005Z"
    }
   },
   "outputs": [],
   "source": [
    "all_data['profit'] = all_data['all_gross'] - all_data['budget']"
   ]
  },
  {
   "cell_type": "markdown",
   "metadata": {},
   "source": [
    "### Merging inflation"
   ]
  },
  {
   "cell_type": "code",
   "execution_count": 21,
   "metadata": {
    "ExecuteTime": {
     "end_time": "2019-11-15T00:10:49.446855Z",
     "start_time": "2019-11-15T00:10:49.433509Z"
    }
   },
   "outputs": [],
   "source": [
    "data_with_inflation = pd.merge(all_data, inf,how='left', left_on='all_years', right_on='Date')"
   ]
  },
  {
   "cell_type": "markdown",
   "metadata": {},
   "source": [
    "### Cleaning data with inflation "
   ]
  },
  {
   "cell_type": "code",
   "execution_count": 22,
   "metadata": {
    "ExecuteTime": {
     "end_time": "2019-11-15T00:11:14.739020Z",
     "start_time": "2019-11-15T00:11:14.734970Z"
    }
   },
   "outputs": [],
   "source": [
    "del data_with_inflation['Inflation']"
   ]
  },
  {
   "cell_type": "code",
   "execution_count": 23,
   "metadata": {
    "ExecuteTime": {
     "end_time": "2019-11-15T00:11:45.920511Z",
     "start_time": "2019-11-15T00:11:45.916961Z"
    }
   },
   "outputs": [],
   "source": [
    "from data_preparing import get_last_years_inflation"
   ]
  },
  {
   "cell_type": "code",
   "execution_count": 24,
   "metadata": {
    "ExecuteTime": {
     "end_time": "2019-11-15T00:12:18.787015Z",
     "start_time": "2019-11-15T00:12:18.763028Z"
    }
   },
   "outputs": [],
   "source": [
    "data_with_inflation['Index_all'] = data_with_inflation['all_years'].apply(lambda x: get_last_years_inflation(x) )\n",
    "data_with_inflation['Index_all'] = data_with_inflation['Index_all'].astype(str)\n",
    "\n",
    "data_with_inflation['Index'] = data_with_inflation['Index'].astype(str)\n",
    "\n",
    "\n",
    "data_with_inflation['Index_all_years'] = data_with_inflation.Index.fillna('') + data_with_inflation.Index_all.fillna('')\n",
    "\n",
    "# data_with_inflation['Index_all_years'] = data_with_inflation['Index_all'].combine_first(data_with_inflation['Index'])\n",
    "\n",
    "data_with_inflation['Index_all_years'] = data_with_inflation['Index_all_years'].apply(\n",
    "    lambda x: x.lstrip('nan').rstrip('nan'))\n"
   ]
  },
  {
   "cell_type": "code",
   "execution_count": 25,
   "metadata": {
    "ExecuteTime": {
     "end_time": "2019-11-15T00:12:34.125391Z",
     "start_time": "2019-11-15T00:12:34.119776Z"
    }
   },
   "outputs": [],
   "source": [
    "del data_with_inflation['Index_all']\n",
    "del data_with_inflation['Index']\n",
    "del data_with_inflation['Date']\n"
   ]
  },
  {
   "cell_type": "markdown",
   "metadata": {},
   "source": [
    "### Adjusting monetary units to inflation "
   ]
  },
  {
   "cell_type": "code",
   "execution_count": 26,
   "metadata": {
    "ExecuteTime": {
     "end_time": "2019-11-15T00:13:40.460074Z",
     "start_time": "2019-11-15T00:13:40.453768Z"
    }
   },
   "outputs": [],
   "source": [
    "#  Re converting stringg to integer on index \n",
    "\n",
    "data_with_inflation['Index_all_years'] = data_with_inflation['Index_all_years'].astype(float)"
   ]
  },
  {
   "cell_type": "code",
   "execution_count": 27,
   "metadata": {
    "ExecuteTime": {
     "end_time": "2019-11-15T00:13:40.941521Z",
     "start_time": "2019-11-15T00:13:40.935286Z"
    }
   },
   "outputs": [],
   "source": [
    "data_with_inflation['budget_adjusted'] = (data_with_inflation['budget'] / data_with_inflation['Index_all_years'])*100\n",
    "\n",
    "data_with_inflation['gross_adjusted'] = (data_with_inflation['all_gross'] / data_with_inflation['Index_all_years'])*100\n",
    "\n"
   ]
  },
  {
   "cell_type": "code",
   "execution_count": 28,
   "metadata": {
    "ExecuteTime": {
     "end_time": "2019-11-15T00:13:41.391447Z",
     "start_time": "2019-11-15T00:13:41.387570Z"
    }
   },
   "outputs": [],
   "source": [
    "data_with_inflation['profit_adjusted'] =  data_with_inflation['gross_adjusted'] - data_with_inflation['budget_adjusted'] "
   ]
  },
  {
   "cell_type": "markdown",
   "metadata": {},
   "source": [
    "### Exporting to csv (commented out in order to not eport it each time notebook is run)"
   ]
  },
  {
   "cell_type": "code",
   "execution_count": 29,
   "metadata": {
    "ExecuteTime": {
     "end_time": "2019-11-15T00:14:47.696536Z",
     "start_time": "2019-11-15T00:14:47.693652Z"
    }
   },
   "outputs": [],
   "source": [
    "# data_for_budget = all_data[all_data['budget'] > 0]"
   ]
  },
  {
   "cell_type": "code",
   "execution_count": 30,
   "metadata": {
    "ExecuteTime": {
     "end_time": "2019-11-15T00:14:48.206038Z",
     "start_time": "2019-11-15T00:14:48.203595Z"
    }
   },
   "outputs": [],
   "source": [
    "# data_for_budget.to_csv('movies_for_budget', encoding='utf-8')\n",
    "# all_data.to_csv('movies_all', encoding='utf-8')"
   ]
  },
  {
   "cell_type": "code",
   "execution_count": 31,
   "metadata": {
    "ExecuteTime": {
     "end_time": "2019-11-15T00:14:48.638060Z",
     "start_time": "2019-11-15T00:14:48.635552Z"
    }
   },
   "outputs": [],
   "source": [
    "# data_with_inflation.to_csv('data_adjusted_to_inflation.csv')"
   ]
  },
  {
   "cell_type": "markdown",
   "metadata": {},
   "source": [
    "## Hypothesis testing "
   ]
  },
  {
   "cell_type": "code",
   "execution_count": 35,
   "metadata": {
    "ExecuteTime": {
     "end_time": "2019-11-15T00:20:36.644402Z",
     "start_time": "2019-11-15T00:20:36.550051Z"
    }
   },
   "outputs": [],
   "source": [
    "data_with_inflation = pd.read_csv('data_adjusted_to_inflation.csv')\n",
    "data_for_ht = data_with_inflation.replace(0,data_with_inflation.median())"
   ]
  },
  {
   "cell_type": "markdown",
   "metadata": {},
   "source": [
    "### H3 - 50's and 60's movies made more profit than movies nowadays"
   ]
  },
  {
   "cell_type": "code",
   "execution_count": 82,
   "metadata": {
    "ExecuteTime": {
     "end_time": "2019-11-15T00:39:06.365555Z",
     "start_time": "2019-11-15T00:39:06.352089Z"
    }
   },
   "outputs": [],
   "source": [
    "fifth_movies = list((data_for_ht[(data_for_ht['decade'] == \"50s\")|(data_for_ht['decade'] == \"60s\")]['profit_adjusted']))\n",
    "now_movies = list((data_for_ht[(data_for_ht['decade']== \"00s\")|(data_for_ht['decade'] == \"10s\")]['profit_adjusted']))"
   ]
  },
  {
   "cell_type": "markdown",
   "metadata": {},
   "source": [
    "#### Getting 2 samples of equal size "
   ]
  },
  {
   "cell_type": "code",
   "execution_count": 83,
   "metadata": {
    "ExecuteTime": {
     "end_time": "2019-11-15T00:39:07.393791Z",
     "start_time": "2019-11-15T00:39:07.389671Z"
    }
   },
   "outputs": [],
   "source": [
    "fifth_movies_sample = random.sample(fifth_movies, 190)\n",
    "now_movies_sample = random.sample(now_movies, 190)"
   ]
  },
  {
   "cell_type": "markdown",
   "metadata": {},
   "source": [
    "#### Variance and mean of the samples "
   ]
  },
  {
   "cell_type": "code",
   "execution_count": 84,
   "metadata": {
    "ExecuteTime": {
     "end_time": "2019-11-15T00:39:08.136754Z",
     "start_time": "2019-11-15T00:39:08.127841Z"
    }
   },
   "outputs": [
    {
     "name": "stdout",
     "output_type": "stream",
     "text": [
      "The variance for the movies on 50s/60s is: 6914554065678971.0\n",
      "The std for the movies on 50s/60s is: 83153797.66239767\n",
      "The mean for the movies on 50s/60s is: 76760590.45304367\n",
      "===============\n",
      "The variance for the movies nowadays is: 532812715466186.75\n",
      "The std for the movies on nowadays is: 23082736.308033038\n",
      "The mean for the movies on nowadays is: 9647296.646187529\n"
     ]
    }
   ],
   "source": [
    "print(\"The variance for the movies on 50s/60s is: {}\".format(np.var(fifth_movies_sample)))\n",
    "print(\"The std for the movies on 50s/60s is: {}\".format(np.std(fifth_movies_sample)))\n",
    "print(\"The mean for the movies on 50s/60s is: {}\".format(np.mean(fifth_movies_sample)))\n",
    "\n",
    "print('===============')\n",
    "\n",
    "print(\"The variance for the movies nowadays is: {}\".format(np.var(now_movies_sample)))\n",
    "print(\"The std for the movies on nowadays is: {}\".format(np.std(now_movies_sample)))\n",
    "print(\"The mean for the movies on nowadays is: {}\".format(np.mean(now_movies_sample)))\n",
    "\n"
   ]
  },
  {
   "cell_type": "markdown",
   "metadata": {},
   "source": [
    "#### Normality test for samples "
   ]
  },
  {
   "cell_type": "code",
   "execution_count": 85,
   "metadata": {
    "ExecuteTime": {
     "end_time": "2019-11-15T00:39:21.557528Z",
     "start_time": "2019-11-15T00:39:21.550184Z"
    }
   },
   "outputs": [
    {
     "data": {
      "text/plain": [
       "NormaltestResult(statistic=56.18421769977186, pvalue=6.305973501700076e-13)"
      ]
     },
     "execution_count": 85,
     "metadata": {},
     "output_type": "execute_result"
    }
   ],
   "source": [
    "stats.normaltest(now_movies_sample)"
   ]
  },
  {
   "cell_type": "code",
   "execution_count": 86,
   "metadata": {
    "ExecuteTime": {
     "end_time": "2019-11-15T00:39:23.345010Z",
     "start_time": "2019-11-15T00:39:23.337272Z"
    }
   },
   "outputs": [
    {
     "data": {
      "text/plain": [
       "NormaltestResult(statistic=114.34272647218202, pvalue=1.4818096669386698e-25)"
      ]
     },
     "execution_count": 86,
     "metadata": {},
     "output_type": "execute_result"
    }
   ],
   "source": [
    "stats.normaltest(fifth_movies_sample)"
   ]
  },
  {
   "cell_type": "markdown",
   "metadata": {
    "ExecuteTime": {
     "end_time": "2019-11-14T19:50:26.075666Z",
     "start_time": "2019-11-14T19:50:26.071941Z"
    }
   },
   "source": [
    "#### Plotting the distribution for both samples"
   ]
  },
  {
   "cell_type": "code",
   "execution_count": 87,
   "metadata": {
    "ExecuteTime": {
     "end_time": "2019-11-15T00:39:25.403244Z",
     "start_time": "2019-11-15T00:39:25.049302Z"
    }
   },
   "outputs": [
    {
     "data": {
      "text/plain": [
       "Text(0, 0.5, 'Probability')"
      ]
     },
     "execution_count": 87,
     "metadata": {},
     "output_type": "execute_result"
    },
    {
     "data": {
      "image/png": "[encoded data removed]",
      "text/plain": [
       "<Figure size 720x432 with 1 Axes>"
      ]
     },
     "metadata": {},
     "output_type": "display_data"
    }
   ],
   "source": [
    "plt.figure(figsize=(10,6))\n",
    "sns.distplot(fifth_movies_sample, label='50s and 60s movies', hist= False)\n",
    "sns.distplot(now_movies_sample, label='00s and 10s movies', hist=False)\n",
    "\n",
    "plt.xlabel('Profit')\n",
    "plt.ylabel('Probability')"
   ]
  },
  {
   "cell_type": "markdown",
   "metadata": {},
   "source": [
    "#### Difference between distribution means"
   ]
  },
  {
   "cell_type": "code",
   "execution_count": 88,
   "metadata": {
    "ExecuteTime": {
     "end_time": "2019-11-15T00:39:27.031716Z",
     "start_time": "2019-11-15T00:39:27.027943Z"
    }
   },
   "outputs": [
    {
     "name": "stdout",
     "output_type": "stream",
     "text": [
      "The difference between means is 67113293.80685614\n"
     ]
    }
   ],
   "source": [
    "diff_means = np.mean(fifth_movies_sample) - np.mean(now_movies_sample)\n",
    "print(\"The difference between means is {}\".format(diff_means))"
   ]
  },
  {
   "cell_type": "markdown",
   "metadata": {},
   "source": [
    "#### T-statistic"
   ]
  },
  {
   "cell_type": "code",
   "execution_count": 89,
   "metadata": {
    "ExecuteTime": {
     "end_time": "2019-11-15T00:39:28.819160Z",
     "start_time": "2019-11-15T00:39:28.815940Z"
    }
   },
   "outputs": [],
   "source": [
    "## Importing function from .py file where we stored them \n",
    "from hyp_testing_functions import pooled_variance, tstatistic\n",
    "from ht_visualizations import visualize_t\n",
    " "
   ]
  },
  {
   "cell_type": "code",
   "execution_count": 90,
   "metadata": {
    "ExecuteTime": {
     "end_time": "2019-11-15T00:39:29.405955Z",
     "start_time": "2019-11-15T00:39:29.401024Z"
    }
   },
   "outputs": [
    {
     "name": "stdout",
     "output_type": "stream",
     "text": [
      "T-Statistic is: 10.719733351567633\n"
     ]
    }
   ],
   "source": [
    "\n",
    "t_stat = tstatistic(fifth_movies_sample, now_movies_sample)\n",
    "print(\"T-Statistic is: {}\".format(t_stat))"
   ]
  },
  {
   "cell_type": "code",
   "execution_count": 91,
   "metadata": {
    "ExecuteTime": {
     "end_time": "2019-11-15T00:39:30.397322Z",
     "start_time": "2019-11-15T00:39:30.394183Z"
    }
   },
   "outputs": [],
   "source": [
    "import scipy.stats\n",
    "# import stats.t\n",
    "from scipy import stats"
   ]
  },
  {
   "cell_type": "code",
   "execution_count": 92,
   "metadata": {
    "ExecuteTime": {
     "end_time": "2019-11-15T00:39:31.701260Z",
     "start_time": "2019-11-15T00:39:31.450524Z"
    }
   },
   "outputs": [
    {
     "data": {
      "image/png": "[encoded data removed]",
      "text/plain": [
       "<Figure size 576x360 with 1 Axes>"
      ]
     },
     "metadata": {},
     "output_type": "display_data"
    }
   ],
   "source": [
    "\n",
    "def visualize_t(t_stat, n_control, n_experimental):\n",
    "    from matplotlib import pyplot as plt \n",
    "\n",
    "    fig = plt.figure(figsize=(8,5))\n",
    "    ax = fig.gca()\n",
    "\n",
    "    xs = np.linspace(4, -4, 500)\n",
    "\n",
    "    # use stats.t.ppf to get critical value. For alpha = 0.05 and two tailed test\n",
    "    crit = stats.t.ppf(1-0.025, (n_control+n_experimental-2))\n",
    "    \n",
    "    # use stats.t.pdf to get values on the probability density function for the t-distribution\n",
    "    \n",
    "    ys= stats.t.pdf(xs, (n_control+n_experimental-2), 0, 1)\n",
    "    ax.plot(xs, ys, linewidth=3, color='darkred')\n",
    "\n",
    "    ax.axvline(crit, color='black', linestyle='--', lw=5)\n",
    "    ax.axvline(-crit, color='black', linestyle='--', lw=5)\n",
    "    ax.axvline(t_stat, color='red', linestyle='--', lw=5)\n",
    "    \n",
    "    plt.show()\n",
    "    return None\n",
    "n_fifth = len(fifth_movies_sample)\n",
    "n_now = len(now_movies_sample)\n",
    "visualize_t(t_stat, n_fifth, n_now)\n"
   ]
  },
  {
   "cell_type": "markdown",
   "metadata": {},
   "source": [
    "#### Getting p-value"
   ]
  },
  {
   "cell_type": "code",
   "execution_count": 93,
   "metadata": {
    "ExecuteTime": {
     "end_time": "2019-11-15T00:39:33.706901Z",
     "start_time": "2019-11-15T00:39:33.701442Z"
    }
   },
   "outputs": [
    {
     "name": "stdout",
     "output_type": "stream",
     "text": [
      "6.867799267302472e-24\n"
     ]
    }
   ],
   "source": [
    "lower_tail = stats.t.cdf(-t_stat, (190+190-2), 0, 1)\n",
    "# Upper tail comulative density function returns area under upper tail curve\n",
    "upper_tail = 1. - stats.t.cdf(t_stat, (190+190-2), 0, 1)\n",
    "\n",
    "p_value = lower_tail+upper_tail\n",
    "print(p_value)"
   ]
  },
  {
   "cell_type": "code",
   "execution_count": 94,
   "metadata": {
    "ExecuteTime": {
     "end_time": "2019-11-15T00:39:34.856866Z",
     "start_time": "2019-11-15T00:39:34.851386Z"
    }
   },
   "outputs": [
    {
     "data": {
      "text/plain": [
       "Ttest_indResult(statistic=10.691486310766017, pvalue=1.7357364658161926e-23)"
      ]
     },
     "execution_count": 94,
     "metadata": {},
     "output_type": "execute_result"
    }
   ],
   "source": [
    "stats.ttest_ind(fifth_movies_sample, now_movies_sample)"
   ]
  },
  {
   "cell_type": "markdown",
   "metadata": {},
   "source": [
    "### H4 - Movies nowadays have more budget than in 50s and 60s"
   ]
  },
  {
   "cell_type": "code",
   "execution_count": 104,
   "metadata": {
    "ExecuteTime": {
     "end_time": "2019-11-15T00:40:05.746088Z",
     "start_time": "2019-11-15T00:40:05.734967Z"
    }
   },
   "outputs": [],
   "source": [
    "fifth_movies = list((data_for_ht[(data_for_ht['decade'] == \"50s\")|(data_for_ht['decade'] == \"60s\")]['budget_adjusted']))\n",
    "now_movies = list((data_for_ht[(data_for_ht['decade']== \"00s\")|(data_for_ht['decade'] == \"10s\")]['budget_adjusted']))"
   ]
  },
  {
   "cell_type": "markdown",
   "metadata": {},
   "source": [
    "#### Getting 2 samples of equal size "
   ]
  },
  {
   "cell_type": "code",
   "execution_count": 105,
   "metadata": {
    "ExecuteTime": {
     "end_time": "2019-11-15T00:40:06.310725Z",
     "start_time": "2019-11-15T00:40:06.307413Z"
    }
   },
   "outputs": [],
   "source": [
    "fifth_movies_sample = random.sample(fifth_movies, 190)\n",
    "now_movies_sample = random.sample(now_movies, 190)"
   ]
  },
  {
   "cell_type": "markdown",
   "metadata": {},
   "source": [
    "#### Variance and mean of the samples "
   ]
  },
  {
   "cell_type": "code",
   "execution_count": 106,
   "metadata": {
    "ExecuteTime": {
     "end_time": "2019-11-15T00:40:06.844051Z",
     "start_time": "2019-11-15T00:40:06.837931Z"
    }
   },
   "outputs": [
    {
     "name": "stdout",
     "output_type": "stream",
     "text": [
      "The variance for the movies on 50s/60s is: 481427044520174.3\n",
      "The std for the movies on 50s/60s is: 21941445.816540312\n",
      "The mean for the movies on 50s/60s is: 19805174.756366752\n",
      "===============\n",
      "The variance for the movies nowadays is: 549915188906200.7\n",
      "The std for the movies on nowadays is: 23450270.550810296\n",
      "The mean for the movies on nowadays is: 25026051.15699739\n"
     ]
    }
   ],
   "source": [
    "print(\"The variance for the movies on 50s/60s is: {}\".format(np.var(fifth_movies_sample)))\n",
    "print(\"The std for the movies on 50s/60s is: {}\".format(np.std(fifth_movies_sample)))\n",
    "print(\"The mean for the movies on 50s/60s is: {}\".format(np.mean(fifth_movies_sample)))\n",
    "\n",
    "print('===============')\n",
    "\n",
    "print(\"The variance for the movies nowadays is: {}\".format(np.var(now_movies_sample)))\n",
    "print(\"The std for the movies on nowadays is: {}\".format(np.std(now_movies_sample)))\n",
    "print(\"The mean for the movies on nowadays is: {}\".format(np.mean(now_movies_sample)))\n",
    "\n"
   ]
  },
  {
   "cell_type": "markdown",
   "metadata": {},
   "source": [
    "#### Normality test for samples "
   ]
  },
  {
   "cell_type": "code",
   "execution_count": 107,
   "metadata": {
    "ExecuteTime": {
     "end_time": "2019-11-15T00:40:08.487719Z",
     "start_time": "2019-11-15T00:40:08.481684Z"
    }
   },
   "outputs": [
    {
     "data": {
      "text/plain": [
       "NormaltestResult(statistic=81.5288067668812, pvalue=1.9780831909932436e-18)"
      ]
     },
     "execution_count": 107,
     "metadata": {},
     "output_type": "execute_result"
    }
   ],
   "source": [
    "stats.normaltest(now_movies_sample)"
   ]
  },
  {
   "cell_type": "code",
   "execution_count": 108,
   "metadata": {
    "ExecuteTime": {
     "end_time": "2019-11-15T00:40:09.084492Z",
     "start_time": "2019-11-15T00:40:09.079537Z"
    }
   },
   "outputs": [
    {
     "data": {
      "text/plain": [
       "NormaltestResult(statistic=168.27091130705898, pvalue=2.8869274984362527e-37)"
      ]
     },
     "execution_count": 108,
     "metadata": {},
     "output_type": "execute_result"
    }
   ],
   "source": [
    "stats.normaltest(fifth_movies_sample)"
   ]
  },
  {
   "cell_type": "markdown",
   "metadata": {
    "ExecuteTime": {
     "end_time": "2019-11-14T19:50:26.075666Z",
     "start_time": "2019-11-14T19:50:26.071941Z"
    }
   },
   "source": [
    "#### Plotting the distribution for both samples"
   ]
  },
  {
   "cell_type": "code",
   "execution_count": 109,
   "metadata": {
    "ExecuteTime": {
     "end_time": "2019-11-15T00:40:10.258395Z",
     "start_time": "2019-11-15T00:40:09.916913Z"
    }
   },
   "outputs": [
    {
     "data": {
      "text/plain": [
       "Text(0, 0.5, 'Probability')"
      ]
     },
     "execution_count": 109,
     "metadata": {},
     "output_type": "execute_result"
    },
    {
     "data": {
      "image/png": "[encoded data removed]",
      "text/plain": [
       "<Figure size 720x432 with 1 Axes>"
      ]
     },
     "metadata": {},
     "output_type": "display_data"
    }
   ],
   "source": [
    "plt.figure(figsize=(10,6))\n",
    "sns.distplot(fifth_movies_sample, label='50s and 60s movies', hist= False)\n",
    "sns.distplot(now_movies_sample, label='00s and 10s movies', hist=False)\n",
    "\n",
    "plt.xlabel('Profit')\n",
    "plt.ylabel('Probability')"
   ]
  },
  {
   "cell_type": "markdown",
   "metadata": {},
   "source": [
    "#### Difference between distribution means"
   ]
  },
  {
   "cell_type": "code",
   "execution_count": 110,
   "metadata": {
    "ExecuteTime": {
     "end_time": "2019-11-15T00:40:11.548922Z",
     "start_time": "2019-11-15T00:40:11.544314Z"
    }
   },
   "outputs": [
    {
     "name": "stdout",
     "output_type": "stream",
     "text": [
      "The difference between means is -5220876.400630638\n"
     ]
    }
   ],
   "source": [
    "diff_means = np.mean(fifth_movies_sample) - np.mean(now_movies_sample)\n",
    "print(\"The difference between means is {}\".format(diff_means))"
   ]
  },
  {
   "cell_type": "markdown",
   "metadata": {},
   "source": [
    "#### Welch T-statistic"
   ]
  },
  {
   "cell_type": "code",
   "execution_count": 111,
   "metadata": {
    "ExecuteTime": {
     "end_time": "2019-11-15T00:40:13.386528Z",
     "start_time": "2019-11-15T00:40:13.383500Z"
    }
   },
   "outputs": [],
   "source": [
    "# importnting welch_t from our .py file\n",
    "from hyp_testing_functions import welch_t"
   ]
  },
  {
   "cell_type": "code",
   "execution_count": 112,
   "metadata": {
    "ExecuteTime": {
     "end_time": "2019-11-15T00:40:13.953790Z",
     "start_time": "2019-11-15T00:40:13.950189Z"
    }
   },
   "outputs": [
    {
     "name": "stdout",
     "output_type": "stream",
     "text": [
      "Welch t-statistic is 2.234976251118416\n"
     ]
    }
   ],
   "source": [
    "welch_t_test = welch_t(fifth_movies_sample, now_movies_sample)\n",
    "print(\"Welch t-statistic is {}\".format(welch_t_test))"
   ]
  },
  {
   "cell_type": "markdown",
   "metadata": {},
   "source": [
    "#### Visualising Welch T-test"
   ]
  },
  {
   "cell_type": "code",
   "execution_count": 113,
   "metadata": {
    "ExecuteTime": {
     "end_time": "2019-11-15T00:42:00.503731Z",
     "start_time": "2019-11-15T00:42:00.242917Z"
    }
   },
   "outputs": [
    {
     "data": {
      "image/png": "[encoded data removed]",
      "text/plain": [
       "<Figure size 576x360 with 1 Axes>"
      ]
     },
     "metadata": {},
     "output_type": "display_data"
    }
   ],
   "source": [
    "visualize_t(welch_t_test, n_fifth, n_now)"
   ]
  },
  {
   "cell_type": "markdown",
   "metadata": {},
   "source": [
    "#### Getting the p-value "
   ]
  },
  {
   "cell_type": "code",
   "execution_count": 130,
   "metadata": {
    "ExecuteTime": {
     "end_time": "2019-11-15T00:56:44.720331Z",
     "start_time": "2019-11-15T00:56:44.717640Z"
    }
   },
   "outputs": [],
   "source": [
    "# importnting p-value from our .py file\n",
    "# from hyp_testing_functions import p_value_"
   ]
  },
  {
   "cell_type": "code",
   "execution_count": 128,
   "metadata": {
    "ExecuteTime": {
     "end_time": "2019-11-15T00:56:37.426412Z",
     "start_time": "2019-11-15T00:56:37.409988Z"
    }
   },
   "outputs": [],
   "source": [
    "## for now we leave it written here \n",
    "\n",
    "\n",
    "def p_value_(a, b, two_sided=True):\n",
    "\n",
    "    t = welch_t(a, b)\n",
    "    df = welch_df(a, b)\n",
    "    \n",
    "    p = 1-stats.t.cdf(np.abs(t), df)\n",
    "    \n",
    "    if two_sided:\n",
    "        return 2*p\n",
    "    else:\n",
    "        return p"
   ]
  },
  {
   "cell_type": "code",
   "execution_count": 129,
   "metadata": {
    "ExecuteTime": {
     "end_time": "2019-11-15T00:56:38.144610Z",
     "start_time": "2019-11-15T00:56:38.092715Z"
    }
   },
   "outputs": [
    {
     "ename": "TypeError",
     "evalue": "'numpy.float64' object is not callable",
     "output_type": "error",
     "traceback": [
      "\u001b[0;31m---------------------------------------------------------------------------\u001b[0m",
      "\u001b[0;31mTypeError\u001b[0m                                 Traceback (most recent call last)",
      "\u001b[0;32m<ipython-input-129-23147bc035d5>\u001b[0m in \u001b[0;36m<module>\u001b[0;34m\u001b[0m\n\u001b[0;32m----> 1\u001b[0;31m \u001b[0mp_value\u001b[0m\u001b[0;34m(\u001b[0m\u001b[0mfifth_movies_sample\u001b[0m\u001b[0;34m,\u001b[0m \u001b[0mnow_movies_sample\u001b[0m\u001b[0;34m)\u001b[0m\u001b[0;34m\u001b[0m\u001b[0;34m\u001b[0m\u001b[0m\n\u001b[0m",
      "\u001b[0;31mTypeError\u001b[0m: 'numpy.float64' object is not callable"
     ]
    }
   ],
   "source": [
    "p_value(fifth_movies_sample, now_movies_sample)"
   ]
  },
  {
   "cell_type": "code",
   "execution_count": null,
   "metadata": {},
   "outputs": [],
   "source": []
  }
 ],
 "metadata": {
  "hide_input": false,
  "kernelspec": {
   "display_name": "Python 3",
   "language": "python",
   "name": "python3"
  },
  "language_info": {
   "codemirror_mode": {
    "name": "ipython",
    "version": 3
   },
   "file_extension": ".py",
   "mimetype": "text/x-python",
   "name": "python",
   "nbconvert_exporter": "python",
   "pygments_lexer": "ipython3",
   "version": "3.7.3"
  },
  "toc": {
   "base_numbering": 1,
   "nav_menu": {},
   "number_sections": true,
   "sideBar": true,
   "skip_h1_title": false,
   "title_cell": "Table of Contents",
   "title_sidebar": "Contents",
   "toc_cell": false,
   "toc_position": {},
   "toc_section_display": true,
   "toc_window_display": true
  },
  "varInspector": {
   "cols": {
    "lenName": 16,
    "lenType": 16,
    "lenVar": 40
   },
   "kernels_config": {
    "python": {
     "delete_cmd_postfix": "",
     "delete_cmd_prefix": "del ",
     "library": "var_list.py",
     "varRefreshCmd": "print(var_dic_list())"
    },
    "r": {
     "delete_cmd_postfix": ") ",
     "delete_cmd_prefix": "rm(",
     "library": "var_list.r",
     "varRefreshCmd": "cat(var_dic_list()) "
    }
   },
   "types_to_exclude": [
    "module",
    "function",
    "builtin_function_or_method",
    "instance",
    "_Feature"
   ],
   "window_display": false
  }
 },
 "nbformat": 4,
 "nbformat_minor": 2
}
