{
 "cells": [
  {
   "cell_type": "markdown",
   "metadata": {
    "heading_collapsed": true
   },
   "source": [
    "# Authors"
   ]
  },
  {
   "cell_type": "markdown",
   "metadata": {
    "hidden": true
   },
   "source": [
    "Yusuf Olodo and Carlos Cutillas"
   ]
  },
  {
   "cell_type": "markdown",
   "metadata": {
    "heading_collapsed": true
   },
   "source": [
    "# Business problem"
   ]
  },
  {
   "cell_type": "markdown",
   "metadata": {
    "hidden": true
   },
   "source": [
    "A new movie studio has approached our data science company and they are interested in the knowing how the movie industry works and what path to take when deciding their business problems.\n",
    "1. They are interested in knowing whether there is a difference in the budget and the profit made for both Romance and Action movies genre\n",
    "2. They are interested in knowing whether there is a difference in the budget and the profit made for movies in the 50s and 60s compared to the 2000s and 2010s"
   ]
  },
  {
   "cell_type": "markdown",
   "metadata": {},
   "source": [
    "# Analysis "
   ]
  },
  {
   "cell_type": "markdown",
   "metadata": {
    "heading_collapsed": true
   },
   "source": [
    "## Data importing and cleaning "
   ]
  },
  {
   "cell_type": "code",
   "execution_count": 1,
   "metadata": {
    "ExecuteTime": {
     "end_time": "2019-11-15T09:26:31.533270Z",
     "start_time": "2019-11-15T09:26:30.092850Z"
    },
    "hidden": true
   },
   "outputs": [],
   "source": [
    "import pandas as pd \n",
    "import numpy as np \n",
    "from matplotlib import pyplot as plt\n",
    "%matplotlib inline\n",
    "import seaborn as sns\n",
    "sns.set_style('darkgrid')\n",
    "import random\n",
    "import scipy.stats as stats\n",
    "import re"
   ]
  },
  {
   "cell_type": "code",
   "execution_count": 2,
   "metadata": {
    "ExecuteTime": {
     "end_time": "2019-11-15T09:26:31.569771Z",
     "start_time": "2019-11-15T09:26:31.536066Z"
    },
    "hidden": true
   },
   "outputs": [],
   "source": [
    "data = pd.read_csv('movies_last.csv')"
   ]
  },
  {
   "cell_type": "code",
   "execution_count": 3,
   "metadata": {
    "ExecuteTime": {
     "end_time": "2019-11-15T09:26:31.577847Z",
     "start_time": "2019-11-15T09:26:31.572667Z"
    },
    "hidden": true
   },
   "outputs": [],
   "source": [
    "data.drop(['Unnamed: 0', 'Unnamed: 0.1'], axis=1, inplace = True)"
   ]
  },
  {
   "cell_type": "code",
   "execution_count": 4,
   "metadata": {
    "ExecuteTime": {
     "end_time": "2019-11-15T09:26:31.584220Z",
     "start_time": "2019-11-15T09:26:31.580255Z"
    },
    "hidden": true
   },
   "outputs": [],
   "source": [
    "# Importing function for data cleaning .py file \n",
    "from data_preparing import get_decade"
   ]
  },
  {
   "cell_type": "code",
   "execution_count": 5,
   "metadata": {
    "ExecuteTime": {
     "end_time": "2019-11-15T09:26:31.646926Z",
     "start_time": "2019-11-15T09:26:31.586323Z"
    },
    "hidden": true
   },
   "outputs": [],
   "source": [
    "data['all_years'] = data['all_years'].apply(lambda x: re.sub('[^0-9]','', x))\n",
    "\n",
    "data['all_genres'] = data['all_genres'].apply(lambda x: x[1:])\n",
    "\n",
    "data['all_gross'] = data['all_gross'].apply(lambda x: x.replace(',',''))\n",
    "data['all_gross'] = data['all_gross'].apply(lambda x:  int(x) if x != 'no' else 0)\n",
    "\n",
    "data['all_scores'] = data['all_scores'].apply(lambda x: x.replace('.',''))\n",
    "data['all_scores'] = data['all_scores'].apply(lambda x: int(x) if x != 'NO' else 0)\n",
    "\n",
    "data['all_meta'] = data['all_meta'].apply(lambda x: int(x.replace('.','')) if x != 'no' else 0)\n",
    "\n",
    "\n",
    "data['all_years'] = data['all_years'].apply(lambda x: int(x))\n",
    "\n",
    "data['dec'] = data['all_years'].apply(lambda x: int(str(x)[2]))\n",
    "data['decade'] = data['dec'].apply(lambda x: get_decade(x))"
   ]
  },
  {
   "cell_type": "code",
   "execution_count": 6,
   "metadata": {
    "ExecuteTime": {
     "end_time": "2019-11-15T09:26:31.653298Z",
     "start_time": "2019-11-15T09:26:31.649917Z"
    },
    "hidden": true
   },
   "outputs": [],
   "source": [
    "del data['dec']"
   ]
  },
  {
   "cell_type": "markdown",
   "metadata": {
    "hidden": true
   },
   "source": [
    "### Importing external csv to get the budget "
   ]
  },
  {
   "cell_type": "code",
   "execution_count": 7,
   "metadata": {
    "ExecuteTime": {
     "end_time": "2019-11-15T09:26:32.401349Z",
     "start_time": "2019-11-15T09:26:31.655356Z"
    },
    "hidden": true
   },
   "outputs": [
    {
     "name": "stderr",
     "output_type": "stream",
     "text": [
      "/Users/carloscutillas/anaconda3/lib/python3.7/site-packages/IPython/core/interactiveshell.py:3057: DtypeWarning: Columns (10) have mixed types. Specify dtype option on import or set low_memory=False.\n",
      "  interactivity=interactivity, compiler=compiler, result=result)\n"
     ]
    }
   ],
   "source": [
    "movies_metadata = pd.read_csv('movies_metadata.csv')"
   ]
  },
  {
   "cell_type": "code",
   "execution_count": 8,
   "metadata": {
    "ExecuteTime": {
     "end_time": "2019-11-15T09:26:32.408626Z",
     "start_time": "2019-11-15T09:26:32.404112Z"
    },
    "hidden": true
   },
   "outputs": [],
   "source": [
    "budget_and_id = movies_metadata[['budget', 'imdb_id']]"
   ]
  },
  {
   "cell_type": "markdown",
   "metadata": {
    "hidden": true
   },
   "source": [
    "###  Importing external csv to get CPI inflation index "
   ]
  },
  {
   "cell_type": "code",
   "execution_count": 9,
   "metadata": {
    "ExecuteTime": {
     "end_time": "2019-11-15T09:26:32.840609Z",
     "start_time": "2019-11-15T09:26:32.411792Z"
    },
    "hidden": true
   },
   "outputs": [],
   "source": [
    "inflation = pd.read_csv('https://pkgstore.datahub.io/core/cpi-us/cpiai_csv/data/b17bfacbda3c08e51cd13fe544b8fca4/cpiai_csv.csv')"
   ]
  },
  {
   "cell_type": "markdown",
   "metadata": {
    "hidden": true
   },
   "source": [
    "### Cleaning new merges "
   ]
  },
  {
   "cell_type": "code",
   "execution_count": 10,
   "metadata": {
    "ExecuteTime": {
     "end_time": "2019-11-15T09:26:32.848614Z",
     "start_time": "2019-11-15T09:26:32.842942Z"
    },
    "hidden": true
   },
   "outputs": [],
   "source": [
    "inflation['Date'] = inflation['Date'].apply(lambda x: x[:4]) \n",
    "\n",
    "inflation['Date'] = inflation['Date'].astype(int)"
   ]
  },
  {
   "cell_type": "code",
   "execution_count": 11,
   "metadata": {
    "ExecuteTime": {
     "end_time": "2019-11-15T09:26:32.858977Z",
     "start_time": "2019-11-15T09:26:32.851362Z"
    },
    "hidden": true
   },
   "outputs": [],
   "source": [
    "inf = inflation.groupby('Date').mean().reset_index(level= 0)"
   ]
  },
  {
   "cell_type": "markdown",
   "metadata": {
    "hidden": true
   },
   "source": [
    "### Creating a dataframe with all the data together "
   ]
  },
  {
   "cell_type": "code",
   "execution_count": 12,
   "metadata": {
    "ExecuteTime": {
     "end_time": "2019-11-15T09:26:32.888672Z",
     "start_time": "2019-11-15T09:26:32.861369Z"
    },
    "hidden": true
   },
   "outputs": [],
   "source": [
    "all_data = pd.merge(data, budget_and_id,how='left', left_on='id', right_on='imdb_id')"
   ]
  },
  {
   "cell_type": "code",
   "execution_count": 13,
   "metadata": {
    "ExecuteTime": {
     "end_time": "2019-11-15T09:26:32.904810Z",
     "start_time": "2019-11-15T09:26:32.891135Z"
    },
    "hidden": true
   },
   "outputs": [],
   "source": [
    "all_data.dropna(inplace=True)"
   ]
  },
  {
   "cell_type": "code",
   "execution_count": 14,
   "metadata": {
    "ExecuteTime": {
     "end_time": "2019-11-15T09:26:32.917284Z",
     "start_time": "2019-11-15T09:26:32.906953Z"
    },
    "hidden": true
   },
   "outputs": [],
   "source": [
    "all_data['budget'] = all_data['budget'].astype(int)\n",
    "all_data['genre_bis'] = all_data['all_genres'].apply(lambda x: 'Action' if 'Action' in x\n",
    "                                                     else ('Romance' if 'Romance' in x else 'no') \n",
    "                                                    )"
   ]
  },
  {
   "cell_type": "code",
   "execution_count": 15,
   "metadata": {
    "ExecuteTime": {
     "end_time": "2019-11-15T09:26:32.935954Z",
     "start_time": "2019-11-15T09:26:32.919902Z"
    },
    "hidden": true
   },
   "outputs": [],
   "source": [
    "all_data['profit'] = all_data['all_gross'] - all_data['budget']"
   ]
  },
  {
   "cell_type": "markdown",
   "metadata": {
    "hidden": true
   },
   "source": [
    "### Merging inflation"
   ]
  },
  {
   "cell_type": "code",
   "execution_count": 16,
   "metadata": {
    "ExecuteTime": {
     "end_time": "2019-11-15T09:26:32.951744Z",
     "start_time": "2019-11-15T09:26:32.938505Z"
    },
    "hidden": true
   },
   "outputs": [],
   "source": [
    "data_with_inflation = pd.merge(all_data, inf,how='left', left_on='all_years', right_on='Date')"
   ]
  },
  {
   "cell_type": "markdown",
   "metadata": {
    "hidden": true
   },
   "source": [
    "### Cleaning data with inflation "
   ]
  },
  {
   "cell_type": "code",
   "execution_count": 17,
   "metadata": {
    "ExecuteTime": {
     "end_time": "2019-11-15T09:26:32.957992Z",
     "start_time": "2019-11-15T09:26:32.954586Z"
    },
    "hidden": true
   },
   "outputs": [],
   "source": [
    "del data_with_inflation['Inflation']"
   ]
  },
  {
   "cell_type": "code",
   "execution_count": 18,
   "metadata": {
    "ExecuteTime": {
     "end_time": "2019-11-15T09:26:32.962666Z",
     "start_time": "2019-11-15T09:26:32.960242Z"
    },
    "hidden": true
   },
   "outputs": [],
   "source": [
    "from data_preparing import get_last_years_inflation"
   ]
  },
  {
   "cell_type": "code",
   "execution_count": 19,
   "metadata": {
    "ExecuteTime": {
     "end_time": "2019-11-15T09:26:32.983568Z",
     "start_time": "2019-11-15T09:26:32.965282Z"
    },
    "hidden": true
   },
   "outputs": [],
   "source": [
    "data_with_inflation['Index_all'] = data_with_inflation['all_years'].apply(lambda x: get_last_years_inflation(x) )\n",
    "data_with_inflation['Index_all'] = data_with_inflation['Index_all'].astype(str)\n",
    "\n",
    "data_with_inflation['Index'] = data_with_inflation['Index'].astype(str)\n",
    "\n",
    "\n",
    "data_with_inflation['Index_all_years'] = data_with_inflation.Index.fillna('') + data_with_inflation.Index_all.fillna('')\n",
    "\n",
    "# data_with_inflation['Index_all_years'] = data_with_inflation['Index_all'].combine_first(data_with_inflation['Index'])\n",
    "\n",
    "data_with_inflation['Index_all_years'] = data_with_inflation['Index_all_years'].apply(\n",
    "    lambda x: x.lstrip('nan').rstrip('nan'))\n"
   ]
  },
  {
   "cell_type": "code",
   "execution_count": 20,
   "metadata": {
    "ExecuteTime": {
     "end_time": "2019-11-15T09:26:32.989982Z",
     "start_time": "2019-11-15T09:26:32.985220Z"
    },
    "hidden": true
   },
   "outputs": [],
   "source": [
    "del data_with_inflation['Index_all']\n",
    "del data_with_inflation['Index']\n",
    "del data_with_inflation['Date']\n"
   ]
  },
  {
   "cell_type": "markdown",
   "metadata": {
    "hidden": true
   },
   "source": [
    "### Adjusting monetary units to inflation "
   ]
  },
  {
   "cell_type": "code",
   "execution_count": 21,
   "metadata": {
    "ExecuteTime": {
     "end_time": "2019-11-15T09:26:32.996922Z",
     "start_time": "2019-11-15T09:26:32.992164Z"
    },
    "hidden": true
   },
   "outputs": [],
   "source": [
    "#  Re converting stringg to integer on index \n",
    "\n",
    "data_with_inflation['Index_all_years'] = data_with_inflation['Index_all_years'].astype(float)"
   ]
  },
  {
   "cell_type": "code",
   "execution_count": 22,
   "metadata": {
    "ExecuteTime": {
     "end_time": "2019-11-15T09:26:33.004619Z",
     "start_time": "2019-11-15T09:26:32.998488Z"
    },
    "hidden": true
   },
   "outputs": [],
   "source": [
    "data_with_inflation['budget_adjusted'] = (data_with_inflation['budget'] / data_with_inflation['Index_all_years'])*100\n",
    "\n",
    "data_with_inflation['gross_adjusted'] = (data_with_inflation['all_gross'] / data_with_inflation['Index_all_years'])*100\n",
    "\n"
   ]
  },
  {
   "cell_type": "code",
   "execution_count": 23,
   "metadata": {
    "ExecuteTime": {
     "end_time": "2019-11-15T09:26:33.016489Z",
     "start_time": "2019-11-15T09:26:33.011435Z"
    },
    "hidden": true
   },
   "outputs": [],
   "source": [
    "data_with_inflation['profit_adjusted'] =  data_with_inflation['gross_adjusted'] - data_with_inflation['budget_adjusted'] "
   ]
  },
  {
   "cell_type": "markdown",
   "metadata": {
    "hidden": true
   },
   "source": [
    "### Exporting to csv (commented out in order to not eport it each time notebook is run)"
   ]
  },
  {
   "cell_type": "code",
   "execution_count": 24,
   "metadata": {
    "ExecuteTime": {
     "end_time": "2019-11-15T09:26:33.021867Z",
     "start_time": "2019-11-15T09:26:33.019653Z"
    },
    "hidden": true
   },
   "outputs": [],
   "source": [
    "# data_for_budget = all_data[all_data['budget'] > 0]"
   ]
  },
  {
   "cell_type": "code",
   "execution_count": 25,
   "metadata": {
    "ExecuteTime": {
     "end_time": "2019-11-15T09:26:33.026642Z",
     "start_time": "2019-11-15T09:26:33.024144Z"
    },
    "hidden": true
   },
   "outputs": [],
   "source": [
    "# data_for_budget.to_csv('movies_for_budget', encoding='utf-8')\n",
    "# all_data.to_csv('movies_all', encoding='utf-8')"
   ]
  },
  {
   "cell_type": "code",
   "execution_count": 26,
   "metadata": {
    "ExecuteTime": {
     "end_time": "2019-11-15T09:26:33.031677Z",
     "start_time": "2019-11-15T09:26:33.028488Z"
    },
    "hidden": true
   },
   "outputs": [],
   "source": [
    "# data_with_inflation.to_csv('data_adjusted_to_inflation.csv')"
   ]
  },
  {
   "cell_type": "markdown",
   "metadata": {},
   "source": [
    "## Hypothesis testing "
   ]
  },
  {
   "cell_type": "code",
   "execution_count": 27,
   "metadata": {
    "ExecuteTime": {
     "end_time": "2019-11-15T09:26:33.113202Z",
     "start_time": "2019-11-15T09:26:33.033619Z"
    }
   },
   "outputs": [],
   "source": [
    "data_with_inflation = pd.read_csv('data_adjusted_to_inflation.csv')\n",
    "data_for_ht = data_with_inflation.replace(0,data_with_inflation.median())"
   ]
  },
  {
   "cell_type": "markdown",
   "metadata": {},
   "source": [
    "### H3 - 50's and 60's movies made more profit than movies nowadays"
   ]
  },
  {
   "cell_type": "code",
   "execution_count": 28,
   "metadata": {
    "ExecuteTime": {
     "end_time": "2019-11-15T09:26:33.124499Z",
     "start_time": "2019-11-15T09:26:33.115168Z"
    }
   },
   "outputs": [],
   "source": [
    "fifth_movies = list((data_for_ht[(data_for_ht['decade'] == \"50s\")|(data_for_ht['decade'] == \"60s\")]['profit_adjusted']))\n",
    "now_movies = list((data_for_ht[(data_for_ht['decade']== \"00s\")|(data_for_ht['decade'] == \"10s\")]['profit_adjusted']))"
   ]
  },
  {
   "cell_type": "markdown",
   "metadata": {},
   "source": [
    "#### Getting 2 samples of equal size "
   ]
  },
  {
   "cell_type": "code",
   "execution_count": 29,
   "metadata": {
    "ExecuteTime": {
     "end_time": "2019-11-15T09:26:33.129897Z",
     "start_time": "2019-11-15T09:26:33.126474Z"
    }
   },
   "outputs": [],
   "source": [
    "fifth_movies_sample = random.sample(fifth_movies, 190)\n",
    "now_movies_sample = random.sample(now_movies, 190)"
   ]
  },
  {
   "cell_type": "markdown",
   "metadata": {},
   "source": [
    "#### Variance and mean of the samples "
   ]
  },
  {
   "cell_type": "code",
   "execution_count": 30,
   "metadata": {
    "ExecuteTime": {
     "end_time": "2019-11-15T09:26:33.139088Z",
     "start_time": "2019-11-15T09:26:33.132072Z"
    }
   },
   "outputs": [
    {
     "name": "stdout",
     "output_type": "stream",
     "text": [
      "The variance for the movies on 50s/60s is: 6922097222925767.0\n",
      "The std for the movies on 50s/60s is: 83199141.96027365\n",
      "The mean for the movies on 50s/60s is: 76590878.9735621\n",
      "===============\n",
      "The variance for the movies nowadays is: 683245406686632.4\n",
      "The std for the movies on nowadays is: 26138963.382020954\n",
      "The mean for the movies on nowadays is: 9205103.093589753\n"
     ]
    }
   ],
   "source": [
    "print(\"The variance for the movies on 50s/60s is: {}\".format(np.var(fifth_movies_sample)))\n",
    "print(\"The std for the movies on 50s/60s is: {}\".format(np.std(fifth_movies_sample)))\n",
    "print(\"The mean for the movies on 50s/60s is: {}\".format(np.mean(fifth_movies_sample)))\n",
    "\n",
    "print('===============')\n",
    "\n",
    "print(\"The variance for the movies nowadays is: {}\".format(np.var(now_movies_sample)))\n",
    "print(\"The std for the movies on nowadays is: {}\".format(np.std(now_movies_sample)))\n",
    "print(\"The mean for the movies on nowadays is: {}\".format(np.mean(now_movies_sample)))\n",
    "\n"
   ]
  },
  {
   "cell_type": "markdown",
   "metadata": {},
   "source": [
    "#### Normality test for samples "
   ]
  },
  {
   "cell_type": "code",
   "execution_count": 31,
   "metadata": {
    "ExecuteTime": {
     "end_time": "2019-11-15T09:26:33.148368Z",
     "start_time": "2019-11-15T09:26:33.141227Z"
    }
   },
   "outputs": [
    {
     "data": {
      "text/plain": [
       "NormaltestResult(statistic=76.68074858248251, pvalue=2.233505422603938e-17)"
      ]
     },
     "execution_count": 31,
     "metadata": {},
     "output_type": "execute_result"
    }
   ],
   "source": [
    "stats.normaltest(now_movies_sample)"
   ]
  },
  {
   "cell_type": "code",
   "execution_count": 32,
   "metadata": {
    "ExecuteTime": {
     "end_time": "2019-11-15T09:26:33.156256Z",
     "start_time": "2019-11-15T09:26:33.150348Z"
    }
   },
   "outputs": [
    {
     "data": {
      "text/plain": [
       "NormaltestResult(statistic=114.39175947698588, pvalue=1.4459225870231412e-25)"
      ]
     },
     "execution_count": 32,
     "metadata": {},
     "output_type": "execute_result"
    }
   ],
   "source": [
    "stats.normaltest(fifth_movies_sample)"
   ]
  },
  {
   "cell_type": "markdown",
   "metadata": {
    "ExecuteTime": {
     "end_time": "2019-11-14T19:50:26.075666Z",
     "start_time": "2019-11-14T19:50:26.071941Z"
    }
   },
   "source": [
    "#### Plotting the distribution for both samples"
   ]
  },
  {
   "cell_type": "code",
   "execution_count": 33,
   "metadata": {
    "ExecuteTime": {
     "end_time": "2019-11-15T09:26:33.490149Z",
     "start_time": "2019-11-15T09:26:33.158116Z"
    }
   },
   "outputs": [
    {
     "data": {
      "text/plain": [
       "Text(0, 0.5, 'Probability')"
      ]
     },
     "execution_count": 33,
     "metadata": {},
     "output_type": "execute_result"
    },
    {
     "data": {
      "image/png": "[encoded data removed]",
      "text/plain": [
       "<Figure size 720x432 with 1 Axes>"
      ]
     },
     "metadata": {
      "needs_background": "light"
     },
     "output_type": "display_data"
    }
   ],
   "source": [
    "plt.figure(figsize=(10,6))\n",
    "sns.distplot(fifth_movies_sample, label='50s and 60s movies', hist= False)\n",
    "sns.distplot(now_movies_sample, label='00s and 10s movies', hist=False)\n",
    "\n",
    "plt.xlabel('Profit')\n",
    "plt.ylabel('Probability')"
   ]
  },
  {
   "cell_type": "markdown",
   "metadata": {},
   "source": [
    "#### Difference between distribution means"
   ]
  },
  {
   "cell_type": "code",
   "execution_count": 34,
   "metadata": {
    "ExecuteTime": {
     "end_time": "2019-11-15T09:26:33.496434Z",
     "start_time": "2019-11-15T09:26:33.492095Z"
    }
   },
   "outputs": [
    {
     "name": "stdout",
     "output_type": "stream",
     "text": [
      "The difference between means is 67385775.87997235\n"
     ]
    }
   ],
   "source": [
    "diff_means = np.mean(fifth_movies_sample) - np.mean(now_movies_sample)\n",
    "print(\"The difference between means is {}\".format(diff_means))"
   ]
  },
  {
   "cell_type": "markdown",
   "metadata": {},
   "source": [
    "#### T-statistic"
   ]
  },
  {
   "cell_type": "code",
   "execution_count": 35,
   "metadata": {
    "ExecuteTime": {
     "end_time": "2019-11-15T09:26:33.502809Z",
     "start_time": "2019-11-15T09:26:33.498403Z"
    }
   },
   "outputs": [],
   "source": [
    "## Importing function from .py file where we stored them \n",
    "from hyp_testing_functions import pooled_variance, tstatistic\n",
    "from ht_visualizations import visualize_t\n",
    " "
   ]
  },
  {
   "cell_type": "code",
   "execution_count": 36,
   "metadata": {
    "ExecuteTime": {
     "end_time": "2019-11-15T09:26:33.508738Z",
     "start_time": "2019-11-15T09:26:33.504549Z"
    }
   },
   "outputs": [
    {
     "name": "stdout",
     "output_type": "stream",
     "text": [
      "T-Statistic is: 10.650883675396113\n"
     ]
    }
   ],
   "source": [
    "\n",
    "t_stat = tstatistic(fifth_movies_sample, now_movies_sample)\n",
    "print(\"T-Statistic is: {}\".format(t_stat))"
   ]
  },
  {
   "cell_type": "code",
   "execution_count": 37,
   "metadata": {
    "ExecuteTime": {
     "end_time": "2019-11-15T09:26:33.514147Z",
     "start_time": "2019-11-15T09:26:33.510852Z"
    }
   },
   "outputs": [],
   "source": [
    "import scipy.stats\n",
    "# import stats.t\n",
    "from scipy import stats"
   ]
  },
  {
   "cell_type": "code",
   "execution_count": 38,
   "metadata": {
    "ExecuteTime": {
     "end_time": "2019-11-15T09:26:33.820155Z",
     "start_time": "2019-11-15T09:26:33.516236Z"
    }
   },
   "outputs": [
    {
     "data": {
      "image/png": "[encoded data removed]",
      "text/plain": [
       "<Figure size 576x360 with 1 Axes>"
      ]
     },
     "metadata": {
      "needs_background": "light"
     },
     "output_type": "display_data"
    }
   ],
   "source": [
    "\n",
    "def visualize_t(t_stat, n_control, n_experimental):\n",
    "    from matplotlib import pyplot as plt \n",
    "\n",
    "    fig = plt.figure(figsize=(8,5))\n",
    "    ax = fig.gca()\n",
    "\n",
    "    xs = np.linspace(4, -4, 500)\n",
    "\n",
    "    # use stats.t.ppf to get critical value. For alpha = 0.05 and two tailed test\n",
    "    crit = stats.t.ppf(1-0.025, (n_control+n_experimental-2))\n",
    "    \n",
    "    # use stats.t.pdf to get values on the probability density function for the t-distribution\n",
    "    \n",
    "    ys= stats.t.pdf(xs, (n_control+n_experimental-2), 0, 1)\n",
    "    ax.plot(xs, ys, linewidth=3, color='darkred')\n",
    "\n",
    "    ax.axvline(crit, color='black', linestyle='--', lw=5, label='Critical values')\n",
    "    ax.axvline(-crit, color='black', linestyle='--', lw=5)\n",
    "    ax.axvline(t_stat, color='red', linestyle='--', lw=5, label=\"T-Statistic value\")\n",
    "    \n",
    "    plt.title('T-test visualisation')\n",
    "    plt.legend(loc='best')\n",
    "    plt.xlabel('Standard deviations')\n",
    "    plt.ylabel('Probability')\n",
    "    plt.show()\n",
    "    return None\n",
    "n_fifth = len(fifth_movies_sample)\n",
    "n_now = len(now_movies_sample)\n",
    "visualize_t(t_stat, n_fifth, n_now)\n",
    "\n"
   ]
  },
  {
   "cell_type": "markdown",
   "metadata": {},
   "source": [
    "#### Getting p-value"
   ]
  },
  {
   "cell_type": "code",
   "execution_count": 39,
   "metadata": {
    "ExecuteTime": {
     "end_time": "2019-11-15T09:26:33.831076Z",
     "start_time": "2019-11-15T09:26:33.822734Z"
    }
   },
   "outputs": [
    {
     "name": "stdout",
     "output_type": "stream",
     "text": [
      "1.2142350923864638e-23\n"
     ]
    }
   ],
   "source": [
    "lower_tail = stats.t.cdf(-t_stat, (190+190-2), 0, 1)\n",
    "# Upper tail comulative density function returns area under upper tail curve\n",
    "upper_tail = 1. - stats.t.cdf(t_stat, (190+190-2), 0, 1)\n",
    "\n",
    "p_value = lower_tail+upper_tail\n",
    "print(p_value)"
   ]
  },
  {
   "cell_type": "code",
   "execution_count": 40,
   "metadata": {
    "ExecuteTime": {
     "end_time": "2019-11-15T09:26:33.838361Z",
     "start_time": "2019-11-15T09:26:33.833412Z"
    }
   },
   "outputs": [
    {
     "data": {
      "text/plain": [
       "Ttest_indResult(statistic=10.622818056981439, pvalue=3.061810204926966e-23)"
      ]
     },
     "execution_count": 40,
     "metadata": {},
     "output_type": "execute_result"
    }
   ],
   "source": [
    "stats.ttest_ind(fifth_movies_sample, now_movies_sample)"
   ]
  },
  {
   "cell_type": "markdown",
   "metadata": {},
   "source": [
    "#### Cohen's d test"
   ]
  },
  {
   "cell_type": "code",
   "execution_count": 41,
   "metadata": {
    "ExecuteTime": {
     "end_time": "2019-11-15T09:26:33.845278Z",
     "start_time": "2019-11-15T09:26:33.840519Z"
    }
   },
   "outputs": [],
   "source": [
    "def Cohen_d(group1, group2):\n",
    "\n",
    "    # Compute Cohen's d.\n",
    "\n",
    "    # group1: Series or NumPy array\n",
    "    # group2: Series or NumPy array\n",
    "\n",
    "    # returns a floating point number \n",
    "\n",
    "    diff = np.mean(group1) - np.mean(group2)\n",
    "\n",
    "    n1, n2 = len(group1), len(group2)\n",
    "    var1 = np.var(group1)\n",
    "    var2 = np.var(group2)\n",
    "\n",
    "    # Calculate the pooled threshold as shown earlier\n",
    "    pooled_var = (n1 * var1 + n2 * var2) / (n1 + n2)\n",
    "    \n",
    "    # Calculate Cohen's d statistic\n",
    "    d = diff / np.sqrt(pooled_var)\n",
    "    \n",
    "    return d"
   ]
  },
  {
   "cell_type": "code",
   "execution_count": 42,
   "metadata": {
    "ExecuteTime": {
     "end_time": "2019-11-15T09:26:33.852839Z",
     "start_time": "2019-11-15T09:26:33.847333Z"
    }
   },
   "outputs": [
    {
     "data": {
      "text/plain": [
       "1.0927576081533572"
      ]
     },
     "execution_count": 42,
     "metadata": {},
     "output_type": "execute_result"
    }
   ],
   "source": [
    "Cohen_d( fifth_movies_sample, now_movies_sample)"
   ]
  },
  {
   "cell_type": "markdown",
   "metadata": {},
   "source": [
    "### H4 - Movies nowadays have more budget than in 50s and 60s"
   ]
  },
  {
   "cell_type": "code",
   "execution_count": 144,
   "metadata": {
    "ExecuteTime": {
     "end_time": "2019-11-15T09:53:35.154891Z",
     "start_time": "2019-11-15T09:53:35.145623Z"
    }
   },
   "outputs": [],
   "source": [
    "fifth_movies = list((data_for_ht[(data_for_ht['decade'] == \"50s\")|(data_for_ht['decade'] == \"60s\")]['budget_adjusted']))\n",
    "now_movies = list((data_for_ht[(data_for_ht['decade']== \"00s\")|(data_for_ht['decade'] == \"10s\")]['budget_adjusted']))"
   ]
  },
  {
   "cell_type": "markdown",
   "metadata": {},
   "source": [
    "#### Getting 2 samples of equal size "
   ]
  },
  {
   "cell_type": "code",
   "execution_count": 145,
   "metadata": {
    "ExecuteTime": {
     "end_time": "2019-11-15T09:53:35.907858Z",
     "start_time": "2019-11-15T09:53:35.904726Z"
    }
   },
   "outputs": [],
   "source": [
    "fifth_movies_sample = random.sample(fifth_movies, 190)\n",
    "now_movies_sample = random.sample(now_movies, 190)"
   ]
  },
  {
   "cell_type": "markdown",
   "metadata": {},
   "source": [
    "#### Variance and mean of the samples "
   ]
  },
  {
   "cell_type": "code",
   "execution_count": 146,
   "metadata": {
    "ExecuteTime": {
     "end_time": "2019-11-15T09:53:36.619755Z",
     "start_time": "2019-11-15T09:53:36.614011Z"
    }
   },
   "outputs": [
    {
     "name": "stdout",
     "output_type": "stream",
     "text": [
      "The variance for the movies on 50s/60s is: 480665142400247.06\n",
      "The std for the movies on 50s/60s is: 21924076.774182465\n",
      "The mean for the movies on 50s/60s is: 19839451.609897647\n",
      "===============\n",
      "The variance for the movies nowadays is: 568593239580792.4\n",
      "The std for the movies on nowadays is: 23845193.217518546\n",
      "The mean for the movies on nowadays is: 24893505.587966226\n"
     ]
    }
   ],
   "source": [
    "print(\"The variance for the movies on 50s/60s is: {}\".format(np.var(fifth_movies_sample)))\n",
    "print(\"The std for the movies on 50s/60s is: {}\".format(np.std(fifth_movies_sample)))\n",
    "print(\"The mean for the movies on 50s/60s is: {}\".format(np.mean(fifth_movies_sample)))\n",
    "\n",
    "print('===============')\n",
    "\n",
    "print(\"The variance for the movies nowadays is: {}\".format(np.var(now_movies_sample)))\n",
    "print(\"The std for the movies on nowadays is: {}\".format(np.std(now_movies_sample)))\n",
    "print(\"The mean for the movies on nowadays is: {}\".format(np.mean(now_movies_sample)))\n",
    "\n"
   ]
  },
  {
   "cell_type": "markdown",
   "metadata": {},
   "source": [
    "#### Normality test for samples "
   ]
  },
  {
   "cell_type": "code",
   "execution_count": 147,
   "metadata": {
    "ExecuteTime": {
     "end_time": "2019-11-15T09:53:39.439874Z",
     "start_time": "2019-11-15T09:53:39.434196Z"
    }
   },
   "outputs": [
    {
     "data": {
      "text/plain": [
       "NormaltestResult(statistic=71.57482879692203, pvalue=2.86895281235129e-16)"
      ]
     },
     "execution_count": 147,
     "metadata": {},
     "output_type": "execute_result"
    }
   ],
   "source": [
    "stats.normaltest(now_movies_sample)"
   ]
  },
  {
   "cell_type": "code",
   "execution_count": 148,
   "metadata": {
    "ExecuteTime": {
     "end_time": "2019-11-15T09:53:44.859206Z",
     "start_time": "2019-11-15T09:53:44.851302Z"
    }
   },
   "outputs": [
    {
     "data": {
      "text/plain": [
       "NormaltestResult(statistic=168.47614124995394, pvalue=2.6053781186957234e-37)"
      ]
     },
     "execution_count": 148,
     "metadata": {},
     "output_type": "execute_result"
    }
   ],
   "source": [
    "stats.normaltest(fifth_movies_sample)"
   ]
  },
  {
   "cell_type": "markdown",
   "metadata": {
    "ExecuteTime": {
     "end_time": "2019-11-14T19:50:26.075666Z",
     "start_time": "2019-11-14T19:50:26.071941Z"
    }
   },
   "source": [
    "#### Plotting the distribution for both samples"
   ]
  },
  {
   "cell_type": "code",
   "execution_count": 149,
   "metadata": {
    "ExecuteTime": {
     "end_time": "2019-11-15T09:53:46.071333Z",
     "start_time": "2019-11-15T09:53:45.722367Z"
    }
   },
   "outputs": [
    {
     "data": {
      "text/plain": [
       "Text(0, 0.5, 'Probability')"
      ]
     },
     "execution_count": 149,
     "metadata": {},
     "output_type": "execute_result"
    },
    {
     "data": {
      "image/png": "[encoded data removed]",
      "text/plain": [
       "<Figure size 720x432 with 1 Axes>"
      ]
     },
     "metadata": {
      "needs_background": "light"
     },
     "output_type": "display_data"
    }
   ],
   "source": [
    "plt.figure(figsize=(10,6))\n",
    "sns.distplot(fifth_movies_sample, label='50s and 60s movies', hist= False)\n",
    "sns.distplot(now_movies_sample, label='00s and 10s movies', hist=False)\n",
    "\n",
    "plt.xlabel('Profit')\n",
    "plt.ylabel('Probability')"
   ]
  },
  {
   "cell_type": "markdown",
   "metadata": {},
   "source": [
    "#### Difference between distribution means"
   ]
  },
  {
   "cell_type": "code",
   "execution_count": 150,
   "metadata": {
    "ExecuteTime": {
     "end_time": "2019-11-15T09:53:47.659826Z",
     "start_time": "2019-11-15T09:53:47.655392Z"
    }
   },
   "outputs": [
    {
     "name": "stdout",
     "output_type": "stream",
     "text": [
      "The difference between means is -5054053.978068579\n"
     ]
    }
   ],
   "source": [
    "diff_means = np.mean(fifth_movies_sample) - np.mean(now_movies_sample)\n",
    "print(\"The difference between means is {}\".format(diff_means))"
   ]
  },
  {
   "cell_type": "markdown",
   "metadata": {},
   "source": [
    "#### Welch T-statistic"
   ]
  },
  {
   "cell_type": "code",
   "execution_count": 151,
   "metadata": {
    "ExecuteTime": {
     "end_time": "2019-11-15T09:53:48.881665Z",
     "start_time": "2019-11-15T09:53:48.878950Z"
    }
   },
   "outputs": [],
   "source": [
    "# importnting welch_t from our .py file\n",
    "from hyp_testing_functions import welch_t"
   ]
  },
  {
   "cell_type": "code",
   "execution_count": 152,
   "metadata": {
    "ExecuteTime": {
     "end_time": "2019-11-15T09:53:49.799476Z",
     "start_time": "2019-11-15T09:53:49.795431Z"
    }
   },
   "outputs": [
    {
     "name": "stdout",
     "output_type": "stream",
     "text": [
      "Welch t-statistic is 2.145011151802808\n"
     ]
    }
   ],
   "source": [
    "welch_t_test = welch_t(fifth_movies_sample, now_movies_sample)\n",
    "print(\"Welch t-statistic is {}\".format(welch_t_test))"
   ]
  },
  {
   "cell_type": "markdown",
   "metadata": {},
   "source": [
    "#### Visualising Welch T-test"
   ]
  },
  {
   "cell_type": "code",
   "execution_count": 153,
   "metadata": {
    "ExecuteTime": {
     "end_time": "2019-11-15T09:53:53.240139Z",
     "start_time": "2019-11-15T09:53:52.965874Z"
    }
   },
   "outputs": [
    {
     "data": {
      "image/png": "[encoded data removed]",
      "text/plain": [
       "<Figure size 576x360 with 1 Axes>"
      ]
     },
     "metadata": {
      "needs_background": "light"
     },
     "output_type": "display_data"
    }
   ],
   "source": [
    "visualize_t(welch_t_test, n_fifth, n_now)"
   ]
  },
  {
   "cell_type": "markdown",
   "metadata": {},
   "source": [
    "#### Getting the p-value "
   ]
  },
  {
   "cell_type": "code",
   "execution_count": 53,
   "metadata": {
    "ExecuteTime": {
     "end_time": "2019-11-15T09:26:34.611936Z",
     "start_time": "2019-11-15T09:26:34.609367Z"
    }
   },
   "outputs": [],
   "source": [
    "# importnting p-value from our .py file\n",
    "# from hyp_testing_functions import p_value_"
   ]
  },
  {
   "cell_type": "code",
   "execution_count": 54,
   "metadata": {
    "ExecuteTime": {
     "end_time": "2019-11-15T09:26:34.620869Z",
     "start_time": "2019-11-15T09:26:34.615708Z"
    }
   },
   "outputs": [],
   "source": [
    "## for now we leave it written here \n",
    "\n",
    "\n",
    "def p_value_(a, b, two_sided=True):\n",
    "\n",
    "    t = welch_t(a, b)\n",
    "    df = welch_df(a, b)\n",
    "    \n",
    "    p = 1-stats.t.cdf(np.abs(t), df)\n",
    "    \n",
    "    if two_sided:\n",
    "        return 2*p\n",
    "    else:\n",
    "        return p"
   ]
  },
  {
   "cell_type": "code",
   "execution_count": 154,
   "metadata": {
    "ExecuteTime": {
     "end_time": "2019-11-15T10:01:28.401219Z",
     "start_time": "2019-11-15T10:01:28.398537Z"
    },
    "scrolled": true
   },
   "outputs": [],
   "source": [
    "# p_value(fifth_movies_sample, now_movies_sample)"
   ]
  },
  {
   "cell_type": "code",
   "execution_count": 156,
   "metadata": {
    "ExecuteTime": {
     "end_time": "2019-11-15T10:01:42.955259Z",
     "start_time": "2019-11-15T10:01:42.950106Z"
    }
   },
   "outputs": [
    {
     "data": {
      "text/plain": [
       "Ttest_indResult(statistic=-2.1450111518028074, pvalue=0.03258871922479395)"
      ]
     },
     "execution_count": 156,
     "metadata": {},
     "output_type": "execute_result"
    }
   ],
   "source": [
    "stats.ttest_ind(fifth_movies_sample, now_movies_sample)"
   ]
  },
  {
   "cell_type": "markdown",
   "metadata": {},
   "source": [
    "#### Cohen's d test"
   ]
  },
  {
   "cell_type": "code",
   "execution_count": 157,
   "metadata": {
    "ExecuteTime": {
     "end_time": "2019-11-15T10:03:02.136530Z",
     "start_time": "2019-11-15T10:03:02.131932Z"
    }
   },
   "outputs": [
    {
     "data": {
      "text/plain": [
       "-0.220654937619479"
      ]
     },
     "execution_count": 157,
     "metadata": {},
     "output_type": "execute_result"
    }
   ],
   "source": [
    "Cohen_d( fifth_movies_sample, now_movies_sample)"
   ]
  },
  {
   "cell_type": "markdown",
   "metadata": {},
   "source": [
    "### Romance movies require different budget than action movies "
   ]
  },
  {
   "cell_type": "code",
   "execution_count": 60,
   "metadata": {
    "ExecuteTime": {
     "end_time": "2019-11-15T09:27:46.604355Z",
     "start_time": "2019-11-15T09:27:46.596319Z"
    }
   },
   "outputs": [],
   "source": [
    "rom_movies = list((data_for_ht[(data_for_ht['genre_bis'] == \"Romance\")]['budget_adjusted']))\n",
    "act_movies = list((data_for_ht[(data_for_ht['genre_bis']== \"Action\")]['budget_adjusted']))"
   ]
  },
  {
   "cell_type": "markdown",
   "metadata": {},
   "source": [
    "#### Getting 2 samples of equal size "
   ]
  },
  {
   "cell_type": "code",
   "execution_count": 61,
   "metadata": {
    "ExecuteTime": {
     "end_time": "2019-11-15T09:27:47.590684Z",
     "start_time": "2019-11-15T09:27:47.586549Z"
    }
   },
   "outputs": [
    {
     "name": "stdout",
     "output_type": "stream",
     "text": [
      "829 1218\n"
     ]
    }
   ],
   "source": [
    "print(len(rom_movies), len(act_movies))"
   ]
  },
  {
   "cell_type": "code",
   "execution_count": 62,
   "metadata": {
    "ExecuteTime": {
     "end_time": "2019-11-15T09:28:07.050155Z",
     "start_time": "2019-11-15T09:28:07.045713Z"
    }
   },
   "outputs": [],
   "source": [
    "rom_movies_sample = random.sample(rom_movies, 829)\n",
    "act_movies_sample = random.sample(act_movies, 829)"
   ]
  },
  {
   "cell_type": "markdown",
   "metadata": {},
   "source": [
    "#### Variance and mean of the samples "
   ]
  },
  {
   "cell_type": "code",
   "execution_count": 63,
   "metadata": {
    "ExecuteTime": {
     "end_time": "2019-11-15T09:28:27.583350Z",
     "start_time": "2019-11-15T09:28:27.575991Z"
    }
   },
   "outputs": [
    {
     "name": "stdout",
     "output_type": "stream",
     "text": [
      "The variance for the movies on 50s/60s is: 131443187347636.23\n",
      "The std for the movies on 50s/60s is: 11464867.524207868\n",
      "The mean for the movies on 50s/60s is: 15246935.194475973\n",
      "===============\n",
      "The variance for the movies nowadays is: 609619151721229.0\n",
      "The std for the movies on nowadays is: 24690466.81861704\n",
      "The mean for the movies on nowadays is: 31222034.158715863\n"
     ]
    }
   ],
   "source": [
    "print(\"The variance for the movies on 50s/60s is: {}\".format(np.var(rom_movies_sample)))\n",
    "print(\"The std for the movies on 50s/60s is: {}\".format(np.std(rom_movies_sample)))\n",
    "print(\"The mean for the movies on 50s/60s is: {}\".format(np.mean(rom_movies_sample)))\n",
    "\n",
    "print('===============')\n",
    "\n",
    "print(\"The variance for the movies nowadays is: {}\".format(np.var(act_movies_sample)))\n",
    "print(\"The std for the movies on nowadays is: {}\".format(np.std(act_movies_sample)))\n",
    "print(\"The mean for the movies on nowadays is: {}\".format(np.mean(act_movies_sample)))\n",
    "\n"
   ]
  },
  {
   "cell_type": "markdown",
   "metadata": {},
   "source": [
    "#### Normality test for samples "
   ]
  },
  {
   "cell_type": "code",
   "execution_count": 66,
   "metadata": {
    "ExecuteTime": {
     "end_time": "2019-11-15T09:29:20.094909Z",
     "start_time": "2019-11-15T09:29:20.089085Z"
    }
   },
   "outputs": [
    {
     "data": {
      "text/plain": [
       "NormaltestResult(statistic=601.7008607987648, pvalue=2.1994707931014913e-131)"
      ]
     },
     "execution_count": 66,
     "metadata": {},
     "output_type": "execute_result"
    }
   ],
   "source": [
    "stats.normaltest(rom_movies_sample)"
   ]
  },
  {
   "cell_type": "code",
   "execution_count": 67,
   "metadata": {
    "ExecuteTime": {
     "end_time": "2019-11-15T09:29:23.404297Z",
     "start_time": "2019-11-15T09:29:23.398542Z"
    }
   },
   "outputs": [
    {
     "data": {
      "text/plain": [
       "NormaltestResult(statistic=171.88900715600857, pvalue=4.729076573097333e-38)"
      ]
     },
     "execution_count": 67,
     "metadata": {},
     "output_type": "execute_result"
    }
   ],
   "source": [
    "stats.normaltest(act_movies_sample)"
   ]
  },
  {
   "cell_type": "markdown",
   "metadata": {
    "ExecuteTime": {
     "end_time": "2019-11-14T19:50:26.075666Z",
     "start_time": "2019-11-14T19:50:26.071941Z"
    }
   },
   "source": [
    "#### Plotting the distribution for both samples"
   ]
  },
  {
   "cell_type": "code",
   "execution_count": 68,
   "metadata": {
    "ExecuteTime": {
     "end_time": "2019-11-15T09:29:31.163871Z",
     "start_time": "2019-11-15T09:29:30.837562Z"
    }
   },
   "outputs": [
    {
     "data": {
      "text/plain": [
       "Text(0, 0.5, 'Probability')"
      ]
     },
     "execution_count": 68,
     "metadata": {},
     "output_type": "execute_result"
    },
    {
     "data": {
      "image/png": "[encoded data removed]",
      "text/plain": [
       "<Figure size 720x432 with 1 Axes>"
      ]
     },
     "metadata": {
      "needs_background": "light"
     },
     "output_type": "display_data"
    }
   ],
   "source": [
    "plt.figure(figsize=(10,6))\n",
    "sns.distplot(rom_movies_sample, label='50s and 60s movies', hist= False)\n",
    "sns.distplot(act_movies_sample, label='00s and 10s movies', hist=False)\n",
    "\n",
    "plt.xlabel('Profit')\n",
    "plt.ylabel('Probability')"
   ]
  },
  {
   "cell_type": "markdown",
   "metadata": {},
   "source": [
    "#### Difference between distribution means"
   ]
  },
  {
   "cell_type": "code",
   "execution_count": 69,
   "metadata": {
    "ExecuteTime": {
     "end_time": "2019-11-15T09:29:45.186187Z",
     "start_time": "2019-11-15T09:29:45.182009Z"
    }
   },
   "outputs": [
    {
     "name": "stdout",
     "output_type": "stream",
     "text": [
      "The difference between means is -15975098.96423989\n"
     ]
    }
   ],
   "source": [
    "diff_means = np.mean(rom_movies_sample) - np.mean(act_movies_sample)\n",
    "print(\"The difference between means is {}\".format(diff_means))"
   ]
  },
  {
   "cell_type": "markdown",
   "metadata": {},
   "source": [
    "#### T-statistic"
   ]
  },
  {
   "cell_type": "code",
   "execution_count": 74,
   "metadata": {
    "ExecuteTime": {
     "end_time": "2019-11-15T09:31:57.566654Z",
     "start_time": "2019-11-15T09:31:57.563621Z"
    }
   },
   "outputs": [],
   "source": [
    "## Importing function from .py file where we stored them \n",
    "from hyp_testing_functions import pooled_variance, tstatistic, welch_t\n",
    "from ht_visualizations import visualize_t\n",
    " "
   ]
  },
  {
   "cell_type": "code",
   "execution_count": 76,
   "metadata": {
    "ExecuteTime": {
     "end_time": "2019-11-15T09:32:18.022463Z",
     "start_time": "2019-11-15T09:32:18.018414Z"
    }
   },
   "outputs": [
    {
     "name": "stdout",
     "output_type": "stream",
     "text": [
      "T-Statistic is: -16.896371550589215\n"
     ]
    }
   ],
   "source": [
    "\n",
    "t_stat = tstatistic(rom_movies_sample, act_movies_sample)\n",
    "print(\"T-Statistic is: {}\".format(t_stat))"
   ]
  },
  {
   "cell_type": "code",
   "execution_count": 77,
   "metadata": {
    "ExecuteTime": {
     "end_time": "2019-11-15T09:32:22.128774Z",
     "start_time": "2019-11-15T09:32:22.124738Z"
    }
   },
   "outputs": [],
   "source": [
    "import scipy.stats\n",
    "# import stats.t\n",
    "from scipy import stats"
   ]
  },
  {
   "cell_type": "code",
   "execution_count": 80,
   "metadata": {
    "ExecuteTime": {
     "end_time": "2019-11-15T09:32:55.927467Z",
     "start_time": "2019-11-15T09:32:55.656404Z"
    }
   },
   "outputs": [
    {
     "data": {
      "image/png": "[encoded data removed]",
      "text/plain": [
       "<Figure size 576x360 with 1 Axes>"
      ]
     },
     "metadata": {
      "needs_background": "light"
     },
     "output_type": "display_data"
    }
   ],
   "source": [
    "\n",
    "def visualize_t(t_stat, n_control, n_experimental):\n",
    "    from matplotlib import pyplot as plt \n",
    "\n",
    "    fig = plt.figure(figsize=(8,5))\n",
    "    ax = fig.gca()\n",
    "\n",
    "    xs = np.linspace(4, -4, 500)\n",
    "\n",
    "    # use stats.t.ppf to get critical value. For alpha = 0.05 and two tailed test\n",
    "    crit = stats.t.ppf(1-0.025, (n_control+n_experimental-2))\n",
    "    \n",
    "    # use stats.t.pdf to get values on the probability density function for the t-distribution\n",
    "    \n",
    "    ys= stats.t.pdf(xs, (n_control+n_experimental-2), 0, 1)\n",
    "    ax.plot(xs, ys, linewidth=3, color='darkred')\n",
    "\n",
    "    ax.axvline(crit, color='black', linestyle='--', lw=5, label='Critical values')\n",
    "    ax.axvline(-crit, color='black', linestyle='--', lw=5)\n",
    "    ax.axvline(t_stat, color='red', linestyle='--', lw=5, label=\"T-Statistic value\")\n",
    "    \n",
    "    plt.title('T-test visualisation')\n",
    "    plt.legend(loc='best')\n",
    "    plt.xlabel('Standard deviations')\n",
    "    plt.ylabel('Probability')\n",
    "    plt.show()\n",
    "    return None\n",
    "n_fifth = len(rom_movies_sample)\n",
    "n_now = len(act_movies_sample)\n",
    "visualize_t(t_stat, n_fifth, n_now)\n",
    "\n"
   ]
  },
  {
   "cell_type": "markdown",
   "metadata": {},
   "source": [
    "#### Getting p-value"
   ]
  },
  {
   "cell_type": "code",
   "execution_count": 85,
   "metadata": {
    "ExecuteTime": {
     "end_time": "2019-11-15T09:33:34.763974Z",
     "start_time": "2019-11-15T09:33:34.761225Z"
    }
   },
   "outputs": [],
   "source": [
    "# lower_tail = stats.t.cdf(-t_stat, (890+890-2), 0, 1)\n",
    "# # Upper tail comulative density function returns area under upper tail curve\n",
    "# upper_tail = 1. - stats.t.cdf(t_stat, (890+890-2), 0, 1)\n",
    "\n",
    "# p_value = lower_tail+upper_tail\n",
    "# print(p_value)"
   ]
  },
  {
   "cell_type": "code",
   "execution_count": 86,
   "metadata": {
    "ExecuteTime": {
     "end_time": "2019-11-15T09:33:38.653160Z",
     "start_time": "2019-11-15T09:33:38.648295Z"
    }
   },
   "outputs": [
    {
     "data": {
      "text/plain": [
       "Ttest_indResult(statistic=-16.886177660339687, pvalue=3.7814175384447422e-59)"
      ]
     },
     "execution_count": 86,
     "metadata": {},
     "output_type": "execute_result"
    }
   ],
   "source": [
    "stats.ttest_ind(rom_movies_sample, act_movies_sample)"
   ]
  },
  {
   "cell_type": "markdown",
   "metadata": {},
   "source": [
    "#### Cohen's d test"
   ]
  },
  {
   "cell_type": "code",
   "execution_count": 87,
   "metadata": {
    "ExecuteTime": {
     "end_time": "2019-11-15T09:33:41.080627Z",
     "start_time": "2019-11-15T09:33:41.075959Z"
    }
   },
   "outputs": [],
   "source": [
    "def Cohen_d(group1, group2):\n",
    "\n",
    "\n",
    "    diff = np.mean(group1) - np.mean(group2)\n",
    "\n",
    "    n1, n2 = len(group1), len(group2)\n",
    "    var1 = np.var(group1)\n",
    "    var2 = np.var(group2)\n",
    "\n",
    "    # Calculate the pooled threshold as shown earlier\n",
    "    pooled_var = (n1 * var1 + n2 * var2) / (n1 + n2)\n",
    "    \n",
    "    # Calculate Cohen's d statistic\n",
    "    d = diff / np.sqrt(pooled_var)\n",
    "    \n",
    "    return d"
   ]
  },
  {
   "cell_type": "code",
   "execution_count": 88,
   "metadata": {
    "ExecuteTime": {
     "end_time": "2019-11-15T09:33:49.249131Z",
     "start_time": "2019-11-15T09:33:49.243887Z"
    }
   },
   "outputs": [
    {
     "data": {
      "text/plain": [
       "-0.829910355406536"
      ]
     },
     "execution_count": 88,
     "metadata": {},
     "output_type": "execute_result"
    }
   ],
   "source": [
    "Cohen_d( rom_movies_sample, act_movies_sample)"
   ]
  },
  {
   "cell_type": "markdown",
   "metadata": {},
   "source": [
    "### Romance movies make different profit than action movies"
   ]
  },
  {
   "cell_type": "code",
   "execution_count": 128,
   "metadata": {
    "ExecuteTime": {
     "end_time": "2019-11-15T09:40:27.545374Z",
     "start_time": "2019-11-15T09:40:27.536794Z"
    }
   },
   "outputs": [],
   "source": [
    "rom_movies = list((data_for_ht[(data_for_ht['genre_bis'] == \"Romance\")]['profit_adjusted']))\n",
    "act_movies = list((data_for_ht[(data_for_ht['genre_bis']== \"Action\")]['profit_adjusted']))"
   ]
  },
  {
   "cell_type": "markdown",
   "metadata": {},
   "source": [
    "#### Getting 2 samples of equal size "
   ]
  },
  {
   "cell_type": "code",
   "execution_count": 129,
   "metadata": {
    "ExecuteTime": {
     "end_time": "2019-11-15T09:40:28.320328Z",
     "start_time": "2019-11-15T09:40:28.316882Z"
    }
   },
   "outputs": [
    {
     "name": "stdout",
     "output_type": "stream",
     "text": [
      "829 1218\n"
     ]
    }
   ],
   "source": [
    "print(len(rom_movies), len(act_movies))"
   ]
  },
  {
   "cell_type": "code",
   "execution_count": 130,
   "metadata": {
    "ExecuteTime": {
     "end_time": "2019-11-15T09:40:29.012471Z",
     "start_time": "2019-11-15T09:40:29.008166Z"
    }
   },
   "outputs": [],
   "source": [
    "np.random.seed(0)\n",
    "rom_movies_sample = random.sample(rom_movies, 829)\n",
    "act_movies_sample = random.sample(act_movies, 829)"
   ]
  },
  {
   "cell_type": "markdown",
   "metadata": {},
   "source": [
    "#### Variance and mean of the samples "
   ]
  },
  {
   "cell_type": "code",
   "execution_count": 131,
   "metadata": {
    "ExecuteTime": {
     "end_time": "2019-11-15T09:40:30.312053Z",
     "start_time": "2019-11-15T09:40:30.304597Z"
    }
   },
   "outputs": [
    {
     "name": "stdout",
     "output_type": "stream",
     "text": [
      "The variance for the movies on 50s/60s is: 1217701722723433.2\n",
      "The std for the movies on 50s/60s is: 34895583.14061298\n",
      "The mean for the movies on 50s/60s is: 19572339.63780084\n",
      "===============\n",
      "The variance for the movies nowadays is: 2070129467711762.8\n",
      "The std for the movies on nowadays is: 45498675.45008055\n",
      "The mean for the movies on nowadays is: 15344030.727384066\n"
     ]
    }
   ],
   "source": [
    "print(\"The variance for the movies on 50s/60s is: {}\".format(np.var(rom_movies_sample)))\n",
    "print(\"The std for the movies on 50s/60s is: {}\".format(np.std(rom_movies_sample)))\n",
    "print(\"The mean for the movies on 50s/60s is: {}\".format(np.mean(rom_movies_sample)))\n",
    "\n",
    "print('===============')\n",
    "\n",
    "print(\"The variance for the movies nowadays is: {}\".format(np.var(act_movies_sample)))\n",
    "print(\"The std for the movies on nowadays is: {}\".format(np.std(act_movies_sample)))\n",
    "print(\"The mean for the movies on nowadays is: {}\".format(np.mean(act_movies_sample)))\n",
    "\n"
   ]
  },
  {
   "cell_type": "markdown",
   "metadata": {},
   "source": [
    "#### Normality test for samples "
   ]
  },
  {
   "cell_type": "code",
   "execution_count": 132,
   "metadata": {
    "ExecuteTime": {
     "end_time": "2019-11-15T09:40:34.492336Z",
     "start_time": "2019-11-15T09:40:34.486385Z"
    }
   },
   "outputs": [
    {
     "data": {
      "text/plain": [
       "NormaltestResult(statistic=700.9574466221782, pvalue=6.152114949942319e-153)"
      ]
     },
     "execution_count": 132,
     "metadata": {},
     "output_type": "execute_result"
    }
   ],
   "source": [
    "stats.normaltest(rom_movies_sample)"
   ]
  },
  {
   "cell_type": "code",
   "execution_count": 133,
   "metadata": {
    "ExecuteTime": {
     "end_time": "2019-11-15T09:40:35.270311Z",
     "start_time": "2019-11-15T09:40:35.264616Z"
    }
   },
   "outputs": [
    {
     "data": {
      "text/plain": [
       "NormaltestResult(statistic=695.5829401309487, pvalue=9.038236424803916e-152)"
      ]
     },
     "execution_count": 133,
     "metadata": {},
     "output_type": "execute_result"
    }
   ],
   "source": [
    "stats.normaltest(act_movies_sample)"
   ]
  },
  {
   "cell_type": "markdown",
   "metadata": {
    "ExecuteTime": {
     "end_time": "2019-11-14T19:50:26.075666Z",
     "start_time": "2019-11-14T19:50:26.071941Z"
    }
   },
   "source": [
    "#### Plotting the distribution for both samples"
   ]
  },
  {
   "cell_type": "code",
   "execution_count": 134,
   "metadata": {
    "ExecuteTime": {
     "end_time": "2019-11-15T09:40:37.515423Z",
     "start_time": "2019-11-15T09:40:37.201420Z"
    }
   },
   "outputs": [
    {
     "data": {
      "text/plain": [
       "Text(0, 0.5, 'Probability')"
      ]
     },
     "execution_count": 134,
     "metadata": {},
     "output_type": "execute_result"
    },
    {
     "data": {
      "image/png": "[encoded data removed]",
      "text/plain": [
       "<Figure size 720x432 with 1 Axes>"
      ]
     },
     "metadata": {
      "needs_background": "light"
     },
     "output_type": "display_data"
    }
   ],
   "source": [
    "plt.figure(figsize=(10,6))\n",
    "sns.distplot(rom_movies_sample, label='Romance movies', hist= False)\n",
    "sns.distplot(act_movies_sample, label='Action movies', hist=False)\n",
    "\n",
    "plt.xlabel('Profit')\n",
    "plt.ylabel('Probability')"
   ]
  },
  {
   "cell_type": "markdown",
   "metadata": {},
   "source": [
    "#### Difference between distribution means"
   ]
  },
  {
   "cell_type": "code",
   "execution_count": 135,
   "metadata": {
    "ExecuteTime": {
     "end_time": "2019-11-15T09:40:40.083208Z",
     "start_time": "2019-11-15T09:40:40.078198Z"
    }
   },
   "outputs": [
    {
     "name": "stdout",
     "output_type": "stream",
     "text": [
      "The difference between means is 4228308.910416773\n"
     ]
    }
   ],
   "source": [
    "diff_means = np.mean(rom_movies_sample) - np.mean(act_movies_sample)\n",
    "print(\"The difference between means is {}\".format(diff_means))"
   ]
  },
  {
   "cell_type": "markdown",
   "metadata": {},
   "source": [
    "#### T-statistic"
   ]
  },
  {
   "cell_type": "code",
   "execution_count": 136,
   "metadata": {
    "ExecuteTime": {
     "end_time": "2019-11-15T09:40:42.398898Z",
     "start_time": "2019-11-15T09:40:42.395862Z"
    }
   },
   "outputs": [],
   "source": [
    "## Importing function from .py file where we stored them \n",
    "from hyp_testing_functions import pooled_variance, tstatistic, welch_t\n",
    "from ht_visualizations import visualize_t\n",
    " "
   ]
  },
  {
   "cell_type": "code",
   "execution_count": 137,
   "metadata": {
    "ExecuteTime": {
     "end_time": "2019-11-15T09:40:43.164816Z",
     "start_time": "2019-11-15T09:40:43.160249Z"
    }
   },
   "outputs": [
    {
     "name": "stdout",
     "output_type": "stream",
     "text": [
      "T-Statistic is: 2.121910789764668\n"
     ]
    }
   ],
   "source": [
    "\n",
    "t_stat = welch_t(rom_movies_sample, act_movies_sample)\n",
    "print(\"T-Statistic is: {}\".format(t_stat))"
   ]
  },
  {
   "cell_type": "code",
   "execution_count": 138,
   "metadata": {
    "ExecuteTime": {
     "end_time": "2019-11-15T09:40:44.880940Z",
     "start_time": "2019-11-15T09:40:44.878131Z"
    }
   },
   "outputs": [],
   "source": [
    "import scipy.stats\n",
    "# import stats.t\n",
    "from scipy import stats"
   ]
  },
  {
   "cell_type": "code",
   "execution_count": 139,
   "metadata": {
    "ExecuteTime": {
     "end_time": "2019-11-15T09:40:45.937403Z",
     "start_time": "2019-11-15T09:40:45.668826Z"
    }
   },
   "outputs": [
    {
     "data": {
      "image/png": "[encoded data removed]",
      "text/plain": [
       "<Figure size 576x360 with 1 Axes>"
      ]
     },
     "metadata": {
      "needs_background": "light"
     },
     "output_type": "display_data"
    }
   ],
   "source": [
    "\n",
    "def visualize_t(t_stat, n_control, n_experimental):\n",
    "    from matplotlib import pyplot as plt \n",
    "\n",
    "    fig = plt.figure(figsize=(8,5))\n",
    "    ax = fig.gca()\n",
    "\n",
    "    xs = np.linspace(4, -4, 500)\n",
    "\n",
    "    # use stats.t.ppf to get critical value. For alpha = 0.05 and two tailed test\n",
    "    crit = stats.t.ppf(1-0.025, (n_control+n_experimental-2))\n",
    "    \n",
    "    # use stats.t.pdf to get values on the probability density function for the t-distribution\n",
    "    \n",
    "    ys= stats.t.pdf(xs, (n_control+n_experimental-2), 0, 1)\n",
    "    ax.plot(xs, ys, linewidth=3, color='darkred')\n",
    "\n",
    "    ax.axvline(crit, color='black', linestyle='--', lw=5, label='Critical values')\n",
    "    ax.axvline(-crit, color='black', linestyle='--', lw=5)\n",
    "    ax.axvline(t_stat, color='red', linestyle='--', lw=5, label=\"T-Statistic value\")\n",
    "    \n",
    "    plt.title('T-test visualisation')\n",
    "    plt.legend(loc='best')\n",
    "    plt.xlabel('Standard deviations')\n",
    "    plt.ylabel('Probability')\n",
    "    plt.show()\n",
    "    return None\n",
    "n_fifth = len(rom_movies_sample)\n",
    "n_now = len(act_movies_sample)\n",
    "visualize_t(t_stat, n_fifth, n_now)\n",
    "\n"
   ]
  },
  {
   "cell_type": "markdown",
   "metadata": {},
   "source": [
    "#### Getting p-value"
   ]
  },
  {
   "cell_type": "code",
   "execution_count": 140,
   "metadata": {
    "ExecuteTime": {
     "end_time": "2019-11-15T09:40:48.143764Z",
     "start_time": "2019-11-15T09:40:48.140502Z"
    }
   },
   "outputs": [],
   "source": [
    "# lower_tail = stats.t.cdf(-t_stat, (890+890-2), 0, 1)\n",
    "# # Upper tail comulative density function returns area under upper tail curve\n",
    "# upper_tail = 1. - stats.t.cdf(t_stat, (890+890-2), 0, 1)\n",
    "\n",
    "# p_value = lower_tail+upper_tail\n",
    "# print(p_value)"
   ]
  },
  {
   "cell_type": "code",
   "execution_count": 141,
   "metadata": {
    "ExecuteTime": {
     "end_time": "2019-11-15T09:40:48.924466Z",
     "start_time": "2019-11-15T09:40:48.919152Z"
    }
   },
   "outputs": [
    {
     "data": {
      "text/plain": [
       "Ttest_indResult(statistic=2.121910789764668, pvalue=0.03399334948238252)"
      ]
     },
     "execution_count": 141,
     "metadata": {},
     "output_type": "execute_result"
    }
   ],
   "source": [
    "stats.ttest_ind(rom_movies_sample, act_movies_sample)"
   ]
  },
  {
   "cell_type": "markdown",
   "metadata": {},
   "source": [
    "#### Cohen's d test"
   ]
  },
  {
   "cell_type": "code",
   "execution_count": 142,
   "metadata": {
    "ExecuteTime": {
     "end_time": "2019-11-15T09:40:56.270100Z",
     "start_time": "2019-11-15T09:40:56.265275Z"
    }
   },
   "outputs": [],
   "source": [
    "def Cohen_d(group1, group2):\n",
    "\n",
    "\n",
    "    diff = np.mean(group1) - np.mean(group2)\n",
    "\n",
    "    n1, n2 = len(group1), len(group2)\n",
    "    var1 = np.var(group1)\n",
    "    var2 = np.var(group2)\n",
    "\n",
    "    # Calculate the pooled threshold as shown earlier\n",
    "    pooled_var = (n1 * var1 + n2 * var2) / (n1 + n2)\n",
    "    \n",
    "    # Calculate Cohen's d statistic\n",
    "    d = diff / np.sqrt(pooled_var)\n",
    "    \n",
    "    return d"
   ]
  },
  {
   "cell_type": "code",
   "execution_count": 143,
   "metadata": {
    "ExecuteTime": {
     "end_time": "2019-11-15T09:40:57.042490Z",
     "start_time": "2019-11-15T09:40:57.036874Z"
    }
   },
   "outputs": [
    {
     "data": {
      "text/plain": [
       "0.10428622587636178"
      ]
     },
     "execution_count": 143,
     "metadata": {},
     "output_type": "execute_result"
    }
   ],
   "source": [
    "Cohen_d( rom_movies_sample, act_movies_sample)"
   ]
  },
  {
   "cell_type": "markdown",
   "metadata": {
    "heading_collapsed": true
   },
   "source": [
    "# Findings and applications"
   ]
  },
  {
   "cell_type": "markdown",
   "metadata": {
    "hidden": true
   },
   "source": [
    "**Hypothesis 1**\n",
    "\n",
    "We did find out that there is statistical significance between the profit of the romance and action movies but based on our tests there is little to no practical significance. We would advise the movie production company not to make their decisions based on the profit of movies in those genres.\n",
    "\n",
    "**Hypothesis 2**\n",
    "\n",
    "We did find a statistical significance and practical significance when considering the budget of both movie genres. Action movies require more budget than romance movies so we were able to reject our null hypothesis in that instance.\n",
    "\n",
    "Judging by the findings above romance movie profits and action movie profits don't seem to have much of a difference but action movie budgets are higher..if the movie company production is interested in making more profit in the box office whilst spending less on budget..we would recommend \"carving a niche as a romance genre movie production company\"\n",
    "\n",
    "**Hypothesis 3**\n",
    "\n",
    "We did find that the budget for the movies in the 50s and 60s compared to the 2000s 2010s when adjusted for inflation had statistical significance but little to no practical significance. We would advise the movie production company not make their decision based on this metric\n",
    "\n",
    "**Hypothesis 4**\n",
    "\n",
    "We did find that the profit of movies in the 50 and 60s compared to the 2000s and 2010s made higher profit when adjusted for inflation. As there was both statistical and practical significance. We can attribute to the case that te era saw the rise of films featuring darker plot lines and characters played by “edgier” stars like James Dean, Marlon Brando, Ava Gardner, and Marilyn Monroe and also the rise of pop culture with Hollywood companies adapting to the times by shifting from theaterical release of movies to TV sets"
   ]
  },
  {
   "cell_type": "markdown",
   "metadata": {
    "heading_collapsed": true
   },
   "source": [
    "# Limitations"
   ]
  },
  {
   "cell_type": "markdown",
   "metadata": {
    "hidden": true
   },
   "source": [
    "- We would have liked to delve more into the reason why 50s and 60s movies made more profit than nowadays if we had more data pertaining to those years.\n",
    "\n",
    "\n",
    "- We would have liked to look at more movie genres and compare profits and budgets, especially marketing budget if we had the data, so the movie companies can make better decisions on how to spend their budget efficiently to garner the most profits"
   ]
  },
  {
   "cell_type": "markdown",
   "metadata": {
    "heading_collapsed": true
   },
   "source": [
    "# Next steps"
   ]
  },
  {
   "cell_type": "markdown",
   "metadata": {
    "hidden": true
   },
   "source": [
    "The next step for our data science company is to gather more data about the movie industry and investigate whether there is a difference in profits and gross revenue at the box office when casting top rated movie actor/director or mediocre rated actor/director for your movie."
   ]
  },
  {
   "cell_type": "code",
   "execution_count": null,
   "metadata": {
    "hidden": true
   },
   "outputs": [],
   "source": []
  }
 ],
 "metadata": {
  "hide_input": false,
  "kernelspec": {
   "display_name": "Python 3",
   "language": "python",
   "name": "python3"
  },
  "language_info": {
   "codemirror_mode": {
    "name": "ipython",
    "version": 3
   },
   "file_extension": ".py",
   "mimetype": "text/x-python",
   "name": "python",
   "nbconvert_exporter": "python",
   "pygments_lexer": "ipython3",
   "version": "3.7.3"
  },
  "toc": {
   "base_numbering": 1,
   "nav_menu": {},
   "number_sections": true,
   "sideBar": true,
   "skip_h1_title": false,
   "title_cell": "Table of Contents",
   "title_sidebar": "Contents",
   "toc_cell": false,
   "toc_position": {
    "height": "calc(100% - 180px)",
    "left": "10px",
    "top": "150px",
    "width": "324px"
   },
   "toc_section_display": true,
   "toc_window_display": true
  },
  "varInspector": {
   "cols": {
    "lenName": 16,
    "lenType": 16,
    "lenVar": 40
   },
   "kernels_config": {
    "python": {
     "delete_cmd_postfix": "",
     "delete_cmd_prefix": "del ",
     "library": "var_list.py",
     "varRefreshCmd": "print(var_dic_list())"
    },
    "r": {
     "delete_cmd_postfix": ") ",
     "delete_cmd_prefix": "rm(",
     "library": "var_list.r",
     "varRefreshCmd": "cat(var_dic_list()) "
    }
   },
   "types_to_exclude": [
    "module",
    "function",
    "builtin_function_or_method",
    "instance",
    "_Feature"
   ],
   "window_display": false
  }
 },
 "nbformat": 4,
 "nbformat_minor": 2
}
