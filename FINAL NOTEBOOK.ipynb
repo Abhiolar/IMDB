{
 "cells": [
  {
   "cell_type": "markdown",
   "metadata": {
    "heading_collapsed": true
   },
   "source": [
    "# Authors"
   ]
  },
  {
   "cell_type": "markdown",
   "metadata": {
    "hidden": true
   },
   "source": [
    "Yusuf Olodo and Carlos Cutillas"
   ]
  },
  {
   "cell_type": "markdown",
   "metadata": {
    "heading_collapsed": true
   },
   "source": [
    "# Business problem"
   ]
  },
  {
   "cell_type": "markdown",
   "metadata": {
    "hidden": true
   },
   "source": [
    "A new movie studio has approached our data science company and they are interested in the knowing how the movie industry works and what path to take when deciding their business problems.\n",
    "1. They are interested in knowing whether there is a difference in the budget and the profit made for both Romance and Action movies genre\n",
    "2. They are interested in knowing whether there is a difference in the budget and the profit made for movies in the 50s and 60s compared to the 2000s and 2010s"
   ]
  },
  {
   "cell_type": "markdown",
   "metadata": {},
   "source": [
    "# Analysis "
   ]
  },
  {
   "cell_type": "markdown",
   "metadata": {},
   "source": [
    "## Data importing and cleaning "
   ]
  },
  {
   "cell_type": "code",
   "execution_count": 90,
   "metadata": {
    "ExecuteTime": {
     "end_time": "2019-11-15T11:52:39.085695Z",
     "start_time": "2019-11-15T11:52:39.063271Z"
    }
   },
   "outputs": [],
   "source": [
    "import pandas as pd \n",
    "import numpy as np \n",
    "from matplotlib import pyplot as plt\n",
    "%matplotlib inline\n",
    "import seaborn as sns\n",
    "sns.set_style('darkgrid')\n",
    "import random\n",
    "import scipy.stats as stats\n",
    "import re\n",
    "from statsmodels.stats.power import TTestIndPower\n",
    "power = TTestIndPower()"
   ]
  },
  {
   "cell_type": "code",
   "execution_count": 2,
   "metadata": {
    "ExecuteTime": {
     "end_time": "2019-11-15T11:51:21.444916Z",
     "start_time": "2019-11-15T11:51:21.411096Z"
    }
   },
   "outputs": [],
   "source": [
    "data = pd.read_csv('movies_last.csv')"
   ]
  },
  {
   "cell_type": "code",
   "execution_count": 3,
   "metadata": {
    "ExecuteTime": {
     "end_time": "2019-11-15T11:51:21.453564Z",
     "start_time": "2019-11-15T11:51:21.447998Z"
    }
   },
   "outputs": [],
   "source": [
    "data.drop(['Unnamed: 0', 'Unnamed: 0.1'], axis=1, inplace = True)"
   ]
  },
  {
   "cell_type": "code",
   "execution_count": 4,
   "metadata": {
    "ExecuteTime": {
     "end_time": "2019-11-15T11:51:21.460434Z",
     "start_time": "2019-11-15T11:51:21.456330Z"
    }
   },
   "outputs": [],
   "source": [
    "# Importing function for data cleaning .py file \n",
    "from data_preparing import get_decade"
   ]
  },
  {
   "cell_type": "code",
   "execution_count": 5,
   "metadata": {
    "ExecuteTime": {
     "end_time": "2019-11-15T11:51:21.515189Z",
     "start_time": "2019-11-15T11:51:21.462909Z"
    }
   },
   "outputs": [],
   "source": [
    "data['all_years'] = data['all_years'].apply(lambda x: re.sub('[^0-9]','', x))\n",
    "\n",
    "data['all_genres'] = data['all_genres'].apply(lambda x: x[1:])\n",
    "\n",
    "data['all_gross'] = data['all_gross'].apply(lambda x: x.replace(',',''))\n",
    "data['all_gross'] = data['all_gross'].apply(lambda x:  int(x) if x != 'no' else 0)\n",
    "\n",
    "data['all_scores'] = data['all_scores'].apply(lambda x: x.replace('.',''))\n",
    "data['all_scores'] = data['all_scores'].apply(lambda x: int(x) if x != 'NO' else 0)\n",
    "\n",
    "data['all_meta'] = data['all_meta'].apply(lambda x: int(x.replace('.','')) if x != 'no' else 0)\n",
    "\n",
    "\n",
    "data['all_years'] = data['all_years'].apply(lambda x: int(x))\n",
    "\n",
    "data['dec'] = data['all_years'].apply(lambda x: int(str(x)[2]))\n",
    "data['decade'] = data['dec'].apply(lambda x: get_decade(x))"
   ]
  },
  {
   "cell_type": "code",
   "execution_count": 6,
   "metadata": {
    "ExecuteTime": {
     "end_time": "2019-11-15T11:51:21.522361Z",
     "start_time": "2019-11-15T11:51:21.517726Z"
    }
   },
   "outputs": [],
   "source": [
    "del data['dec']"
   ]
  },
  {
   "cell_type": "markdown",
   "metadata": {},
   "source": [
    "### Importing external csv to get the budget "
   ]
  },
  {
   "cell_type": "code",
   "execution_count": 7,
   "metadata": {
    "ExecuteTime": {
     "end_time": "2019-11-15T11:51:22.175877Z",
     "start_time": "2019-11-15T11:51:21.524581Z"
    }
   },
   "outputs": [
    {
     "name": "stderr",
     "output_type": "stream",
     "text": [
      "/Users/carloscutillas/anaconda3/lib/python3.7/site-packages/IPython/core/interactiveshell.py:3057: DtypeWarning: Columns (10) have mixed types. Specify dtype option on import or set low_memory=False.\n",
      "  interactivity=interactivity, compiler=compiler, result=result)\n"
     ]
    }
   ],
   "source": [
    "movies_metadata = pd.read_csv('movies_metadata.csv')"
   ]
  },
  {
   "cell_type": "code",
   "execution_count": 8,
   "metadata": {
    "ExecuteTime": {
     "end_time": "2019-11-15T11:51:22.184717Z",
     "start_time": "2019-11-15T11:51:22.179568Z"
    }
   },
   "outputs": [],
   "source": [
    "budget_and_id = movies_metadata[['budget', 'imdb_id']]"
   ]
  },
  {
   "cell_type": "markdown",
   "metadata": {},
   "source": [
    "###  Importing external csv to get CPI inflation index "
   ]
  },
  {
   "cell_type": "code",
   "execution_count": 9,
   "metadata": {
    "ExecuteTime": {
     "end_time": "2019-11-15T11:51:22.257341Z",
     "start_time": "2019-11-15T11:51:22.187564Z"
    }
   },
   "outputs": [],
   "source": [
    "inflation = pd.read_csv('https://pkgstore.datahub.io/core/cpi-us/cpiai_csv/data/b17bfacbda3c08e51cd13fe544b8fca4/cpiai_csv.csv')"
   ]
  },
  {
   "cell_type": "markdown",
   "metadata": {},
   "source": [
    "### Cleaning new merges "
   ]
  },
  {
   "cell_type": "code",
   "execution_count": 10,
   "metadata": {
    "ExecuteTime": {
     "end_time": "2019-11-15T11:51:22.265560Z",
     "start_time": "2019-11-15T11:51:22.259746Z"
    }
   },
   "outputs": [],
   "source": [
    "inflation['Date'] = inflation['Date'].apply(lambda x: x[:4]) \n",
    "\n",
    "inflation['Date'] = inflation['Date'].astype(int)"
   ]
  },
  {
   "cell_type": "code",
   "execution_count": 11,
   "metadata": {
    "ExecuteTime": {
     "end_time": "2019-11-15T11:51:22.276520Z",
     "start_time": "2019-11-15T11:51:22.268312Z"
    }
   },
   "outputs": [],
   "source": [
    "inf = inflation.groupby('Date').mean().reset_index(level= 0)"
   ]
  },
  {
   "cell_type": "markdown",
   "metadata": {},
   "source": [
    "### Creating a dataframe with all the data together "
   ]
  },
  {
   "cell_type": "code",
   "execution_count": 12,
   "metadata": {
    "ExecuteTime": {
     "end_time": "2019-11-15T11:51:22.303314Z",
     "start_time": "2019-11-15T11:51:22.278748Z"
    }
   },
   "outputs": [],
   "source": [
    "all_data = pd.merge(data, budget_and_id,how='left', left_on='id', right_on='imdb_id')"
   ]
  },
  {
   "cell_type": "code",
   "execution_count": 13,
   "metadata": {
    "ExecuteTime": {
     "end_time": "2019-11-15T11:51:22.317559Z",
     "start_time": "2019-11-15T11:51:22.305758Z"
    }
   },
   "outputs": [],
   "source": [
    "all_data.dropna(inplace=True)"
   ]
  },
  {
   "cell_type": "code",
   "execution_count": 14,
   "metadata": {
    "ExecuteTime": {
     "end_time": "2019-11-15T11:51:22.327037Z",
     "start_time": "2019-11-15T11:51:22.319457Z"
    }
   },
   "outputs": [],
   "source": [
    "all_data['budget'] = all_data['budget'].astype(int)\n",
    "all_data['genre_bis'] = all_data['all_genres'].apply(lambda x: 'Action' if 'Action' in x\n",
    "                                                     else ('Romance' if 'Romance' in x else 'no') \n",
    "                                                    )"
   ]
  },
  {
   "cell_type": "code",
   "execution_count": 15,
   "metadata": {
    "ExecuteTime": {
     "end_time": "2019-11-15T11:51:22.345415Z",
     "start_time": "2019-11-15T11:51:22.329218Z"
    }
   },
   "outputs": [],
   "source": [
    "all_data['profit'] = all_data['all_gross'] - all_data['budget']"
   ]
  },
  {
   "cell_type": "markdown",
   "metadata": {},
   "source": [
    "### Merging inflation"
   ]
  },
  {
   "cell_type": "code",
   "execution_count": 16,
   "metadata": {
    "ExecuteTime": {
     "end_time": "2019-11-15T11:51:22.360852Z",
     "start_time": "2019-11-15T11:51:22.347685Z"
    }
   },
   "outputs": [],
   "source": [
    "data_with_inflation = pd.merge(all_data, inf,how='left', left_on='all_years', right_on='Date')"
   ]
  },
  {
   "cell_type": "markdown",
   "metadata": {},
   "source": [
    "### Cleaning data with inflation "
   ]
  },
  {
   "cell_type": "code",
   "execution_count": 17,
   "metadata": {
    "ExecuteTime": {
     "end_time": "2019-11-15T11:51:22.366844Z",
     "start_time": "2019-11-15T11:51:22.362840Z"
    }
   },
   "outputs": [],
   "source": [
    "del data_with_inflation['Inflation']"
   ]
  },
  {
   "cell_type": "code",
   "execution_count": 18,
   "metadata": {
    "ExecuteTime": {
     "end_time": "2019-11-15T11:51:22.372617Z",
     "start_time": "2019-11-15T11:51:22.369020Z"
    }
   },
   "outputs": [],
   "source": [
    "from data_preparing import get_last_years_inflation"
   ]
  },
  {
   "cell_type": "code",
   "execution_count": 19,
   "metadata": {
    "ExecuteTime": {
     "end_time": "2019-11-15T11:51:22.400345Z",
     "start_time": "2019-11-15T11:51:22.374852Z"
    }
   },
   "outputs": [],
   "source": [
    "data_with_inflation['Index_all'] = data_with_inflation['all_years'].apply(lambda x: get_last_years_inflation(x) )\n",
    "data_with_inflation['Index_all'] = data_with_inflation['Index_all'].astype(str)\n",
    "\n",
    "data_with_inflation['Index'] = data_with_inflation['Index'].astype(str)\n",
    "\n",
    "\n",
    "data_with_inflation['Index_all_years'] = data_with_inflation.Index.fillna('') + data_with_inflation.Index_all.fillna('')\n",
    "\n",
    "# data_with_inflation['Index_all_years'] = data_with_inflation['Index_all'].combine_first(data_with_inflation['Index'])\n",
    "\n",
    "data_with_inflation['Index_all_years'] = data_with_inflation['Index_all_years'].apply(\n",
    "    lambda x: x.lstrip('nan').rstrip('nan'))\n"
   ]
  },
  {
   "cell_type": "code",
   "execution_count": 20,
   "metadata": {
    "ExecuteTime": {
     "end_time": "2019-11-15T11:51:22.408064Z",
     "start_time": "2019-11-15T11:51:22.402500Z"
    }
   },
   "outputs": [],
   "source": [
    "del data_with_inflation['Index_all']\n",
    "del data_with_inflation['Index']\n",
    "del data_with_inflation['Date']\n"
   ]
  },
  {
   "cell_type": "markdown",
   "metadata": {},
   "source": [
    "### Adjusting monetary units to inflation "
   ]
  },
  {
   "cell_type": "code",
   "execution_count": 21,
   "metadata": {
    "ExecuteTime": {
     "end_time": "2019-11-15T11:51:22.415159Z",
     "start_time": "2019-11-15T11:51:22.410393Z"
    }
   },
   "outputs": [],
   "source": [
    "#  Re converting stringg to integer on index \n",
    "\n",
    "data_with_inflation['Index_all_years'] = data_with_inflation['Index_all_years'].astype(float)"
   ]
  },
  {
   "cell_type": "code",
   "execution_count": 22,
   "metadata": {
    "ExecuteTime": {
     "end_time": "2019-11-15T11:51:22.423320Z",
     "start_time": "2019-11-15T11:51:22.417102Z"
    }
   },
   "outputs": [],
   "source": [
    "data_with_inflation['budget_adjusted'] = (data_with_inflation['budget'] / data_with_inflation['Index_all_years'])*100\n",
    "\n",
    "data_with_inflation['gross_adjusted'] = (data_with_inflation['all_gross'] / data_with_inflation['Index_all_years'])*100\n",
    "\n"
   ]
  },
  {
   "cell_type": "code",
   "execution_count": 23,
   "metadata": {
    "ExecuteTime": {
     "end_time": "2019-11-15T11:51:22.432722Z",
     "start_time": "2019-11-15T11:51:22.428973Z"
    }
   },
   "outputs": [],
   "source": [
    "data_with_inflation['profit_adjusted'] =  data_with_inflation['gross_adjusted'] - data_with_inflation['budget_adjusted'] "
   ]
  },
  {
   "cell_type": "markdown",
   "metadata": {},
   "source": [
    "### Exporting to csv (commented out in order to not eport it each time notebook is run)"
   ]
  },
  {
   "cell_type": "code",
   "execution_count": 24,
   "metadata": {
    "ExecuteTime": {
     "end_time": "2019-11-15T11:51:22.438953Z",
     "start_time": "2019-11-15T11:51:22.436218Z"
    }
   },
   "outputs": [],
   "source": [
    "# data_for_budget = all_data[all_data['budget'] > 0]"
   ]
  },
  {
   "cell_type": "code",
   "execution_count": 25,
   "metadata": {
    "ExecuteTime": {
     "end_time": "2019-11-15T11:51:22.443277Z",
     "start_time": "2019-11-15T11:51:22.440868Z"
    }
   },
   "outputs": [],
   "source": [
    "# data_for_budget.to_csv('movies_for_budget', encoding='utf-8')\n",
    "# all_data.to_csv('movies_all', encoding='utf-8')"
   ]
  },
  {
   "cell_type": "code",
   "execution_count": 26,
   "metadata": {
    "ExecuteTime": {
     "end_time": "2019-11-15T11:51:22.447791Z",
     "start_time": "2019-11-15T11:51:22.445424Z"
    }
   },
   "outputs": [],
   "source": [
    "# data_with_inflation.to_csv('data_adjusted_to_inflation.csv')"
   ]
  },
  {
   "cell_type": "markdown",
   "metadata": {},
   "source": [
    "## Hypothesis testing "
   ]
  },
  {
   "cell_type": "code",
   "execution_count": 27,
   "metadata": {
    "ExecuteTime": {
     "end_time": "2019-11-15T11:51:22.518057Z",
     "start_time": "2019-11-15T11:51:22.449673Z"
    }
   },
   "outputs": [],
   "source": [
    "data_with_inflation = pd.read_csv('data_adjusted_to_inflation.csv')\n",
    "data_for_ht = data_with_inflation.replace(0,data_with_inflation.median())"
   ]
  },
  {
   "cell_type": "markdown",
   "metadata": {},
   "source": [
    "### H1 - 50's and 60's movies made more profit than movies nowadays"
   ]
  },
  {
   "cell_type": "code",
   "execution_count": 91,
   "metadata": {
    "ExecuteTime": {
     "end_time": "2019-11-15T11:53:31.082387Z",
     "start_time": "2019-11-15T11:53:31.070074Z"
    }
   },
   "outputs": [],
   "source": [
    "fifth_movies = list((data_for_ht[(data_for_ht['decade'] == \"50s\")|(data_for_ht['decade'] == \"60s\")]['profit_adjusted']))\n",
    "now_movies = list((data_for_ht[(data_for_ht['decade']== \"00s\")|(data_for_ht['decade'] == \"10s\")]['profit_adjusted']))"
   ]
  },
  {
   "cell_type": "markdown",
   "metadata": {},
   "source": [
    "#### Power analysis to determine sample size"
   ]
  },
  {
   "cell_type": "code",
   "execution_count": 93,
   "metadata": {
    "ExecuteTime": {
     "end_time": "2019-11-15T11:56:19.485807Z",
     "start_time": "2019-11-15T11:56:19.431313Z"
    }
   },
   "outputs": [
    {
     "data": {
      "text/plain": [
       "'Number of samples =  [393.4056989990335, 252.12750515434277, 175.38467227482232, 129.11207873406047, 99.08032683981143, 78.49161726401, 63.765611775409525, 44.58579025908018, 33.02456951586263, 25.52457250047935] when alpha is: 0.05,and power is: 0.8'"
      ]
     },
     "execution_count": 93,
     "metadata": {},
     "output_type": "execute_result"
    }
   ],
   "source": [
    "number_of_samples = []\n",
    "for i in [0.2, 0.25, 0.3, 0.35, 0.40, 0.45, 0.50, 0.60, 0.70, 0.80]:\n",
    "    number_of_samples.append(power.solve_power(effect_size= i, alpha=0.05, power=0.8))\n",
    "\n",
    "\"Number of samples =  {} when alpha is: {},and power is: {}\".format(number_of_samples, 0.05, 0.8)"
   ]
  },
  {
   "cell_type": "markdown",
   "metadata": {},
   "source": [
    "#### Getting 2 samples of equal size "
   ]
  },
  {
   "cell_type": "code",
   "execution_count": 29,
   "metadata": {
    "ExecuteTime": {
     "end_time": "2019-11-15T11:51:22.534527Z",
     "start_time": "2019-11-15T11:51:22.531091Z"
    }
   },
   "outputs": [],
   "source": [
    "fifth_movies_sample = random.sample(fifth_movies, 190)\n",
    "now_movies_sample = random.sample(now_movies, 190)"
   ]
  },
  {
   "cell_type": "markdown",
   "metadata": {},
   "source": [
    "#### Variance and mean of the samples "
   ]
  },
  {
   "cell_type": "code",
   "execution_count": 30,
   "metadata": {
    "ExecuteTime": {
     "end_time": "2019-11-15T11:51:22.543673Z",
     "start_time": "2019-11-15T11:51:22.536254Z"
    }
   },
   "outputs": [
    {
     "name": "stdout",
     "output_type": "stream",
     "text": [
      "The variance for the movies on 50s/60s is: 6921459556396927.0\n",
      "The std for the movies on 50s/60s is: 83195309.70191124\n",
      "The mean for the movies on 50s/60s is: 76493573.67875181\n",
      "===============\n",
      "The variance for the movies nowadays is: 595329980186541.9\n",
      "The std for the movies on nowadays is: 24399384.83213341\n",
      "The mean for the movies on nowadays is: 6396550.18820797\n"
     ]
    }
   ],
   "source": [
    "print(\"The variance for the movies on 50s/60s is: {}\".format(np.var(fifth_movies_sample)))\n",
    "print(\"The std for the movies on 50s/60s is: {}\".format(np.std(fifth_movies_sample)))\n",
    "print(\"The mean for the movies on 50s/60s is: {}\".format(np.mean(fifth_movies_sample)))\n",
    "\n",
    "print('===============')\n",
    "\n",
    "print(\"The variance for the movies nowadays is: {}\".format(np.var(now_movies_sample)))\n",
    "print(\"The std for the movies on nowadays is: {}\".format(np.std(now_movies_sample)))\n",
    "print(\"The mean for the movies on nowadays is: {}\".format(np.mean(now_movies_sample)))\n",
    "\n"
   ]
  },
  {
   "cell_type": "markdown",
   "metadata": {},
   "source": [
    "#### Normality test for samples "
   ]
  },
  {
   "cell_type": "code",
   "execution_count": 31,
   "metadata": {
    "ExecuteTime": {
     "end_time": "2019-11-15T11:51:22.553142Z",
     "start_time": "2019-11-15T11:51:22.545624Z"
    }
   },
   "outputs": [
    {
     "data": {
      "text/plain": [
       "NormaltestResult(statistic=103.4699895166049, pvalue=3.402336428802614e-23)"
      ]
     },
     "execution_count": 31,
     "metadata": {},
     "output_type": "execute_result"
    }
   ],
   "source": [
    "stats.normaltest(now_movies_sample)"
   ]
  },
  {
   "cell_type": "code",
   "execution_count": 32,
   "metadata": {
    "ExecuteTime": {
     "end_time": "2019-11-15T11:51:22.559987Z",
     "start_time": "2019-11-15T11:51:22.554942Z"
    }
   },
   "outputs": [
    {
     "data": {
      "text/plain": [
       "NormaltestResult(statistic=114.56707144675849, pvalue=1.3245749313916394e-25)"
      ]
     },
     "execution_count": 32,
     "metadata": {},
     "output_type": "execute_result"
    }
   ],
   "source": [
    "stats.normaltest(fifth_movies_sample)"
   ]
  },
  {
   "cell_type": "markdown",
   "metadata": {
    "ExecuteTime": {
     "end_time": "2019-11-14T19:50:26.075666Z",
     "start_time": "2019-11-14T19:50:26.071941Z"
    }
   },
   "source": [
    "#### Plotting the distribution for both samples"
   ]
  },
  {
   "cell_type": "code",
   "execution_count": 33,
   "metadata": {
    "ExecuteTime": {
     "end_time": "2019-11-15T11:51:22.884833Z",
     "start_time": "2019-11-15T11:51:22.561721Z"
    }
   },
   "outputs": [
    {
     "data": {
      "text/plain": [
       "Text(0, 0.5, 'Probability')"
      ]
     },
     "execution_count": 33,
     "metadata": {},
     "output_type": "execute_result"
    },
    {
     "data": {
      "image/png": "[encoded data removed]",
      "text/plain": [
       "<Figure size 720x432 with 1 Axes>"
      ]
     },
     "metadata": {
      "needs_background": "light"
     },
     "output_type": "display_data"
    }
   ],
   "source": [
    "plt.figure(figsize=(10,6))\n",
    "sns.distplot(fifth_movies_sample, label='50s and 60s movies', hist= False)\n",
    "sns.distplot(now_movies_sample, label='00s and 10s movies', hist=False)\n",
    "\n",
    "plt.xlabel('Profit')\n",
    "plt.ylabel('Probability')"
   ]
  },
  {
   "cell_type": "markdown",
   "metadata": {},
   "source": [
    "#### Difference between distribution means"
   ]
  },
  {
   "cell_type": "code",
   "execution_count": 34,
   "metadata": {
    "ExecuteTime": {
     "end_time": "2019-11-15T11:51:22.893151Z",
     "start_time": "2019-11-15T11:51:22.887201Z"
    }
   },
   "outputs": [
    {
     "name": "stdout",
     "output_type": "stream",
     "text": [
      "The difference between means is 70097023.49054384\n"
     ]
    }
   ],
   "source": [
    "diff_means = np.mean(fifth_movies_sample) - np.mean(now_movies_sample)\n",
    "print(\"The difference between means is {}\".format(diff_means))"
   ]
  },
  {
   "cell_type": "markdown",
   "metadata": {},
   "source": [
    "#### T-statistic"
   ]
  },
  {
   "cell_type": "code",
   "execution_count": 35,
   "metadata": {
    "ExecuteTime": {
     "end_time": "2019-11-15T11:51:22.901307Z",
     "start_time": "2019-11-15T11:51:22.895292Z"
    }
   },
   "outputs": [],
   "source": [
    "## Importing function from .py file where we stored them \n",
    "from hyp_testing_functions import pooled_variance, tstatistic\n",
    "from ht_visualizations import visualize_t\n",
    " "
   ]
  },
  {
   "cell_type": "code",
   "execution_count": 36,
   "metadata": {
    "ExecuteTime": {
     "end_time": "2019-11-15T11:51:22.911483Z",
     "start_time": "2019-11-15T11:51:22.905076Z"
    }
   },
   "outputs": [
    {
     "name": "stdout",
     "output_type": "stream",
     "text": [
      "T-Statistic is: 11.144489573435894\n"
     ]
    }
   ],
   "source": [
    "\n",
    "t_stat = tstatistic(fifth_movies_sample, now_movies_sample)\n",
    "print(\"T-Statistic is: {}\".format(t_stat))"
   ]
  },
  {
   "cell_type": "code",
   "execution_count": 37,
   "metadata": {
    "ExecuteTime": {
     "end_time": "2019-11-15T11:51:22.917115Z",
     "start_time": "2019-11-15T11:51:22.914108Z"
    }
   },
   "outputs": [],
   "source": [
    "import scipy.stats\n",
    "# import stats.t\n",
    "from scipy import stats"
   ]
  },
  {
   "cell_type": "code",
   "execution_count": 38,
   "metadata": {
    "ExecuteTime": {
     "end_time": "2019-11-15T11:51:23.240952Z",
     "start_time": "2019-11-15T11:51:22.918961Z"
    }
   },
   "outputs": [
    {
     "data": {
      "image/png": "[encoded data removed]",
      "text/plain": [
       "<Figure size 576x360 with 1 Axes>"
      ]
     },
     "metadata": {
      "needs_background": "light"
     },
     "output_type": "display_data"
    }
   ],
   "source": [
    "\n",
    "def visualize_t(t_stat, n_control, n_experimental):\n",
    "    from matplotlib import pyplot as plt \n",
    "\n",
    "    fig = plt.figure(figsize=(8,5))\n",
    "    ax = fig.gca()\n",
    "\n",
    "    xs = np.linspace(4, -4, 500)\n",
    "\n",
    "    # use stats.t.ppf to get critical value. For alpha = 0.05 and two tailed test\n",
    "    crit = stats.t.ppf(1-0.025, (n_control+n_experimental-2))\n",
    "    \n",
    "    # use stats.t.pdf to get values on the probability density function for the t-distribution\n",
    "    \n",
    "    ys= stats.t.pdf(xs, (n_control+n_experimental-2), 0, 1)\n",
    "    ax.plot(xs, ys, linewidth=3, color='darkred')\n",
    "\n",
    "    ax.axvline(crit, color='black', linestyle='--', lw=5, label='Critical values')\n",
    "    ax.axvline(-crit, color='black', linestyle='--', lw=5)\n",
    "    ax.axvline(t_stat, color='red', linestyle='--', lw=5, label=\"T-Statistic value\")\n",
    "    \n",
    "    plt.title('T-test visualisation')\n",
    "    plt.legend(loc='best')\n",
    "    plt.xlabel('Standard deviations')\n",
    "    plt.ylabel('Probability')\n",
    "    plt.show()\n",
    "    return None\n",
    "n_fifth = len(fifth_movies_sample)\n",
    "n_now = len(now_movies_sample)\n",
    "visualize_t(t_stat, n_fifth, n_now)\n",
    "\n"
   ]
  },
  {
   "cell_type": "markdown",
   "metadata": {},
   "source": [
    "#### Getting p-value"
   ]
  },
  {
   "cell_type": "code",
   "execution_count": 39,
   "metadata": {
    "ExecuteTime": {
     "end_time": "2019-11-15T11:51:23.251347Z",
     "start_time": "2019-11-15T11:51:23.243074Z"
    }
   },
   "outputs": [
    {
     "name": "stdout",
     "output_type": "stream",
     "text": [
      "1.9595353553602931e-25\n"
     ]
    }
   ],
   "source": [
    "lower_tail = stats.t.cdf(-t_stat, (190+190-2), 0, 1)\n",
    "# Upper tail comulative density function returns area under upper tail curve\n",
    "upper_tail = 1. - stats.t.cdf(t_stat, (190+190-2), 0, 1)\n",
    "\n",
    "p_value = lower_tail+upper_tail\n",
    "print(p_value)"
   ]
  },
  {
   "cell_type": "code",
   "execution_count": 40,
   "metadata": {
    "ExecuteTime": {
     "end_time": "2019-11-15T11:51:23.258139Z",
     "start_time": "2019-11-15T11:51:23.253168Z"
    }
   },
   "outputs": [
    {
     "data": {
      "text/plain": [
       "Ttest_indResult(statistic=11.1151232784573, pvalue=5.022716776755459e-25)"
      ]
     },
     "execution_count": 40,
     "metadata": {},
     "output_type": "execute_result"
    }
   ],
   "source": [
    "stats.ttest_ind(fifth_movies_sample, now_movies_sample)"
   ]
  },
  {
   "cell_type": "markdown",
   "metadata": {},
   "source": [
    "#### Cohen's d test"
   ]
  },
  {
   "cell_type": "code",
   "execution_count": 41,
   "metadata": {
    "ExecuteTime": {
     "end_time": "2019-11-15T11:51:23.265308Z",
     "start_time": "2019-11-15T11:51:23.260174Z"
    }
   },
   "outputs": [],
   "source": [
    "def Cohen_d(group1, group2):\n",
    "\n",
    "    # Compute Cohen's d.\n",
    "\n",
    "    # group1: Series or NumPy array\n",
    "    # group2: Series or NumPy array\n",
    "\n",
    "    # returns a floating point number \n",
    "\n",
    "    diff = np.mean(group1) - np.mean(group2)\n",
    "\n",
    "    n1, n2 = len(group1), len(group2)\n",
    "    var1 = np.var(group1)\n",
    "    var2 = np.var(group2)\n",
    "\n",
    "    # Calculate the pooled threshold as shown earlier\n",
    "    pooled_var = (n1 * var1 + n2 * var2) / (n1 + n2)\n",
    "    \n",
    "    # Calculate Cohen's d statistic\n",
    "    d = diff / np.sqrt(pooled_var)\n",
    "    \n",
    "    return d"
   ]
  },
  {
   "cell_type": "code",
   "execution_count": 42,
   "metadata": {
    "ExecuteTime": {
     "end_time": "2019-11-15T11:51:23.271727Z",
     "start_time": "2019-11-15T11:51:23.267202Z"
    }
   },
   "outputs": [
    {
     "data": {
      "text/plain": [
       "1.1434005047383942"
      ]
     },
     "execution_count": 42,
     "metadata": {},
     "output_type": "execute_result"
    }
   ],
   "source": [
    "Cohen_d( fifth_movies_sample, now_movies_sample)"
   ]
  },
  {
   "cell_type": "markdown",
   "metadata": {},
   "source": [
    "### H4 - Movies nowadays have more budget than in 50s and 60s"
   ]
  },
  {
   "cell_type": "code",
   "execution_count": 43,
   "metadata": {
    "ExecuteTime": {
     "end_time": "2019-11-15T11:51:23.282170Z",
     "start_time": "2019-11-15T11:51:23.273768Z"
    }
   },
   "outputs": [],
   "source": [
    "fifth_movies = list((data_for_ht[(data_for_ht['decade'] == \"50s\")|(data_for_ht['decade'] == \"60s\")]['budget_adjusted']))\n",
    "now_movies = list((data_for_ht[(data_for_ht['decade']== \"00s\")|(data_for_ht['decade'] == \"10s\")]['budget_adjusted']))"
   ]
  },
  {
   "cell_type": "markdown",
   "metadata": {},
   "source": [
    "#### Getting 2 samples of equal size "
   ]
  },
  {
   "cell_type": "code",
   "execution_count": 44,
   "metadata": {
    "ExecuteTime": {
     "end_time": "2019-11-15T11:51:23.287242Z",
     "start_time": "2019-11-15T11:51:23.284013Z"
    }
   },
   "outputs": [],
   "source": [
    "fifth_movies_sample = random.sample(fifth_movies, 190)\n",
    "now_movies_sample = random.sample(now_movies, 190)"
   ]
  },
  {
   "cell_type": "markdown",
   "metadata": {},
   "source": [
    "#### Variance and mean of the samples "
   ]
  },
  {
   "cell_type": "code",
   "execution_count": 45,
   "metadata": {
    "ExecuteTime": {
     "end_time": "2019-11-15T11:51:23.297260Z",
     "start_time": "2019-11-15T11:51:23.289067Z"
    }
   },
   "outputs": [
    {
     "name": "stdout",
     "output_type": "stream",
     "text": [
      "The variance for the movies on 50s/60s is: 481427044520174.4\n",
      "The std for the movies on 50s/60s is: 21941445.816540312\n",
      "The mean for the movies on 50s/60s is: 19805174.75636675\n",
      "===============\n",
      "The variance for the movies nowadays is: 448646649629425.44\n",
      "The std for the movies on nowadays is: 21181280.64186454\n",
      "The mean for the movies on nowadays is: 24243493.146349866\n"
     ]
    }
   ],
   "source": [
    "print(\"The variance for the movies on 50s/60s is: {}\".format(np.var(fifth_movies_sample)))\n",
    "print(\"The std for the movies on 50s/60s is: {}\".format(np.std(fifth_movies_sample)))\n",
    "print(\"The mean for the movies on 50s/60s is: {}\".format(np.mean(fifth_movies_sample)))\n",
    "\n",
    "print('===============')\n",
    "\n",
    "print(\"The variance for the movies nowadays is: {}\".format(np.var(now_movies_sample)))\n",
    "print(\"The std for the movies on nowadays is: {}\".format(np.std(now_movies_sample)))\n",
    "print(\"The mean for the movies on nowadays is: {}\".format(np.mean(now_movies_sample)))\n",
    "\n"
   ]
  },
  {
   "cell_type": "markdown",
   "metadata": {},
   "source": [
    "#### Normality test for samples "
   ]
  },
  {
   "cell_type": "code",
   "execution_count": 46,
   "metadata": {
    "ExecuteTime": {
     "end_time": "2019-11-15T11:51:23.304499Z",
     "start_time": "2019-11-15T11:51:23.298929Z"
    }
   },
   "outputs": [
    {
     "data": {
      "text/plain": [
       "NormaltestResult(statistic=47.36158338758902, pvalue=5.1947283324423604e-11)"
      ]
     },
     "execution_count": 46,
     "metadata": {},
     "output_type": "execute_result"
    }
   ],
   "source": [
    "stats.normaltest(now_movies_sample)"
   ]
  },
  {
   "cell_type": "code",
   "execution_count": 47,
   "metadata": {
    "ExecuteTime": {
     "end_time": "2019-11-15T11:51:23.311843Z",
     "start_time": "2019-11-15T11:51:23.306307Z"
    }
   },
   "outputs": [
    {
     "data": {
      "text/plain": [
       "NormaltestResult(statistic=168.27091130705898, pvalue=2.8869274984362527e-37)"
      ]
     },
     "execution_count": 47,
     "metadata": {},
     "output_type": "execute_result"
    }
   ],
   "source": [
    "stats.normaltest(fifth_movies_sample)"
   ]
  },
  {
   "cell_type": "markdown",
   "metadata": {
    "ExecuteTime": {
     "end_time": "2019-11-14T19:50:26.075666Z",
     "start_time": "2019-11-14T19:50:26.071941Z"
    }
   },
   "source": [
    "#### Plotting the distribution for both samples"
   ]
  },
  {
   "cell_type": "code",
   "execution_count": 48,
   "metadata": {
    "ExecuteTime": {
     "end_time": "2019-11-15T11:51:23.625874Z",
     "start_time": "2019-11-15T11:51:23.313814Z"
    }
   },
   "outputs": [
    {
     "data": {
      "text/plain": [
       "Text(0, 0.5, 'Probability')"
      ]
     },
     "execution_count": 48,
     "metadata": {},
     "output_type": "execute_result"
    },
    {
     "data": {
      "image/png": "[encoded data removed]",
      "text/plain": [
       "<Figure size 720x432 with 1 Axes>"
      ]
     },
     "metadata": {
      "needs_background": "light"
     },
     "output_type": "display_data"
    }
   ],
   "source": [
    "plt.figure(figsize=(10,6))\n",
    "sns.distplot(fifth_movies_sample, label='50s and 60s movies', hist= False)\n",
    "sns.distplot(now_movies_sample, label='00s and 10s movies', hist=False)\n",
    "\n",
    "plt.xlabel('Profit')\n",
    "plt.ylabel('Probability')"
   ]
  },
  {
   "cell_type": "markdown",
   "metadata": {},
   "source": [
    "#### Difference between distribution means"
   ]
  },
  {
   "cell_type": "code",
   "execution_count": 49,
   "metadata": {
    "ExecuteTime": {
     "end_time": "2019-11-15T11:51:23.633006Z",
     "start_time": "2019-11-15T11:51:23.627996Z"
    }
   },
   "outputs": [
    {
     "name": "stdout",
     "output_type": "stream",
     "text": [
      "The difference between means is -4438318.389983118\n"
     ]
    }
   ],
   "source": [
    "diff_means = np.mean(fifth_movies_sample) - np.mean(now_movies_sample)\n",
    "print(\"The difference between means is {}\".format(diff_means))"
   ]
  },
  {
   "cell_type": "markdown",
   "metadata": {},
   "source": [
    "#### Welch T-statistic"
   ]
  },
  {
   "cell_type": "code",
   "execution_count": 50,
   "metadata": {
    "ExecuteTime": {
     "end_time": "2019-11-15T11:51:23.637150Z",
     "start_time": "2019-11-15T11:51:23.634665Z"
    }
   },
   "outputs": [],
   "source": [
    "# importnting welch_t from our .py file\n",
    "from hyp_testing_functions import welch_t"
   ]
  },
  {
   "cell_type": "code",
   "execution_count": 51,
   "metadata": {
    "ExecuteTime": {
     "end_time": "2019-11-15T11:51:23.643688Z",
     "start_time": "2019-11-15T11:51:23.639307Z"
    }
   },
   "outputs": [
    {
     "name": "stdout",
     "output_type": "stream",
     "text": [
      "Welch t-statistic is 2.0007400942295837\n"
     ]
    }
   ],
   "source": [
    "welch_t_test = welch_t(fifth_movies_sample, now_movies_sample)\n",
    "print(\"Welch t-statistic is {}\".format(welch_t_test))"
   ]
  },
  {
   "cell_type": "markdown",
   "metadata": {},
   "source": [
    "#### Visualising Welch T-test"
   ]
  },
  {
   "cell_type": "code",
   "execution_count": 52,
   "metadata": {
    "ExecuteTime": {
     "end_time": "2019-11-15T11:51:23.932493Z",
     "start_time": "2019-11-15T11:51:23.645809Z"
    }
   },
   "outputs": [
    {
     "data": {
      "image/png": "[encoded data removed]",
      "text/plain": [
       "<Figure size 576x360 with 1 Axes>"
      ]
     },
     "metadata": {
      "needs_background": "light"
     },
     "output_type": "display_data"
    }
   ],
   "source": [
    "visualize_t(welch_t_test, n_fifth, n_now)"
   ]
  },
  {
   "cell_type": "markdown",
   "metadata": {},
   "source": [
    "#### Getting the p-value "
   ]
  },
  {
   "cell_type": "code",
   "execution_count": 53,
   "metadata": {
    "ExecuteTime": {
     "end_time": "2019-11-15T11:51:23.937046Z",
     "start_time": "2019-11-15T11:51:23.934518Z"
    }
   },
   "outputs": [],
   "source": [
    "# importnting p-value from our .py file\n",
    "# from hyp_testing_functions import p_value_"
   ]
  },
  {
   "cell_type": "code",
   "execution_count": 54,
   "metadata": {
    "ExecuteTime": {
     "end_time": "2019-11-15T11:51:23.943332Z",
     "start_time": "2019-11-15T11:51:23.939357Z"
    }
   },
   "outputs": [],
   "source": [
    "## for now we leave it written here \n",
    "\n",
    "\n",
    "def p_value_(a, b, two_sided=True):\n",
    "\n",
    "    t = welch_t(a, b)\n",
    "    df = welch_df(a, b)\n",
    "    \n",
    "    p = 1-stats.t.cdf(np.abs(t), df)\n",
    "    \n",
    "    if two_sided:\n",
    "        return 2*p\n",
    "    else:\n",
    "        return p"
   ]
  },
  {
   "cell_type": "code",
   "execution_count": 55,
   "metadata": {
    "ExecuteTime": {
     "end_time": "2019-11-15T11:51:23.948079Z",
     "start_time": "2019-11-15T11:51:23.945219Z"
    },
    "scrolled": true
   },
   "outputs": [],
   "source": [
    "# p_value(fifth_movies_sample, now_movies_sample)"
   ]
  },
  {
   "cell_type": "code",
   "execution_count": 56,
   "metadata": {
    "ExecuteTime": {
     "end_time": "2019-11-15T11:51:23.954889Z",
     "start_time": "2019-11-15T11:51:23.950212Z"
    }
   },
   "outputs": [
    {
     "data": {
      "text/plain": [
       "Ttest_indResult(statistic=-2.0007400942295837, pvalue=0.0461350939784485)"
      ]
     },
     "execution_count": 56,
     "metadata": {},
     "output_type": "execute_result"
    }
   ],
   "source": [
    "stats.ttest_ind(fifth_movies_sample, now_movies_sample)"
   ]
  },
  {
   "cell_type": "markdown",
   "metadata": {},
   "source": [
    "#### Cohen's d test"
   ]
  },
  {
   "cell_type": "code",
   "execution_count": 57,
   "metadata": {
    "ExecuteTime": {
     "end_time": "2019-11-15T11:51:23.962533Z",
     "start_time": "2019-11-15T11:51:23.957037Z"
    }
   },
   "outputs": [
    {
     "data": {
      "text/plain": [
       "-0.2058139326287308"
      ]
     },
     "execution_count": 57,
     "metadata": {},
     "output_type": "execute_result"
    }
   ],
   "source": [
    "Cohen_d( fifth_movies_sample, now_movies_sample)"
   ]
  },
  {
   "cell_type": "markdown",
   "metadata": {},
   "source": [
    "### Romance movies require different budget than action movies "
   ]
  },
  {
   "cell_type": "code",
   "execution_count": 58,
   "metadata": {
    "ExecuteTime": {
     "end_time": "2019-11-15T11:51:23.971880Z",
     "start_time": "2019-11-15T11:51:23.964579Z"
    }
   },
   "outputs": [],
   "source": [
    "rom_movies = list((data_for_ht[(data_for_ht['genre_bis'] == \"Romance\")]['budget_adjusted']))\n",
    "act_movies = list((data_for_ht[(data_for_ht['genre_bis']== \"Action\")]['budget_adjusted']))"
   ]
  },
  {
   "cell_type": "markdown",
   "metadata": {},
   "source": [
    "#### Getting 2 samples of equal size "
   ]
  },
  {
   "cell_type": "code",
   "execution_count": 59,
   "metadata": {
    "ExecuteTime": {
     "end_time": "2019-11-15T11:51:23.977727Z",
     "start_time": "2019-11-15T11:51:23.973854Z"
    }
   },
   "outputs": [
    {
     "name": "stdout",
     "output_type": "stream",
     "text": [
      "829 1218\n"
     ]
    }
   ],
   "source": [
    "print(len(rom_movies), len(act_movies))"
   ]
  },
  {
   "cell_type": "code",
   "execution_count": 60,
   "metadata": {
    "ExecuteTime": {
     "end_time": "2019-11-15T11:51:23.984593Z",
     "start_time": "2019-11-15T11:51:23.979481Z"
    }
   },
   "outputs": [],
   "source": [
    "rom_movies_sample = random.sample(rom_movies, 829)\n",
    "act_movies_sample = random.sample(act_movies, 829)"
   ]
  },
  {
   "cell_type": "markdown",
   "metadata": {},
   "source": [
    "#### Variance and mean of the samples "
   ]
  },
  {
   "cell_type": "code",
   "execution_count": 61,
   "metadata": {
    "ExecuteTime": {
     "end_time": "2019-11-15T11:51:23.994617Z",
     "start_time": "2019-11-15T11:51:23.987147Z"
    }
   },
   "outputs": [
    {
     "name": "stdout",
     "output_type": "stream",
     "text": [
      "The variance for the movies on 50s/60s is: 131443187347636.23\n",
      "The std for the movies on 50s/60s is: 11464867.524207868\n",
      "The mean for the movies on 50s/60s is: 15246935.194475973\n",
      "===============\n",
      "The variance for the movies nowadays is: 653032296130528.8\n",
      "The std for the movies on nowadays is: 25554496.59317375\n",
      "The mean for the movies on nowadays is: 31721780.86823388\n"
     ]
    }
   ],
   "source": [
    "print(\"The variance for the movies on 50s/60s is: {}\".format(np.var(rom_movies_sample)))\n",
    "print(\"The std for the movies on 50s/60s is: {}\".format(np.std(rom_movies_sample)))\n",
    "print(\"The mean for the movies on 50s/60s is: {}\".format(np.mean(rom_movies_sample)))\n",
    "\n",
    "print('===============')\n",
    "\n",
    "print(\"The variance for the movies nowadays is: {}\".format(np.var(act_movies_sample)))\n",
    "print(\"The std for the movies on nowadays is: {}\".format(np.std(act_movies_sample)))\n",
    "print(\"The mean for the movies on nowadays is: {}\".format(np.mean(act_movies_sample)))\n",
    "\n"
   ]
  },
  {
   "cell_type": "markdown",
   "metadata": {},
   "source": [
    "#### Normality test for samples "
   ]
  },
  {
   "cell_type": "code",
   "execution_count": 62,
   "metadata": {
    "ExecuteTime": {
     "end_time": "2019-11-15T11:51:24.002826Z",
     "start_time": "2019-11-15T11:51:23.996493Z"
    }
   },
   "outputs": [
    {
     "data": {
      "text/plain": [
       "NormaltestResult(statistic=601.7008607987648, pvalue=2.1994707931014913e-131)"
      ]
     },
     "execution_count": 62,
     "metadata": {},
     "output_type": "execute_result"
    }
   ],
   "source": [
    "stats.normaltest(rom_movies_sample)"
   ]
  },
  {
   "cell_type": "code",
   "execution_count": 63,
   "metadata": {
    "ExecuteTime": {
     "end_time": "2019-11-15T11:51:24.010888Z",
     "start_time": "2019-11-15T11:51:24.004977Z"
    }
   },
   "outputs": [
    {
     "data": {
      "text/plain": [
       "NormaltestResult(statistic=195.77572004429845, pvalue=3.07498178171294e-43)"
      ]
     },
     "execution_count": 63,
     "metadata": {},
     "output_type": "execute_result"
    }
   ],
   "source": [
    "stats.normaltest(act_movies_sample)"
   ]
  },
  {
   "cell_type": "markdown",
   "metadata": {
    "ExecuteTime": {
     "end_time": "2019-11-14T19:50:26.075666Z",
     "start_time": "2019-11-14T19:50:26.071941Z"
    }
   },
   "source": [
    "#### Plotting the distribution for both samples"
   ]
  },
  {
   "cell_type": "code",
   "execution_count": 64,
   "metadata": {
    "ExecuteTime": {
     "end_time": "2019-11-15T11:51:24.313882Z",
     "start_time": "2019-11-15T11:51:24.012760Z"
    }
   },
   "outputs": [
    {
     "data": {
      "text/plain": [
       "Text(0, 0.5, 'Probability')"
      ]
     },
     "execution_count": 64,
     "metadata": {},
     "output_type": "execute_result"
    },
    {
     "data": {
      "image/png": "[encoded data removed]",
      "text/plain": [
       "<Figure size 720x432 with 1 Axes>"
      ]
     },
     "metadata": {
      "needs_background": "light"
     },
     "output_type": "display_data"
    }
   ],
   "source": [
    "plt.figure(figsize=(10,6))\n",
    "sns.distplot(rom_movies_sample, label='Romance', hist= False)\n",
    "sns.distplot(act_movies_sample, label='Action', hist=False)\n",
    "\n",
    "plt.xlabel('Profit')\n",
    "plt.ylabel('Probability')"
   ]
  },
  {
   "cell_type": "markdown",
   "metadata": {},
   "source": [
    "#### Difference between distribution means"
   ]
  },
  {
   "cell_type": "code",
   "execution_count": 65,
   "metadata": {
    "ExecuteTime": {
     "end_time": "2019-11-15T11:51:24.319640Z",
     "start_time": "2019-11-15T11:51:24.315740Z"
    }
   },
   "outputs": [
    {
     "name": "stdout",
     "output_type": "stream",
     "text": [
      "The difference between means is -16474845.673757905\n"
     ]
    }
   ],
   "source": [
    "diff_means = np.mean(rom_movies_sample) - np.mean(act_movies_sample)\n",
    "print(\"The difference between means is {}\".format(diff_means))"
   ]
  },
  {
   "cell_type": "markdown",
   "metadata": {},
   "source": [
    "#### T-statistic"
   ]
  },
  {
   "cell_type": "code",
   "execution_count": 66,
   "metadata": {
    "ExecuteTime": {
     "end_time": "2019-11-15T11:51:24.324671Z",
     "start_time": "2019-11-15T11:51:24.321769Z"
    }
   },
   "outputs": [],
   "source": [
    "## Importing function from .py file where we stored them \n",
    "from hyp_testing_functions import pooled_variance, tstatistic, welch_t\n",
    "from ht_visualizations import visualize_t\n",
    " "
   ]
  },
  {
   "cell_type": "code",
   "execution_count": 67,
   "metadata": {
    "ExecuteTime": {
     "end_time": "2019-11-15T11:51:24.330564Z",
     "start_time": "2019-11-15T11:51:24.326748Z"
    }
   },
   "outputs": [
    {
     "name": "stdout",
     "output_type": "stream",
     "text": [
      "T-Statistic is: -16.935925422666696\n"
     ]
    }
   ],
   "source": [
    "\n",
    "t_stat = tstatistic(rom_movies_sample, act_movies_sample)\n",
    "print(\"T-Statistic is: {}\".format(t_stat))"
   ]
  },
  {
   "cell_type": "code",
   "execution_count": 68,
   "metadata": {
    "ExecuteTime": {
     "end_time": "2019-11-15T11:51:24.343105Z",
     "start_time": "2019-11-15T11:51:24.340739Z"
    }
   },
   "outputs": [],
   "source": [
    "import scipy.stats\n",
    "# import stats.t\n",
    "from scipy import stats"
   ]
  },
  {
   "cell_type": "code",
   "execution_count": 69,
   "metadata": {
    "ExecuteTime": {
     "end_time": "2019-11-15T11:51:24.604810Z",
     "start_time": "2019-11-15T11:51:24.348597Z"
    }
   },
   "outputs": [
    {
     "data": {
      "image/png": "[encoded data removed]",
      "text/plain": [
       "<Figure size 576x360 with 1 Axes>"
      ]
     },
     "metadata": {
      "needs_background": "light"
     },
     "output_type": "display_data"
    }
   ],
   "source": [
    "\n",
    "def visualize_t(t_stat, n_control, n_experimental):\n",
    "    from matplotlib import pyplot as plt \n",
    "\n",
    "    fig = plt.figure(figsize=(8,5))\n",
    "    ax = fig.gca()\n",
    "\n",
    "    xs = np.linspace(4, -4, 500)\n",
    "\n",
    "    # use stats.t.ppf to get critical value. For alpha = 0.05 and two tailed test\n",
    "    crit = stats.t.ppf(1-0.025, (n_control+n_experimental-2))\n",
    "    \n",
    "    # use stats.t.pdf to get values on the probability density function for the t-distribution\n",
    "    \n",
    "    ys= stats.t.pdf(xs, (n_control+n_experimental-2), 0, 1)\n",
    "    ax.plot(xs, ys, linewidth=3, color='darkred')\n",
    "\n",
    "    ax.axvline(crit, color='black', linestyle='--', lw=5, label='Critical values')\n",
    "    ax.axvline(-crit, color='black', linestyle='--', lw=5)\n",
    "    ax.axvline(t_stat, color='red', linestyle='--', lw=5, label=\"T-Statistic value\")\n",
    "    \n",
    "    plt.title('T-test visualisation')\n",
    "    plt.legend(loc='best')\n",
    "    plt.xlabel('Standard deviations')\n",
    "    plt.ylabel('Probability')\n",
    "    plt.show()\n",
    "    return None\n",
    "n_fifth = len(rom_movies_sample)\n",
    "n_now = len(act_movies_sample)\n",
    "visualize_t(t_stat, n_fifth, n_now)\n",
    "\n"
   ]
  },
  {
   "cell_type": "markdown",
   "metadata": {},
   "source": [
    "#### Getting p-value"
   ]
  },
  {
   "cell_type": "code",
   "execution_count": 70,
   "metadata": {
    "ExecuteTime": {
     "end_time": "2019-11-15T11:51:24.610122Z",
     "start_time": "2019-11-15T11:51:24.607123Z"
    }
   },
   "outputs": [],
   "source": [
    "# lower_tail = stats.t.cdf(-t_stat, (890+890-2), 0, 1)\n",
    "# # Upper tail comulative density function returns area under upper tail curve\n",
    "# upper_tail = 1. - stats.t.cdf(t_stat, (890+890-2), 0, 1)\n",
    "\n",
    "# p_value = lower_tail+upper_tail\n",
    "# print(p_value)"
   ]
  },
  {
   "cell_type": "code",
   "execution_count": 71,
   "metadata": {
    "ExecuteTime": {
     "end_time": "2019-11-15T11:51:24.618174Z",
     "start_time": "2019-11-15T11:51:24.612308Z"
    }
   },
   "outputs": [
    {
     "data": {
      "text/plain": [
       "Ttest_indResult(statistic=-16.9257076688421, pvalue=2.1344167428400686e-59)"
      ]
     },
     "execution_count": 71,
     "metadata": {},
     "output_type": "execute_result"
    }
   ],
   "source": [
    "stats.ttest_ind(rom_movies_sample, act_movies_sample)"
   ]
  },
  {
   "cell_type": "markdown",
   "metadata": {},
   "source": [
    "#### Cohen's d test"
   ]
  },
  {
   "cell_type": "code",
   "execution_count": 72,
   "metadata": {
    "ExecuteTime": {
     "end_time": "2019-11-15T11:51:24.624917Z",
     "start_time": "2019-11-15T11:51:24.620059Z"
    }
   },
   "outputs": [],
   "source": [
    "def Cohen_d(group1, group2):\n",
    "\n",
    "\n",
    "    diff = np.mean(group1) - np.mean(group2)\n",
    "\n",
    "    n1, n2 = len(group1), len(group2)\n",
    "    var1 = np.var(group1)\n",
    "    var2 = np.var(group2)\n",
    "\n",
    "    # Calculate the pooled threshold as shown earlier\n",
    "    pooled_var = (n1 * var1 + n2 * var2) / (n1 + n2)\n",
    "    \n",
    "    # Calculate Cohen's d statistic\n",
    "    d = diff / np.sqrt(pooled_var)\n",
    "    \n",
    "    return d"
   ]
  },
  {
   "cell_type": "code",
   "execution_count": 73,
   "metadata": {
    "ExecuteTime": {
     "end_time": "2019-11-15T11:51:24.631768Z",
     "start_time": "2019-11-15T11:51:24.626816Z"
    }
   },
   "outputs": [
    {
     "data": {
      "text/plain": [
       "-0.8318531493333409"
      ]
     },
     "execution_count": 73,
     "metadata": {},
     "output_type": "execute_result"
    }
   ],
   "source": [
    "Cohen_d( rom_movies_sample, act_movies_sample)"
   ]
  },
  {
   "cell_type": "markdown",
   "metadata": {},
   "source": [
    "### Romance movies make different profit than action movies"
   ]
  },
  {
   "cell_type": "code",
   "execution_count": 74,
   "metadata": {
    "ExecuteTime": {
     "end_time": "2019-11-15T11:51:24.640971Z",
     "start_time": "2019-11-15T11:51:24.633709Z"
    }
   },
   "outputs": [],
   "source": [
    "rom_movies = list((data_for_ht[(data_for_ht['genre_bis'] == \"Romance\")]['profit_adjusted']))\n",
    "act_movies = list((data_for_ht[(data_for_ht['genre_bis']== \"Action\")]['profit_adjusted']))"
   ]
  },
  {
   "cell_type": "markdown",
   "metadata": {},
   "source": [
    "#### Getting 2 samples of equal size "
   ]
  },
  {
   "cell_type": "code",
   "execution_count": 75,
   "metadata": {
    "ExecuteTime": {
     "end_time": "2019-11-15T11:51:24.646283Z",
     "start_time": "2019-11-15T11:51:24.642824Z"
    }
   },
   "outputs": [
    {
     "name": "stdout",
     "output_type": "stream",
     "text": [
      "829 1218\n"
     ]
    }
   ],
   "source": [
    "print(len(rom_movies), len(act_movies))"
   ]
  },
  {
   "cell_type": "code",
   "execution_count": 76,
   "metadata": {
    "ExecuteTime": {
     "end_time": "2019-11-15T11:51:24.652824Z",
     "start_time": "2019-11-15T11:51:24.648136Z"
    }
   },
   "outputs": [],
   "source": [
    "np.random.seed(0)\n",
    "rom_movies_sample = random.sample(rom_movies, 829)\n",
    "act_movies_sample = random.sample(act_movies, 829)"
   ]
  },
  {
   "cell_type": "markdown",
   "metadata": {},
   "source": [
    "#### Variance and mean of the samples "
   ]
  },
  {
   "cell_type": "code",
   "execution_count": 77,
   "metadata": {
    "ExecuteTime": {
     "end_time": "2019-11-15T11:51:24.661374Z",
     "start_time": "2019-11-15T11:51:24.654874Z"
    }
   },
   "outputs": [
    {
     "name": "stdout",
     "output_type": "stream",
     "text": [
      "The variance for the movies on 50s/60s is: 1217701722723433.2\n",
      "The std for the movies on 50s/60s is: 34895583.14061298\n",
      "The mean for the movies on 50s/60s is: 19572339.63780084\n",
      "===============\n",
      "The variance for the movies nowadays is: 2303467636309352.0\n",
      "The std for the movies on nowadays is: 47994454.22451798\n",
      "The mean for the movies on nowadays is: 15225450.133056397\n"
     ]
    }
   ],
   "source": [
    "print(\"The variance for the movies on 50s/60s is: {}\".format(np.var(rom_movies_sample)))\n",
    "print(\"The std for the movies on 50s/60s is: {}\".format(np.std(rom_movies_sample)))\n",
    "print(\"The mean for the movies on 50s/60s is: {}\".format(np.mean(rom_movies_sample)))\n",
    "\n",
    "print('===============')\n",
    "\n",
    "print(\"The variance for the movies nowadays is: {}\".format(np.var(act_movies_sample)))\n",
    "print(\"The std for the movies on nowadays is: {}\".format(np.std(act_movies_sample)))\n",
    "print(\"The mean for the movies on nowadays is: {}\".format(np.mean(act_movies_sample)))\n",
    "\n"
   ]
  },
  {
   "cell_type": "markdown",
   "metadata": {},
   "source": [
    "#### Normality test for samples "
   ]
  },
  {
   "cell_type": "code",
   "execution_count": 78,
   "metadata": {
    "ExecuteTime": {
     "end_time": "2019-11-15T11:51:24.668942Z",
     "start_time": "2019-11-15T11:51:24.663242Z"
    }
   },
   "outputs": [
    {
     "data": {
      "text/plain": [
       "NormaltestResult(statistic=700.9574466221782, pvalue=6.152114949942319e-153)"
      ]
     },
     "execution_count": 78,
     "metadata": {},
     "output_type": "execute_result"
    }
   ],
   "source": [
    "stats.normaltest(rom_movies_sample)"
   ]
  },
  {
   "cell_type": "code",
   "execution_count": 79,
   "metadata": {
    "ExecuteTime": {
     "end_time": "2019-11-15T11:51:24.676987Z",
     "start_time": "2019-11-15T11:51:24.670965Z"
    }
   },
   "outputs": [
    {
     "data": {
      "text/plain": [
       "NormaltestResult(statistic=678.1410338903099, pvalue=5.540456056084024e-148)"
      ]
     },
     "execution_count": 79,
     "metadata": {},
     "output_type": "execute_result"
    }
   ],
   "source": [
    "stats.normaltest(act_movies_sample)"
   ]
  },
  {
   "cell_type": "markdown",
   "metadata": {
    "ExecuteTime": {
     "end_time": "2019-11-14T19:50:26.075666Z",
     "start_time": "2019-11-14T19:50:26.071941Z"
    }
   },
   "source": [
    "#### Plotting the distribution for both samples"
   ]
  },
  {
   "cell_type": "code",
   "execution_count": 80,
   "metadata": {
    "ExecuteTime": {
     "end_time": "2019-11-15T11:51:25.012898Z",
     "start_time": "2019-11-15T11:51:24.678917Z"
    }
   },
   "outputs": [
    {
     "data": {
      "text/plain": [
       "Text(0, 0.5, 'Probability')"
      ]
     },
     "execution_count": 80,
     "metadata": {},
     "output_type": "execute_result"
    },
    {
     "data": {
      "image/png": "[encoded data removed]",
      "text/plain": [
       "<Figure size 720x432 with 1 Axes>"
      ]
     },
     "metadata": {
      "needs_background": "light"
     },
     "output_type": "display_data"
    }
   ],
   "source": [
    "plt.figure(figsize=(10,6))\n",
    "sns.distplot(rom_movies_sample, label='Romance movies', hist= False)\n",
    "sns.distplot(act_movies_sample, label='Action movies', hist=False)\n",
    "\n",
    "plt.xlabel('Profit')\n",
    "plt.ylabel('Probability')"
   ]
  },
  {
   "cell_type": "markdown",
   "metadata": {},
   "source": [
    "#### Difference between distribution means"
   ]
  },
  {
   "cell_type": "code",
   "execution_count": 81,
   "metadata": {
    "ExecuteTime": {
     "end_time": "2019-11-15T11:51:25.019091Z",
     "start_time": "2019-11-15T11:51:25.014779Z"
    }
   },
   "outputs": [
    {
     "name": "stdout",
     "output_type": "stream",
     "text": [
      "The difference between means is 4346889.504744442\n"
     ]
    }
   ],
   "source": [
    "diff_means = np.mean(rom_movies_sample) - np.mean(act_movies_sample)\n",
    "print(\"The difference between means is {}\".format(diff_means))"
   ]
  },
  {
   "cell_type": "markdown",
   "metadata": {},
   "source": [
    "#### T-statistic"
   ]
  },
  {
   "cell_type": "code",
   "execution_count": 82,
   "metadata": {
    "ExecuteTime": {
     "end_time": "2019-11-15T11:51:25.024562Z",
     "start_time": "2019-11-15T11:51:25.021342Z"
    }
   },
   "outputs": [],
   "source": [
    "## Importing function from .py file where we stored them \n",
    "from hyp_testing_functions import pooled_variance, tstatistic, welch_t\n",
    "from ht_visualizations import visualize_t\n",
    " "
   ]
  },
  {
   "cell_type": "code",
   "execution_count": 83,
   "metadata": {
    "ExecuteTime": {
     "end_time": "2019-11-15T11:51:25.030963Z",
     "start_time": "2019-11-15T11:51:25.026365Z"
    }
   },
   "outputs": [
    {
     "name": "stdout",
     "output_type": "stream",
     "text": [
      "T-Statistic is: 2.107901496749861\n"
     ]
    }
   ],
   "source": [
    "\n",
    "t_stat = welch_t(rom_movies_sample, act_movies_sample)\n",
    "print(\"T-Statistic is: {}\".format(t_stat))"
   ]
  },
  {
   "cell_type": "code",
   "execution_count": 84,
   "metadata": {
    "ExecuteTime": {
     "end_time": "2019-11-15T11:51:25.036194Z",
     "start_time": "2019-11-15T11:51:25.033133Z"
    }
   },
   "outputs": [],
   "source": [
    "import scipy.stats\n",
    "# import stats.t\n",
    "from scipy import stats"
   ]
  },
  {
   "cell_type": "code",
   "execution_count": 85,
   "metadata": {
    "ExecuteTime": {
     "end_time": "2019-11-15T11:51:25.358346Z",
     "start_time": "2019-11-15T11:51:25.038245Z"
    }
   },
   "outputs": [
    {
     "data": {
      "image/png": "[encoded data removed]",
      "text/plain": [
       "<Figure size 576x360 with 1 Axes>"
      ]
     },
     "metadata": {
      "needs_background": "light"
     },
     "output_type": "display_data"
    }
   ],
   "source": [
    "\n",
    "def visualize_t(t_stat, n_control, n_experimental):\n",
    "    from matplotlib import pyplot as plt \n",
    "\n",
    "    fig = plt.figure(figsize=(8,5))\n",
    "    ax = fig.gca()\n",
    "\n",
    "    xs = np.linspace(4, -4, 500)\n",
    "\n",
    "    # use stats.t.ppf to get critical value. For alpha = 0.05 and two tailed test\n",
    "    crit = stats.t.ppf(1-0.025, (n_control+n_experimental-2))\n",
    "    \n",
    "    # use stats.t.pdf to get values on the probability density function for the t-distribution\n",
    "    \n",
    "    ys= stats.t.pdf(xs, (n_control+n_experimental-2), 0, 1)\n",
    "    ax.plot(xs, ys, linewidth=3, color='darkred')\n",
    "\n",
    "    ax.axvline(crit, color='black', linestyle='--', lw=5, label='Critical values')\n",
    "    ax.axvline(-crit, color='black', linestyle='--', lw=5)\n",
    "    ax.axvline(t_stat, color='red', linestyle='--', lw=5, label=\"T-Statistic value\")\n",
    "    \n",
    "    plt.title('T-test visualisation')\n",
    "    plt.legend(loc='best')\n",
    "    plt.xlabel('Standard deviations')\n",
    "    plt.ylabel('Probability')\n",
    "    plt.show()\n",
    "    return None\n",
    "n_fifth = len(rom_movies_sample)\n",
    "n_now = len(act_movies_sample)\n",
    "visualize_t(t_stat, n_fifth, n_now)\n",
    "\n"
   ]
  },
  {
   "cell_type": "markdown",
   "metadata": {},
   "source": [
    "#### Getting p-value"
   ]
  },
  {
   "cell_type": "code",
   "execution_count": 86,
   "metadata": {
    "ExecuteTime": {
     "end_time": "2019-11-15T11:51:25.364484Z",
     "start_time": "2019-11-15T11:51:25.360560Z"
    }
   },
   "outputs": [],
   "source": [
    "# lower_tail = stats.t.cdf(-t_stat, (890+890-2), 0, 1)\n",
    "# # Upper tail comulative density function returns area under upper tail curve\n",
    "# upper_tail = 1. - stats.t.cdf(t_stat, (890+890-2), 0, 1)\n",
    "\n",
    "# p_value = lower_tail+upper_tail\n",
    "# print(p_value)"
   ]
  },
  {
   "cell_type": "code",
   "execution_count": 87,
   "metadata": {
    "ExecuteTime": {
     "end_time": "2019-11-15T11:51:25.371334Z",
     "start_time": "2019-11-15T11:51:25.366402Z"
    }
   },
   "outputs": [
    {
     "data": {
      "text/plain": [
       "Ttest_indResult(statistic=2.107901496749861, pvalue=0.035189440849543875)"
      ]
     },
     "execution_count": 87,
     "metadata": {},
     "output_type": "execute_result"
    }
   ],
   "source": [
    "stats.ttest_ind(rom_movies_sample, act_movies_sample)"
   ]
  },
  {
   "cell_type": "markdown",
   "metadata": {},
   "source": [
    "#### Cohen's d test"
   ]
  },
  {
   "cell_type": "code",
   "execution_count": 88,
   "metadata": {
    "ExecuteTime": {
     "end_time": "2019-11-15T11:51:25.377651Z",
     "start_time": "2019-11-15T11:51:25.373376Z"
    }
   },
   "outputs": [],
   "source": [
    "def Cohen_d(group1, group2):\n",
    "\n",
    "\n",
    "    diff = np.mean(group1) - np.mean(group2)\n",
    "\n",
    "    n1, n2 = len(group1), len(group2)\n",
    "    var1 = np.var(group1)\n",
    "    var2 = np.var(group2)\n",
    "\n",
    "    # Calculate the pooled threshold as shown earlier\n",
    "    pooled_var = (n1 * var1 + n2 * var2) / (n1 + n2)\n",
    "    \n",
    "    # Calculate Cohen's d statistic\n",
    "    d = diff / np.sqrt(pooled_var)\n",
    "    \n",
    "    return d"
   ]
  },
  {
   "cell_type": "code",
   "execution_count": 89,
   "metadata": {
    "ExecuteTime": {
     "end_time": "2019-11-15T11:51:25.384254Z",
     "start_time": "2019-11-15T11:51:25.379739Z"
    }
   },
   "outputs": [
    {
     "data": {
      "text/plain": [
       "0.10359770668754499"
      ]
     },
     "execution_count": 89,
     "metadata": {},
     "output_type": "execute_result"
    }
   ],
   "source": [
    "Cohen_d( rom_movies_sample, act_movies_sample)"
   ]
  },
  {
   "cell_type": "markdown",
   "metadata": {},
   "source": [
    "# Findings and applications"
   ]
  },
  {
   "cell_type": "markdown",
   "metadata": {},
   "source": [
    "**Hypothesis 1**\n",
    "\n",
    "We did find out that there is statistical significance between the profit of the romance and action movies but based on our tests there is little to no practical significance. We would advise the movie production company not to make their decisions based on the profit of movies in those genres.\n",
    "\n",
    "**Hypothesis 2**\n",
    "\n",
    "We did find a statistical significance and practical significance when considering the budget of both movie genres. Action movies require more budget than romance movies so we were able to reject our null hypothesis in that instance.\n",
    "\n",
    "Judging by the findings above romance movie profits and action movie profits don't seem to have much of a difference but action movie budgets are higher..if the movie company production is interested in making more profit in the box office whilst spending less on budget..we would recommend \"carving a niche as a romance genre movie production company\"\n",
    "\n",
    "**Hypothesis 3**\n",
    "\n",
    "We did find that the budget for the movies in the 50s and 60s compared to the 2000s 2010s when adjusted for inflation had statistical significance but little to no practical significance. We would advise the movie production company not make their decision based on this metric\n",
    "\n",
    "**Hypothesis 4**\n",
    "\n",
    "We did find that the profit of movies in the 50 and 60s compared to the 2000s and 2010s made higher profit when adjusted for inflation. As there was both statistical and practical significance. We can attribute to the case that te era saw the rise of films featuring darker plot lines and characters played by “edgier” stars like James Dean, Marlon Brando, Ava Gardner, and Marilyn Monroe and also the rise of pop culture with Hollywood companies adapting to the times by shifting from theaterical release of movies to TV sets"
   ]
  },
  {
   "cell_type": "markdown",
   "metadata": {
    "heading_collapsed": true
   },
   "source": [
    "# Limitations"
   ]
  },
  {
   "cell_type": "markdown",
   "metadata": {
    "hidden": true
   },
   "source": [
    "- We would have liked to delve more into the reason why 50s and 60s movies made more profit than nowadays if we had more data pertaining to those years.\n",
    "\n",
    "\n",
    "- We would have liked to look at more movie genres and compare profits and budgets, especially marketing budget if we had the data, so the movie companies can make better decisions on how to spend their budget efficiently to garner the most profits"
   ]
  },
  {
   "cell_type": "markdown",
   "metadata": {},
   "source": [
    "# Next steps"
   ]
  },
  {
   "cell_type": "markdown",
   "metadata": {},
   "source": [
    "The next step for our data science company is to gather more data about the movie industry and investigate whether there is a difference in profits and gross revenue at the box office when casting top rated movie actor/director or mediocre rated actor/director for your movie."
   ]
  },
  {
   "cell_type": "code",
   "execution_count": null,
   "metadata": {},
   "outputs": [],
   "source": []
  }
 ],
 "metadata": {
  "hide_input": false,
  "kernelspec": {
   "display_name": "Python 3",
   "language": "python",
   "name": "python3"
  },
  "language_info": {
   "codemirror_mode": {
    "name": "ipython",
    "version": 3
   },
   "file_extension": ".py",
   "mimetype": "text/x-python",
   "name": "python",
   "nbconvert_exporter": "python",
   "pygments_lexer": "ipython3",
   "version": "3.7.3"
  },
  "toc": {
   "base_numbering": 1,
   "nav_menu": {},
   "number_sections": true,
   "sideBar": true,
   "skip_h1_title": false,
   "title_cell": "Table of Contents",
   "title_sidebar": "Contents",
   "toc_cell": false,
   "toc_position": {
    "height": "calc(100% - 180px)",
    "left": "10px",
    "top": "150px",
    "width": "324px"
   },
   "toc_section_display": true,
   "toc_window_display": true
  },
  "varInspector": {
   "cols": {
    "lenName": 16,
    "lenType": 16,
    "lenVar": 40
   },
   "kernels_config": {
    "python": {
     "delete_cmd_postfix": "",
     "delete_cmd_prefix": "del ",
     "library": "var_list.py",
     "varRefreshCmd": "print(var_dic_list())"
    },
    "r": {
     "delete_cmd_postfix": ") ",
     "delete_cmd_prefix": "rm(",
     "library": "var_list.r",
     "varRefreshCmd": "cat(var_dic_list()) "
    }
   },
   "types_to_exclude": [
    "module",
    "function",
    "builtin_function_or_method",
    "instance",
    "_Feature"
   ],
   "window_display": false
  }
 },
 "nbformat": 4,
 "nbformat_minor": 2
}
