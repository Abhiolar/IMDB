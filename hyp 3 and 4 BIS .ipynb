{
 "cells": [
  {
   "cell_type": "code",
   "execution_count": 1,
   "metadata": {
    "ExecuteTime": {
     "end_time": "2019-11-14T23:01:04.626375Z",
     "start_time": "2019-11-14T23:01:03.044764Z"
    }
   },
   "outputs": [],
   "source": [
    "import pandas as pd \n",
    "import numpy as np \n",
    "from matplotlib import pyplot as plt\n",
    "%matplotlib inline\n",
    "import seaborn as sns\n",
    "sns.set_style('darkgrid')\n",
    "import random\n",
    "import scipy.stats as stats"
   ]
  },
  {
   "cell_type": "markdown",
   "metadata": {},
   "source": [
    "# Importing data "
   ]
  },
  {
   "cell_type": "code",
   "execution_count": 2,
   "metadata": {
    "ExecuteTime": {
     "end_time": "2019-11-14T23:01:04.712689Z",
     "start_time": "2019-11-14T23:01:04.629500Z"
    }
   },
   "outputs": [],
   "source": [
    "data_with_inflation = pd.read_csv('data_adjusted_to_inflation.csv')\n",
    "data_for_ht = data_with_inflation.replace(0,data_with_inflation.median())"
   ]
  },
  {
   "cell_type": "markdown",
   "metadata": {},
   "source": [
    "# H3 - 50's and 60's movies made more profit than movies nowadays"
   ]
  },
  {
   "cell_type": "code",
   "execution_count": 3,
   "metadata": {
    "ExecuteTime": {
     "end_time": "2019-11-14T23:01:04.725015Z",
     "start_time": "2019-11-14T23:01:04.716186Z"
    }
   },
   "outputs": [],
   "source": [
    "fifth_movies = list((data_for_ht[(data_for_ht['decade'] == \"50s\")|(data_for_ht['decade'] == \"60s\")]['profit_adjusted']))\n",
    "now_movies = list((data_for_ht[(data_for_ht['decade']== \"00s\")|(data_for_ht['decade'] == \"10s\")]['profit_adjusted']))"
   ]
  },
  {
   "cell_type": "markdown",
   "metadata": {},
   "source": [
    "## Getting 2 samples of equal size "
   ]
  },
  {
   "cell_type": "code",
   "execution_count": 4,
   "metadata": {
    "ExecuteTime": {
     "end_time": "2019-11-14T23:01:04.730317Z",
     "start_time": "2019-11-14T23:01:04.726857Z"
    }
   },
   "outputs": [],
   "source": [
    "fifth_movies_sample = random.sample(fifth_movies, 190)\n",
    "now_movies_sample = random.sample(now_movies, 190)"
   ]
  },
  {
   "cell_type": "markdown",
   "metadata": {},
   "source": [
    "## Variance and mean of the samples "
   ]
  },
  {
   "cell_type": "code",
   "execution_count": 5,
   "metadata": {
    "ExecuteTime": {
     "end_time": "2019-11-14T23:01:04.738973Z",
     "start_time": "2019-11-14T23:01:04.732672Z"
    }
   },
   "outputs": [
    {
     "name": "stdout",
     "output_type": "stream",
     "text": [
      "The variance for the movies on 50s/60s is: 6888366346405247.0\n",
      "The std for the movies on 50s/60s is: 82996182.72188936\n",
      "The mean for the movies on 50s/60s is: 76137962.95928966\n",
      "===============\n",
      "The variance for the movies nowadays is: 773905936617205.9\n",
      "The std for the movies on nowadays is: 27819164.915884983\n",
      "The mean for the movies on nowadays is: 9263224.420036193\n"
     ]
    }
   ],
   "source": [
    "print(\"The variance for the movies on 50s/60s is: {}\".format(np.var(fifth_movies_sample)))\n",
    "print(\"The std for the movies on 50s/60s is: {}\".format(np.std(fifth_movies_sample)))\n",
    "print(\"The mean for the movies on 50s/60s is: {}\".format(np.mean(fifth_movies_sample)))\n",
    "\n",
    "print('===============')\n",
    "\n",
    "print(\"The variance for the movies nowadays is: {}\".format(np.var(now_movies_sample)))\n",
    "print(\"The std for the movies on nowadays is: {}\".format(np.std(now_movies_sample)))\n",
    "print(\"The mean for the movies on nowadays is: {}\".format(np.mean(now_movies_sample)))\n",
    "\n"
   ]
  },
  {
   "cell_type": "markdown",
   "metadata": {},
   "source": [
    "## Normality test for samples "
   ]
  },
  {
   "cell_type": "code",
   "execution_count": 6,
   "metadata": {
    "ExecuteTime": {
     "end_time": "2019-11-14T23:01:04.750717Z",
     "start_time": "2019-11-14T23:01:04.741869Z"
    }
   },
   "outputs": [
    {
     "data": {
      "text/plain": [
       "NormaltestResult(statistic=131.49783096057186, pvalue=2.7900296319330185e-29)"
      ]
     },
     "execution_count": 6,
     "metadata": {},
     "output_type": "execute_result"
    }
   ],
   "source": [
    "stats.normaltest(now_movies_sample)"
   ]
  },
  {
   "cell_type": "code",
   "execution_count": 7,
   "metadata": {
    "ExecuteTime": {
     "end_time": "2019-11-14T23:01:04.759126Z",
     "start_time": "2019-11-14T23:01:04.752957Z"
    }
   },
   "outputs": [
    {
     "data": {
      "text/plain": [
       "NormaltestResult(statistic=115.88984446047456, pvalue=6.836597645339171e-26)"
      ]
     },
     "execution_count": 7,
     "metadata": {},
     "output_type": "execute_result"
    }
   ],
   "source": [
    "stats.normaltest(fifth_movies_sample)"
   ]
  },
  {
   "cell_type": "markdown",
   "metadata": {
    "ExecuteTime": {
     "end_time": "2019-11-14T19:50:26.075666Z",
     "start_time": "2019-11-14T19:50:26.071941Z"
    }
   },
   "source": [
    "## Plotting the distribution for both samples"
   ]
  },
  {
   "cell_type": "code",
   "execution_count": 8,
   "metadata": {
    "ExecuteTime": {
     "end_time": "2019-11-14T23:01:05.084245Z",
     "start_time": "2019-11-14T23:01:04.762529Z"
    }
   },
   "outputs": [
    {
     "data": {
      "text/plain": [
       "Text(0, 0.5, 'Probability')"
      ]
     },
     "execution_count": 8,
     "metadata": {},
     "output_type": "execute_result"
    },
    {
     "data": {
      "image/png": "[encoded data removed]",
      "text/plain": [
       "<Figure size 720x432 with 1 Axes>"
      ]
     },
     "metadata": {
      "needs_background": "light"
     },
     "output_type": "display_data"
    }
   ],
   "source": [
    "plt.figure(figsize=(10,6))\n",
    "sns.distplot(fifth_movies_sample, label='50s and 60s movies', hist= False)\n",
    "sns.distplot(now_movies_sample, label='00s and 10s movies', hist=False)\n",
    "\n",
    "plt.xlabel('Profit')\n",
    "plt.ylabel('Probability')"
   ]
  },
  {
   "cell_type": "markdown",
   "metadata": {},
   "source": [
    "## Difference between distribution means"
   ]
  },
  {
   "cell_type": "code",
   "execution_count": 9,
   "metadata": {
    "ExecuteTime": {
     "end_time": "2019-11-14T23:01:05.090084Z",
     "start_time": "2019-11-14T23:01:05.086286Z"
    }
   },
   "outputs": [
    {
     "name": "stdout",
     "output_type": "stream",
     "text": [
      "The difference between means is 66874738.53925346\n"
     ]
    }
   ],
   "source": [
    "diff_means = np.mean(fifth_movies_sample) - np.mean(now_movies_sample)\n",
    "print(\"The difference between means is {}\".format(diff_means))"
   ]
  },
  {
   "cell_type": "markdown",
   "metadata": {},
   "source": [
    "## Functions to create t-statistic"
   ]
  },
  {
   "cell_type": "markdown",
   "metadata": {},
   "source": [
    "$$\\large t = \\frac{\\bar{x}{1} - \\bar{x}{2}}{\\sqrt{s^{2}{p} (\\frac{1}{n{1}} + \\frac{1}{n_{2}}) } } $$\n",
    "\n",
    "Where $s^{2}_{p}$ is the pooled sample variance, calculated as:\n",
    "\n",
    "$$\\large s^{2}{p} = \\frac{(n{1} -1)s^{2}{1} + (n{2} -1)s^{2}{2}}{n{1} + n_{2} - 2} $$\n",
    "\n",
    "Where $s^{2}{1}$ and $s^{2}{2}$ are the variances for each sample given by the formula $$ \\large s^{2} = \\frac{\\sum_{i=1}^{n}(x_{i} - \\bar{x})^{2}}{n-1} $$"
   ]
  },
  {
   "cell_type": "code",
   "execution_count": 10,
   "metadata": {
    "ExecuteTime": {
     "end_time": "2019-11-14T23:01:05.096825Z",
     "start_time": "2019-11-14T23:01:05.092107Z"
    }
   },
   "outputs": [],
   "source": [
    "def pooled_variance(sample1, sample2):\n",
    "    n1 = len(sample1)\n",
    "    n2 = len(sample2)\n",
    "    var1 = np.var(sample1)\n",
    "    var2 = np.var(sample2)\n",
    "    num = (n1-1)*var1 + (n2-1)*var2\n",
    "    den = n1 + n2 - 2\n",
    "    return num/den"
   ]
  },
  {
   "cell_type": "code",
   "execution_count": 11,
   "metadata": {
    "ExecuteTime": {
     "end_time": "2019-11-14T23:01:05.105220Z",
     "start_time": "2019-11-14T23:01:05.098678Z"
    }
   },
   "outputs": [
    {
     "data": {
      "text/plain": [
       "10.530769505031941"
      ]
     },
     "execution_count": 11,
     "metadata": {},
     "output_type": "execute_result"
    }
   ],
   "source": [
    "def tstatistic(fifth, now):\n",
    "    fifth_mean, now_mean = np.mean(fifth), np.mean(now)\n",
    "    pool_var = pooled_variance(fifth, now)\n",
    "    n_f, n_n = len(fifth), len(now)\n",
    "    num = fifth_mean - now_mean\n",
    "    denom = np.sqrt(pool_var * ((1/n_f)+(1/n_n)))\n",
    "    return num / denom\n",
    "\n",
    "t_stat = tstatistic(fifth_movies_sample, now_movies_sample)\n",
    "t_stat"
   ]
  },
  {
   "cell_type": "code",
   "execution_count": 12,
   "metadata": {
    "ExecuteTime": {
     "end_time": "2019-11-14T23:01:05.109914Z",
     "start_time": "2019-11-14T23:01:05.107022Z"
    }
   },
   "outputs": [],
   "source": [
    "import scipy.stats\n",
    "# import stats.t\n",
    "from scipy import stats"
   ]
  },
  {
   "cell_type": "code",
   "execution_count": 13,
   "metadata": {
    "ExecuteTime": {
     "end_time": "2019-11-14T23:01:05.355434Z",
     "start_time": "2019-11-14T23:01:05.111908Z"
    }
   },
   "outputs": [
    {
     "data": {
      "image/png": "[encoded data removed]",
      "text/plain": [
       "<Figure size 576x360 with 1 Axes>"
      ]
     },
     "metadata": {
      "needs_background": "light"
     },
     "output_type": "display_data"
    }
   ],
   "source": [
    "def visualize_t(t_stat, n_control, n_experimental):\n",
    "    \n",
    "    \"\"\"\n",
    "    Visualize the critical t values on a t distribution\n",
    "    \n",
    "    Parameters\n",
    "    -----------\n",
    "    t-stat: float\n",
    "    n_control: int\n",
    "    n_experiment: int\n",
    "    \n",
    "    Returns\n",
    "    ----------\n",
    "    None\n",
    "    \n",
    "    \"\"\"\n",
    "    # initialize a matplotlib \"figure\"\n",
    "    fig = plt.figure(figsize=(8,5))\n",
    "    ax = fig.gca()\n",
    "    # generate points on the x axis between -4 and 4:\n",
    "    xs = np.linspace(-12, 12, 500)\n",
    "\n",
    "    # use stats.t.ppf to get critical value. For alpha = 0.05 and two tailed test\n",
    "    crit = stats.t.ppf(1-0.025, (n_control+n_experimental-2))\n",
    "    \n",
    "    # use stats.t.pdf to get values on the probability density function for the t-distribution\n",
    "    \n",
    "    ys= stats.t.pdf(xs, (n_control+n_experimental-2), 0, 1)\n",
    "    ax.plot(xs, ys, linewidth=3, color='darkred')\n",
    "\n",
    "    ax.axvline(crit, color='black', linestyle='--', lw=5)\n",
    "    ax.axvline(-crit, color='black', linestyle='--', lw=5)\n",
    "    ax.axvline(t_stat, color='red', linestyle='--', lw=5)\n",
    "    \n",
    "    plt.show()\n",
    "    return None\n",
    "\n",
    "n_control = len(fifth_movies_sample)\n",
    "n_experimental = len(now_movies_sample)\n",
    "visualize_t(t_stat, n_control, n_experimental)\n"
   ]
  },
  {
   "cell_type": "markdown",
   "metadata": {},
   "source": [
    "## Getting p-value"
   ]
  },
  {
   "cell_type": "code",
   "execution_count": null,
   "metadata": {},
   "outputs": [],
   "source": []
  },
  {
   "cell_type": "code",
   "execution_count": 14,
   "metadata": {
    "ExecuteTime": {
     "end_time": "2019-11-14T23:01:05.362621Z",
     "start_time": "2019-11-14T23:01:05.357486Z"
    }
   },
   "outputs": [
    {
     "name": "stdout",
     "output_type": "stream",
     "text": [
      "3.2663457478847345e-23\n"
     ]
    }
   ],
   "source": [
    "lower_tail = stats.t.cdf(-t_stat, (190+190-2), 0, 1)\n",
    "# Upper tail comulative density function returns area under upper tail curve\n",
    "upper_tail = 1. - stats.t.cdf(t_stat, (190+190-2), 0, 1)\n",
    "\n",
    "p_value = lower_tail+upper_tail\n",
    "print(p_value)"
   ]
  },
  {
   "cell_type": "code",
   "execution_count": 15,
   "metadata": {
    "ExecuteTime": {
     "end_time": "2019-11-14T23:01:05.369534Z",
     "start_time": "2019-11-14T23:01:05.364694Z"
    }
   },
   "outputs": [
    {
     "data": {
      "text/plain": [
       "Ttest_indResult(statistic=10.503020393545178, pvalue=8.203713660640418e-23)"
      ]
     },
     "execution_count": 15,
     "metadata": {},
     "output_type": "execute_result"
    }
   ],
   "source": [
    "stats.ttest_ind(fifth_movies_sample, now_movies_sample)"
   ]
  },
  {
   "cell_type": "code",
   "execution_count": null,
   "metadata": {},
   "outputs": [],
   "source": []
  },
  {
   "cell_type": "code",
   "execution_count": null,
   "metadata": {},
   "outputs": [],
   "source": []
  },
  {
   "cell_type": "markdown",
   "metadata": {},
   "source": [
    "# H4 - Movies nowadays have more budget than in 50s and 60s"
   ]
  },
  {
   "cell_type": "code",
   "execution_count": 194,
   "metadata": {
    "ExecuteTime": {
     "end_time": "2019-11-14T23:49:43.973346Z",
     "start_time": "2019-11-14T23:49:43.932718Z"
    }
   },
   "outputs": [],
   "source": [
    "fifth_movies = list((data_for_ht[(data_for_ht['decade'] == \"50s\")|(data_for_ht['decade'] == \"60s\")]['budget_adjusted']))\n",
    "now_movies = list((data_for_ht[(data_for_ht['decade']== \"00s\")|(data_for_ht['decade'] == \"10s\")]['budget_adjusted']))"
   ]
  },
  {
   "cell_type": "markdown",
   "metadata": {},
   "source": [
    "## Getting 2 samples of equal size "
   ]
  },
  {
   "cell_type": "code",
   "execution_count": 195,
   "metadata": {
    "ExecuteTime": {
     "end_time": "2019-11-14T23:49:44.657118Z",
     "start_time": "2019-11-14T23:49:44.653207Z"
    }
   },
   "outputs": [],
   "source": [
    "fifth_movies_sample = random.sample(fifth_movies, 190)\n",
    "now_movies_sample = random.sample(now_movies, 190)"
   ]
  },
  {
   "cell_type": "markdown",
   "metadata": {},
   "source": [
    "## Variance and mean of the samples "
   ]
  },
  {
   "cell_type": "code",
   "execution_count": 196,
   "metadata": {
    "ExecuteTime": {
     "end_time": "2019-11-14T23:49:45.332496Z",
     "start_time": "2019-11-14T23:49:45.325680Z"
    }
   },
   "outputs": [
    {
     "name": "stdout",
     "output_type": "stream",
     "text": [
      "The variance for the movies on 50s/60s is: 480745881199266.6\n",
      "The std for the movies on 50s/60s is: 21925918.024093464\n",
      "The mean for the movies on 50s/60s is: 19836591.419738133\n",
      "===============\n",
      "The variance for the movies nowadays is: 449392981510952.25\n",
      "The std for the movies on nowadays is: 21198891.04436721\n",
      "The mean for the movies on nowadays is: 24320812.290246602\n"
     ]
    }
   ],
   "source": [
    "print(\"The variance for the movies on 50s/60s is: {}\".format(np.var(fifth_movies_sample)))\n",
    "print(\"The std for the movies on 50s/60s is: {}\".format(np.std(fifth_movies_sample)))\n",
    "print(\"The mean for the movies on 50s/60s is: {}\".format(np.mean(fifth_movies_sample)))\n",
    "\n",
    "print('===============')\n",
    "\n",
    "print(\"The variance for the movies nowadays is: {}\".format(np.var(now_movies_sample)))\n",
    "print(\"The std for the movies on nowadays is: {}\".format(np.std(now_movies_sample)))\n",
    "print(\"The mean for the movies on nowadays is: {}\".format(np.mean(now_movies_sample)))\n",
    "\n"
   ]
  },
  {
   "cell_type": "markdown",
   "metadata": {},
   "source": [
    "## Normality test for samples "
   ]
  },
  {
   "cell_type": "code",
   "execution_count": 197,
   "metadata": {
    "ExecuteTime": {
     "end_time": "2019-11-14T23:49:46.019100Z",
     "start_time": "2019-11-14T23:49:46.009620Z"
    }
   },
   "outputs": [
    {
     "data": {
      "text/plain": [
       "NormaltestResult(statistic=50.14921981948932, pvalue=1.2889476537839859e-11)"
      ]
     },
     "execution_count": 197,
     "metadata": {},
     "output_type": "execute_result"
    }
   ],
   "source": [
    "stats.normaltest(now_movies_sample)"
   ]
  },
  {
   "cell_type": "code",
   "execution_count": 198,
   "metadata": {
    "ExecuteTime": {
     "end_time": "2019-11-14T23:49:46.703672Z",
     "start_time": "2019-11-14T23:49:46.697040Z"
    }
   },
   "outputs": [
    {
     "data": {
      "text/plain": [
       "NormaltestResult(statistic=168.4494794698552, pvalue=2.640342664388317e-37)"
      ]
     },
     "execution_count": 198,
     "metadata": {},
     "output_type": "execute_result"
    }
   ],
   "source": [
    "stats.normaltest(fifth_movies_sample)"
   ]
  },
  {
   "cell_type": "markdown",
   "metadata": {
    "ExecuteTime": {
     "end_time": "2019-11-14T19:50:26.075666Z",
     "start_time": "2019-11-14T19:50:26.071941Z"
    }
   },
   "source": [
    "## Plotting the distribution for both samples"
   ]
  },
  {
   "cell_type": "code",
   "execution_count": 199,
   "metadata": {
    "ExecuteTime": {
     "end_time": "2019-11-14T23:49:47.711003Z",
     "start_time": "2019-11-14T23:49:47.382570Z"
    }
   },
   "outputs": [
    {
     "data": {
      "text/plain": [
       "Text(0, 0.5, 'Probability')"
      ]
     },
     "execution_count": 199,
     "metadata": {},
     "output_type": "execute_result"
    },
    {
     "data": {
      "image/png": "[encoded data removed]",
      "text/plain": [
       "<Figure size 720x432 with 1 Axes>"
      ]
     },
     "metadata": {
      "needs_background": "light"
     },
     "output_type": "display_data"
    }
   ],
   "source": [
    "plt.figure(figsize=(10,6))\n",
    "sns.distplot(fifth_movies_sample, label='50s and 60s movies', hist= False)\n",
    "sns.distplot(now_movies_sample, label='00s and 10s movies', hist=False)\n",
    "\n",
    "plt.xlabel('Profit')\n",
    "plt.ylabel('Probability')"
   ]
  },
  {
   "cell_type": "markdown",
   "metadata": {},
   "source": [
    "## Difference between distribution means"
   ]
  },
  {
   "cell_type": "code",
   "execution_count": 200,
   "metadata": {
    "ExecuteTime": {
     "end_time": "2019-11-14T23:49:48.377382Z",
     "start_time": "2019-11-14T23:49:48.373557Z"
    }
   },
   "outputs": [
    {
     "name": "stdout",
     "output_type": "stream",
     "text": [
      "The difference between means is -4484220.87050847\n"
     ]
    }
   ],
   "source": [
    "diff_means = np.mean(fifth_movies_sample) - np.mean(now_movies_sample)\n",
    "print(\"The difference between means is {}\".format(diff_means))"
   ]
  },
  {
   "cell_type": "markdown",
   "metadata": {},
   "source": [
    "## Functions to create t-statistic"
   ]
  },
  {
   "cell_type": "markdown",
   "metadata": {},
   "source": [
    "$$\\large t = \\frac{\\bar{x}{1} - \\bar{x}{2}}{\\sqrt{s^{2}{p} (\\frac{1}{n{1}} + \\frac{1}{n_{2}}) } } $$\n",
    "\n",
    "Where $s^{2}_{p}$ is the pooled sample variance, calculated as:\n",
    "\n",
    "$$\\large s^{2}{p} = \\frac{(n{1} -1)s^{2}{1} + (n{2} -1)s^{2}{2}}{n{1} + n_{2} - 2} $$\n",
    "\n",
    "Where $s^{2}{1}$ and $s^{2}{2}$ are the variances for each sample given by the formula $$ \\large s^{2} = \\frac{\\sum_{i=1}^{n}(x_{i} - \\bar{x})^{2}}{n-1} $$"
   ]
  },
  {
   "cell_type": "code",
   "execution_count": 201,
   "metadata": {
    "ExecuteTime": {
     "end_time": "2019-11-14T23:49:49.060290Z",
     "start_time": "2019-11-14T23:49:49.054641Z"
    }
   },
   "outputs": [],
   "source": [
    "def pooled_variance(sample1, sample2):\n",
    "    n1 = len(sample1)\n",
    "    n2 = len(sample2)\n",
    "    var1 = np.var(sample1)\n",
    "    var2 = np.var(sample2)\n",
    "    num = (n1-1)*var1 + (n2-1)*var2\n",
    "    den = n1 + n2 - 2\n",
    "    return num/den"
   ]
  },
  {
   "cell_type": "code",
   "execution_count": 202,
   "metadata": {
    "ExecuteTime": {
     "end_time": "2019-11-14T23:49:49.774202Z",
     "start_time": "2019-11-14T23:49:49.767633Z"
    }
   },
   "outputs": [
    {
     "data": {
      "text/plain": [
       "-2.026702022921712"
      ]
     },
     "execution_count": 202,
     "metadata": {},
     "output_type": "execute_result"
    }
   ],
   "source": [
    "def tstatistic(fifth, now):\n",
    "    fifth_mean, now_mean = np.mean(fifth), np.mean(now)\n",
    "    pool_var = pooled_variance(fifth, now)\n",
    "    n_f, n_n = len(fifth), len(now)\n",
    "    num = fifth_mean - now_mean\n",
    "    denom = np.sqrt(pool_var * ((1/n_f)+(1/n_n)))\n",
    "    return num / denom\n",
    "\n",
    "t_stat = tstatistic(fifth_movies_sample, now_movies_sample)\n",
    "t_stat"
   ]
  },
  {
   "cell_type": "code",
   "execution_count": 203,
   "metadata": {
    "ExecuteTime": {
     "end_time": "2019-11-14T23:49:50.456074Z",
     "start_time": "2019-11-14T23:49:50.453271Z"
    }
   },
   "outputs": [],
   "source": [
    "import scipy.stats\n",
    "# import stats.t\n",
    "from scipy import stats"
   ]
  },
  {
   "cell_type": "code",
   "execution_count": 204,
   "metadata": {
    "ExecuteTime": {
     "end_time": "2019-11-14T23:49:51.318993Z",
     "start_time": "2019-11-14T23:49:51.090205Z"
    }
   },
   "outputs": [
    {
     "data": {
      "image/png": "[encoded data removed]",
      "text/plain": [
       "<Figure size 576x360 with 1 Axes>"
      ]
     },
     "metadata": {
      "needs_background": "light"
     },
     "output_type": "display_data"
    }
   ],
   "source": [
    "def visualize_t(t_stat, n_control, n_experimental):\n",
    "    \n",
    "    \"\"\"\n",
    "    Visualize the critical t values on a t distribution\n",
    "    \n",
    "    Parameters\n",
    "    -----------\n",
    "    t-stat: float\n",
    "    n_control: int\n",
    "    n_experiment: int\n",
    "    \n",
    "    Returns\n",
    "    ----------\n",
    "    None\n",
    "    \n",
    "    \"\"\"\n",
    "    # initialize a matplotlib \"figure\"\n",
    "    fig = plt.figure(figsize=(8,5))\n",
    "    ax = fig.gca()\n",
    "    # generate points on the x axis between -4 and 4:\n",
    "    xs = np.linspace(-4, 4, 500)\n",
    "\n",
    "    # use stats.t.ppf to get critical value. For alpha = 0.05 and two tailed test\n",
    "    crit = stats.t.ppf(1-0.025, (n_control+n_experimental-2))\n",
    "    \n",
    "    # use stats.t.pdf to get values on the probability density function for the t-distribution\n",
    "    \n",
    "    ys= stats.t.pdf(xs, (n_control+n_experimental-2), 0, 1)\n",
    "    ax.plot(xs, ys, linewidth=3, color='darkred')\n",
    "\n",
    "    ax.axvline(crit, color='black', linestyle='--', lw=5)\n",
    "    ax.axvline(-crit, color='black', linestyle='--', lw=5)\n",
    "    ax.axvline(t_stat, color='red', linestyle='--', lw=5)\n",
    "    \n",
    "    plt.show()\n",
    "    return None\n",
    "\n",
    "n_control = len(fifth_movies_sample)\n",
    "n_experimental = len(now_movies_sample)\n",
    "visualize_t(t_stat, n_control, n_experimental)\n"
   ]
  },
  {
   "cell_type": "markdown",
   "metadata": {},
   "source": [
    "# Walch T-test"
   ]
  },
  {
   "cell_type": "code",
   "execution_count": 205,
   "metadata": {
    "ExecuteTime": {
     "end_time": "2019-11-14T23:49:54.577152Z",
     "start_time": "2019-11-14T23:49:54.570020Z"
    }
   },
   "outputs": [
    {
     "data": {
      "text/plain": [
       "2.0213615603508015"
      ]
     },
     "execution_count": 205,
     "metadata": {},
     "output_type": "execute_result"
    }
   ],
   "source": [
    "def welch_t(a, b):\n",
    "    \n",
    "    \"\"\" Calculate Welch's t-statistic for two samples. \"\"\"\n",
    "\n",
    "    numerator = np.mean(a) - np.mean(b)\n",
    "    \n",
    "    # “ddof = Delta Degrees of Freedom”: the divisor used in the calculation is N - ddof, \n",
    "    #  where N represents the number of elements. By default ddof is zero.\n",
    "    \n",
    "    denominator = np.sqrt(np.var(a, ddof=1)/np.array(a).size + np.var(b, ddof=1)/np.array(b).size)\n",
    "    \n",
    "    return np.abs(numerator/denominator)\n",
    "\n",
    "welch_t(fifth_movies_sample, now_movies_sample)"
   ]
  },
  {
   "cell_type": "code",
   "execution_count": 206,
   "metadata": {
    "ExecuteTime": {
     "end_time": "2019-11-14T23:49:55.282830Z",
     "start_time": "2019-11-14T23:49:55.279800Z"
    }
   },
   "outputs": [],
   "source": [
    "welch_t_test = welch_t(fifth_movies_sample, now_movies_sample)"
   ]
  },
  {
   "cell_type": "markdown",
   "metadata": {},
   "source": [
    "## Visualizing Walch t-statistic"
   ]
  },
  {
   "cell_type": "code",
   "execution_count": 207,
   "metadata": {
    "ExecuteTime": {
     "end_time": "2019-11-14T23:49:56.485045Z",
     "start_time": "2019-11-14T23:49:56.237526Z"
    }
   },
   "outputs": [
    {
     "data": {
      "image/png": "[encoded data removed]",
      "text/plain": [
       "<Figure size 576x360 with 1 Axes>"
      ]
     },
     "metadata": {
      "needs_background": "light"
     },
     "output_type": "display_data"
    }
   ],
   "source": [
    "visualize_t(welch_t_test, n_control, n_experimental)"
   ]
  },
  {
   "cell_type": "markdown",
   "metadata": {},
   "source": [
    "## Degrees of freedom "
   ]
  },
  {
   "cell_type": "code",
   "execution_count": 208,
   "metadata": {
    "ExecuteTime": {
     "end_time": "2019-11-14T23:49:57.861649Z",
     "start_time": "2019-11-14T23:49:57.856393Z"
    }
   },
   "outputs": [],
   "source": [
    "def welch_df(a, b):\n",
    "    \n",
    "    \"\"\" Calculate the effective degrees of freedom for two samples. \"\"\"\n",
    "    \n",
    "    s1 = np.var(a, ddof=1) \n",
    "    s2 = np.var(b, ddof=1)\n",
    "    n1 = len(a)\n",
    "    n2 = len(b)\n",
    "    \n",
    "    numerator = (s1/n1 + s2/n2)**2\n",
    "    denominator = (s1/ n1)**2/(n1 - 1) + (s2/ n2)**2/(n2 - 1)\n",
    "    \n",
    "    return numerator/denominator\n"
   ]
  },
  {
   "cell_type": "code",
   "execution_count": 209,
   "metadata": {
    "ExecuteTime": {
     "end_time": "2019-11-14T23:49:58.563999Z",
     "start_time": "2019-11-14T23:49:58.559148Z"
    }
   },
   "outputs": [
    {
     "data": {
      "text/plain": [
       "377.57099883241335"
      ]
     },
     "execution_count": 209,
     "metadata": {},
     "output_type": "execute_result"
    }
   ],
   "source": [
    "welch_df(fifth_movies_sample, now_movies_sample)"
   ]
  },
  {
   "cell_type": "code",
   "execution_count": null,
   "metadata": {},
   "outputs": [],
   "source": []
  },
  {
   "cell_type": "markdown",
   "metadata": {},
   "source": [
    "## Getting p-value"
   ]
  },
  {
   "cell_type": "code",
   "execution_count": 210,
   "metadata": {
    "ExecuteTime": {
     "end_time": "2019-11-14T23:49:59.480973Z",
     "start_time": "2019-11-14T23:49:59.477205Z"
    }
   },
   "outputs": [],
   "source": [
    "t = welch_t(fifth_movies_sample, now_movies_sample)\n",
    "df = welch_df(fifth_movies_sample, now_movies_sample)"
   ]
  },
  {
   "cell_type": "code",
   "execution_count": 211,
   "metadata": {
    "ExecuteTime": {
     "end_time": "2019-11-14T23:50:00.250043Z",
     "start_time": "2019-11-14T23:50:00.245837Z"
    }
   },
   "outputs": [],
   "source": [
    "def p_value(a, b, two_sided=False):\n",
    "\n",
    "    t = welch_t(a, b)\n",
    "    df = welch_df(a, b)\n",
    "    \n",
    "    p = 1-stats.t.cdf(np.abs(t), df)\n",
    "    \n",
    "    if two_sided:\n",
    "        return 2*p\n",
    "    else:\n",
    "        return p"
   ]
  },
  {
   "cell_type": "code",
   "execution_count": 212,
   "metadata": {
    "ExecuteTime": {
     "end_time": "2019-11-14T23:50:00.913583Z",
     "start_time": "2019-11-14T23:50:00.908471Z"
    }
   },
   "outputs": [
    {
     "data": {
      "text/plain": [
       "0.021973725951012213"
      ]
     },
     "execution_count": 212,
     "metadata": {},
     "output_type": "execute_result"
    }
   ],
   "source": [
    "p_value(fifth_movies_sample, now_movies_sample)"
   ]
  },
  {
   "cell_type": "code",
   "execution_count": null,
   "metadata": {},
   "outputs": [],
   "source": []
  },
  {
   "cell_type": "code",
   "execution_count": null,
   "metadata": {},
   "outputs": [],
   "source": []
  }
 ],
 "metadata": {
  "hide_input": false,
  "kernelspec": {
   "display_name": "Python 3",
   "language": "python",
   "name": "python3"
  },
  "language_info": {
   "codemirror_mode": {
    "name": "ipython",
    "version": 3
   },
   "file_extension": ".py",
   "mimetype": "text/x-python",
   "name": "python",
   "nbconvert_exporter": "python",
   "pygments_lexer": "ipython3",
   "version": "3.7.3"
  },
  "toc": {
   "base_numbering": 1,
   "nav_menu": {},
   "number_sections": true,
   "sideBar": true,
   "skip_h1_title": false,
   "title_cell": "Table of Contents",
   "title_sidebar": "Contents",
   "toc_cell": false,
   "toc_position": {
    "height": "calc(100% - 180px)",
    "left": "10px",
    "top": "150px",
    "width": "288px"
   },
   "toc_section_display": true,
   "toc_window_display": true
  },
  "varInspector": {
   "cols": {
    "lenName": 16,
    "lenType": 16,
    "lenVar": 40
   },
   "kernels_config": {
    "python": {
     "delete_cmd_postfix": "",
     "delete_cmd_prefix": "del ",
     "library": "var_list.py",
     "varRefreshCmd": "print(var_dic_list())"
    },
    "r": {
     "delete_cmd_postfix": ") ",
     "delete_cmd_prefix": "rm(",
     "library": "var_list.r",
     "varRefreshCmd": "cat(var_dic_list()) "
    }
   },
   "types_to_exclude": [
    "module",
    "function",
    "builtin_function_or_method",
    "instance",
    "_Feature"
   ],
   "window_display": false
  }
 },
 "nbformat": 4,
 "nbformat_minor": 2
}
