{
 "cells": [
  {
   "cell_type": "code",
   "execution_count": 1,
   "metadata": {
    "ExecuteTime": {
     "end_time": "2019-11-13T14:11:35.689294Z",
     "start_time": "2019-11-13T14:11:34.450044Z"
    }
   },
   "outputs": [],
   "source": [
    "import pandas as pd \n",
    "import numpy as np \n",
    "from matplotlib import pyplot as plt\n",
    "%matplotlib inline\n",
    "import seaborn as sns"
   ]
  },
  {
   "cell_type": "markdown",
   "metadata": {
    "heading_collapsed": true
   },
   "source": [
    "# Importing data /quick exploration"
   ]
  },
  {
   "cell_type": "code",
   "execution_count": 2,
   "metadata": {
    "ExecuteTime": {
     "end_time": "2019-11-13T14:11:37.181792Z",
     "start_time": "2019-11-13T14:11:37.149997Z"
    },
    "hidden": true
   },
   "outputs": [],
   "source": [
    "data = pd.read_csv('movies_last.csv')"
   ]
  },
  {
   "cell_type": "code",
   "execution_count": 3,
   "metadata": {
    "ExecuteTime": {
     "end_time": "2019-11-13T14:11:42.530256Z",
     "start_time": "2019-11-13T14:11:42.513677Z"
    },
    "hidden": true
   },
   "outputs": [
    {
     "data": {
      "text/html": [
       "<div>\n",
       "<style scoped>\n",
       "    .dataframe tbody tr th:only-of-type {\n",
       "        vertical-align: middle;\n",
       "    }\n",
       "\n",
       "    .dataframe tbody tr th {\n",
       "        vertical-align: top;\n",
       "    }\n",
       "\n",
       "    .dataframe thead th {\n",
       "        text-align: right;\n",
       "    }\n",
       "</style>\n",
       "<table border=\"1\" class=\"dataframe\">\n",
       "  <thead>\n",
       "    <tr style=\"text-align: right;\">\n",
       "      <th></th>\n",
       "      <th>Unnamed: 0</th>\n",
       "      <th>Unnamed: 0.1</th>\n",
       "      <th>all_titles</th>\n",
       "      <th>all_years</th>\n",
       "      <th>all_scores</th>\n",
       "      <th>all_meta</th>\n",
       "      <th>all_votes</th>\n",
       "      <th>all_gross</th>\n",
       "      <th>all_genres</th>\n",
       "      <th>id</th>\n",
       "    </tr>\n",
       "  </thead>\n",
       "  <tbody>\n",
       "    <tr>\n",
       "      <th>0</th>\n",
       "      <td>0</td>\n",
       "      <td>0</td>\n",
       "      <td>Star Wars: Episode VII - The Force Awakens</td>\n",
       "      <td>(2015)</td>\n",
       "      <td>7.9</td>\n",
       "      <td>81</td>\n",
       "      <td>799424</td>\n",
       "      <td>936,662,225</td>\n",
       "      <td>\\nAction, Adventure, Sci-Fi</td>\n",
       "      <td>tt2488496</td>\n",
       "    </tr>\n",
       "    <tr>\n",
       "      <th>1</th>\n",
       "      <td>1</td>\n",
       "      <td>1</td>\n",
       "      <td>Avengers: Endgame</td>\n",
       "      <td>(2019)</td>\n",
       "      <td>8.5</td>\n",
       "      <td>78</td>\n",
       "      <td>598830</td>\n",
       "      <td>858,373,000</td>\n",
       "      <td>\\nAction, Adventure, Drama</td>\n",
       "      <td>tt4154796</td>\n",
       "    </tr>\n",
       "  </tbody>\n",
       "</table>\n",
       "</div>"
      ],
      "text/plain": [
       "   Unnamed: 0  Unnamed: 0.1                                  all_titles  \\\n",
       "0           0             0  Star Wars: Episode VII - The Force Awakens   \n",
       "1           1             1                           Avengers: Endgame   \n",
       "\n",
       "  all_years all_scores    all_meta all_votes    all_gross  \\\n",
       "0    (2015)        7.9  81            799424  936,662,225   \n",
       "1    (2019)        8.5  78            598830  858,373,000   \n",
       "\n",
       "                                all_genres         id  \n",
       "0  \\nAction, Adventure, Sci-Fi              tt2488496  \n",
       "1   \\nAction, Adventure, Drama              tt4154796  "
      ]
     },
     "execution_count": 3,
     "metadata": {},
     "output_type": "execute_result"
    }
   ],
   "source": [
    "data.head(2)"
   ]
  },
  {
   "cell_type": "code",
   "execution_count": 4,
   "metadata": {
    "ExecuteTime": {
     "end_time": "2019-11-13T14:11:45.410494Z",
     "start_time": "2019-11-13T14:11:45.406067Z"
    },
    "hidden": true
   },
   "outputs": [],
   "source": [
    "data.drop(['Unnamed: 0', 'Unnamed: 0.1'], axis=1, inplace = True)"
   ]
  },
  {
   "cell_type": "code",
   "execution_count": 5,
   "metadata": {
    "ExecuteTime": {
     "end_time": "2019-11-13T14:11:46.690501Z",
     "start_time": "2019-11-13T14:11:46.681910Z"
    },
    "hidden": true
   },
   "outputs": [
    {
     "name": "stdout",
     "output_type": "stream",
     "text": [
      "<class 'pandas.core.frame.DataFrame'>\n",
      "RangeIndex: 5050 entries, 0 to 5049\n",
      "Data columns (total 8 columns):\n",
      "all_titles    5050 non-null object\n",
      "all_years     5050 non-null object\n",
      "all_scores    5050 non-null object\n",
      "all_meta      5050 non-null object\n",
      "all_votes     5050 non-null object\n",
      "all_gross     5050 non-null object\n",
      "all_genres    5050 non-null object\n",
      "id            5050 non-null object\n",
      "dtypes: object(8)\n",
      "memory usage: 315.7+ KB\n"
     ]
    }
   ],
   "source": [
    "data.info()"
   ]
  },
  {
   "cell_type": "code",
   "execution_count": 6,
   "metadata": {
    "ExecuteTime": {
     "end_time": "2019-11-13T14:11:54.263596Z",
     "start_time": "2019-11-13T14:11:54.259742Z"
    },
    "hidden": true
   },
   "outputs": [
    {
     "data": {
      "text/plain": [
       "(5050, 8)"
      ]
     },
     "execution_count": 6,
     "metadata": {},
     "output_type": "execute_result"
    }
   ],
   "source": [
    "data.shape"
   ]
  },
  {
   "cell_type": "markdown",
   "metadata": {
    "heading_collapsed": true
   },
   "source": [
    "# Clean data "
   ]
  },
  {
   "cell_type": "code",
   "execution_count": 7,
   "metadata": {
    "ExecuteTime": {
     "end_time": "2019-11-13T14:12:11.763958Z",
     "start_time": "2019-11-13T14:12:11.761328Z"
    },
    "hidden": true
   },
   "outputs": [],
   "source": [
    "import re"
   ]
  },
  {
   "cell_type": "code",
   "execution_count": 8,
   "metadata": {
    "ExecuteTime": {
     "end_time": "2019-11-13T14:12:14.176497Z",
     "start_time": "2019-11-13T14:12:14.170160Z"
    },
    "hidden": true
   },
   "outputs": [],
   "source": [
    "def get_decade(x):\n",
    "    if x == 5:\n",
    "        return '50s'\n",
    "    elif x == 6:\n",
    "        return '60s'\n",
    "    elif x == 7:\n",
    "        return '70s'\n",
    "    elif x == 8:\n",
    "        return '80s'\n",
    "    elif x == 9:\n",
    "        return '90s'\n",
    "    elif x == 0:\n",
    "        return '00s'\n",
    "    elif x == 1:\n",
    "        return '10s'\n",
    "    \n",
    "    "
   ]
  },
  {
   "cell_type": "code",
   "execution_count": null,
   "metadata": {
    "ExecuteTime": {
     "end_time": "2019-11-13T09:35:30.816474Z",
     "start_time": "2019-11-13T09:35:30.813030Z"
    },
    "hidden": true
   },
   "outputs": [],
   "source": [
    "# def inflation_adjust()"
   ]
  },
  {
   "cell_type": "code",
   "execution_count": null,
   "metadata": {
    "ExecuteTime": {
     "end_time": "2019-11-13T09:18:22.732889Z",
     "start_time": "2019-11-13T09:18:22.575321Z"
    },
    "hidden": true
   },
   "outputs": [],
   "source": []
  },
  {
   "cell_type": "code",
   "execution_count": 9,
   "metadata": {
    "ExecuteTime": {
     "end_time": "2019-11-13T14:12:40.467456Z",
     "start_time": "2019-11-13T14:12:40.420718Z"
    },
    "hidden": true
   },
   "outputs": [],
   "source": [
    "data['all_years'] = data['all_years'].apply(lambda x: re.sub('[^0-9]','', x))\n",
    "\n",
    "data['all_genres'] = data['all_genres'].apply(lambda x: x[1:])\n",
    "\n",
    "data['all_gross'] = data['all_gross'].apply(lambda x: x.replace(',',''))\n",
    "data['all_gross'] = data['all_gross'].apply(lambda x:  int(x) if x != 'no' else 0)\n",
    "\n",
    "data['all_scores'] = data['all_scores'].apply(lambda x: x.replace('.',''))\n",
    "data['all_scores'] = data['all_scores'].apply(lambda x: int(x) if x != 'NO' else 0)\n",
    "\n",
    "data['all_meta'] = data['all_meta'].apply(lambda x: int(x.replace('.','')) if x != 'no' else 0)\n",
    "\n",
    "\n",
    "data['all_years'] = data['all_years'].apply(lambda x: int(x))\n",
    "\n",
    "data['dec'] = data['all_years'].apply(lambda x: int(str(x)[2]))\n",
    "data['decade'] = data['dec'].apply(lambda x: get_decade(x) )\n",
    "\n",
    "\n",
    "\n",
    "\n",
    "\n",
    "\n"
   ]
  },
  {
   "cell_type": "code",
   "execution_count": 10,
   "metadata": {
    "ExecuteTime": {
     "end_time": "2019-11-13T14:12:43.457429Z",
     "start_time": "2019-11-13T14:12:43.454301Z"
    },
    "hidden": true
   },
   "outputs": [],
   "source": [
    "del data['dec']"
   ]
  },
  {
   "cell_type": "code",
   "execution_count": 11,
   "metadata": {
    "ExecuteTime": {
     "end_time": "2019-11-13T14:12:46.799115Z",
     "start_time": "2019-11-13T14:12:46.787914Z"
    },
    "hidden": true
   },
   "outputs": [
    {
     "data": {
      "text/html": [
       "<div>\n",
       "<style scoped>\n",
       "    .dataframe tbody tr th:only-of-type {\n",
       "        vertical-align: middle;\n",
       "    }\n",
       "\n",
       "    .dataframe tbody tr th {\n",
       "        vertical-align: top;\n",
       "    }\n",
       "\n",
       "    .dataframe thead th {\n",
       "        text-align: right;\n",
       "    }\n",
       "</style>\n",
       "<table border=\"1\" class=\"dataframe\">\n",
       "  <thead>\n",
       "    <tr style=\"text-align: right;\">\n",
       "      <th></th>\n",
       "      <th>all_titles</th>\n",
       "      <th>all_years</th>\n",
       "      <th>all_scores</th>\n",
       "      <th>all_meta</th>\n",
       "      <th>all_votes</th>\n",
       "      <th>all_gross</th>\n",
       "      <th>all_genres</th>\n",
       "      <th>id</th>\n",
       "      <th>decade</th>\n",
       "    </tr>\n",
       "  </thead>\n",
       "  <tbody>\n",
       "    <tr>\n",
       "      <th>0</th>\n",
       "      <td>Star Wars: Episode VII - The Force Awakens</td>\n",
       "      <td>2015</td>\n",
       "      <td>79</td>\n",
       "      <td>81</td>\n",
       "      <td>799424</td>\n",
       "      <td>936662225</td>\n",
       "      <td>Action, Adventure, Sci-Fi</td>\n",
       "      <td>tt2488496</td>\n",
       "      <td>10s</td>\n",
       "    </tr>\n",
       "    <tr>\n",
       "      <th>1</th>\n",
       "      <td>Avengers: Endgame</td>\n",
       "      <td>2019</td>\n",
       "      <td>85</td>\n",
       "      <td>78</td>\n",
       "      <td>598830</td>\n",
       "      <td>858373000</td>\n",
       "      <td>Action, Adventure, Drama</td>\n",
       "      <td>tt4154796</td>\n",
       "      <td>10s</td>\n",
       "    </tr>\n",
       "  </tbody>\n",
       "</table>\n",
       "</div>"
      ],
      "text/plain": [
       "                                   all_titles  all_years  all_scores  \\\n",
       "0  Star Wars: Episode VII - The Force Awakens       2015          79   \n",
       "1                           Avengers: Endgame       2019          85   \n",
       "\n",
       "   all_meta all_votes  all_gross                             all_genres  \\\n",
       "0        81    799424  936662225  Action, Adventure, Sci-Fi               \n",
       "1        78    598830  858373000   Action, Adventure, Drama               \n",
       "\n",
       "          id decade  \n",
       "0  tt2488496    10s  \n",
       "1  tt4154796    10s  "
      ]
     },
     "execution_count": 11,
     "metadata": {},
     "output_type": "execute_result"
    }
   ],
   "source": [
    "data.head(2)"
   ]
  },
  {
   "cell_type": "markdown",
   "metadata": {
    "heading_collapsed": true
   },
   "source": [
    "# Importing external csv to get the budget "
   ]
  },
  {
   "cell_type": "code",
   "execution_count": 12,
   "metadata": {
    "ExecuteTime": {
     "end_time": "2019-11-13T14:13:01.429115Z",
     "start_time": "2019-11-13T14:13:00.761864Z"
    },
    "hidden": true
   },
   "outputs": [
    {
     "name": "stderr",
     "output_type": "stream",
     "text": [
      "/Users/carloscutillas/anaconda3/lib/python3.7/site-packages/IPython/core/interactiveshell.py:3057: DtypeWarning: Columns (10) have mixed types. Specify dtype option on import or set low_memory=False.\n",
      "  interactivity=interactivity, compiler=compiler, result=result)\n"
     ]
    }
   ],
   "source": [
    "movies_metadata = pd.read_csv('movies_metadata.csv')"
   ]
  },
  {
   "cell_type": "code",
   "execution_count": 13,
   "metadata": {
    "ExecuteTime": {
     "end_time": "2019-11-13T14:13:06.377051Z",
     "start_time": "2019-11-13T14:13:06.372824Z"
    },
    "hidden": true
   },
   "outputs": [],
   "source": [
    "budget_and_id = movies_metadata[['budget', 'imdb_id']]"
   ]
  },
  {
   "cell_type": "markdown",
   "metadata": {
    "heading_collapsed": true
   },
   "source": [
    "#  Importing external csv to get CPI inflation index "
   ]
  },
  {
   "cell_type": "code",
   "execution_count": 14,
   "metadata": {
    "ExecuteTime": {
     "end_time": "2019-11-13T14:13:15.404224Z",
     "start_time": "2019-11-13T14:13:14.898399Z"
    },
    "hidden": true
   },
   "outputs": [],
   "source": [
    "inflation = pd.read_csv('https://pkgstore.datahub.io/core/cpi-us/cpiai_csv/data/b17bfacbda3c08e51cd13fe544b8fca4/cpiai_csv.csv')"
   ]
  },
  {
   "cell_type": "code",
   "execution_count": 15,
   "metadata": {
    "ExecuteTime": {
     "end_time": "2019-11-13T14:13:21.073508Z",
     "start_time": "2019-11-13T14:13:21.065937Z"
    },
    "hidden": true
   },
   "outputs": [
    {
     "data": {
      "text/html": [
       "<div>\n",
       "<style scoped>\n",
       "    .dataframe tbody tr th:only-of-type {\n",
       "        vertical-align: middle;\n",
       "    }\n",
       "\n",
       "    .dataframe tbody tr th {\n",
       "        vertical-align: top;\n",
       "    }\n",
       "\n",
       "    .dataframe thead th {\n",
       "        text-align: right;\n",
       "    }\n",
       "</style>\n",
       "<table border=\"1\" class=\"dataframe\">\n",
       "  <thead>\n",
       "    <tr style=\"text-align: right;\">\n",
       "      <th></th>\n",
       "      <th>Date</th>\n",
       "      <th>Index</th>\n",
       "      <th>Inflation</th>\n",
       "    </tr>\n",
       "  </thead>\n",
       "  <tbody>\n",
       "    <tr>\n",
       "      <th>0</th>\n",
       "      <td>1913-01-01</td>\n",
       "      <td>9.8</td>\n",
       "      <td>NaN</td>\n",
       "    </tr>\n",
       "    <tr>\n",
       "      <th>1</th>\n",
       "      <td>1913-02-01</td>\n",
       "      <td>9.8</td>\n",
       "      <td>0.0</td>\n",
       "    </tr>\n",
       "  </tbody>\n",
       "</table>\n",
       "</div>"
      ],
      "text/plain": [
       "         Date  Index  Inflation\n",
       "0  1913-01-01    9.8        NaN\n",
       "1  1913-02-01    9.8        0.0"
      ]
     },
     "execution_count": 15,
     "metadata": {},
     "output_type": "execute_result"
    }
   ],
   "source": [
    "inflation.head(2)"
   ]
  },
  {
   "cell_type": "code",
   "execution_count": 16,
   "metadata": {
    "ExecuteTime": {
     "end_time": "2019-11-13T14:13:26.591629Z",
     "start_time": "2019-11-13T14:13:26.585086Z"
    },
    "hidden": true
   },
   "outputs": [
    {
     "name": "stdout",
     "output_type": "stream",
     "text": [
      "<class 'pandas.core.frame.DataFrame'>\n",
      "RangeIndex: 1213 entries, 0 to 1212\n",
      "Data columns (total 3 columns):\n",
      "Date         1213 non-null object\n",
      "Index        1213 non-null float64\n",
      "Inflation    1212 non-null float64\n",
      "dtypes: float64(2), object(1)\n",
      "memory usage: 28.5+ KB\n"
     ]
    }
   ],
   "source": [
    "inflation.info()"
   ]
  },
  {
   "cell_type": "code",
   "execution_count": 17,
   "metadata": {
    "ExecuteTime": {
     "end_time": "2019-11-13T14:13:36.590629Z",
     "start_time": "2019-11-13T14:13:36.584336Z"
    },
    "hidden": true
   },
   "outputs": [],
   "source": [
    "inflation['Date'] = inflation['Date'].apply(lambda x: x[:4]) \n",
    "\n",
    "inflation['Date'] = inflation['Date'].astype(int)"
   ]
  },
  {
   "cell_type": "code",
   "execution_count": 18,
   "metadata": {
    "ExecuteTime": {
     "end_time": "2019-11-13T14:13:42.256915Z",
     "start_time": "2019-11-13T14:13:42.247262Z"
    },
    "hidden": true
   },
   "outputs": [
    {
     "data": {
      "text/html": [
       "<div>\n",
       "<style scoped>\n",
       "    .dataframe tbody tr th:only-of-type {\n",
       "        vertical-align: middle;\n",
       "    }\n",
       "\n",
       "    .dataframe tbody tr th {\n",
       "        vertical-align: top;\n",
       "    }\n",
       "\n",
       "    .dataframe thead th {\n",
       "        text-align: right;\n",
       "    }\n",
       "</style>\n",
       "<table border=\"1\" class=\"dataframe\">\n",
       "  <thead>\n",
       "    <tr style=\"text-align: right;\">\n",
       "      <th></th>\n",
       "      <th>Date</th>\n",
       "      <th>Index</th>\n",
       "      <th>Inflation</th>\n",
       "    </tr>\n",
       "  </thead>\n",
       "  <tbody>\n",
       "    <tr>\n",
       "      <th>0</th>\n",
       "      <td>1913</td>\n",
       "      <td>9.8</td>\n",
       "      <td>NaN</td>\n",
       "    </tr>\n",
       "    <tr>\n",
       "      <th>1</th>\n",
       "      <td>1913</td>\n",
       "      <td>9.8</td>\n",
       "      <td>0.0</td>\n",
       "    </tr>\n",
       "  </tbody>\n",
       "</table>\n",
       "</div>"
      ],
      "text/plain": [
       "   Date  Index  Inflation\n",
       "0  1913    9.8        NaN\n",
       "1  1913    9.8        0.0"
      ]
     },
     "execution_count": 18,
     "metadata": {},
     "output_type": "execute_result"
    }
   ],
   "source": [
    "inflation.head(2)"
   ]
  },
  {
   "cell_type": "code",
   "execution_count": 19,
   "metadata": {
    "ExecuteTime": {
     "end_time": "2019-11-13T14:13:48.138454Z",
     "start_time": "2019-11-13T14:13:48.132189Z"
    },
    "hidden": true
   },
   "outputs": [],
   "source": [
    "inf = inflation.groupby('Date').mean().reset_index(level= 0)"
   ]
  },
  {
   "cell_type": "markdown",
   "metadata": {
    "heading_collapsed": true
   },
   "source": [
    "# Creating new dataframe"
   ]
  },
  {
   "cell_type": "code",
   "execution_count": 20,
   "metadata": {
    "ExecuteTime": {
     "end_time": "2019-11-13T14:14:00.043871Z",
     "start_time": "2019-11-13T14:14:00.017008Z"
    },
    "hidden": true
   },
   "outputs": [],
   "source": [
    "all_data = pd.merge(data, budget_and_id,how='left', left_on='id', right_on='imdb_id')"
   ]
  },
  {
   "cell_type": "code",
   "execution_count": 21,
   "metadata": {
    "ExecuteTime": {
     "end_time": "2019-11-13T14:14:06.976908Z",
     "start_time": "2019-11-13T14:14:06.974352Z"
    },
    "hidden": true
   },
   "outputs": [],
   "source": [
    "# all_data.head(5)"
   ]
  },
  {
   "cell_type": "code",
   "execution_count": 22,
   "metadata": {
    "ExecuteTime": {
     "end_time": "2019-11-13T14:14:13.587011Z",
     "start_time": "2019-11-13T14:14:13.576865Z"
    },
    "hidden": true
   },
   "outputs": [],
   "source": [
    "all_data.dropna(inplace=True)"
   ]
  },
  {
   "cell_type": "code",
   "execution_count": 23,
   "metadata": {
    "ExecuteTime": {
     "end_time": "2019-11-13T14:14:20.143270Z",
     "start_time": "2019-11-13T14:14:20.138856Z"
    },
    "hidden": true
   },
   "outputs": [],
   "source": [
    "all_data['budget'] = all_data['budget'].astype(int)"
   ]
  },
  {
   "cell_type": "code",
   "execution_count": 24,
   "metadata": {
    "ExecuteTime": {
     "end_time": "2019-11-13T14:14:26.818660Z",
     "start_time": "2019-11-13T14:14:26.809267Z"
    },
    "hidden": true
   },
   "outputs": [
    {
     "name": "stdout",
     "output_type": "stream",
     "text": [
      "<class 'pandas.core.frame.DataFrame'>\n",
      "Int64Index: 4714 entries, 0 to 5053\n",
      "Data columns (total 11 columns):\n",
      "all_titles    4714 non-null object\n",
      "all_years     4714 non-null int64\n",
      "all_scores    4714 non-null int64\n",
      "all_meta      4714 non-null int64\n",
      "all_votes     4714 non-null object\n",
      "all_gross     4714 non-null int64\n",
      "all_genres    4714 non-null object\n",
      "id            4714 non-null object\n",
      "decade        4714 non-null object\n",
      "budget        4714 non-null int64\n",
      "imdb_id       4714 non-null object\n",
      "dtypes: int64(5), object(6)\n",
      "memory usage: 441.9+ KB\n"
     ]
    }
   ],
   "source": [
    "all_data.info()"
   ]
  },
  {
   "cell_type": "code",
   "execution_count": 25,
   "metadata": {
    "ExecuteTime": {
     "end_time": "2019-11-13T14:14:40.568336Z",
     "start_time": "2019-11-13T14:14:40.566010Z"
    },
    "hidden": true
   },
   "outputs": [],
   "source": [
    "# sns.distplot(all_data.all_years)"
   ]
  },
  {
   "cell_type": "code",
   "execution_count": 26,
   "metadata": {
    "ExecuteTime": {
     "end_time": "2019-11-13T14:14:47.280419Z",
     "start_time": "2019-11-13T14:14:47.275256Z"
    },
    "hidden": true
   },
   "outputs": [],
   "source": [
    "all_data['genre_bis'] = all_data['all_genres'].apply(lambda x: 'Action' if 'Action' in x\n",
    "                                                     else ('Romance' if 'Romance' in x else 'no') \n",
    "                                                    )"
   ]
  },
  {
   "cell_type": "code",
   "execution_count": 27,
   "metadata": {
    "ExecuteTime": {
     "end_time": "2019-11-13T14:14:55.560116Z",
     "start_time": "2019-11-13T14:14:55.557119Z"
    },
    "hidden": true
   },
   "outputs": [],
   "source": [
    "# all_data.genre_bis.value_counts()"
   ]
  },
  {
   "cell_type": "code",
   "execution_count": 28,
   "metadata": {
    "ExecuteTime": {
     "end_time": "2019-11-13T14:15:02.519486Z",
     "start_time": "2019-11-13T14:15:02.515289Z"
    },
    "hidden": true
   },
   "outputs": [
    {
     "data": {
      "text/plain": [
       "(4714, 12)"
      ]
     },
     "execution_count": 28,
     "metadata": {},
     "output_type": "execute_result"
    }
   ],
   "source": [
    "all_data.shape"
   ]
  },
  {
   "cell_type": "code",
   "execution_count": 29,
   "metadata": {
    "ExecuteTime": {
     "end_time": "2019-11-13T14:15:14.491253Z",
     "start_time": "2019-11-13T14:15:14.477694Z"
    },
    "hidden": true
   },
   "outputs": [
    {
     "data": {
      "text/html": [
       "<div>\n",
       "<style scoped>\n",
       "    .dataframe tbody tr th:only-of-type {\n",
       "        vertical-align: middle;\n",
       "    }\n",
       "\n",
       "    .dataframe tbody tr th {\n",
       "        vertical-align: top;\n",
       "    }\n",
       "\n",
       "    .dataframe thead th {\n",
       "        text-align: right;\n",
       "    }\n",
       "</style>\n",
       "<table border=\"1\" class=\"dataframe\">\n",
       "  <thead>\n",
       "    <tr style=\"text-align: right;\">\n",
       "      <th></th>\n",
       "      <th>all_titles</th>\n",
       "      <th>all_years</th>\n",
       "      <th>all_scores</th>\n",
       "      <th>all_meta</th>\n",
       "      <th>all_votes</th>\n",
       "      <th>all_gross</th>\n",
       "      <th>all_genres</th>\n",
       "      <th>id</th>\n",
       "      <th>decade</th>\n",
       "      <th>budget</th>\n",
       "      <th>imdb_id</th>\n",
       "      <th>genre_bis</th>\n",
       "    </tr>\n",
       "  </thead>\n",
       "  <tbody>\n",
       "    <tr>\n",
       "      <th>0</th>\n",
       "      <td>Star Wars: Episode VII - The Force Awakens</td>\n",
       "      <td>2015</td>\n",
       "      <td>79</td>\n",
       "      <td>81</td>\n",
       "      <td>799424</td>\n",
       "      <td>936662225</td>\n",
       "      <td>Action, Adventure, Sci-Fi</td>\n",
       "      <td>tt2488496</td>\n",
       "      <td>10s</td>\n",
       "      <td>245000000</td>\n",
       "      <td>tt2488496</td>\n",
       "      <td>Action</td>\n",
       "    </tr>\n",
       "    <tr>\n",
       "      <th>2</th>\n",
       "      <td>Avatar</td>\n",
       "      <td>2009</td>\n",
       "      <td>78</td>\n",
       "      <td>83</td>\n",
       "      <td>1065708</td>\n",
       "      <td>760507625</td>\n",
       "      <td>Action, Adventure, Fantasy</td>\n",
       "      <td>tt0499549</td>\n",
       "      <td>00s</td>\n",
       "      <td>237000000</td>\n",
       "      <td>tt0499549</td>\n",
       "      <td>Action</td>\n",
       "    </tr>\n",
       "  </tbody>\n",
       "</table>\n",
       "</div>"
      ],
      "text/plain": [
       "                                   all_titles  all_years  all_scores  \\\n",
       "0  Star Wars: Episode VII - The Force Awakens       2015          79   \n",
       "2                                      Avatar       2009          78   \n",
       "\n",
       "   all_meta all_votes  all_gross                              all_genres  \\\n",
       "0        81    799424  936662225   Action, Adventure, Sci-Fi               \n",
       "2        83   1065708  760507625  Action, Adventure, Fantasy               \n",
       "\n",
       "          id decade     budget    imdb_id genre_bis  \n",
       "0  tt2488496    10s  245000000  tt2488496    Action  \n",
       "2  tt0499549    00s  237000000  tt0499549    Action  "
      ]
     },
     "execution_count": 29,
     "metadata": {},
     "output_type": "execute_result"
    }
   ],
   "source": [
    "all_data.head(2)"
   ]
  },
  {
   "cell_type": "code",
   "execution_count": 30,
   "metadata": {
    "ExecuteTime": {
     "end_time": "2019-11-13T14:15:21.531838Z",
     "start_time": "2019-11-13T14:15:21.516224Z"
    },
    "hidden": true
   },
   "outputs": [],
   "source": [
    "all_data['profit'] = all_data['all_gross'] - all_data['budget']"
   ]
  },
  {
   "cell_type": "code",
   "execution_count": 31,
   "metadata": {
    "ExecuteTime": {
     "end_time": "2019-11-13T14:15:28.257499Z",
     "start_time": "2019-11-13T14:15:28.226133Z"
    },
    "hidden": true
   },
   "outputs": [
    {
     "data": {
      "text/html": [
       "<div>\n",
       "<style scoped>\n",
       "    .dataframe tbody tr th:only-of-type {\n",
       "        vertical-align: middle;\n",
       "    }\n",
       "\n",
       "    .dataframe tbody tr th {\n",
       "        vertical-align: top;\n",
       "    }\n",
       "\n",
       "    .dataframe thead th {\n",
       "        text-align: right;\n",
       "    }\n",
       "</style>\n",
       "<table border=\"1\" class=\"dataframe\">\n",
       "  <thead>\n",
       "    <tr style=\"text-align: right;\">\n",
       "      <th></th>\n",
       "      <th>count</th>\n",
       "      <th>mean</th>\n",
       "      <th>std</th>\n",
       "      <th>min</th>\n",
       "      <th>25%</th>\n",
       "      <th>50%</th>\n",
       "      <th>75%</th>\n",
       "      <th>max</th>\n",
       "    </tr>\n",
       "  </thead>\n",
       "  <tbody>\n",
       "    <tr>\n",
       "      <th>all_years</th>\n",
       "      <td>4714.0</td>\n",
       "      <td>1.997816e+03</td>\n",
       "      <td>1.347506e+01</td>\n",
       "      <td>1915.0</td>\n",
       "      <td>1990.00</td>\n",
       "      <td>2000.0</td>\n",
       "      <td>2008.00</td>\n",
       "      <td>2019.0</td>\n",
       "    </tr>\n",
       "    <tr>\n",
       "      <th>all_scores</th>\n",
       "      <td>4714.0</td>\n",
       "      <td>6.405388e+01</td>\n",
       "      <td>9.691270e+00</td>\n",
       "      <td>19.0</td>\n",
       "      <td>58.00</td>\n",
       "      <td>64.0</td>\n",
       "      <td>71.00</td>\n",
       "      <td>93.0</td>\n",
       "    </tr>\n",
       "    <tr>\n",
       "      <th>all_meta</th>\n",
       "      <td>4714.0</td>\n",
       "      <td>4.585342e+01</td>\n",
       "      <td>2.553559e+01</td>\n",
       "      <td>0.0</td>\n",
       "      <td>32.00</td>\n",
       "      <td>49.0</td>\n",
       "      <td>64.00</td>\n",
       "      <td>100.0</td>\n",
       "    </tr>\n",
       "    <tr>\n",
       "      <th>all_gross</th>\n",
       "      <td>4714.0</td>\n",
       "      <td>5.506381e+07</td>\n",
       "      <td>6.546027e+07</td>\n",
       "      <td>9074550.0</td>\n",
       "      <td>17540190.75</td>\n",
       "      <td>32864742.5</td>\n",
       "      <td>64469889.00</td>\n",
       "      <td>936662225.0</td>\n",
       "    </tr>\n",
       "    <tr>\n",
       "      <th>budget</th>\n",
       "      <td>4714.0</td>\n",
       "      <td>3.268043e+07</td>\n",
       "      <td>4.281290e+07</td>\n",
       "      <td>0.0</td>\n",
       "      <td>233750.00</td>\n",
       "      <td>19000000.0</td>\n",
       "      <td>45000000.00</td>\n",
       "      <td>380000000.0</td>\n",
       "    </tr>\n",
       "    <tr>\n",
       "      <th>profit</th>\n",
       "      <td>4714.0</td>\n",
       "      <td>2.238338e+07</td>\n",
       "      <td>5.090702e+07</td>\n",
       "      <td>-186921900.0</td>\n",
       "      <td>435454.00</td>\n",
       "      <td>15101924.0</td>\n",
       "      <td>33580143.25</td>\n",
       "      <td>691662225.0</td>\n",
       "    </tr>\n",
       "  </tbody>\n",
       "</table>\n",
       "</div>"
      ],
      "text/plain": [
       "             count          mean           std          min          25%  \\\n",
       "all_years   4714.0  1.997816e+03  1.347506e+01       1915.0      1990.00   \n",
       "all_scores  4714.0  6.405388e+01  9.691270e+00         19.0        58.00   \n",
       "all_meta    4714.0  4.585342e+01  2.553559e+01          0.0        32.00   \n",
       "all_gross   4714.0  5.506381e+07  6.546027e+07    9074550.0  17540190.75   \n",
       "budget      4714.0  3.268043e+07  4.281290e+07          0.0    233750.00   \n",
       "profit      4714.0  2.238338e+07  5.090702e+07 -186921900.0    435454.00   \n",
       "\n",
       "                   50%          75%          max  \n",
       "all_years       2000.0      2008.00       2019.0  \n",
       "all_scores        64.0        71.00         93.0  \n",
       "all_meta          49.0        64.00        100.0  \n",
       "all_gross   32864742.5  64469889.00  936662225.0  \n",
       "budget      19000000.0  45000000.00  380000000.0  \n",
       "profit      15101924.0  33580143.25  691662225.0  "
      ]
     },
     "execution_count": 31,
     "metadata": {},
     "output_type": "execute_result"
    }
   ],
   "source": [
    "all_data.describe().T"
   ]
  },
  {
   "cell_type": "markdown",
   "metadata": {
    "heading_collapsed": true
   },
   "source": [
    "#  Merging the inflation"
   ]
  },
  {
   "cell_type": "code",
   "execution_count": 32,
   "metadata": {
    "ExecuteTime": {
     "end_time": "2019-11-13T14:15:41.507956Z",
     "start_time": "2019-11-13T14:15:41.498178Z"
    },
    "hidden": true
   },
   "outputs": [
    {
     "name": "stdout",
     "output_type": "stream",
     "text": [
      "<class 'pandas.core.frame.DataFrame'>\n",
      "Int64Index: 4714 entries, 0 to 5053\n",
      "Data columns (total 13 columns):\n",
      "all_titles    4714 non-null object\n",
      "all_years     4714 non-null int64\n",
      "all_scores    4714 non-null int64\n",
      "all_meta      4714 non-null int64\n",
      "all_votes     4714 non-null object\n",
      "all_gross     4714 non-null int64\n",
      "all_genres    4714 non-null object\n",
      "id            4714 non-null object\n",
      "decade        4714 non-null object\n",
      "budget        4714 non-null int64\n",
      "imdb_id       4714 non-null object\n",
      "genre_bis     4714 non-null object\n",
      "profit        4714 non-null int64\n",
      "dtypes: int64(6), object(7)\n",
      "memory usage: 515.6+ KB\n"
     ]
    }
   ],
   "source": [
    "all_data.info()"
   ]
  },
  {
   "cell_type": "code",
   "execution_count": 33,
   "metadata": {
    "ExecuteTime": {
     "end_time": "2019-11-13T14:15:48.495244Z",
     "start_time": "2019-11-13T14:15:48.489682Z"
    },
    "hidden": true
   },
   "outputs": [
    {
     "name": "stdout",
     "output_type": "stream",
     "text": [
      "<class 'pandas.core.frame.DataFrame'>\n",
      "RangeIndex: 102 entries, 0 to 101\n",
      "Data columns (total 3 columns):\n",
      "Date         102 non-null int64\n",
      "Index        102 non-null float64\n",
      "Inflation    102 non-null float64\n",
      "dtypes: float64(2), int64(1)\n",
      "memory usage: 2.5 KB\n"
     ]
    }
   ],
   "source": [
    "inf.info()"
   ]
  },
  {
   "cell_type": "code",
   "execution_count": 34,
   "metadata": {
    "ExecuteTime": {
     "end_time": "2019-11-13T14:15:55.689171Z",
     "start_time": "2019-11-13T14:15:55.678502Z"
    },
    "hidden": true
   },
   "outputs": [],
   "source": [
    "data_with_inflation = pd.merge(all_data, inf,how='left', left_on='all_years', right_on='Date')"
   ]
  },
  {
   "cell_type": "markdown",
   "metadata": {
    "heading_collapsed": true
   },
   "source": [
    "# Clean data with inflation "
   ]
  },
  {
   "cell_type": "code",
   "execution_count": 35,
   "metadata": {
    "ExecuteTime": {
     "end_time": "2019-11-13T14:16:10.440885Z",
     "start_time": "2019-11-13T14:16:10.437296Z"
    },
    "hidden": true
   },
   "outputs": [],
   "source": [
    "del data_with_inflation['Inflation']"
   ]
  },
  {
   "cell_type": "code",
   "execution_count": 36,
   "metadata": {
    "ExecuteTime": {
     "end_time": "2019-11-13T14:16:18.437875Z",
     "start_time": "2019-11-13T14:16:18.423623Z"
    },
    "hidden": true
   },
   "outputs": [
    {
     "data": {
      "text/html": [
       "<div>\n",
       "<style scoped>\n",
       "    .dataframe tbody tr th:only-of-type {\n",
       "        vertical-align: middle;\n",
       "    }\n",
       "\n",
       "    .dataframe tbody tr th {\n",
       "        vertical-align: top;\n",
       "    }\n",
       "\n",
       "    .dataframe thead th {\n",
       "        text-align: right;\n",
       "    }\n",
       "</style>\n",
       "<table border=\"1\" class=\"dataframe\">\n",
       "  <thead>\n",
       "    <tr style=\"text-align: right;\">\n",
       "      <th></th>\n",
       "      <th>all_titles</th>\n",
       "      <th>all_years</th>\n",
       "      <th>all_scores</th>\n",
       "      <th>all_meta</th>\n",
       "      <th>all_votes</th>\n",
       "      <th>all_gross</th>\n",
       "      <th>all_genres</th>\n",
       "      <th>id</th>\n",
       "      <th>decade</th>\n",
       "      <th>budget</th>\n",
       "      <th>imdb_id</th>\n",
       "      <th>genre_bis</th>\n",
       "      <th>profit</th>\n",
       "      <th>Date</th>\n",
       "      <th>Index</th>\n",
       "    </tr>\n",
       "  </thead>\n",
       "  <tbody>\n",
       "    <tr>\n",
       "      <th>0</th>\n",
       "      <td>Star Wars: Episode VII - The Force Awakens</td>\n",
       "      <td>2015</td>\n",
       "      <td>79</td>\n",
       "      <td>81</td>\n",
       "      <td>799424</td>\n",
       "      <td>936662225</td>\n",
       "      <td>Action, Adventure, Sci-Fi</td>\n",
       "      <td>tt2488496</td>\n",
       "      <td>10s</td>\n",
       "      <td>245000000</td>\n",
       "      <td>tt2488496</td>\n",
       "      <td>Action</td>\n",
       "      <td>691662225</td>\n",
       "      <td>NaN</td>\n",
       "      <td>NaN</td>\n",
       "    </tr>\n",
       "    <tr>\n",
       "      <th>1</th>\n",
       "      <td>Avatar</td>\n",
       "      <td>2009</td>\n",
       "      <td>78</td>\n",
       "      <td>83</td>\n",
       "      <td>1065708</td>\n",
       "      <td>760507625</td>\n",
       "      <td>Action, Adventure, Fantasy</td>\n",
       "      <td>tt0499549</td>\n",
       "      <td>00s</td>\n",
       "      <td>237000000</td>\n",
       "      <td>tt0499549</td>\n",
       "      <td>Action</td>\n",
       "      <td>523507625</td>\n",
       "      <td>2009.0</td>\n",
       "      <td>214.537000</td>\n",
       "    </tr>\n",
       "    <tr>\n",
       "      <th>2</th>\n",
       "      <td>Titanic</td>\n",
       "      <td>1997</td>\n",
       "      <td>78</td>\n",
       "      <td>75</td>\n",
       "      <td>979853</td>\n",
       "      <td>659325379</td>\n",
       "      <td>Drama, Romance</td>\n",
       "      <td>tt0120338</td>\n",
       "      <td>90s</td>\n",
       "      <td>200000000</td>\n",
       "      <td>tt0120338</td>\n",
       "      <td>Romance</td>\n",
       "      <td>459325379</td>\n",
       "      <td>1997.0</td>\n",
       "      <td>160.516667</td>\n",
       "    </tr>\n",
       "    <tr>\n",
       "      <th>3</th>\n",
       "      <td>Jurassic World</td>\n",
       "      <td>2015</td>\n",
       "      <td>70</td>\n",
       "      <td>59</td>\n",
       "      <td>549843</td>\n",
       "      <td>652270625</td>\n",
       "      <td>Action, Adventure, Sci-Fi</td>\n",
       "      <td>tt0369610</td>\n",
       "      <td>10s</td>\n",
       "      <td>150000000</td>\n",
       "      <td>tt0369610</td>\n",
       "      <td>Action</td>\n",
       "      <td>502270625</td>\n",
       "      <td>NaN</td>\n",
       "      <td>NaN</td>\n",
       "    </tr>\n",
       "    <tr>\n",
       "      <th>4</th>\n",
       "      <td>Avengers Assemble</td>\n",
       "      <td>2012</td>\n",
       "      <td>80</td>\n",
       "      <td>69</td>\n",
       "      <td>1206183</td>\n",
       "      <td>623279547</td>\n",
       "      <td>Action, Adventure, Sci-Fi</td>\n",
       "      <td>tt0848228</td>\n",
       "      <td>10s</td>\n",
       "      <td>220000000</td>\n",
       "      <td>tt0848228</td>\n",
       "      <td>Action</td>\n",
       "      <td>403279547</td>\n",
       "      <td>2012.0</td>\n",
       "      <td>229.593917</td>\n",
       "    </tr>\n",
       "  </tbody>\n",
       "</table>\n",
       "</div>"
      ],
      "text/plain": [
       "                                   all_titles  all_years  all_scores  \\\n",
       "0  Star Wars: Episode VII - The Force Awakens       2015          79   \n",
       "1                                      Avatar       2009          78   \n",
       "2                                     Titanic       1997          78   \n",
       "3                              Jurassic World       2015          70   \n",
       "4                           Avengers Assemble       2012          80   \n",
       "\n",
       "   all_meta all_votes  all_gross                              all_genres  \\\n",
       "0        81    799424  936662225   Action, Adventure, Sci-Fi               \n",
       "1        83   1065708  760507625  Action, Adventure, Fantasy               \n",
       "2        75    979853  659325379              Drama, Romance               \n",
       "3        59    549843  652270625   Action, Adventure, Sci-Fi               \n",
       "4        69   1206183  623279547   Action, Adventure, Sci-Fi               \n",
       "\n",
       "          id decade     budget    imdb_id genre_bis     profit    Date  \\\n",
       "0  tt2488496    10s  245000000  tt2488496    Action  691662225     NaN   \n",
       "1  tt0499549    00s  237000000  tt0499549    Action  523507625  2009.0   \n",
       "2  tt0120338    90s  200000000  tt0120338   Romance  459325379  1997.0   \n",
       "3  tt0369610    10s  150000000  tt0369610    Action  502270625     NaN   \n",
       "4  tt0848228    10s  220000000  tt0848228    Action  403279547  2012.0   \n",
       "\n",
       "        Index  \n",
       "0         NaN  \n",
       "1  214.537000  \n",
       "2  160.516667  \n",
       "3         NaN  \n",
       "4  229.593917  "
      ]
     },
     "execution_count": 36,
     "metadata": {},
     "output_type": "execute_result"
    }
   ],
   "source": [
    "data_with_inflation.head()"
   ]
  },
  {
   "cell_type": "code",
   "execution_count": 37,
   "metadata": {
    "ExecuteTime": {
     "end_time": "2019-11-13T14:16:34.819181Z",
     "start_time": "2019-11-13T14:16:34.814736Z"
    },
    "hidden": true
   },
   "outputs": [],
   "source": [
    "def get_last_years_inflation(x):\n",
    "    if x == int(2015):\n",
    "        return 237\n",
    "    elif x == 2016:\n",
    "        return 240\n",
    "    elif x == 2017:\n",
    "        return 245\n",
    "    elif x == 2018:\n",
    "        return 251\n",
    "    elif x == 2019:\n",
    "        return 256\n",
    "#     else:\n",
    "#         return x\n",
    "    "
   ]
  },
  {
   "cell_type": "code",
   "execution_count": null,
   "metadata": {
    "hidden": true
   },
   "outputs": [],
   "source": []
  },
  {
   "cell_type": "code",
   "execution_count": 38,
   "metadata": {
    "ExecuteTime": {
     "end_time": "2019-11-13T14:16:43.232914Z",
     "start_time": "2019-11-13T14:16:43.220230Z"
    },
    "hidden": true
   },
   "outputs": [],
   "source": [
    "data_with_inflation['Index_all'] = data_with_inflation['all_years'].apply(lambda x: get_last_years_inflation(x) )\n",
    "data_with_inflation['Index_all'] = data_with_inflation['Index_all'].astype(str)\n",
    "\n",
    "data_with_inflation['Index'] = data_with_inflation['Index'].astype(str)\n"
   ]
  },
  {
   "cell_type": "code",
   "execution_count": 39,
   "metadata": {
    "ExecuteTime": {
     "end_time": "2019-11-13T14:16:51.806293Z",
     "start_time": "2019-11-13T14:16:51.796683Z"
    },
    "hidden": true
   },
   "outputs": [],
   "source": [
    "data_with_inflation['Index_all_years'] = data_with_inflation.Index.fillna('') + data_with_inflation.Index_all.fillna('')\n",
    "\n",
    "# data_with_inflation['Index_all_years'] = data_with_inflation['Index_all'].combine_first(data_with_inflation['Index'])\n",
    "\n",
    "data_with_inflation['Index_all_years'] = data_with_inflation['Index_all_years'].apply(\n",
    "    lambda x: x.lstrip('nan').rstrip('nan'))\n"
   ]
  },
  {
   "cell_type": "code",
   "execution_count": 40,
   "metadata": {
    "ExecuteTime": {
     "end_time": "2019-11-13T14:17:00.138757Z",
     "start_time": "2019-11-13T14:17:00.136472Z"
    },
    "hidden": true
   },
   "outputs": [],
   "source": [
    "# data_with_inflation['Index_all_years']"
   ]
  },
  {
   "cell_type": "code",
   "execution_count": 41,
   "metadata": {
    "ExecuteTime": {
     "end_time": "2019-11-13T14:17:08.376070Z",
     "start_time": "2019-11-13T14:17:08.371683Z"
    },
    "hidden": true
   },
   "outputs": [],
   "source": [
    "del data_with_inflation['Index_all']\n",
    "del data_with_inflation['Index']\n",
    "del data_with_inflation['Date']\n"
   ]
  },
  {
   "cell_type": "code",
   "execution_count": 42,
   "metadata": {
    "ExecuteTime": {
     "end_time": "2019-11-13T14:17:16.365906Z",
     "start_time": "2019-11-13T14:17:16.352617Z"
    },
    "hidden": true,
    "scrolled": true
   },
   "outputs": [
    {
     "data": {
      "text/html": [
       "<div>\n",
       "<style scoped>\n",
       "    .dataframe tbody tr th:only-of-type {\n",
       "        vertical-align: middle;\n",
       "    }\n",
       "\n",
       "    .dataframe tbody tr th {\n",
       "        vertical-align: top;\n",
       "    }\n",
       "\n",
       "    .dataframe thead th {\n",
       "        text-align: right;\n",
       "    }\n",
       "</style>\n",
       "<table border=\"1\" class=\"dataframe\">\n",
       "  <thead>\n",
       "    <tr style=\"text-align: right;\">\n",
       "      <th></th>\n",
       "      <th>all_titles</th>\n",
       "      <th>all_years</th>\n",
       "      <th>all_scores</th>\n",
       "      <th>all_meta</th>\n",
       "      <th>all_votes</th>\n",
       "      <th>all_gross</th>\n",
       "      <th>all_genres</th>\n",
       "      <th>id</th>\n",
       "      <th>decade</th>\n",
       "      <th>budget</th>\n",
       "      <th>imdb_id</th>\n",
       "      <th>genre_bis</th>\n",
       "      <th>profit</th>\n",
       "      <th>Index_all_years</th>\n",
       "    </tr>\n",
       "  </thead>\n",
       "  <tbody>\n",
       "    <tr>\n",
       "      <th>0</th>\n",
       "      <td>Star Wars: Episode VII - The Force Awakens</td>\n",
       "      <td>2015</td>\n",
       "      <td>79</td>\n",
       "      <td>81</td>\n",
       "      <td>799424</td>\n",
       "      <td>936662225</td>\n",
       "      <td>Action, Adventure, Sci-Fi</td>\n",
       "      <td>tt2488496</td>\n",
       "      <td>10s</td>\n",
       "      <td>245000000</td>\n",
       "      <td>tt2488496</td>\n",
       "      <td>Action</td>\n",
       "      <td>691662225</td>\n",
       "      <td>237.0</td>\n",
       "    </tr>\n",
       "    <tr>\n",
       "      <th>1</th>\n",
       "      <td>Avatar</td>\n",
       "      <td>2009</td>\n",
       "      <td>78</td>\n",
       "      <td>83</td>\n",
       "      <td>1065708</td>\n",
       "      <td>760507625</td>\n",
       "      <td>Action, Adventure, Fantasy</td>\n",
       "      <td>tt0499549</td>\n",
       "      <td>00s</td>\n",
       "      <td>237000000</td>\n",
       "      <td>tt0499549</td>\n",
       "      <td>Action</td>\n",
       "      <td>523507625</td>\n",
       "      <td>214.537</td>\n",
       "    </tr>\n",
       "  </tbody>\n",
       "</table>\n",
       "</div>"
      ],
      "text/plain": [
       "                                   all_titles  all_years  all_scores  \\\n",
       "0  Star Wars: Episode VII - The Force Awakens       2015          79   \n",
       "1                                      Avatar       2009          78   \n",
       "\n",
       "   all_meta all_votes  all_gross                              all_genres  \\\n",
       "0        81    799424  936662225   Action, Adventure, Sci-Fi               \n",
       "1        83   1065708  760507625  Action, Adventure, Fantasy               \n",
       "\n",
       "          id decade     budget    imdb_id genre_bis     profit Index_all_years  \n",
       "0  tt2488496    10s  245000000  tt2488496    Action  691662225           237.0  \n",
       "1  tt0499549    00s  237000000  tt0499549    Action  523507625         214.537  "
      ]
     },
     "execution_count": 42,
     "metadata": {},
     "output_type": "execute_result"
    }
   ],
   "source": [
    "data_with_inflation.head(2)"
   ]
  },
  {
   "cell_type": "markdown",
   "metadata": {
    "heading_collapsed": true,
    "hidden": true
   },
   "source": [
    "## Adjusting budget and gross to inflation"
   ]
  },
  {
   "cell_type": "code",
   "execution_count": 43,
   "metadata": {
    "ExecuteTime": {
     "end_time": "2019-11-13T14:17:24.503350Z",
     "start_time": "2019-11-13T14:17:24.498656Z"
    },
    "hidden": true
   },
   "outputs": [],
   "source": [
    "#  Re converting stringg to integer on index \n",
    "\n",
    "data_with_inflation['Index_all_years'] = data_with_inflation['Index_all_years'].astype(float)"
   ]
  },
  {
   "cell_type": "code",
   "execution_count": 44,
   "metadata": {
    "ExecuteTime": {
     "end_time": "2019-11-13T14:17:32.564178Z",
     "start_time": "2019-11-13T14:17:32.558154Z"
    },
    "hidden": true
   },
   "outputs": [],
   "source": [
    "data_with_inflation['budget_adjusted'] = (data_with_inflation['budget'] / data_with_inflation['Index_all_years'])*100\n",
    "\n",
    "data_with_inflation['gross_adjusted'] = (data_with_inflation['all_gross'] / data_with_inflation['Index_all_years'])*100\n",
    "\n"
   ]
  },
  {
   "cell_type": "code",
   "execution_count": 45,
   "metadata": {
    "ExecuteTime": {
     "end_time": "2019-11-13T14:17:40.997102Z",
     "start_time": "2019-11-13T14:17:40.993294Z"
    },
    "hidden": true
   },
   "outputs": [],
   "source": [
    "data_with_inflation['profit_adjusted'] =  data_with_inflation['gross_adjusted'] - data_with_inflation['budget_adjusted'] "
   ]
  },
  {
   "cell_type": "code",
   "execution_count": null,
   "metadata": {
    "ExecuteTime": {
     "end_time": "2019-11-13T11:01:55.589363Z",
     "start_time": "2019-11-13T11:01:55.550128Z"
    },
    "hidden": true
   },
   "outputs": [],
   "source": [
    "data_with_inflation.describe()"
   ]
  },
  {
   "cell_type": "code",
   "execution_count": null,
   "metadata": {
    "ExecuteTime": {
     "end_time": "2019-11-13T09:35:32.710110Z",
     "start_time": "2019-11-13T09:35:29.485Z"
    },
    "hidden": true
   },
   "outputs": [],
   "source": [
    "# data_for_budget = all_data[all_data['budget'] > 0]"
   ]
  },
  {
   "cell_type": "code",
   "execution_count": null,
   "metadata": {
    "ExecuteTime": {
     "end_time": "2019-11-13T09:35:32.712884Z",
     "start_time": "2019-11-13T09:35:29.509Z"
    },
    "hidden": true
   },
   "outputs": [],
   "source": [
    "# data_for_budget.to_csv('movies_for_budget', encoding='utf-8')\n",
    "# all_data.to_csv('movies_all', encoding='utf-8')\n"
   ]
  },
  {
   "cell_type": "code",
   "execution_count": null,
   "metadata": {
    "ExecuteTime": {
     "end_time": "2019-11-13T11:05:33.570366Z",
     "start_time": "2019-11-13T11:05:33.478343Z"
    },
    "hidden": true
   },
   "outputs": [],
   "source": [
    "# data_with_inflation.to_csv('data_adjusted_to_inflation.csv')"
   ]
  },
  {
   "cell_type": "code",
   "execution_count": null,
   "metadata": {
    "hidden": true
   },
   "outputs": [],
   "source": []
  },
  {
   "cell_type": "code",
   "execution_count": null,
   "metadata": {
    "hidden": true
   },
   "outputs": [],
   "source": []
  },
  {
   "cell_type": "markdown",
   "metadata": {
    "heading_collapsed": true
   },
   "source": [
    "# Visualisation to copy paste "
   ]
  },
  {
   "cell_type": "code",
   "execution_count": 47,
   "metadata": {
    "ExecuteTime": {
     "end_time": "2019-11-13T14:18:12.403890Z",
     "start_time": "2019-11-13T14:18:12.324643Z"
    },
    "hidden": true
   },
   "outputs": [
    {
     "data": {
      "text/html": [
       "<div>\n",
       "<style scoped>\n",
       "    .dataframe tbody tr th:only-of-type {\n",
       "        vertical-align: middle;\n",
       "    }\n",
       "\n",
       "    .dataframe tbody tr th {\n",
       "        vertical-align: top;\n",
       "    }\n",
       "\n",
       "    .dataframe thead th {\n",
       "        text-align: right;\n",
       "    }\n",
       "</style>\n",
       "<table border=\"1\" class=\"dataframe\">\n",
       "  <thead>\n",
       "    <tr style=\"text-align: right;\">\n",
       "      <th></th>\n",
       "      <th>all_titles</th>\n",
       "      <th>all_years</th>\n",
       "      <th>all_scores</th>\n",
       "      <th>all_meta</th>\n",
       "      <th>all_votes</th>\n",
       "      <th>all_gross</th>\n",
       "      <th>all_genres</th>\n",
       "      <th>id</th>\n",
       "      <th>decade</th>\n",
       "      <th>budget</th>\n",
       "      <th>imdb_id</th>\n",
       "      <th>genre_bis</th>\n",
       "      <th>profit</th>\n",
       "      <th>Index_all_years</th>\n",
       "      <th>budget_adjusted</th>\n",
       "      <th>gross_adjusted</th>\n",
       "      <th>profit_adjusted</th>\n",
       "    </tr>\n",
       "  </thead>\n",
       "  <tbody>\n",
       "    <tr>\n",
       "      <th>0</th>\n",
       "      <td>Star Wars: Episode VII - The Force Awakens</td>\n",
       "      <td>2015</td>\n",
       "      <td>79</td>\n",
       "      <td>81</td>\n",
       "      <td>799424</td>\n",
       "      <td>936662225</td>\n",
       "      <td>Action, Adventure, Sci-Fi</td>\n",
       "      <td>tt2488496</td>\n",
       "      <td>10s</td>\n",
       "      <td>245000000</td>\n",
       "      <td>tt2488496</td>\n",
       "      <td>Action</td>\n",
       "      <td>691662225</td>\n",
       "      <td>237.000000</td>\n",
       "      <td>1.033755e+08</td>\n",
       "      <td>3.952161e+08</td>\n",
       "      <td>2.918406e+08</td>\n",
       "    </tr>\n",
       "    <tr>\n",
       "      <th>1</th>\n",
       "      <td>Avatar</td>\n",
       "      <td>2009</td>\n",
       "      <td>78</td>\n",
       "      <td>83</td>\n",
       "      <td>1065708</td>\n",
       "      <td>760507625</td>\n",
       "      <td>Action, Adventure, Fantasy</td>\n",
       "      <td>tt0499549</td>\n",
       "      <td>00s</td>\n",
       "      <td>237000000</td>\n",
       "      <td>tt0499549</td>\n",
       "      <td>Action</td>\n",
       "      <td>523507625</td>\n",
       "      <td>214.537000</td>\n",
       "      <td>1.104705e+08</td>\n",
       "      <td>3.544879e+08</td>\n",
       "      <td>2.440174e+08</td>\n",
       "    </tr>\n",
       "    <tr>\n",
       "      <th>2</th>\n",
       "      <td>Titanic</td>\n",
       "      <td>1997</td>\n",
       "      <td>78</td>\n",
       "      <td>75</td>\n",
       "      <td>979853</td>\n",
       "      <td>659325379</td>\n",
       "      <td>Drama, Romance</td>\n",
       "      <td>tt0120338</td>\n",
       "      <td>90s</td>\n",
       "      <td>200000000</td>\n",
       "      <td>tt0120338</td>\n",
       "      <td>Romance</td>\n",
       "      <td>459325379</td>\n",
       "      <td>160.516667</td>\n",
       "      <td>1.245977e+08</td>\n",
       "      <td>4.107520e+08</td>\n",
       "      <td>2.861543e+08</td>\n",
       "    </tr>\n",
       "    <tr>\n",
       "      <th>3</th>\n",
       "      <td>Jurassic World</td>\n",
       "      <td>2015</td>\n",
       "      <td>70</td>\n",
       "      <td>59</td>\n",
       "      <td>549843</td>\n",
       "      <td>652270625</td>\n",
       "      <td>Action, Adventure, Sci-Fi</td>\n",
       "      <td>tt0369610</td>\n",
       "      <td>10s</td>\n",
       "      <td>150000000</td>\n",
       "      <td>tt0369610</td>\n",
       "      <td>Action</td>\n",
       "      <td>502270625</td>\n",
       "      <td>237.000000</td>\n",
       "      <td>6.329114e+07</td>\n",
       "      <td>2.752197e+08</td>\n",
       "      <td>2.119285e+08</td>\n",
       "    </tr>\n",
       "    <tr>\n",
       "      <th>4</th>\n",
       "      <td>Avengers Assemble</td>\n",
       "      <td>2012</td>\n",
       "      <td>80</td>\n",
       "      <td>69</td>\n",
       "      <td>1206183</td>\n",
       "      <td>623279547</td>\n",
       "      <td>Action, Adventure, Sci-Fi</td>\n",
       "      <td>tt0848228</td>\n",
       "      <td>10s</td>\n",
       "      <td>220000000</td>\n",
       "      <td>tt0848228</td>\n",
       "      <td>Action</td>\n",
       "      <td>403279547</td>\n",
       "      <td>229.593917</td>\n",
       "      <td>9.582135e+07</td>\n",
       "      <td>2.714704e+08</td>\n",
       "      <td>1.756491e+08</td>\n",
       "    </tr>\n",
       "    <tr>\n",
       "      <th>5</th>\n",
       "      <td>The Dark Knight</td>\n",
       "      <td>2008</td>\n",
       "      <td>90</td>\n",
       "      <td>84</td>\n",
       "      <td>2132130</td>\n",
       "      <td>534858444</td>\n",
       "      <td>Action, Crime, Drama</td>\n",
       "      <td>tt0468569</td>\n",
       "      <td>00s</td>\n",
       "      <td>185000000</td>\n",
       "      <td>tt0468569</td>\n",
       "      <td>Action</td>\n",
       "      <td>349858444</td>\n",
       "      <td>215.302500</td>\n",
       "      <td>8.592562e+07</td>\n",
       "      <td>2.484218e+08</td>\n",
       "      <td>1.624962e+08</td>\n",
       "    </tr>\n",
       "    <tr>\n",
       "      <th>6</th>\n",
       "      <td>Rogue One</td>\n",
       "      <td>2016</td>\n",
       "      <td>78</td>\n",
       "      <td>65</td>\n",
       "      <td>493737</td>\n",
       "      <td>532177324</td>\n",
       "      <td>Action, Adventure, Sci-Fi</td>\n",
       "      <td>tt3748528</td>\n",
       "      <td>10s</td>\n",
       "      <td>200000000</td>\n",
       "      <td>tt3748528</td>\n",
       "      <td>Action</td>\n",
       "      <td>332177324</td>\n",
       "      <td>240.000000</td>\n",
       "      <td>8.333333e+07</td>\n",
       "      <td>2.217406e+08</td>\n",
       "      <td>1.384072e+08</td>\n",
       "    </tr>\n",
       "    <tr>\n",
       "      <th>7</th>\n",
       "      <td>Beauty and the Beast</td>\n",
       "      <td>2017</td>\n",
       "      <td>72</td>\n",
       "      <td>65</td>\n",
       "      <td>247977</td>\n",
       "      <td>504014165</td>\n",
       "      <td>Family, Fantasy, Musical</td>\n",
       "      <td>tt2771200</td>\n",
       "      <td>10s</td>\n",
       "      <td>160000000</td>\n",
       "      <td>tt2771200</td>\n",
       "      <td>no</td>\n",
       "      <td>344014165</td>\n",
       "      <td>245.000000</td>\n",
       "      <td>6.530612e+07</td>\n",
       "      <td>2.057201e+08</td>\n",
       "      <td>1.404139e+08</td>\n",
       "    </tr>\n",
       "    <tr>\n",
       "      <th>8</th>\n",
       "      <td>Finding Dory</td>\n",
       "      <td>2016</td>\n",
       "      <td>73</td>\n",
       "      <td>77</td>\n",
       "      <td>220167</td>\n",
       "      <td>486295561</td>\n",
       "      <td>Animation, Adventure, Comedy</td>\n",
       "      <td>tt2277860</td>\n",
       "      <td>10s</td>\n",
       "      <td>200000000</td>\n",
       "      <td>tt2277860</td>\n",
       "      <td>no</td>\n",
       "      <td>286295561</td>\n",
       "      <td>240.000000</td>\n",
       "      <td>8.333333e+07</td>\n",
       "      <td>2.026232e+08</td>\n",
       "      <td>1.192898e+08</td>\n",
       "    </tr>\n",
       "    <tr>\n",
       "      <th>9</th>\n",
       "      <td>Star Wars: Episode I - The Phantom Menace</td>\n",
       "      <td>1999</td>\n",
       "      <td>65</td>\n",
       "      <td>51</td>\n",
       "      <td>668358</td>\n",
       "      <td>474544677</td>\n",
       "      <td>Action, Adventure, Fantasy</td>\n",
       "      <td>tt0120915</td>\n",
       "      <td>90s</td>\n",
       "      <td>115000000</td>\n",
       "      <td>tt0120915</td>\n",
       "      <td>Action</td>\n",
       "      <td>359544677</td>\n",
       "      <td>166.575000</td>\n",
       "      <td>6.903797e+07</td>\n",
       "      <td>2.848835e+08</td>\n",
       "      <td>2.158455e+08</td>\n",
       "    </tr>\n",
       "    <tr>\n",
       "      <th>10</th>\n",
       "      <td>Avengers: Age of Ultron</td>\n",
       "      <td>2015</td>\n",
       "      <td>73</td>\n",
       "      <td>66</td>\n",
       "      <td>688259</td>\n",
       "      <td>459005868</td>\n",
       "      <td>Action, Adventure, Sci-Fi</td>\n",
       "      <td>tt2395427</td>\n",
       "      <td>10s</td>\n",
       "      <td>280000000</td>\n",
       "      <td>tt2395427</td>\n",
       "      <td>Action</td>\n",
       "      <td>179005868</td>\n",
       "      <td>237.000000</td>\n",
       "      <td>1.181435e+08</td>\n",
       "      <td>1.936734e+08</td>\n",
       "      <td>7.552990e+07</td>\n",
       "    </tr>\n",
       "    <tr>\n",
       "      <th>11</th>\n",
       "      <td>The Dark Knight Rises</td>\n",
       "      <td>2012</td>\n",
       "      <td>84</td>\n",
       "      <td>78</td>\n",
       "      <td>1420236</td>\n",
       "      <td>448139099</td>\n",
       "      <td>Action, Thriller</td>\n",
       "      <td>tt1345836</td>\n",
       "      <td>10s</td>\n",
       "      <td>250000000</td>\n",
       "      <td>tt1345836</td>\n",
       "      <td>Action</td>\n",
       "      <td>198139099</td>\n",
       "      <td>229.593917</td>\n",
       "      <td>1.088879e+08</td>\n",
       "      <td>1.951877e+08</td>\n",
       "      <td>8.629980e+07</td>\n",
       "    </tr>\n",
       "    <tr>\n",
       "      <th>12</th>\n",
       "      <td>Shrek 2</td>\n",
       "      <td>2004</td>\n",
       "      <td>72</td>\n",
       "      <td>75</td>\n",
       "      <td>391929</td>\n",
       "      <td>436471036</td>\n",
       "      <td>Animation, Adventure, Comedy</td>\n",
       "      <td>tt0298148</td>\n",
       "      <td>00s</td>\n",
       "      <td>150000000</td>\n",
       "      <td>tt0298148</td>\n",
       "      <td>no</td>\n",
       "      <td>286471036</td>\n",
       "      <td>188.883333</td>\n",
       "      <td>7.941410e+07</td>\n",
       "      <td>2.310797e+08</td>\n",
       "      <td>1.516656e+08</td>\n",
       "    </tr>\n",
       "    <tr>\n",
       "      <th>13</th>\n",
       "      <td>E.T. the Extra-Terrestrial</td>\n",
       "      <td>1982</td>\n",
       "      <td>78</td>\n",
       "      <td>91</td>\n",
       "      <td>344841</td>\n",
       "      <td>435110554</td>\n",
       "      <td>Family, Sci-Fi</td>\n",
       "      <td>tt0083866</td>\n",
       "      <td>80s</td>\n",
       "      <td>10500000</td>\n",
       "      <td>tt0083866</td>\n",
       "      <td>no</td>\n",
       "      <td>424610554</td>\n",
       "      <td>96.500000</td>\n",
       "      <td>1.088083e+07</td>\n",
       "      <td>4.508918e+08</td>\n",
       "      <td>4.400109e+08</td>\n",
       "    </tr>\n",
       "    <tr>\n",
       "      <th>14</th>\n",
       "      <td>The Hunger Games: Catching Fire</td>\n",
       "      <td>2013</td>\n",
       "      <td>75</td>\n",
       "      <td>76</td>\n",
       "      <td>584033</td>\n",
       "      <td>424668047</td>\n",
       "      <td>Action, Adventure, Sci-Fi</td>\n",
       "      <td>tt1951264</td>\n",
       "      <td>10s</td>\n",
       "      <td>130000000</td>\n",
       "      <td>tt1951264</td>\n",
       "      <td>Action</td>\n",
       "      <td>294668047</td>\n",
       "      <td>232.957083</td>\n",
       "      <td>5.580427e+07</td>\n",
       "      <td>1.822945e+08</td>\n",
       "      <td>1.264903e+08</td>\n",
       "    </tr>\n",
       "    <tr>\n",
       "      <th>15</th>\n",
       "      <td>Pirates of the Caribbean: Dead Man's Chest</td>\n",
       "      <td>2006</td>\n",
       "      <td>73</td>\n",
       "      <td>53</td>\n",
       "      <td>622992</td>\n",
       "      <td>423315812</td>\n",
       "      <td>Action, Adventure, Fantasy</td>\n",
       "      <td>tt0383574</td>\n",
       "      <td>00s</td>\n",
       "      <td>200000000</td>\n",
       "      <td>tt0383574</td>\n",
       "      <td>Action</td>\n",
       "      <td>223315812</td>\n",
       "      <td>201.591667</td>\n",
       "      <td>9.921045e+07</td>\n",
       "      <td>2.099868e+08</td>\n",
       "      <td>1.107763e+08</td>\n",
       "    </tr>\n",
       "    <tr>\n",
       "      <th>16</th>\n",
       "      <td>The Lion King</td>\n",
       "      <td>1994</td>\n",
       "      <td>85</td>\n",
       "      <td>88</td>\n",
       "      <td>870762</td>\n",
       "      <td>422783777</td>\n",
       "      <td>Animation, Adventure, Drama</td>\n",
       "      <td>tt0110357</td>\n",
       "      <td>90s</td>\n",
       "      <td>45000000</td>\n",
       "      <td>tt0110357</td>\n",
       "      <td>no</td>\n",
       "      <td>377783777</td>\n",
       "      <td>148.225000</td>\n",
       "      <td>3.035925e+07</td>\n",
       "      <td>2.852311e+08</td>\n",
       "      <td>2.548718e+08</td>\n",
       "    </tr>\n",
       "    <tr>\n",
       "      <th>17</th>\n",
       "      <td>Toy Story 3</td>\n",
       "      <td>2010</td>\n",
       "      <td>83</td>\n",
       "      <td>92</td>\n",
       "      <td>706582</td>\n",
       "      <td>415004880</td>\n",
       "      <td>Animation, Adventure, Comedy</td>\n",
       "      <td>tt0435761</td>\n",
       "      <td>10s</td>\n",
       "      <td>200000000</td>\n",
       "      <td>tt0435761</td>\n",
       "      <td>no</td>\n",
       "      <td>215004880</td>\n",
       "      <td>218.055500</td>\n",
       "      <td>9.171977e+07</td>\n",
       "      <td>1.903208e+08</td>\n",
       "      <td>9.860099e+07</td>\n",
       "    </tr>\n",
       "    <tr>\n",
       "      <th>18</th>\n",
       "      <td>Wonder Woman</td>\n",
       "      <td>2017</td>\n",
       "      <td>74</td>\n",
       "      <td>76</td>\n",
       "      <td>506536</td>\n",
       "      <td>412563408</td>\n",
       "      <td>Action, Adventure, Fantasy</td>\n",
       "      <td>tt0451279</td>\n",
       "      <td>10s</td>\n",
       "      <td>149000000</td>\n",
       "      <td>tt0451279</td>\n",
       "      <td>Action</td>\n",
       "      <td>263563408</td>\n",
       "      <td>245.000000</td>\n",
       "      <td>6.081633e+07</td>\n",
       "      <td>1.683932e+08</td>\n",
       "      <td>1.075769e+08</td>\n",
       "    </tr>\n",
       "    <tr>\n",
       "      <th>19</th>\n",
       "      <td>Iron Man Three</td>\n",
       "      <td>2013</td>\n",
       "      <td>72</td>\n",
       "      <td>62</td>\n",
       "      <td>711040</td>\n",
       "      <td>409013994</td>\n",
       "      <td>Action, Adventure, Sci-Fi</td>\n",
       "      <td>tt1300854</td>\n",
       "      <td>10s</td>\n",
       "      <td>200000000</td>\n",
       "      <td>tt1300854</td>\n",
       "      <td>Action</td>\n",
       "      <td>209013994</td>\n",
       "      <td>232.957083</td>\n",
       "      <td>8.585272e+07</td>\n",
       "      <td>1.755748e+08</td>\n",
       "      <td>8.972210e+07</td>\n",
       "    </tr>\n",
       "    <tr>\n",
       "      <th>20</th>\n",
       "      <td>Captain America: Civil War</td>\n",
       "      <td>2016</td>\n",
       "      <td>78</td>\n",
       "      <td>75</td>\n",
       "      <td>608167</td>\n",
       "      <td>408084349</td>\n",
       "      <td>Action, Adventure, Sci-Fi</td>\n",
       "      <td>tt3498820</td>\n",
       "      <td>10s</td>\n",
       "      <td>250000000</td>\n",
       "      <td>tt3498820</td>\n",
       "      <td>Action</td>\n",
       "      <td>158084349</td>\n",
       "      <td>240.000000</td>\n",
       "      <td>1.041667e+08</td>\n",
       "      <td>1.700351e+08</td>\n",
       "      <td>6.586848e+07</td>\n",
       "    </tr>\n",
       "    <tr>\n",
       "      <th>21</th>\n",
       "      <td>The Hunger Games</td>\n",
       "      <td>2012</td>\n",
       "      <td>72</td>\n",
       "      <td>68</td>\n",
       "      <td>805981</td>\n",
       "      <td>408010692</td>\n",
       "      <td>Action, Adventure, Sci-Fi</td>\n",
       "      <td>tt1392170</td>\n",
       "      <td>10s</td>\n",
       "      <td>75000000</td>\n",
       "      <td>tt1392170</td>\n",
       "      <td>Action</td>\n",
       "      <td>333010692</td>\n",
       "      <td>229.593917</td>\n",
       "      <td>3.266637e+07</td>\n",
       "      <td>1.777097e+08</td>\n",
       "      <td>1.450433e+08</td>\n",
       "    </tr>\n",
       "    <tr>\n",
       "      <th>22</th>\n",
       "      <td>Spider-Man</td>\n",
       "      <td>2002</td>\n",
       "      <td>73</td>\n",
       "      <td>73</td>\n",
       "      <td>652850</td>\n",
       "      <td>403706375</td>\n",
       "      <td>Action, Adventure, Sci-Fi</td>\n",
       "      <td>tt0145487</td>\n",
       "      <td>00s</td>\n",
       "      <td>139000000</td>\n",
       "      <td>tt0145487</td>\n",
       "      <td>Action</td>\n",
       "      <td>264706375</td>\n",
       "      <td>179.875000</td>\n",
       "      <td>7.727589e+07</td>\n",
       "      <td>2.244372e+08</td>\n",
       "      <td>1.471613e+08</td>\n",
       "    </tr>\n",
       "    <tr>\n",
       "      <th>23</th>\n",
       "      <td>Jurassic Park</td>\n",
       "      <td>1993</td>\n",
       "      <td>81</td>\n",
       "      <td>68</td>\n",
       "      <td>802112</td>\n",
       "      <td>402453882</td>\n",
       "      <td>Action, Adventure, Sci-Fi</td>\n",
       "      <td>tt0107290</td>\n",
       "      <td>90s</td>\n",
       "      <td>63000000</td>\n",
       "      <td>tt0107290</td>\n",
       "      <td>Action</td>\n",
       "      <td>339453882</td>\n",
       "      <td>144.458333</td>\n",
       "      <td>4.361119e+07</td>\n",
       "      <td>2.785951e+08</td>\n",
       "      <td>2.349839e+08</td>\n",
       "    </tr>\n",
       "    <tr>\n",
       "      <th>24</th>\n",
       "      <td>Transformers: Revenge of the Fallen</td>\n",
       "      <td>2009</td>\n",
       "      <td>60</td>\n",
       "      <td>35</td>\n",
       "      <td>369778</td>\n",
       "      <td>402111870</td>\n",
       "      <td>Action, Adventure, Sci-Fi</td>\n",
       "      <td>tt1055369</td>\n",
       "      <td>00s</td>\n",
       "      <td>150000000</td>\n",
       "      <td>tt1055369</td>\n",
       "      <td>Action</td>\n",
       "      <td>252111870</td>\n",
       "      <td>214.537000</td>\n",
       "      <td>6.991801e+07</td>\n",
       "      <td>1.874324e+08</td>\n",
       "      <td>1.175144e+08</td>\n",
       "    </tr>\n",
       "    <tr>\n",
       "      <th>25</th>\n",
       "      <td>Frozen</td>\n",
       "      <td>2013</td>\n",
       "      <td>75</td>\n",
       "      <td>74</td>\n",
       "      <td>528092</td>\n",
       "      <td>400738009</td>\n",
       "      <td>Animation, Adventure, Comedy</td>\n",
       "      <td>tt2294629</td>\n",
       "      <td>10s</td>\n",
       "      <td>150000000</td>\n",
       "      <td>tt2294629</td>\n",
       "      <td>no</td>\n",
       "      <td>250738009</td>\n",
       "      <td>232.957083</td>\n",
       "      <td>6.438954e+07</td>\n",
       "      <td>1.720222e+08</td>\n",
       "      <td>1.076327e+08</td>\n",
       "    </tr>\n",
       "    <tr>\n",
       "      <th>26</th>\n",
       "      <td>Guardians of the Galaxy: Vol. 2</td>\n",
       "      <td>2017</td>\n",
       "      <td>76</td>\n",
       "      <td>67</td>\n",
       "      <td>510191</td>\n",
       "      <td>389813101</td>\n",
       "      <td>Action, Adventure, Comedy</td>\n",
       "      <td>tt3896198</td>\n",
       "      <td>10s</td>\n",
       "      <td>200000000</td>\n",
       "      <td>tt3896198</td>\n",
       "      <td>Action</td>\n",
       "      <td>189813101</td>\n",
       "      <td>245.000000</td>\n",
       "      <td>8.163265e+07</td>\n",
       "      <td>1.591074e+08</td>\n",
       "      <td>7.747474e+07</td>\n",
       "    </tr>\n",
       "    <tr>\n",
       "      <th>27</th>\n",
       "      <td>Harry Potter and the Deathly Hallows: Part 2</td>\n",
       "      <td>2011</td>\n",
       "      <td>81</td>\n",
       "      <td>87</td>\n",
       "      <td>707795</td>\n",
       "      <td>381011219</td>\n",
       "      <td>Adventure, Drama, Fantasy</td>\n",
       "      <td>tt1201607</td>\n",
       "      <td>10s</td>\n",
       "      <td>125000000</td>\n",
       "      <td>tt1201607</td>\n",
       "      <td>no</td>\n",
       "      <td>256011219</td>\n",
       "      <td>224.939167</td>\n",
       "      <td>5.557058e+07</td>\n",
       "      <td>1.693841e+08</td>\n",
       "      <td>1.138135e+08</td>\n",
       "    </tr>\n",
       "    <tr>\n",
       "      <th>28</th>\n",
       "      <td>Finding Nemo</td>\n",
       "      <td>2003</td>\n",
       "      <td>81</td>\n",
       "      <td>90</td>\n",
       "      <td>889055</td>\n",
       "      <td>380843261</td>\n",
       "      <td>Animation, Adventure, Comedy</td>\n",
       "      <td>tt0266543</td>\n",
       "      <td>00s</td>\n",
       "      <td>94000000</td>\n",
       "      <td>tt0266543</td>\n",
       "      <td>no</td>\n",
       "      <td>286843261</td>\n",
       "      <td>183.958333</td>\n",
       "      <td>5.109853e+07</td>\n",
       "      <td>2.070269e+08</td>\n",
       "      <td>1.559284e+08</td>\n",
       "    </tr>\n",
       "    <tr>\n",
       "      <th>29</th>\n",
       "      <td>Star Wars: Episode III - Revenge of the Sith</td>\n",
       "      <td>2005</td>\n",
       "      <td>75</td>\n",
       "      <td>68</td>\n",
       "      <td>654725</td>\n",
       "      <td>380262555</td>\n",
       "      <td>Action, Adventure, Fantasy</td>\n",
       "      <td>tt0121766</td>\n",
       "      <td>00s</td>\n",
       "      <td>113000000</td>\n",
       "      <td>tt0121766</td>\n",
       "      <td>Action</td>\n",
       "      <td>267262555</td>\n",
       "      <td>195.291667</td>\n",
       "      <td>5.786217e+07</td>\n",
       "      <td>1.947152e+08</td>\n",
       "      <td>1.368530e+08</td>\n",
       "    </tr>\n",
       "    <tr>\n",
       "      <th>...</th>\n",
       "      <td>...</td>\n",
       "      <td>...</td>\n",
       "      <td>...</td>\n",
       "      <td>...</td>\n",
       "      <td>...</td>\n",
       "      <td>...</td>\n",
       "      <td>...</td>\n",
       "      <td>...</td>\n",
       "      <td>...</td>\n",
       "      <td>...</td>\n",
       "      <td>...</td>\n",
       "      <td>...</td>\n",
       "      <td>...</td>\n",
       "      <td>...</td>\n",
       "      <td>...</td>\n",
       "      <td>...</td>\n",
       "      <td>...</td>\n",
       "    </tr>\n",
       "    <tr>\n",
       "      <th>4684</th>\n",
       "      <td>Rio Lobo</td>\n",
       "      <td>1970</td>\n",
       "      <td>68</td>\n",
       "      <td>55</td>\n",
       "      <td>9633</td>\n",
       "      <td>9265000</td>\n",
       "      <td>Adventure, Romance, War</td>\n",
       "      <td>tt0107443</td>\n",
       "      <td>70s</td>\n",
       "      <td>19000000</td>\n",
       "      <td>tt0107443</td>\n",
       "      <td>Romance</td>\n",
       "      <td>9265000</td>\n",
       "      <td>38.825000</td>\n",
       "      <td>1.196467e+07</td>\n",
       "      <td>2.386349e+07</td>\n",
       "      <td>2.386349e+07</td>\n",
       "    </tr>\n",
       "    <tr>\n",
       "      <th>4685</th>\n",
       "      <td>Celtic Pride</td>\n",
       "      <td>1996</td>\n",
       "      <td>53</td>\n",
       "      <td>49</td>\n",
       "      <td>9246</td>\n",
       "      <td>9255027</td>\n",
       "      <td>Comedy, Sport</td>\n",
       "      <td>tt0287467</td>\n",
       "      <td>90s</td>\n",
       "      <td>9285469</td>\n",
       "      <td>tt0287467</td>\n",
       "      <td>no</td>\n",
       "      <td>-30442</td>\n",
       "      <td>156.850000</td>\n",
       "      <td>5.919967e+06</td>\n",
       "      <td>5.900559e+06</td>\n",
       "      <td>-1.940835e+04</td>\n",
       "    </tr>\n",
       "    <tr>\n",
       "      <th>4686</th>\n",
       "      <td>Lolita</td>\n",
       "      <td>1962</td>\n",
       "      <td>76</td>\n",
       "      <td>79</td>\n",
       "      <td>85093</td>\n",
       "      <td>9250000</td>\n",
       "      <td>Crime, Drama, Romance</td>\n",
       "      <td>tt0066301</td>\n",
       "      <td>60s</td>\n",
       "      <td>19000000</td>\n",
       "      <td>tt0066301</td>\n",
       "      <td>Romance</td>\n",
       "      <td>9250000</td>\n",
       "      <td>30.250000</td>\n",
       "      <td>1.196467e+07</td>\n",
       "      <td>3.057851e+07</td>\n",
       "      <td>3.057851e+07</td>\n",
       "    </tr>\n",
       "    <tr>\n",
       "      <th>4687</th>\n",
       "      <td>Ringmaster</td>\n",
       "      <td>1998</td>\n",
       "      <td>31</td>\n",
       "      <td>49</td>\n",
       "      <td>4715</td>\n",
       "      <td>9247881</td>\n",
       "      <td>Comedy</td>\n",
       "      <td>tt0115851</td>\n",
       "      <td>90s</td>\n",
       "      <td>19000000</td>\n",
       "      <td>tt0115851</td>\n",
       "      <td>no</td>\n",
       "      <td>9247881</td>\n",
       "      <td>163.008333</td>\n",
       "      <td>1.196467e+07</td>\n",
       "      <td>5.673257e+06</td>\n",
       "      <td>5.673257e+06</td>\n",
       "    </tr>\n",
       "    <tr>\n",
       "      <th>4688</th>\n",
       "      <td>Havana</td>\n",
       "      <td>1990</td>\n",
       "      <td>61</td>\n",
       "      <td>49</td>\n",
       "      <td>6721</td>\n",
       "      <td>9243140</td>\n",
       "      <td>Drama, Romance, War</td>\n",
       "      <td>tt3072482</td>\n",
       "      <td>90s</td>\n",
       "      <td>10000000</td>\n",
       "      <td>tt3072482</td>\n",
       "      <td>Romance</td>\n",
       "      <td>-756860</td>\n",
       "      <td>130.658333</td>\n",
       "      <td>7.653549e+06</td>\n",
       "      <td>7.074283e+06</td>\n",
       "      <td>-5.792665e+05</td>\n",
       "    </tr>\n",
       "    <tr>\n",
       "      <th>4689</th>\n",
       "      <td>Tully</td>\n",
       "      <td>2018</td>\n",
       "      <td>70</td>\n",
       "      <td>75</td>\n",
       "      <td>44708</td>\n",
       "      <td>9227130</td>\n",
       "      <td>Comedy, Drama, Mystery</td>\n",
       "      <td>tt0056193</td>\n",
       "      <td>10s</td>\n",
       "      <td>2000000</td>\n",
       "      <td>tt0056193</td>\n",
       "      <td>no</td>\n",
       "      <td>7227130</td>\n",
       "      <td>251.000000</td>\n",
       "      <td>7.968127e+05</td>\n",
       "      <td>3.676147e+06</td>\n",
       "      <td>2.879335e+06</td>\n",
       "    </tr>\n",
       "    <tr>\n",
       "      <th>4690</th>\n",
       "      <td>Gladiator</td>\n",
       "      <td>1992</td>\n",
       "      <td>65</td>\n",
       "      <td>49</td>\n",
       "      <td>7651</td>\n",
       "      <td>9223441</td>\n",
       "      <td>Action, Drama, Sport</td>\n",
       "      <td>tt0165494</td>\n",
       "      <td>90s</td>\n",
       "      <td>3500000</td>\n",
       "      <td>tt0165494</td>\n",
       "      <td>Action</td>\n",
       "      <td>5723441</td>\n",
       "      <td>140.316667</td>\n",
       "      <td>2.494358e+06</td>\n",
       "      <td>6.573304e+06</td>\n",
       "      <td>4.078946e+06</td>\n",
       "    </tr>\n",
       "    <tr>\n",
       "      <th>4691</th>\n",
       "      <td>Mrs Brown</td>\n",
       "      <td>1997</td>\n",
       "      <td>72</td>\n",
       "      <td>71</td>\n",
       "      <td>12686</td>\n",
       "      <td>9217930</td>\n",
       "      <td>Biography, Drama, History</td>\n",
       "      <td>tt0099747</td>\n",
       "      <td>90s</td>\n",
       "      <td>40000000</td>\n",
       "      <td>tt0099747</td>\n",
       "      <td>no</td>\n",
       "      <td>-30782070</td>\n",
       "      <td>160.516667</td>\n",
       "      <td>2.491953e+07</td>\n",
       "      <td>5.742662e+06</td>\n",
       "      <td>-1.917687e+07</td>\n",
       "    </tr>\n",
       "    <tr>\n",
       "      <th>4692</th>\n",
       "      <td>Return of the Living Dead: Part II</td>\n",
       "      <td>1988</td>\n",
       "      <td>58</td>\n",
       "      <td>45</td>\n",
       "      <td>17164</td>\n",
       "      <td>9205924</td>\n",
       "      <td>Comedy, Horror, Sci-Fi</td>\n",
       "      <td>tt0104346</td>\n",
       "      <td>80s</td>\n",
       "      <td>19000000</td>\n",
       "      <td>tt0104346</td>\n",
       "      <td>no</td>\n",
       "      <td>9205924</td>\n",
       "      <td>118.258333</td>\n",
       "      <td>1.196467e+07</td>\n",
       "      <td>7.784588e+06</td>\n",
       "      <td>7.784588e+06</td>\n",
       "    </tr>\n",
       "    <tr>\n",
       "      <th>4693</th>\n",
       "      <td>Bernie</td>\n",
       "      <td>2011</td>\n",
       "      <td>68</td>\n",
       "      <td>75</td>\n",
       "      <td>54459</td>\n",
       "      <td>9203192</td>\n",
       "      <td>Biography, Comedy, Crime</td>\n",
       "      <td>tt0119280</td>\n",
       "      <td>10s</td>\n",
       "      <td>19000000</td>\n",
       "      <td>tt0119280</td>\n",
       "      <td>no</td>\n",
       "      <td>9203192</td>\n",
       "      <td>224.939167</td>\n",
       "      <td>1.196467e+07</td>\n",
       "      <td>4.091414e+06</td>\n",
       "      <td>4.091414e+06</td>\n",
       "    </tr>\n",
       "    <tr>\n",
       "      <th>4694</th>\n",
       "      <td>Bad Boys</td>\n",
       "      <td>1983</td>\n",
       "      <td>72</td>\n",
       "      <td>53</td>\n",
       "      <td>12962</td>\n",
       "      <td>9200000</td>\n",
       "      <td>Crime, Drama, Thriller</td>\n",
       "      <td>tt0084675</td>\n",
       "      <td>80s</td>\n",
       "      <td>19000000</td>\n",
       "      <td>tt0084675</td>\n",
       "      <td>no</td>\n",
       "      <td>9200000</td>\n",
       "      <td>99.600000</td>\n",
       "      <td>1.196467e+07</td>\n",
       "      <td>9.236948e+06</td>\n",
       "      <td>9.236948e+06</td>\n",
       "    </tr>\n",
       "    <tr>\n",
       "      <th>4695</th>\n",
       "      <td>Where'd You Go, Bernadette</td>\n",
       "      <td>2019</td>\n",
       "      <td>66</td>\n",
       "      <td>51</td>\n",
       "      <td>2507</td>\n",
       "      <td>9198356</td>\n",
       "      <td>Comedy, Drama, Mystery</td>\n",
       "      <td>tt1704573</td>\n",
       "      <td>10s</td>\n",
       "      <td>5000000</td>\n",
       "      <td>tt1704573</td>\n",
       "      <td>no</td>\n",
       "      <td>4198356</td>\n",
       "      <td>256.000000</td>\n",
       "      <td>1.953125e+06</td>\n",
       "      <td>3.593108e+06</td>\n",
       "      <td>1.639983e+06</td>\n",
       "    </tr>\n",
       "    <tr>\n",
       "      <th>4696</th>\n",
       "      <td>A Serious Man</td>\n",
       "      <td>2009</td>\n",
       "      <td>70</td>\n",
       "      <td>79</td>\n",
       "      <td>124329</td>\n",
       "      <td>9190525</td>\n",
       "      <td>Comedy, Drama</td>\n",
       "      <td>tt0085210</td>\n",
       "      <td>00s</td>\n",
       "      <td>19000000</td>\n",
       "      <td>tt0085210</td>\n",
       "      <td>no</td>\n",
       "      <td>9190525</td>\n",
       "      <td>214.537000</td>\n",
       "      <td>1.196467e+07</td>\n",
       "      <td>4.283888e+06</td>\n",
       "      <td>4.283888e+06</td>\n",
       "    </tr>\n",
       "    <tr>\n",
       "      <th>4697</th>\n",
       "      <td>Body Parts</td>\n",
       "      <td>1991</td>\n",
       "      <td>55</td>\n",
       "      <td>49</td>\n",
       "      <td>3657</td>\n",
       "      <td>9188150</td>\n",
       "      <td>Horror, Thriller</td>\n",
       "      <td>tt0012190</td>\n",
       "      <td>90s</td>\n",
       "      <td>19000000</td>\n",
       "      <td>tt0012190</td>\n",
       "      <td>no</td>\n",
       "      <td>9188150</td>\n",
       "      <td>136.191667</td>\n",
       "      <td>1.196467e+07</td>\n",
       "      <td>6.746485e+06</td>\n",
       "      <td>6.746485e+06</td>\n",
       "    </tr>\n",
       "    <tr>\n",
       "      <th>4698</th>\n",
       "      <td>You Can Count on Me</td>\n",
       "      <td>2000</td>\n",
       "      <td>75</td>\n",
       "      <td>85</td>\n",
       "      <td>26421</td>\n",
       "      <td>9180275</td>\n",
       "      <td>Drama</td>\n",
       "      <td>tt1019452</td>\n",
       "      <td>00s</td>\n",
       "      <td>7000000</td>\n",
       "      <td>tt1019452</td>\n",
       "      <td>no</td>\n",
       "      <td>2180275</td>\n",
       "      <td>172.200000</td>\n",
       "      <td>4.065041e+06</td>\n",
       "      <td>5.331170e+06</td>\n",
       "      <td>1.266130e+06</td>\n",
       "    </tr>\n",
       "    <tr>\n",
       "      <th>4699</th>\n",
       "      <td>Pennies from Heaven</td>\n",
       "      <td>1981</td>\n",
       "      <td>65</td>\n",
       "      <td>49</td>\n",
       "      <td>4903</td>\n",
       "      <td>9179289</td>\n",
       "      <td>Drama, Musical, Romance</td>\n",
       "      <td>tt0101492</td>\n",
       "      <td>80s</td>\n",
       "      <td>19000000</td>\n",
       "      <td>tt0101492</td>\n",
       "      <td>Romance</td>\n",
       "      <td>9179289</td>\n",
       "      <td>90.925000</td>\n",
       "      <td>1.196467e+07</td>\n",
       "      <td>1.009545e+07</td>\n",
       "      <td>1.009545e+07</td>\n",
       "    </tr>\n",
       "    <tr>\n",
       "      <th>4700</th>\n",
       "      <td>Get Low</td>\n",
       "      <td>2009</td>\n",
       "      <td>70</td>\n",
       "      <td>77</td>\n",
       "      <td>21437</td>\n",
       "      <td>9176553</td>\n",
       "      <td>Drama, Mystery</td>\n",
       "      <td>tt0203230</td>\n",
       "      <td>00s</td>\n",
       "      <td>19000000</td>\n",
       "      <td>tt0203230</td>\n",
       "      <td>no</td>\n",
       "      <td>9176553</td>\n",
       "      <td>214.537000</td>\n",
       "      <td>1.196467e+07</td>\n",
       "      <td>4.277375e+06</td>\n",
       "      <td>4.277375e+06</td>\n",
       "    </tr>\n",
       "    <tr>\n",
       "      <th>4701</th>\n",
       "      <td>What's Eating Gilbert Grape</td>\n",
       "      <td>1993</td>\n",
       "      <td>78</td>\n",
       "      <td>73</td>\n",
       "      <td>201095</td>\n",
       "      <td>9170214</td>\n",
       "      <td>Drama</td>\n",
       "      <td>tt0829459</td>\n",
       "      <td>90s</td>\n",
       "      <td>16000000</td>\n",
       "      <td>tt0829459</td>\n",
       "      <td>no</td>\n",
       "      <td>-6829786</td>\n",
       "      <td>144.458333</td>\n",
       "      <td>1.107586e+07</td>\n",
       "      <td>6.347999e+06</td>\n",
       "      <td>-4.727859e+06</td>\n",
       "    </tr>\n",
       "    <tr>\n",
       "      <th>4702</th>\n",
       "      <td>A Single Man</td>\n",
       "      <td>2009</td>\n",
       "      <td>76</td>\n",
       "      <td>77</td>\n",
       "      <td>100844</td>\n",
       "      <td>9166863</td>\n",
       "      <td>Drama, Romance</td>\n",
       "      <td>tt1194263</td>\n",
       "      <td>00s</td>\n",
       "      <td>7500000</td>\n",
       "      <td>tt1194263</td>\n",
       "      <td>Romance</td>\n",
       "      <td>1666863</td>\n",
       "      <td>214.537000</td>\n",
       "      <td>3.495900e+06</td>\n",
       "      <td>4.272859e+06</td>\n",
       "      <td>7.769583e+05</td>\n",
       "    </tr>\n",
       "    <tr>\n",
       "      <th>4703</th>\n",
       "      <td>Star!</td>\n",
       "      <td>1968</td>\n",
       "      <td>65</td>\n",
       "      <td>49</td>\n",
       "      <td>1850</td>\n",
       "      <td>9156000</td>\n",
       "      <td>Biography, Comedy, Drama</td>\n",
       "      <td>tt0108550</td>\n",
       "      <td>60s</td>\n",
       "      <td>11000000</td>\n",
       "      <td>tt0108550</td>\n",
       "      <td>no</td>\n",
       "      <td>-1844000</td>\n",
       "      <td>34.783333</td>\n",
       "      <td>3.162434e+07</td>\n",
       "      <td>2.632295e+07</td>\n",
       "      <td>-5.301390e+06</td>\n",
       "    </tr>\n",
       "    <tr>\n",
       "      <th>4704</th>\n",
       "      <td>Dead Ringers</td>\n",
       "      <td>1988</td>\n",
       "      <td>73</td>\n",
       "      <td>86</td>\n",
       "      <td>37419</td>\n",
       "      <td>9134733</td>\n",
       "      <td>Drama, Horror, Thriller</td>\n",
       "      <td>tt1315981</td>\n",
       "      <td>80s</td>\n",
       "      <td>7000000</td>\n",
       "      <td>tt1315981</td>\n",
       "      <td>no</td>\n",
       "      <td>2134733</td>\n",
       "      <td>118.258333</td>\n",
       "      <td>5.919245e+06</td>\n",
       "      <td>7.724388e+06</td>\n",
       "      <td>1.805144e+06</td>\n",
       "    </tr>\n",
       "    <tr>\n",
       "      <th>4705</th>\n",
       "      <td>Peeples</td>\n",
       "      <td>2013</td>\n",
       "      <td>53</td>\n",
       "      <td>52</td>\n",
       "      <td>4495</td>\n",
       "      <td>9123834</td>\n",
       "      <td>Comedy, Romance</td>\n",
       "      <td>tt0063642</td>\n",
       "      <td>10s</td>\n",
       "      <td>14320000</td>\n",
       "      <td>tt0063642</td>\n",
       "      <td>Romance</td>\n",
       "      <td>-5196166</td>\n",
       "      <td>232.957083</td>\n",
       "      <td>6.147055e+06</td>\n",
       "      <td>3.916530e+06</td>\n",
       "      <td>-2.230525e+06</td>\n",
       "    </tr>\n",
       "    <tr>\n",
       "      <th>4706</th>\n",
       "      <td>Tap</td>\n",
       "      <td>1989</td>\n",
       "      <td>65</td>\n",
       "      <td>49</td>\n",
       "      <td>1307</td>\n",
       "      <td>9114702</td>\n",
       "      <td>Comedy, Drama, Music</td>\n",
       "      <td>tt0094964</td>\n",
       "      <td>80s</td>\n",
       "      <td>13000000</td>\n",
       "      <td>tt0094964</td>\n",
       "      <td>no</td>\n",
       "      <td>-3885298</td>\n",
       "      <td>123.966667</td>\n",
       "      <td>1.048669e+07</td>\n",
       "      <td>7.352543e+06</td>\n",
       "      <td>-3.134147e+06</td>\n",
       "    </tr>\n",
       "    <tr>\n",
       "      <th>4707</th>\n",
       "      <td>Superbabies: Baby Geniuses 2</td>\n",
       "      <td>2004</td>\n",
       "      <td>19</td>\n",
       "      <td>9</td>\n",
       "      <td>29219</td>\n",
       "      <td>9109322</td>\n",
       "      <td>Comedy, Family, Sci-Fi</td>\n",
       "      <td>tt0096203</td>\n",
       "      <td>00s</td>\n",
       "      <td>19000000</td>\n",
       "      <td>tt0096203</td>\n",
       "      <td>no</td>\n",
       "      <td>9109322</td>\n",
       "      <td>188.883333</td>\n",
       "      <td>1.196467e+07</td>\n",
       "      <td>4.822724e+06</td>\n",
       "      <td>4.822724e+06</td>\n",
       "    </tr>\n",
       "    <tr>\n",
       "      <th>4708</th>\n",
       "      <td>Warlock</td>\n",
       "      <td>1989</td>\n",
       "      <td>62</td>\n",
       "      <td>49</td>\n",
       "      <td>13998</td>\n",
       "      <td>9094451</td>\n",
       "      <td>Action, Fantasy, Horror</td>\n",
       "      <td>tt1699755</td>\n",
       "      <td>80s</td>\n",
       "      <td>15</td>\n",
       "      <td>tt1699755</td>\n",
       "      <td>Action</td>\n",
       "      <td>9094436</td>\n",
       "      <td>123.966667</td>\n",
       "      <td>1.210003e+01</td>\n",
       "      <td>7.336207e+06</td>\n",
       "      <td>7.336195e+06</td>\n",
       "    </tr>\n",
       "    <tr>\n",
       "      <th>4709</th>\n",
       "      <td>Meet the Blacks</td>\n",
       "      <td>2016</td>\n",
       "      <td>49</td>\n",
       "      <td>26</td>\n",
       "      <td>35030</td>\n",
       "      <td>9093856</td>\n",
       "      <td>Comedy, Horror</td>\n",
       "      <td>tt0098442</td>\n",
       "      <td>10s</td>\n",
       "      <td>19000000</td>\n",
       "      <td>tt0098442</td>\n",
       "      <td>no</td>\n",
       "      <td>9093856</td>\n",
       "      <td>240.000000</td>\n",
       "      <td>1.196467e+07</td>\n",
       "      <td>3.789107e+06</td>\n",
       "      <td>3.789107e+06</td>\n",
       "    </tr>\n",
       "    <tr>\n",
       "      <th>4710</th>\n",
       "      <td>Sweet Dreams</td>\n",
       "      <td>1985</td>\n",
       "      <td>71</td>\n",
       "      <td>65</td>\n",
       "      <td>3894</td>\n",
       "      <td>9085049</td>\n",
       "      <td>Biography, Drama, Music</td>\n",
       "      <td>tt0270846</td>\n",
       "      <td>80s</td>\n",
       "      <td>19000000</td>\n",
       "      <td>tt0270846</td>\n",
       "      <td>no</td>\n",
       "      <td>9085049</td>\n",
       "      <td>107.566667</td>\n",
       "      <td>1.196467e+07</td>\n",
       "      <td>8.445971e+06</td>\n",
       "      <td>8.445971e+06</td>\n",
       "    </tr>\n",
       "    <tr>\n",
       "      <th>4711</th>\n",
       "      <td>Flickan som lekte med elden</td>\n",
       "      <td>2009</td>\n",
       "      <td>72</td>\n",
       "      <td>66</td>\n",
       "      <td>86659</td>\n",
       "      <td>9081782</td>\n",
       "      <td>Crime, Drama, Mystery</td>\n",
       "      <td>tt0098622</td>\n",
       "      <td>00s</td>\n",
       "      <td>7000000</td>\n",
       "      <td>tt0098622</td>\n",
       "      <td>no</td>\n",
       "      <td>2081782</td>\n",
       "      <td>214.537000</td>\n",
       "      <td>3.262840e+06</td>\n",
       "      <td>4.233201e+06</td>\n",
       "      <td>9.703604e+05</td>\n",
       "    </tr>\n",
       "    <tr>\n",
       "      <th>4712</th>\n",
       "      <td>A Midsummer Night's Sex Comedy</td>\n",
       "      <td>1982</td>\n",
       "      <td>66</td>\n",
       "      <td>51</td>\n",
       "      <td>17461</td>\n",
       "      <td>9077269</td>\n",
       "      <td>Comedy</td>\n",
       "      <td>tt4191580</td>\n",
       "      <td>80s</td>\n",
       "      <td>19000000</td>\n",
       "      <td>tt4191580</td>\n",
       "      <td>no</td>\n",
       "      <td>9077269</td>\n",
       "      <td>96.500000</td>\n",
       "      <td>1.196467e+07</td>\n",
       "      <td>9.406496e+06</td>\n",
       "      <td>9.406496e+06</td>\n",
       "    </tr>\n",
       "    <tr>\n",
       "      <th>4713</th>\n",
       "      <td>Le divorce</td>\n",
       "      <td>2003</td>\n",
       "      <td>49</td>\n",
       "      <td>51</td>\n",
       "      <td>10686</td>\n",
       "      <td>9074550</td>\n",
       "      <td>Drama, Romance, Comedy</td>\n",
       "      <td>tt0090110</td>\n",
       "      <td>00s</td>\n",
       "      <td>19000000</td>\n",
       "      <td>tt0090110</td>\n",
       "      <td>Romance</td>\n",
       "      <td>9074550</td>\n",
       "      <td>183.958333</td>\n",
       "      <td>1.196467e+07</td>\n",
       "      <td>4.932938e+06</td>\n",
       "      <td>4.932938e+06</td>\n",
       "    </tr>\n",
       "  </tbody>\n",
       "</table>\n",
       "<p>4714 rows × 17 columns</p>\n",
       "</div>"
      ],
      "text/plain": [
       "                                        all_titles  all_years  all_scores  \\\n",
       "0       Star Wars: Episode VII - The Force Awakens       2015          79   \n",
       "1                                           Avatar       2009          78   \n",
       "2                                          Titanic       1997          78   \n",
       "3                                   Jurassic World       2015          70   \n",
       "4                                Avengers Assemble       2012          80   \n",
       "5                                  The Dark Knight       2008          90   \n",
       "6                                        Rogue One       2016          78   \n",
       "7                             Beauty and the Beast       2017          72   \n",
       "8                                     Finding Dory       2016          73   \n",
       "9        Star Wars: Episode I - The Phantom Menace       1999          65   \n",
       "10                         Avengers: Age of Ultron       2015          73   \n",
       "11                           The Dark Knight Rises       2012          84   \n",
       "12                                         Shrek 2       2004          72   \n",
       "13                      E.T. the Extra-Terrestrial       1982          78   \n",
       "14                 The Hunger Games: Catching Fire       2013          75   \n",
       "15      Pirates of the Caribbean: Dead Man's Chest       2006          73   \n",
       "16                                   The Lion King       1994          85   \n",
       "17                                     Toy Story 3       2010          83   \n",
       "18                                    Wonder Woman       2017          74   \n",
       "19                                  Iron Man Three       2013          72   \n",
       "20                      Captain America: Civil War       2016          78   \n",
       "21                                The Hunger Games       2012          72   \n",
       "22                                      Spider-Man       2002          73   \n",
       "23                                   Jurassic Park       1993          81   \n",
       "24             Transformers: Revenge of the Fallen       2009          60   \n",
       "25                                          Frozen       2013          75   \n",
       "26                 Guardians of the Galaxy: Vol. 2       2017          76   \n",
       "27    Harry Potter and the Deathly Hallows: Part 2       2011          81   \n",
       "28                                    Finding Nemo       2003          81   \n",
       "29    Star Wars: Episode III - Revenge of the Sith       2005          75   \n",
       "...                                            ...        ...         ...   \n",
       "4684                                      Rio Lobo       1970          68   \n",
       "4685                                  Celtic Pride       1996          53   \n",
       "4686                                        Lolita       1962          76   \n",
       "4687                                    Ringmaster       1998          31   \n",
       "4688                                        Havana       1990          61   \n",
       "4689                                         Tully       2018          70   \n",
       "4690                                     Gladiator       1992          65   \n",
       "4691                                     Mrs Brown       1997          72   \n",
       "4692            Return of the Living Dead: Part II       1988          58   \n",
       "4693                                        Bernie       2011          68   \n",
       "4694                                      Bad Boys       1983          72   \n",
       "4695                    Where'd You Go, Bernadette       2019          66   \n",
       "4696                                 A Serious Man       2009          70   \n",
       "4697                                    Body Parts       1991          55   \n",
       "4698                           You Can Count on Me       2000          75   \n",
       "4699                           Pennies from Heaven       1981          65   \n",
       "4700                                       Get Low       2009          70   \n",
       "4701                   What's Eating Gilbert Grape       1993          78   \n",
       "4702                                  A Single Man       2009          76   \n",
       "4703                                         Star!       1968          65   \n",
       "4704                                  Dead Ringers       1988          73   \n",
       "4705                                       Peeples       2013          53   \n",
       "4706                                           Tap       1989          65   \n",
       "4707                  Superbabies: Baby Geniuses 2       2004          19   \n",
       "4708                                       Warlock       1989          62   \n",
       "4709                               Meet the Blacks       2016          49   \n",
       "4710                                  Sweet Dreams       1985          71   \n",
       "4711                   Flickan som lekte med elden       2009          72   \n",
       "4712                A Midsummer Night's Sex Comedy       1982          66   \n",
       "4713                                    Le divorce       2003          49   \n",
       "\n",
       "      all_meta all_votes  all_gross                                all_genres  \\\n",
       "0           81    799424  936662225     Action, Adventure, Sci-Fi               \n",
       "1           83   1065708  760507625    Action, Adventure, Fantasy               \n",
       "2           75    979853  659325379                Drama, Romance               \n",
       "3           59    549843  652270625     Action, Adventure, Sci-Fi               \n",
       "4           69   1206183  623279547     Action, Adventure, Sci-Fi               \n",
       "5           84   2132130  534858444          Action, Crime, Drama               \n",
       "6           65    493737  532177324     Action, Adventure, Sci-Fi               \n",
       "7           65    247977  504014165      Family, Fantasy, Musical               \n",
       "8           77    220167  486295561  Animation, Adventure, Comedy               \n",
       "9           51    668358  474544677    Action, Adventure, Fantasy               \n",
       "10          66    688259  459005868     Action, Adventure, Sci-Fi               \n",
       "11          78   1420236  448139099              Action, Thriller               \n",
       "12          75    391929  436471036  Animation, Adventure, Comedy               \n",
       "13          91    344841  435110554                Family, Sci-Fi               \n",
       "14          76    584033  424668047     Action, Adventure, Sci-Fi               \n",
       "15          53    622992  423315812    Action, Adventure, Fantasy               \n",
       "16          88    870762  422783777   Animation, Adventure, Drama               \n",
       "17          92    706582  415004880  Animation, Adventure, Comedy               \n",
       "18          76    506536  412563408    Action, Adventure, Fantasy               \n",
       "19          62    711040  409013994     Action, Adventure, Sci-Fi               \n",
       "20          75    608167  408084349     Action, Adventure, Sci-Fi               \n",
       "21          68    805981  408010692     Action, Adventure, Sci-Fi               \n",
       "22          73    652850  403706375     Action, Adventure, Sci-Fi               \n",
       "23          68    802112  402453882     Action, Adventure, Sci-Fi               \n",
       "24          35    369778  402111870     Action, Adventure, Sci-Fi               \n",
       "25          74    528092  400738009  Animation, Adventure, Comedy               \n",
       "26          67    510191  389813101     Action, Adventure, Comedy               \n",
       "27          87    707795  381011219     Adventure, Drama, Fantasy               \n",
       "28          90    889055  380843261  Animation, Adventure, Comedy               \n",
       "29          68    654725  380262555    Action, Adventure, Fantasy               \n",
       "...        ...       ...        ...                                       ...   \n",
       "4684        55      9633    9265000       Adventure, Romance, War               \n",
       "4685        49      9246    9255027                 Comedy, Sport               \n",
       "4686        79     85093    9250000         Crime, Drama, Romance               \n",
       "4687        49      4715    9247881                        Comedy               \n",
       "4688        49      6721    9243140           Drama, Romance, War               \n",
       "4689        75     44708    9227130        Comedy, Drama, Mystery               \n",
       "4690        49      7651    9223441          Action, Drama, Sport               \n",
       "4691        71     12686    9217930     Biography, Drama, History               \n",
       "4692        45     17164    9205924        Comedy, Horror, Sci-Fi               \n",
       "4693        75     54459    9203192      Biography, Comedy, Crime               \n",
       "4694        53     12962    9200000        Crime, Drama, Thriller               \n",
       "4695        51      2507    9198356        Comedy, Drama, Mystery               \n",
       "4696        79    124329    9190525                 Comedy, Drama               \n",
       "4697        49      3657    9188150              Horror, Thriller               \n",
       "4698        85     26421    9180275                         Drama               \n",
       "4699        49      4903    9179289       Drama, Musical, Romance               \n",
       "4700        77     21437    9176553                Drama, Mystery               \n",
       "4701        73    201095    9170214                         Drama               \n",
       "4702        77    100844    9166863                Drama, Romance               \n",
       "4703        49      1850    9156000      Biography, Comedy, Drama               \n",
       "4704        86     37419    9134733       Drama, Horror, Thriller               \n",
       "4705        52      4495    9123834               Comedy, Romance               \n",
       "4706        49      1307    9114702          Comedy, Drama, Music               \n",
       "4707         9     29219    9109322        Comedy, Family, Sci-Fi               \n",
       "4708        49     13998    9094451       Action, Fantasy, Horror               \n",
       "4709        26     35030    9093856                Comedy, Horror               \n",
       "4710        65      3894    9085049       Biography, Drama, Music               \n",
       "4711        66     86659    9081782         Crime, Drama, Mystery               \n",
       "4712        51     17461    9077269                        Comedy               \n",
       "4713        51     10686    9074550        Drama, Romance, Comedy               \n",
       "\n",
       "             id decade     budget    imdb_id genre_bis     profit  \\\n",
       "0     tt2488496    10s  245000000  tt2488496    Action  691662225   \n",
       "1     tt0499549    00s  237000000  tt0499549    Action  523507625   \n",
       "2     tt0120338    90s  200000000  tt0120338   Romance  459325379   \n",
       "3     tt0369610    10s  150000000  tt0369610    Action  502270625   \n",
       "4     tt0848228    10s  220000000  tt0848228    Action  403279547   \n",
       "5     tt0468569    00s  185000000  tt0468569    Action  349858444   \n",
       "6     tt3748528    10s  200000000  tt3748528    Action  332177324   \n",
       "7     tt2771200    10s  160000000  tt2771200        no  344014165   \n",
       "8     tt2277860    10s  200000000  tt2277860        no  286295561   \n",
       "9     tt0120915    90s  115000000  tt0120915    Action  359544677   \n",
       "10    tt2395427    10s  280000000  tt2395427    Action  179005868   \n",
       "11    tt1345836    10s  250000000  tt1345836    Action  198139099   \n",
       "12    tt0298148    00s  150000000  tt0298148        no  286471036   \n",
       "13    tt0083866    80s   10500000  tt0083866        no  424610554   \n",
       "14    tt1951264    10s  130000000  tt1951264    Action  294668047   \n",
       "15    tt0383574    00s  200000000  tt0383574    Action  223315812   \n",
       "16    tt0110357    90s   45000000  tt0110357        no  377783777   \n",
       "17    tt0435761    10s  200000000  tt0435761        no  215004880   \n",
       "18    tt0451279    10s  149000000  tt0451279    Action  263563408   \n",
       "19    tt1300854    10s  200000000  tt1300854    Action  209013994   \n",
       "20    tt3498820    10s  250000000  tt3498820    Action  158084349   \n",
       "21    tt1392170    10s   75000000  tt1392170    Action  333010692   \n",
       "22    tt0145487    00s  139000000  tt0145487    Action  264706375   \n",
       "23    tt0107290    90s   63000000  tt0107290    Action  339453882   \n",
       "24    tt1055369    00s  150000000  tt1055369    Action  252111870   \n",
       "25    tt2294629    10s  150000000  tt2294629        no  250738009   \n",
       "26    tt3896198    10s  200000000  tt3896198    Action  189813101   \n",
       "27    tt1201607    10s  125000000  tt1201607        no  256011219   \n",
       "28    tt0266543    00s   94000000  tt0266543        no  286843261   \n",
       "29    tt0121766    00s  113000000  tt0121766    Action  267262555   \n",
       "...         ...    ...        ...        ...       ...        ...   \n",
       "4684  tt0107443    70s   19000000  tt0107443   Romance    9265000   \n",
       "4685  tt0287467    90s    9285469  tt0287467        no     -30442   \n",
       "4686  tt0066301    60s   19000000  tt0066301   Romance    9250000   \n",
       "4687  tt0115851    90s   19000000  tt0115851        no    9247881   \n",
       "4688  tt3072482    90s   10000000  tt3072482   Romance    -756860   \n",
       "4689  tt0056193    10s    2000000  tt0056193        no    7227130   \n",
       "4690  tt0165494    90s    3500000  tt0165494    Action    5723441   \n",
       "4691  tt0099747    90s   40000000  tt0099747        no  -30782070   \n",
       "4692  tt0104346    80s   19000000  tt0104346        no    9205924   \n",
       "4693  tt0119280    10s   19000000  tt0119280        no    9203192   \n",
       "4694  tt0084675    80s   19000000  tt0084675        no    9200000   \n",
       "4695  tt1704573    10s    5000000  tt1704573        no    4198356   \n",
       "4696  tt0085210    00s   19000000  tt0085210        no    9190525   \n",
       "4697  tt0012190    90s   19000000  tt0012190        no    9188150   \n",
       "4698  tt1019452    00s    7000000  tt1019452        no    2180275   \n",
       "4699  tt0101492    80s   19000000  tt0101492   Romance    9179289   \n",
       "4700  tt0203230    00s   19000000  tt0203230        no    9176553   \n",
       "4701  tt0829459    90s   16000000  tt0829459        no   -6829786   \n",
       "4702  tt1194263    00s    7500000  tt1194263   Romance    1666863   \n",
       "4703  tt0108550    60s   11000000  tt0108550        no   -1844000   \n",
       "4704  tt1315981    80s    7000000  tt1315981        no    2134733   \n",
       "4705  tt0063642    10s   14320000  tt0063642   Romance   -5196166   \n",
       "4706  tt0094964    80s   13000000  tt0094964        no   -3885298   \n",
       "4707  tt0096203    00s   19000000  tt0096203        no    9109322   \n",
       "4708  tt1699755    80s         15  tt1699755    Action    9094436   \n",
       "4709  tt0098442    10s   19000000  tt0098442        no    9093856   \n",
       "4710  tt0270846    80s   19000000  tt0270846        no    9085049   \n",
       "4711  tt0098622    00s    7000000  tt0098622        no    2081782   \n",
       "4712  tt4191580    80s   19000000  tt4191580        no    9077269   \n",
       "4713  tt0090110    00s   19000000  tt0090110   Romance    9074550   \n",
       "\n",
       "      Index_all_years  budget_adjusted  gross_adjusted  profit_adjusted  \n",
       "0          237.000000     1.033755e+08    3.952161e+08     2.918406e+08  \n",
       "1          214.537000     1.104705e+08    3.544879e+08     2.440174e+08  \n",
       "2          160.516667     1.245977e+08    4.107520e+08     2.861543e+08  \n",
       "3          237.000000     6.329114e+07    2.752197e+08     2.119285e+08  \n",
       "4          229.593917     9.582135e+07    2.714704e+08     1.756491e+08  \n",
       "5          215.302500     8.592562e+07    2.484218e+08     1.624962e+08  \n",
       "6          240.000000     8.333333e+07    2.217406e+08     1.384072e+08  \n",
       "7          245.000000     6.530612e+07    2.057201e+08     1.404139e+08  \n",
       "8          240.000000     8.333333e+07    2.026232e+08     1.192898e+08  \n",
       "9          166.575000     6.903797e+07    2.848835e+08     2.158455e+08  \n",
       "10         237.000000     1.181435e+08    1.936734e+08     7.552990e+07  \n",
       "11         229.593917     1.088879e+08    1.951877e+08     8.629980e+07  \n",
       "12         188.883333     7.941410e+07    2.310797e+08     1.516656e+08  \n",
       "13          96.500000     1.088083e+07    4.508918e+08     4.400109e+08  \n",
       "14         232.957083     5.580427e+07    1.822945e+08     1.264903e+08  \n",
       "15         201.591667     9.921045e+07    2.099868e+08     1.107763e+08  \n",
       "16         148.225000     3.035925e+07    2.852311e+08     2.548718e+08  \n",
       "17         218.055500     9.171977e+07    1.903208e+08     9.860099e+07  \n",
       "18         245.000000     6.081633e+07    1.683932e+08     1.075769e+08  \n",
       "19         232.957083     8.585272e+07    1.755748e+08     8.972210e+07  \n",
       "20         240.000000     1.041667e+08    1.700351e+08     6.586848e+07  \n",
       "21         229.593917     3.266637e+07    1.777097e+08     1.450433e+08  \n",
       "22         179.875000     7.727589e+07    2.244372e+08     1.471613e+08  \n",
       "23         144.458333     4.361119e+07    2.785951e+08     2.349839e+08  \n",
       "24         214.537000     6.991801e+07    1.874324e+08     1.175144e+08  \n",
       "25         232.957083     6.438954e+07    1.720222e+08     1.076327e+08  \n",
       "26         245.000000     8.163265e+07    1.591074e+08     7.747474e+07  \n",
       "27         224.939167     5.557058e+07    1.693841e+08     1.138135e+08  \n",
       "28         183.958333     5.109853e+07    2.070269e+08     1.559284e+08  \n",
       "29         195.291667     5.786217e+07    1.947152e+08     1.368530e+08  \n",
       "...               ...              ...             ...              ...  \n",
       "4684        38.825000     1.196467e+07    2.386349e+07     2.386349e+07  \n",
       "4685       156.850000     5.919967e+06    5.900559e+06    -1.940835e+04  \n",
       "4686        30.250000     1.196467e+07    3.057851e+07     3.057851e+07  \n",
       "4687       163.008333     1.196467e+07    5.673257e+06     5.673257e+06  \n",
       "4688       130.658333     7.653549e+06    7.074283e+06    -5.792665e+05  \n",
       "4689       251.000000     7.968127e+05    3.676147e+06     2.879335e+06  \n",
       "4690       140.316667     2.494358e+06    6.573304e+06     4.078946e+06  \n",
       "4691       160.516667     2.491953e+07    5.742662e+06    -1.917687e+07  \n",
       "4692       118.258333     1.196467e+07    7.784588e+06     7.784588e+06  \n",
       "4693       224.939167     1.196467e+07    4.091414e+06     4.091414e+06  \n",
       "4694        99.600000     1.196467e+07    9.236948e+06     9.236948e+06  \n",
       "4695       256.000000     1.953125e+06    3.593108e+06     1.639983e+06  \n",
       "4696       214.537000     1.196467e+07    4.283888e+06     4.283888e+06  \n",
       "4697       136.191667     1.196467e+07    6.746485e+06     6.746485e+06  \n",
       "4698       172.200000     4.065041e+06    5.331170e+06     1.266130e+06  \n",
       "4699        90.925000     1.196467e+07    1.009545e+07     1.009545e+07  \n",
       "4700       214.537000     1.196467e+07    4.277375e+06     4.277375e+06  \n",
       "4701       144.458333     1.107586e+07    6.347999e+06    -4.727859e+06  \n",
       "4702       214.537000     3.495900e+06    4.272859e+06     7.769583e+05  \n",
       "4703        34.783333     3.162434e+07    2.632295e+07    -5.301390e+06  \n",
       "4704       118.258333     5.919245e+06    7.724388e+06     1.805144e+06  \n",
       "4705       232.957083     6.147055e+06    3.916530e+06    -2.230525e+06  \n",
       "4706       123.966667     1.048669e+07    7.352543e+06    -3.134147e+06  \n",
       "4707       188.883333     1.196467e+07    4.822724e+06     4.822724e+06  \n",
       "4708       123.966667     1.210003e+01    7.336207e+06     7.336195e+06  \n",
       "4709       240.000000     1.196467e+07    3.789107e+06     3.789107e+06  \n",
       "4710       107.566667     1.196467e+07    8.445971e+06     8.445971e+06  \n",
       "4711       214.537000     3.262840e+06    4.233201e+06     9.703604e+05  \n",
       "4712        96.500000     1.196467e+07    9.406496e+06     9.406496e+06  \n",
       "4713       183.958333     1.196467e+07    4.932938e+06     4.932938e+06  \n",
       "\n",
       "[4714 rows x 17 columns]"
      ]
     },
     "execution_count": 47,
     "metadata": {},
     "output_type": "execute_result"
    }
   ],
   "source": [
    "to_vis = data_with_inflation.replace(0,data_with_inflation.median())\n",
    "to_vis"
   ]
  },
  {
   "cell_type": "code",
   "execution_count": 48,
   "metadata": {
    "ExecuteTime": {
     "end_time": "2019-11-13T14:18:22.228457Z",
     "start_time": "2019-11-13T14:18:21.961235Z"
    },
    "hidden": true
   },
   "outputs": [
    {
     "data": {
      "image/png": "[encoded data removed]",
      "text/plain": [
       "<Figure size 1080x432 with 1 Axes>"
      ]
     },
     "metadata": {},
     "output_type": "display_data"
    }
   ],
   "source": [
    "plt.style.use('seaborn-white')\n",
    "fig = plt.figure(figsize=(15,6))\n",
    "\n",
    "g = sns.boxplot(x=data_with_inflation['decade'], y=data_with_inflation['gross_adjusted'])\n",
    "# g.set_yscale(\"log\")\n",
    "\n",
    "plt.title('Adjusted gross revenue')\n",
    "\n",
    "plt.xticks(rotation=90)\n",
    "\n",
    "plt.show()\n"
   ]
  },
  {
   "cell_type": "code",
   "execution_count": 49,
   "metadata": {
    "ExecuteTime": {
     "end_time": "2019-11-13T14:18:32.081519Z",
     "start_time": "2019-11-13T14:18:31.834818Z"
    },
    "hidden": true
   },
   "outputs": [
    {
     "data": {
      "image/png": "[encoded data removed]",
      "text/plain": [
       "<Figure size 1080x432 with 1 Axes>"
      ]
     },
     "metadata": {},
     "output_type": "display_data"
    }
   ],
   "source": [
    "plt.style.use('seaborn-white')\n",
    "fig = plt.figure(figsize=(15,6))\n",
    "\n",
    "\n",
    "g = sns.boxplot(x=data_with_inflation['decade'], y=data_with_inflation['profit_adjusted'])\n",
    "# g.set_yscale(\"log\")\n",
    "\n",
    "plt.title('Adjusted Profit')\n",
    "\n",
    "plt.xticks(rotation=90)\n",
    "\n",
    "plt.show()"
   ]
  },
  {
   "cell_type": "code",
   "execution_count": 50,
   "metadata": {
    "ExecuteTime": {
     "end_time": "2019-11-13T14:18:41.965937Z",
     "start_time": "2019-11-13T14:18:41.740127Z"
    },
    "hidden": true
   },
   "outputs": [
    {
     "data": {
      "image/png": "[encoded data removed]",
      "text/plain": [
       "<Figure size 1080x432 with 1 Axes>"
      ]
     },
     "metadata": {},
     "output_type": "display_data"
    }
   ],
   "source": [
    "plt.style.use('seaborn-white')\n",
    "fig = plt.figure(figsize=(15,6))\n",
    "\n",
    "\n",
    "g = sns.boxplot(x=data_with_inflation['decade'], y=data_with_inflation['budget_adjusted'])\n",
    "# g.set_yscale(\"log\")\n",
    "\n",
    "plt.title('Adjusted budget')\n",
    "\n",
    "plt.xticks(rotation=90)\n",
    "\n",
    "plt.show()"
   ]
  },
  {
   "cell_type": "code",
   "execution_count": null,
   "metadata": {
    "ExecuteTime": {
     "end_time": "2019-11-13T13:57:15.086407Z",
     "start_time": "2019-11-13T13:57:15.082668Z"
    },
    "hidden": true
   },
   "outputs": [],
   "source": [
    "# plt.style.use('seaborn-white')\n",
    "# fig = plt.figure(figsize=(15,6))\n",
    "\n",
    "\n",
    "# g = sns.boxplot(x=data_with_inflation['decade'], y=data_with_inflation['all_scores'])\n",
    "# # g.set_yscale(\"log\")\n",
    "\n",
    "# plt.title('Adjusted budget')\n",
    "\n",
    "# plt.xticks(rotation=90)\n",
    "\n",
    "# plt.show()"
   ]
  },
  {
   "cell_type": "code",
   "execution_count": 51,
   "metadata": {
    "ExecuteTime": {
     "end_time": "2019-11-13T14:18:54.081306Z",
     "start_time": "2019-11-13T14:18:53.884369Z"
    },
    "hidden": true
   },
   "outputs": [
    {
     "data": {
      "image/png": "[encoded data removed]",
      "text/plain": [
       "<Figure size 1080x432 with 1 Axes>"
      ]
     },
     "metadata": {},
     "output_type": "display_data"
    }
   ],
   "source": [
    "plt.style.use('seaborn-white')\n",
    "fig = plt.figure(figsize=(15,6))\n",
    "\n",
    "\n",
    "g = sns.boxplot(x=data_with_inflation['genre_bis'], y=data_with_inflation['budget_adjusted'])\n",
    "# g.set_yscale(\"log\")\n",
    "\n",
    "plt.title('Adjusted budget per Genre')\n",
    "\n",
    "plt.xticks(rotation=90)\n",
    "\n",
    "plt.show()"
   ]
  },
  {
   "cell_type": "code",
   "execution_count": null,
   "metadata": {
    "ExecuteTime": {
     "end_time": "2019-11-13T14:03:53.473943Z",
     "start_time": "2019-11-13T14:03:53.465606Z"
    },
    "hidden": true
   },
   "outputs": [],
   "source": []
  },
  {
   "cell_type": "code",
   "execution_count": 52,
   "metadata": {
    "ExecuteTime": {
     "end_time": "2019-11-13T14:19:17.196252Z",
     "start_time": "2019-11-13T14:19:16.901018Z"
    },
    "hidden": true
   },
   "outputs": [
    {
     "data": {
      "text/plain": [
       "<matplotlib.axes._subplots.AxesSubplot at 0x1a24e10438>"
      ]
     },
     "execution_count": 52,
     "metadata": {},
     "output_type": "execute_result"
    },
    {
     "data": {
      "image/png": "[encoded data removed]",
      "text/plain": [
       "<Figure size 432x288 with 1 Axes>"
      ]
     },
     "metadata": {},
     "output_type": "display_data"
    }
   ],
   "source": [
    "sns.distplot(data_with_inflation[data_with_inflation['genre_bis']=='Action'].budget_adjusted)\n",
    "\n",
    "sns.distplot(data_with_inflation[data_with_inflation['genre_bis']=='Romance'].budget_adjusted)"
   ]
  },
  {
   "cell_type": "code",
   "execution_count": null,
   "metadata": {
    "ExecuteTime": {
     "end_time": "2019-11-13T13:53:35.192451Z",
     "start_time": "2019-11-13T13:53:35.190218Z"
    },
    "hidden": true
   },
   "outputs": [],
   "source": [
    "# data_with_inflation[data_with_inflation['genre_bis']=='Action'].budget_adjusted.value_counts()"
   ]
  }
 ],
 "metadata": {
  "hide_input": false,
  "kernelspec": {
   "display_name": "Python 3",
   "language": "python",
   "name": "python3"
  },
  "language_info": {
   "codemirror_mode": {
    "name": "ipython",
    "version": 3
   },
   "file_extension": ".py",
   "mimetype": "text/x-python",
   "name": "python",
   "nbconvert_exporter": "python",
   "pygments_lexer": "ipython3",
   "version": "3.7.3"
  },
  "toc": {
   "base_numbering": 1,
   "nav_menu": {},
   "number_sections": true,
   "sideBar": true,
   "skip_h1_title": false,
   "title_cell": "Table of Contents",
   "title_sidebar": "Contents",
   "toc_cell": false,
   "toc_position": {
    "height": "calc(100% - 180px)",
    "left": "10px",
    "top": "150px",
    "width": "288px"
   },
   "toc_section_display": true,
   "toc_window_display": true
  },
  "varInspector": {
   "cols": {
    "lenName": 16,
    "lenType": 16,
    "lenVar": 40
   },
   "kernels_config": {
    "python": {
     "delete_cmd_postfix": "",
     "delete_cmd_prefix": "del ",
     "library": "var_list.py",
     "varRefreshCmd": "print(var_dic_list())"
    },
    "r": {
     "delete_cmd_postfix": ") ",
     "delete_cmd_prefix": "rm(",
     "library": "var_list.r",
     "varRefreshCmd": "cat(var_dic_list()) "
    }
   },
   "types_to_exclude": [
    "module",
    "function",
    "builtin_function_or_method",
    "instance",
    "_Feature"
   ],
   "window_display": false
  }
 },
 "nbformat": 4,
 "nbformat_minor": 2
}
