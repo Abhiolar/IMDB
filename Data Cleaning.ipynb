{
 "cells": [
  {
   "cell_type": "code",
   "execution_count": 1,
   "metadata": {
    "ExecuteTime": {
     "end_time": "2019-11-13T08:26:46.582184Z",
     "start_time": "2019-11-13T08:26:43.317992Z"
    }
   },
   "outputs": [],
   "source": [
    "import pandas as pd \n",
    "import numpy as np \n",
    "from matplotlib import pyplot as plt\n",
    "%matplotlib inline\n",
    "import seaborn as sns"
   ]
  },
  {
   "cell_type": "markdown",
   "metadata": {},
   "source": [
    "# Importing data /quick exploration"
   ]
  },
  {
   "cell_type": "code",
   "execution_count": 2,
   "metadata": {
    "ExecuteTime": {
     "end_time": "2019-11-13T08:26:46.665231Z",
     "start_time": "2019-11-13T08:26:46.586925Z"
    }
   },
   "outputs": [],
   "source": [
    "data = pd.read_csv('movies_last.csv')"
   ]
  },
  {
   "cell_type": "code",
   "execution_count": 3,
   "metadata": {
    "ExecuteTime": {
     "end_time": "2019-11-13T08:26:46.718798Z",
     "start_time": "2019-11-13T08:26:46.672881Z"
    }
   },
   "outputs": [
    {
     "data": {
      "text/html": [
       "<div>\n",
       "<style scoped>\n",
       "    .dataframe tbody tr th:only-of-type {\n",
       "        vertical-align: middle;\n",
       "    }\n",
       "\n",
       "    .dataframe tbody tr th {\n",
       "        vertical-align: top;\n",
       "    }\n",
       "\n",
       "    .dataframe thead th {\n",
       "        text-align: right;\n",
       "    }\n",
       "</style>\n",
       "<table border=\"1\" class=\"dataframe\">\n",
       "  <thead>\n",
       "    <tr style=\"text-align: right;\">\n",
       "      <th></th>\n",
       "      <th>Unnamed: 0</th>\n",
       "      <th>Unnamed: 0.1</th>\n",
       "      <th>all_titles</th>\n",
       "      <th>all_years</th>\n",
       "      <th>all_scores</th>\n",
       "      <th>all_meta</th>\n",
       "      <th>all_votes</th>\n",
       "      <th>all_gross</th>\n",
       "      <th>all_genres</th>\n",
       "      <th>id</th>\n",
       "    </tr>\n",
       "  </thead>\n",
       "  <tbody>\n",
       "    <tr>\n",
       "      <th>0</th>\n",
       "      <td>0</td>\n",
       "      <td>0</td>\n",
       "      <td>Star Wars: Episode VII - The Force Awakens</td>\n",
       "      <td>(2015)</td>\n",
       "      <td>7.9</td>\n",
       "      <td>81</td>\n",
       "      <td>799424</td>\n",
       "      <td>936,662,225</td>\n",
       "      <td>\\nAction, Adventure, Sci-Fi</td>\n",
       "      <td>tt2488496</td>\n",
       "    </tr>\n",
       "    <tr>\n",
       "      <th>1</th>\n",
       "      <td>1</td>\n",
       "      <td>1</td>\n",
       "      <td>Avengers: Endgame</td>\n",
       "      <td>(2019)</td>\n",
       "      <td>8.5</td>\n",
       "      <td>78</td>\n",
       "      <td>598830</td>\n",
       "      <td>858,373,000</td>\n",
       "      <td>\\nAction, Adventure, Drama</td>\n",
       "      <td>tt4154796</td>\n",
       "    </tr>\n",
       "    <tr>\n",
       "      <th>2</th>\n",
       "      <td>2</td>\n",
       "      <td>2</td>\n",
       "      <td>Avatar</td>\n",
       "      <td>(2009)</td>\n",
       "      <td>7.8</td>\n",
       "      <td>83</td>\n",
       "      <td>1065708</td>\n",
       "      <td>760,507,625</td>\n",
       "      <td>\\nAction, Adventure, Fantasy</td>\n",
       "      <td>tt0499549</td>\n",
       "    </tr>\n",
       "    <tr>\n",
       "      <th>3</th>\n",
       "      <td>3</td>\n",
       "      <td>3</td>\n",
       "      <td>Black Panther</td>\n",
       "      <td>(2018)</td>\n",
       "      <td>7.3</td>\n",
       "      <td>88</td>\n",
       "      <td>550256</td>\n",
       "      <td>700,059,566</td>\n",
       "      <td>\\nAction, Adventure, Sci-Fi</td>\n",
       "      <td>tt1825683</td>\n",
       "    </tr>\n",
       "    <tr>\n",
       "      <th>4</th>\n",
       "      <td>4</td>\n",
       "      <td>4</td>\n",
       "      <td>Avengers: Infinity War</td>\n",
       "      <td>(2018)</td>\n",
       "      <td>8.5</td>\n",
       "      <td>68</td>\n",
       "      <td>723574</td>\n",
       "      <td>678,815,482</td>\n",
       "      <td>\\nAction, Adventure, Sci-Fi</td>\n",
       "      <td>tt4154756</td>\n",
       "    </tr>\n",
       "  </tbody>\n",
       "</table>\n",
       "</div>"
      ],
      "text/plain": [
       "   Unnamed: 0  Unnamed: 0.1                                  all_titles  \\\n",
       "0           0             0  Star Wars: Episode VII - The Force Awakens   \n",
       "1           1             1                           Avengers: Endgame   \n",
       "2           2             2                                      Avatar   \n",
       "3           3             3                               Black Panther   \n",
       "4           4             4                      Avengers: Infinity War   \n",
       "\n",
       "  all_years all_scores    all_meta all_votes    all_gross  \\\n",
       "0    (2015)        7.9  81            799424  936,662,225   \n",
       "1    (2019)        8.5  78            598830  858,373,000   \n",
       "2    (2009)        7.8  83           1065708  760,507,625   \n",
       "3    (2018)        7.3  88            550256  700,059,566   \n",
       "4    (2018)        8.5  68            723574  678,815,482   \n",
       "\n",
       "                                 all_genres         id  \n",
       "0   \\nAction, Adventure, Sci-Fi              tt2488496  \n",
       "1    \\nAction, Adventure, Drama              tt4154796  \n",
       "2  \\nAction, Adventure, Fantasy              tt0499549  \n",
       "3   \\nAction, Adventure, Sci-Fi              tt1825683  \n",
       "4   \\nAction, Adventure, Sci-Fi              tt4154756  "
      ]
     },
     "execution_count": 3,
     "metadata": {},
     "output_type": "execute_result"
    }
   ],
   "source": [
    "data.head()"
   ]
  },
  {
   "cell_type": "code",
   "execution_count": 4,
   "metadata": {
    "ExecuteTime": {
     "end_time": "2019-11-13T08:26:46.739930Z",
     "start_time": "2019-11-13T08:26:46.728383Z"
    }
   },
   "outputs": [],
   "source": [
    "data.drop(['Unnamed: 0', 'Unnamed: 0.1'], axis=1, inplace = True)"
   ]
  },
  {
   "cell_type": "code",
   "execution_count": 5,
   "metadata": {
    "ExecuteTime": {
     "end_time": "2019-11-13T08:26:46.769317Z",
     "start_time": "2019-11-13T08:26:46.745467Z"
    }
   },
   "outputs": [
    {
     "name": "stdout",
     "output_type": "stream",
     "text": [
      "<class 'pandas.core.frame.DataFrame'>\n",
      "RangeIndex: 5050 entries, 0 to 5049\n",
      "Data columns (total 8 columns):\n",
      "all_titles    5050 non-null object\n",
      "all_years     5050 non-null object\n",
      "all_scores    5050 non-null object\n",
      "all_meta      5050 non-null object\n",
      "all_votes     5050 non-null object\n",
      "all_gross     5050 non-null object\n",
      "all_genres    5050 non-null object\n",
      "id            5050 non-null object\n",
      "dtypes: object(8)\n",
      "memory usage: 315.7+ KB\n"
     ]
    }
   ],
   "source": [
    "data.info()"
   ]
  },
  {
   "cell_type": "code",
   "execution_count": 6,
   "metadata": {
    "ExecuteTime": {
     "end_time": "2019-11-13T08:26:46.801679Z",
     "start_time": "2019-11-13T08:26:46.775003Z"
    }
   },
   "outputs": [
    {
     "data": {
      "text/html": [
       "<div>\n",
       "<style scoped>\n",
       "    .dataframe tbody tr th:only-of-type {\n",
       "        vertical-align: middle;\n",
       "    }\n",
       "\n",
       "    .dataframe tbody tr th {\n",
       "        vertical-align: top;\n",
       "    }\n",
       "\n",
       "    .dataframe thead th {\n",
       "        text-align: right;\n",
       "    }\n",
       "</style>\n",
       "<table border=\"1\" class=\"dataframe\">\n",
       "  <thead>\n",
       "    <tr style=\"text-align: right;\">\n",
       "      <th></th>\n",
       "      <th>all_titles</th>\n",
       "      <th>all_years</th>\n",
       "      <th>all_scores</th>\n",
       "      <th>all_meta</th>\n",
       "      <th>all_votes</th>\n",
       "      <th>all_gross</th>\n",
       "      <th>all_genres</th>\n",
       "      <th>id</th>\n",
       "    </tr>\n",
       "  </thead>\n",
       "  <tbody>\n",
       "    <tr>\n",
       "      <th>0</th>\n",
       "      <td>Star Wars: Episode VII - The Force Awakens</td>\n",
       "      <td>(2015)</td>\n",
       "      <td>7.9</td>\n",
       "      <td>81</td>\n",
       "      <td>799424</td>\n",
       "      <td>936,662,225</td>\n",
       "      <td>\\nAction, Adventure, Sci-Fi</td>\n",
       "      <td>tt2488496</td>\n",
       "    </tr>\n",
       "    <tr>\n",
       "      <th>1</th>\n",
       "      <td>Avengers: Endgame</td>\n",
       "      <td>(2019)</td>\n",
       "      <td>8.5</td>\n",
       "      <td>78</td>\n",
       "      <td>598830</td>\n",
       "      <td>858,373,000</td>\n",
       "      <td>\\nAction, Adventure, Drama</td>\n",
       "      <td>tt4154796</td>\n",
       "    </tr>\n",
       "    <tr>\n",
       "      <th>2</th>\n",
       "      <td>Avatar</td>\n",
       "      <td>(2009)</td>\n",
       "      <td>7.8</td>\n",
       "      <td>83</td>\n",
       "      <td>1065708</td>\n",
       "      <td>760,507,625</td>\n",
       "      <td>\\nAction, Adventure, Fantasy</td>\n",
       "      <td>tt0499549</td>\n",
       "    </tr>\n",
       "    <tr>\n",
       "      <th>3</th>\n",
       "      <td>Black Panther</td>\n",
       "      <td>(2018)</td>\n",
       "      <td>7.3</td>\n",
       "      <td>88</td>\n",
       "      <td>550256</td>\n",
       "      <td>700,059,566</td>\n",
       "      <td>\\nAction, Adventure, Sci-Fi</td>\n",
       "      <td>tt1825683</td>\n",
       "    </tr>\n",
       "    <tr>\n",
       "      <th>4</th>\n",
       "      <td>Avengers: Infinity War</td>\n",
       "      <td>(2018)</td>\n",
       "      <td>8.5</td>\n",
       "      <td>68</td>\n",
       "      <td>723574</td>\n",
       "      <td>678,815,482</td>\n",
       "      <td>\\nAction, Adventure, Sci-Fi</td>\n",
       "      <td>tt4154756</td>\n",
       "    </tr>\n",
       "  </tbody>\n",
       "</table>\n",
       "</div>"
      ],
      "text/plain": [
       "                                   all_titles all_years all_scores  \\\n",
       "0  Star Wars: Episode VII - The Force Awakens    (2015)        7.9   \n",
       "1                           Avengers: Endgame    (2019)        8.5   \n",
       "2                                      Avatar    (2009)        7.8   \n",
       "3                               Black Panther    (2018)        7.3   \n",
       "4                      Avengers: Infinity War    (2018)        8.5   \n",
       "\n",
       "     all_meta all_votes    all_gross  \\\n",
       "0  81            799424  936,662,225   \n",
       "1  78            598830  858,373,000   \n",
       "2  83           1065708  760,507,625   \n",
       "3  88            550256  700,059,566   \n",
       "4  68            723574  678,815,482   \n",
       "\n",
       "                                 all_genres         id  \n",
       "0   \\nAction, Adventure, Sci-Fi              tt2488496  \n",
       "1    \\nAction, Adventure, Drama              tt4154796  \n",
       "2  \\nAction, Adventure, Fantasy              tt0499549  \n",
       "3   \\nAction, Adventure, Sci-Fi              tt1825683  \n",
       "4   \\nAction, Adventure, Sci-Fi              tt4154756  "
      ]
     },
     "execution_count": 6,
     "metadata": {},
     "output_type": "execute_result"
    }
   ],
   "source": [
    "data.head()"
   ]
  },
  {
   "cell_type": "markdown",
   "metadata": {},
   "source": [
    "# Clean data "
   ]
  },
  {
   "cell_type": "code",
   "execution_count": 7,
   "metadata": {
    "ExecuteTime": {
     "end_time": "2019-11-13T08:26:46.815813Z",
     "start_time": "2019-11-13T08:26:46.806390Z"
    }
   },
   "outputs": [],
   "source": [
    "import re"
   ]
  },
  {
   "cell_type": "code",
   "execution_count": 8,
   "metadata": {
    "ExecuteTime": {
     "end_time": "2019-11-13T08:26:46.957762Z",
     "start_time": "2019-11-13T08:26:46.831712Z"
    }
   },
   "outputs": [],
   "source": [
    "data['all_years'] = data['all_years'].apply(lambda x: re.sub('[^0-9]','', x))\n",
    "\n",
    "data['all_genres'] = data['all_genres'].apply(lambda x: x[1:])\n",
    "\n",
    "data['all_gross'] = data['all_gross'].apply(lambda x: x.replace(',',''))\n",
    "data['all_gross'] = data['all_gross'].apply(lambda x:  int(x) if x != 'no' else 0)\n",
    "\n",
    "data['all_scores'] = data['all_scores'].apply(lambda x: x.replace('.',''))\n",
    "data['all_scores'] = data['all_scores'].apply(lambda x: int(x) if x != 'NO' else 0)\n",
    "\n",
    "data['all_meta'] = data['all_meta'].apply(lambda x: int(x.replace('.','')) if x != 'no' else 0)\n",
    "\n",
    "data['all_years'] = data['all_years'].apply(lambda x: int(x))\n",
    "\n",
    "\n",
    "\n"
   ]
  },
  {
   "cell_type": "code",
   "execution_count": 9,
   "metadata": {
    "ExecuteTime": {
     "end_time": "2019-11-13T08:26:46.972924Z",
     "start_time": "2019-11-13T08:26:46.967857Z"
    }
   },
   "outputs": [],
   "source": [
    "# data.all_years.value_counts(normalize=True).sort_index()"
   ]
  },
  {
   "cell_type": "code",
   "execution_count": 10,
   "metadata": {
    "ExecuteTime": {
     "end_time": "2019-11-13T08:26:46.985259Z",
     "start_time": "2019-11-13T08:26:46.977612Z"
    }
   },
   "outputs": [],
   "source": [
    "# sns.distplot(data.all_gross)"
   ]
  },
  {
   "cell_type": "code",
   "execution_count": 11,
   "metadata": {
    "ExecuteTime": {
     "end_time": "2019-11-13T08:26:46.997446Z",
     "start_time": "2019-11-13T08:26:46.992033Z"
    }
   },
   "outputs": [],
   "source": [
    "# sns.distplot(data.all_meta)"
   ]
  },
  {
   "cell_type": "markdown",
   "metadata": {},
   "source": [
    "# Importing external csv to get the budget "
   ]
  },
  {
   "cell_type": "code",
   "execution_count": 12,
   "metadata": {
    "ExecuteTime": {
     "end_time": "2019-11-13T08:26:48.519845Z",
     "start_time": "2019-11-13T08:26:47.001944Z"
    }
   },
   "outputs": [
    {
     "name": "stderr",
     "output_type": "stream",
     "text": [
      "/Users/carloscutillas/anaconda3/lib/python3.7/site-packages/IPython/core/interactiveshell.py:3057: DtypeWarning: Columns (10) have mixed types. Specify dtype option on import or set low_memory=False.\n",
      "  interactivity=interactivity, compiler=compiler, result=result)\n"
     ]
    }
   ],
   "source": [
    "movies_metadata = pd.read_csv('movies_metadata.csv')"
   ]
  },
  {
   "cell_type": "code",
   "execution_count": 13,
   "metadata": {
    "ExecuteTime": {
     "end_time": "2019-11-13T08:26:48.548672Z",
     "start_time": "2019-11-13T08:26:48.527497Z"
    }
   },
   "outputs": [],
   "source": [
    "budget_and_id = movies_metadata[['budget', 'imdb_id']]"
   ]
  },
  {
   "cell_type": "code",
   "execution_count": 14,
   "metadata": {
    "ExecuteTime": {
     "end_time": "2019-11-13T08:26:48.558706Z",
     "start_time": "2019-11-13T08:26:48.553497Z"
    }
   },
   "outputs": [],
   "source": [
    "# budget_and_id"
   ]
  },
  {
   "cell_type": "markdown",
   "metadata": {},
   "source": [
    "# Creating new dataframe"
   ]
  },
  {
   "cell_type": "code",
   "execution_count": 15,
   "metadata": {
    "ExecuteTime": {
     "end_time": "2019-11-13T08:26:48.666746Z",
     "start_time": "2019-11-13T08:26:48.563818Z"
    }
   },
   "outputs": [],
   "source": [
    "all_data = pd.merge(data, budget_and_id,how='left', left_on='id', right_on='imdb_id')"
   ]
  },
  {
   "cell_type": "code",
   "execution_count": 18,
   "metadata": {
    "ExecuteTime": {
     "end_time": "2019-11-13T08:27:25.061787Z",
     "start_time": "2019-11-13T08:27:25.056998Z"
    }
   },
   "outputs": [],
   "source": [
    "# all_data.head(5)"
   ]
  },
  {
   "cell_type": "code",
   "execution_count": 19,
   "metadata": {
    "ExecuteTime": {
     "end_time": "2019-11-13T08:27:38.370216Z",
     "start_time": "2019-11-13T08:27:38.348709Z"
    }
   },
   "outputs": [],
   "source": [
    "all_data.dropna(inplace=True)"
   ]
  },
  {
   "cell_type": "code",
   "execution_count": 20,
   "metadata": {
    "ExecuteTime": {
     "end_time": "2019-11-13T08:27:43.940820Z",
     "start_time": "2019-11-13T08:27:43.930236Z"
    }
   },
   "outputs": [],
   "source": [
    "all_data['budget'] = all_data['budget'].astype(int)"
   ]
  },
  {
   "cell_type": "code",
   "execution_count": null,
   "metadata": {
    "ExecuteTime": {
     "end_time": "2019-11-13T08:26:49.585976Z",
     "start_time": "2019-11-13T08:26:43.453Z"
    }
   },
   "outputs": [],
   "source": []
  },
  {
   "cell_type": "code",
   "execution_count": 21,
   "metadata": {
    "ExecuteTime": {
     "end_time": "2019-11-13T08:27:50.927057Z",
     "start_time": "2019-11-13T08:27:50.915967Z"
    }
   },
   "outputs": [
    {
     "name": "stdout",
     "output_type": "stream",
     "text": [
      "<class 'pandas.core.frame.DataFrame'>\n",
      "Int64Index: 4745 entries, 0 to 5053\n",
      "Data columns (total 10 columns):\n",
      "all_titles    4745 non-null object\n",
      "all_years     4745 non-null int64\n",
      "all_scores    4745 non-null int64\n",
      "all_meta      4745 non-null int64\n",
      "all_votes     4745 non-null object\n",
      "all_gross     4745 non-null int64\n",
      "all_genres    4745 non-null object\n",
      "id            4745 non-null object\n",
      "budget        4745 non-null int64\n",
      "imdb_id       4745 non-null object\n",
      "dtypes: int64(5), object(5)\n",
      "memory usage: 407.8+ KB\n"
     ]
    }
   ],
   "source": [
    "all_data.info()"
   ]
  },
  {
   "cell_type": "code",
   "execution_count": 22,
   "metadata": {
    "ExecuteTime": {
     "end_time": "2019-11-13T08:27:56.889250Z",
     "start_time": "2019-11-13T08:27:56.886305Z"
    }
   },
   "outputs": [],
   "source": [
    "# sns.distplot(all_data.all_years)"
   ]
  },
  {
   "cell_type": "code",
   "execution_count": 23,
   "metadata": {
    "ExecuteTime": {
     "end_time": "2019-11-13T08:27:59.264127Z",
     "start_time": "2019-11-13T08:27:59.258306Z"
    }
   },
   "outputs": [],
   "source": [
    "all_data['genre_bis'] = all_data['all_genres'].apply(lambda x: 'Action' if 'Action' in x\n",
    "                                                     else ('Romance' if 'Romance' in x else 'no'))"
   ]
  },
  {
   "cell_type": "code",
   "execution_count": 24,
   "metadata": {
    "ExecuteTime": {
     "end_time": "2019-11-13T08:28:01.569866Z",
     "start_time": "2019-11-13T08:28:01.562978Z"
    }
   },
   "outputs": [
    {
     "data": {
      "text/plain": [
       "no         2685\n",
       "Action     1219\n",
       "Romance     841\n",
       "Name: genre_bis, dtype: int64"
      ]
     },
     "execution_count": 24,
     "metadata": {},
     "output_type": "execute_result"
    }
   ],
   "source": [
    "all_data.genre_bis.value_counts()"
   ]
  },
  {
   "cell_type": "code",
   "execution_count": 25,
   "metadata": {
    "ExecuteTime": {
     "end_time": "2019-11-13T08:28:24.605448Z",
     "start_time": "2019-11-13T08:28:24.600563Z"
    }
   },
   "outputs": [
    {
     "data": {
      "text/plain": [
       "(5050, 8)"
      ]
     },
     "execution_count": 25,
     "metadata": {},
     "output_type": "execute_result"
    }
   ],
   "source": [
    "data.shape"
   ]
  },
  {
   "cell_type": "code",
   "execution_count": 26,
   "metadata": {
    "ExecuteTime": {
     "end_time": "2019-11-13T08:29:01.103890Z",
     "start_time": "2019-11-13T08:29:01.089372Z"
    }
   },
   "outputs": [
    {
     "data": {
      "text/html": [
       "<div>\n",
       "<style scoped>\n",
       "    .dataframe tbody tr th:only-of-type {\n",
       "        vertical-align: middle;\n",
       "    }\n",
       "\n",
       "    .dataframe tbody tr th {\n",
       "        vertical-align: top;\n",
       "    }\n",
       "\n",
       "    .dataframe thead th {\n",
       "        text-align: right;\n",
       "    }\n",
       "</style>\n",
       "<table border=\"1\" class=\"dataframe\">\n",
       "  <thead>\n",
       "    <tr style=\"text-align: right;\">\n",
       "      <th></th>\n",
       "      <th>all_titles</th>\n",
       "      <th>all_years</th>\n",
       "      <th>all_scores</th>\n",
       "      <th>all_meta</th>\n",
       "      <th>all_votes</th>\n",
       "      <th>all_gross</th>\n",
       "      <th>all_genres</th>\n",
       "      <th>id</th>\n",
       "      <th>budget</th>\n",
       "      <th>imdb_id</th>\n",
       "      <th>genre_bis</th>\n",
       "    </tr>\n",
       "  </thead>\n",
       "  <tbody>\n",
       "    <tr>\n",
       "      <th>0</th>\n",
       "      <td>Star Wars: Episode VII - The Force Awakens</td>\n",
       "      <td>2015</td>\n",
       "      <td>79</td>\n",
       "      <td>81</td>\n",
       "      <td>799424</td>\n",
       "      <td>936662225</td>\n",
       "      <td>Action, Adventure, Sci-Fi</td>\n",
       "      <td>tt2488496</td>\n",
       "      <td>245000000</td>\n",
       "      <td>tt2488496</td>\n",
       "      <td>Action</td>\n",
       "    </tr>\n",
       "    <tr>\n",
       "      <th>2</th>\n",
       "      <td>Avatar</td>\n",
       "      <td>2009</td>\n",
       "      <td>78</td>\n",
       "      <td>83</td>\n",
       "      <td>1065708</td>\n",
       "      <td>760507625</td>\n",
       "      <td>Action, Adventure, Fantasy</td>\n",
       "      <td>tt0499549</td>\n",
       "      <td>237000000</td>\n",
       "      <td>tt0499549</td>\n",
       "      <td>Action</td>\n",
       "    </tr>\n",
       "    <tr>\n",
       "      <th>5</th>\n",
       "      <td>Titanic</td>\n",
       "      <td>1997</td>\n",
       "      <td>78</td>\n",
       "      <td>75</td>\n",
       "      <td>979853</td>\n",
       "      <td>659325379</td>\n",
       "      <td>Drama, Romance</td>\n",
       "      <td>tt0120338</td>\n",
       "      <td>200000000</td>\n",
       "      <td>tt0120338</td>\n",
       "      <td>Romance</td>\n",
       "    </tr>\n",
       "    <tr>\n",
       "      <th>6</th>\n",
       "      <td>Jurassic World</td>\n",
       "      <td>2015</td>\n",
       "      <td>70</td>\n",
       "      <td>59</td>\n",
       "      <td>549843</td>\n",
       "      <td>652270625</td>\n",
       "      <td>Action, Adventure, Sci-Fi</td>\n",
       "      <td>tt0369610</td>\n",
       "      <td>150000000</td>\n",
       "      <td>tt0369610</td>\n",
       "      <td>Action</td>\n",
       "    </tr>\n",
       "    <tr>\n",
       "      <th>7</th>\n",
       "      <td>Avengers Assemble</td>\n",
       "      <td>2012</td>\n",
       "      <td>80</td>\n",
       "      <td>69</td>\n",
       "      <td>1206183</td>\n",
       "      <td>623279547</td>\n",
       "      <td>Action, Adventure, Sci-Fi</td>\n",
       "      <td>tt0848228</td>\n",
       "      <td>220000000</td>\n",
       "      <td>tt0848228</td>\n",
       "      <td>Action</td>\n",
       "    </tr>\n",
       "  </tbody>\n",
       "</table>\n",
       "</div>"
      ],
      "text/plain": [
       "                                   all_titles  all_years  all_scores  \\\n",
       "0  Star Wars: Episode VII - The Force Awakens       2015          79   \n",
       "2                                      Avatar       2009          78   \n",
       "5                                     Titanic       1997          78   \n",
       "6                              Jurassic World       2015          70   \n",
       "7                           Avengers Assemble       2012          80   \n",
       "\n",
       "   all_meta all_votes  all_gross                              all_genres  \\\n",
       "0        81    799424  936662225   Action, Adventure, Sci-Fi               \n",
       "2        83   1065708  760507625  Action, Adventure, Fantasy               \n",
       "5        75    979853  659325379              Drama, Romance               \n",
       "6        59    549843  652270625   Action, Adventure, Sci-Fi               \n",
       "7        69   1206183  623279547   Action, Adventure, Sci-Fi               \n",
       "\n",
       "          id     budget    imdb_id genre_bis  \n",
       "0  tt2488496  245000000  tt2488496    Action  \n",
       "2  tt0499549  237000000  tt0499549    Action  \n",
       "5  tt0120338  200000000  tt0120338   Romance  \n",
       "6  tt0369610  150000000  tt0369610    Action  \n",
       "7  tt0848228  220000000  tt0848228    Action  "
      ]
     },
     "execution_count": 26,
     "metadata": {},
     "output_type": "execute_result"
    }
   ],
   "source": [
    "all_data.head()"
   ]
  },
  {
   "cell_type": "code",
   "execution_count": 27,
   "metadata": {
    "ExecuteTime": {
     "end_time": "2019-11-13T08:29:10.197451Z",
     "start_time": "2019-11-13T08:29:10.181320Z"
    }
   },
   "outputs": [],
   "source": [
    "all_data['profit'] = all_data['all_gross'] - all_data['budget']"
   ]
  },
  {
   "cell_type": "code",
   "execution_count": null,
   "metadata": {
    "ExecuteTime": {
     "end_time": "2019-11-13T08:26:49.644034Z",
     "start_time": "2019-11-13T08:26:43.527Z"
    }
   },
   "outputs": [],
   "source": [
    "sns.distplot(all_data.profit)"
   ]
  },
  {
   "cell_type": "code",
   "execution_count": 29,
   "metadata": {
    "ExecuteTime": {
     "end_time": "2019-11-13T08:29:22.268631Z",
     "start_time": "2019-11-13T08:29:22.230279Z"
    }
   },
   "outputs": [
    {
     "data": {
      "text/html": [
       "<div>\n",
       "<style scoped>\n",
       "    .dataframe tbody tr th:only-of-type {\n",
       "        vertical-align: middle;\n",
       "    }\n",
       "\n",
       "    .dataframe tbody tr th {\n",
       "        vertical-align: top;\n",
       "    }\n",
       "\n",
       "    .dataframe thead th {\n",
       "        text-align: right;\n",
       "    }\n",
       "</style>\n",
       "<table border=\"1\" class=\"dataframe\">\n",
       "  <thead>\n",
       "    <tr style=\"text-align: right;\">\n",
       "      <th></th>\n",
       "      <th>count</th>\n",
       "      <th>mean</th>\n",
       "      <th>std</th>\n",
       "      <th>min</th>\n",
       "      <th>25%</th>\n",
       "      <th>50%</th>\n",
       "      <th>75%</th>\n",
       "      <th>max</th>\n",
       "    </tr>\n",
       "  </thead>\n",
       "  <tbody>\n",
       "    <tr>\n",
       "      <th>all_years</th>\n",
       "      <td>4745.0</td>\n",
       "      <td>1.997441e+03</td>\n",
       "      <td>1.421973e+01</td>\n",
       "      <td>1915.0</td>\n",
       "      <td>1989.0</td>\n",
       "      <td>2000.0</td>\n",
       "      <td>2008.0</td>\n",
       "      <td>2019.0</td>\n",
       "    </tr>\n",
       "    <tr>\n",
       "      <th>all_scores</th>\n",
       "      <td>4745.0</td>\n",
       "      <td>6.411001e+01</td>\n",
       "      <td>9.699865e+00</td>\n",
       "      <td>19.0</td>\n",
       "      <td>58.0</td>\n",
       "      <td>64.0</td>\n",
       "      <td>71.0</td>\n",
       "      <td>93.0</td>\n",
       "    </tr>\n",
       "    <tr>\n",
       "      <th>all_meta</th>\n",
       "      <td>4745.0</td>\n",
       "      <td>4.572540e+01</td>\n",
       "      <td>2.572250e+01</td>\n",
       "      <td>0.0</td>\n",
       "      <td>32.0</td>\n",
       "      <td>49.0</td>\n",
       "      <td>64.0</td>\n",
       "      <td>100.0</td>\n",
       "    </tr>\n",
       "    <tr>\n",
       "      <th>all_gross</th>\n",
       "      <td>4745.0</td>\n",
       "      <td>5.492750e+07</td>\n",
       "      <td>6.538154e+07</td>\n",
       "      <td>9074550.0</td>\n",
       "      <td>17488564.0</td>\n",
       "      <td>32682342.0</td>\n",
       "      <td>64378093.0</td>\n",
       "      <td>936662225.0</td>\n",
       "    </tr>\n",
       "    <tr>\n",
       "      <th>budget</th>\n",
       "      <td>4745.0</td>\n",
       "      <td>3.250036e+07</td>\n",
       "      <td>4.274091e+07</td>\n",
       "      <td>0.0</td>\n",
       "      <td>130000.0</td>\n",
       "      <td>18500000.0</td>\n",
       "      <td>45000000.0</td>\n",
       "      <td>380000000.0</td>\n",
       "    </tr>\n",
       "    <tr>\n",
       "      <th>profit</th>\n",
       "      <td>4745.0</td>\n",
       "      <td>2.242715e+07</td>\n",
       "      <td>5.090711e+07</td>\n",
       "      <td>-186921900.0</td>\n",
       "      <td>573641.0</td>\n",
       "      <td>15073942.0</td>\n",
       "      <td>33545092.0</td>\n",
       "      <td>691662225.0</td>\n",
       "    </tr>\n",
       "  </tbody>\n",
       "</table>\n",
       "</div>"
      ],
      "text/plain": [
       "             count          mean           std          min         25%  \\\n",
       "all_years   4745.0  1.997441e+03  1.421973e+01       1915.0      1989.0   \n",
       "all_scores  4745.0  6.411001e+01  9.699865e+00         19.0        58.0   \n",
       "all_meta    4745.0  4.572540e+01  2.572250e+01          0.0        32.0   \n",
       "all_gross   4745.0  5.492750e+07  6.538154e+07    9074550.0  17488564.0   \n",
       "budget      4745.0  3.250036e+07  4.274091e+07          0.0    130000.0   \n",
       "profit      4745.0  2.242715e+07  5.090711e+07 -186921900.0    573641.0   \n",
       "\n",
       "                   50%         75%          max  \n",
       "all_years       2000.0      2008.0       2019.0  \n",
       "all_scores        64.0        71.0         93.0  \n",
       "all_meta          49.0        64.0        100.0  \n",
       "all_gross   32682342.0  64378093.0  936662225.0  \n",
       "budget      18500000.0  45000000.0  380000000.0  \n",
       "profit      15073942.0  33545092.0  691662225.0  "
      ]
     },
     "execution_count": 29,
     "metadata": {},
     "output_type": "execute_result"
    }
   ],
   "source": [
    "all_data.describe().T"
   ]
  },
  {
   "cell_type": "code",
   "execution_count": 30,
   "metadata": {
    "ExecuteTime": {
     "end_time": "2019-11-13T08:29:41.824378Z",
     "start_time": "2019-11-13T08:29:41.811106Z"
    }
   },
   "outputs": [
    {
     "data": {
      "text/html": [
       "<div>\n",
       "<style scoped>\n",
       "    .dataframe tbody tr th:only-of-type {\n",
       "        vertical-align: middle;\n",
       "    }\n",
       "\n",
       "    .dataframe tbody tr th {\n",
       "        vertical-align: top;\n",
       "    }\n",
       "\n",
       "    .dataframe thead th {\n",
       "        text-align: right;\n",
       "    }\n",
       "</style>\n",
       "<table border=\"1\" class=\"dataframe\">\n",
       "  <thead>\n",
       "    <tr style=\"text-align: right;\">\n",
       "      <th></th>\n",
       "      <th>all_titles</th>\n",
       "      <th>all_years</th>\n",
       "      <th>all_scores</th>\n",
       "      <th>all_meta</th>\n",
       "      <th>all_votes</th>\n",
       "      <th>all_gross</th>\n",
       "      <th>all_genres</th>\n",
       "      <th>id</th>\n",
       "      <th>budget</th>\n",
       "      <th>imdb_id</th>\n",
       "      <th>genre_bis</th>\n",
       "      <th>profit</th>\n",
       "    </tr>\n",
       "  </thead>\n",
       "  <tbody>\n",
       "    <tr>\n",
       "      <th>1093</th>\n",
       "      <td>John Carter</td>\n",
       "      <td>2012</td>\n",
       "      <td>66</td>\n",
       "      <td>51</td>\n",
       "      <td>245185</td>\n",
       "      <td>73078100</td>\n",
       "      <td>Action, Adventure, Sci-Fi</td>\n",
       "      <td>tt0401729</td>\n",
       "      <td>260000000</td>\n",
       "      <td>tt0401729</td>\n",
       "      <td>Action</td>\n",
       "      <td>-186921900</td>\n",
       "    </tr>\n",
       "  </tbody>\n",
       "</table>\n",
       "</div>"
      ],
      "text/plain": [
       "       all_titles  all_years  all_scores  all_meta all_votes  all_gross  \\\n",
       "1093  John Carter       2012          66        51    245185   73078100   \n",
       "\n",
       "                                 all_genres         id     budget    imdb_id  \\\n",
       "1093  Action, Adventure, Sci-Fi              tt0401729  260000000  tt0401729   \n",
       "\n",
       "     genre_bis     profit  \n",
       "1093    Action -186921900  "
      ]
     },
     "execution_count": 30,
     "metadata": {},
     "output_type": "execute_result"
    }
   ],
   "source": [
    "all_data[all_data['profit'] == -186921900.0]"
   ]
  },
  {
   "cell_type": "code",
   "execution_count": 31,
   "metadata": {
    "ExecuteTime": {
     "end_time": "2019-11-13T08:29:47.112438Z",
     "start_time": "2019-11-13T08:29:47.105718Z"
    }
   },
   "outputs": [
    {
     "data": {
      "text/plain": [
       "(4745, 12)"
      ]
     },
     "execution_count": 31,
     "metadata": {},
     "output_type": "execute_result"
    }
   ],
   "source": [
    "all_data.budget.value_counts()\n",
    "all_data.shape"
   ]
  },
  {
   "cell_type": "code",
   "execution_count": 33,
   "metadata": {
    "ExecuteTime": {
     "end_time": "2019-11-13T08:32:49.084577Z",
     "start_time": "2019-11-13T08:32:49.077437Z"
    }
   },
   "outputs": [],
   "source": [
    "data_for_budget = all_data[all_data['budget'] > 0]"
   ]
  },
  {
   "cell_type": "code",
   "execution_count": 34,
   "metadata": {
    "ExecuteTime": {
     "end_time": "2019-11-13T08:32:58.863258Z",
     "start_time": "2019-11-13T08:32:58.858495Z"
    }
   },
   "outputs": [
    {
     "data": {
      "text/plain": [
       "(3578, 12)"
      ]
     },
     "execution_count": 34,
     "metadata": {},
     "output_type": "execute_result"
    }
   ],
   "source": [
    "data_for_budget.shape"
   ]
  },
  {
   "cell_type": "code",
   "execution_count": null,
   "metadata": {},
   "outputs": [],
   "source": [
    "sns"
   ]
  }
 ],
 "metadata": {
  "hide_input": false,
  "kernelspec": {
   "display_name": "Python 3",
   "language": "python",
   "name": "python3"
  },
  "language_info": {
   "codemirror_mode": {
    "name": "ipython",
    "version": 3
   },
   "file_extension": ".py",
   "mimetype": "text/x-python",
   "name": "python",
   "nbconvert_exporter": "python",
   "pygments_lexer": "ipython3",
   "version": "3.7.3"
  },
  "toc": {
   "base_numbering": 1,
   "nav_menu": {},
   "number_sections": true,
   "sideBar": true,
   "skip_h1_title": false,
   "title_cell": "Table of Contents",
   "title_sidebar": "Contents",
   "toc_cell": false,
   "toc_position": {},
   "toc_section_display": true,
   "toc_window_display": true
  },
  "varInspector": {
   "cols": {
    "lenName": 16,
    "lenType": 16,
    "lenVar": 40
   },
   "kernels_config": {
    "python": {
     "delete_cmd_postfix": "",
     "delete_cmd_prefix": "del ",
     "library": "var_list.py",
     "varRefreshCmd": "print(var_dic_list())"
    },
    "r": {
     "delete_cmd_postfix": ") ",
     "delete_cmd_prefix": "rm(",
     "library": "var_list.r",
     "varRefreshCmd": "cat(var_dic_list()) "
    }
   },
   "types_to_exclude": [
    "module",
    "function",
    "builtin_function_or_method",
    "instance",
    "_Feature"
   ],
   "window_display": false
  }
 },
 "nbformat": 4,
 "nbformat_minor": 2
}
