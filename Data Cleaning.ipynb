{
 "cells": [
  {
   "cell_type": "code",
   "execution_count": 1,
   "metadata": {
    "ExecuteTime": {
     "end_time": "2019-11-13T09:35:30.695619Z",
     "start_time": "2019-11-13T09:35:29.153685Z"
    }
   },
   "outputs": [],
   "source": [
    "import pandas as pd \n",
    "import numpy as np \n",
    "from matplotlib import pyplot as plt\n",
    "%matplotlib inline\n",
    "import seaborn as sns"
   ]
  },
  {
   "cell_type": "markdown",
   "metadata": {},
   "source": [
    "# Importing data /quick exploration"
   ]
  },
  {
   "cell_type": "code",
   "execution_count": 2,
   "metadata": {
    "ExecuteTime": {
     "end_time": "2019-11-13T09:35:30.730577Z",
     "start_time": "2019-11-13T09:35:30.698293Z"
    }
   },
   "outputs": [],
   "source": [
    "data = pd.read_csv('movies_last.csv')"
   ]
  },
  {
   "cell_type": "code",
   "execution_count": 3,
   "metadata": {
    "ExecuteTime": {
     "end_time": "2019-11-13T09:35:30.755945Z",
     "start_time": "2019-11-13T09:35:30.735793Z"
    }
   },
   "outputs": [
    {
     "data": {
      "text/html": [
       "<div>\n",
       "<style scoped>\n",
       "    .dataframe tbody tr th:only-of-type {\n",
       "        vertical-align: middle;\n",
       "    }\n",
       "\n",
       "    .dataframe tbody tr th {\n",
       "        vertical-align: top;\n",
       "    }\n",
       "\n",
       "    .dataframe thead th {\n",
       "        text-align: right;\n",
       "    }\n",
       "</style>\n",
       "<table border=\"1\" class=\"dataframe\">\n",
       "  <thead>\n",
       "    <tr style=\"text-align: right;\">\n",
       "      <th></th>\n",
       "      <th>Unnamed: 0</th>\n",
       "      <th>Unnamed: 0.1</th>\n",
       "      <th>all_titles</th>\n",
       "      <th>all_years</th>\n",
       "      <th>all_scores</th>\n",
       "      <th>all_meta</th>\n",
       "      <th>all_votes</th>\n",
       "      <th>all_gross</th>\n",
       "      <th>all_genres</th>\n",
       "      <th>id</th>\n",
       "    </tr>\n",
       "  </thead>\n",
       "  <tbody>\n",
       "    <tr>\n",
       "      <th>0</th>\n",
       "      <td>0</td>\n",
       "      <td>0</td>\n",
       "      <td>Star Wars: Episode VII - The Force Awakens</td>\n",
       "      <td>(2015)</td>\n",
       "      <td>7.9</td>\n",
       "      <td>81</td>\n",
       "      <td>799424</td>\n",
       "      <td>936,662,225</td>\n",
       "      <td>\\nAction, Adventure, Sci-Fi</td>\n",
       "      <td>tt2488496</td>\n",
       "    </tr>\n",
       "    <tr>\n",
       "      <th>1</th>\n",
       "      <td>1</td>\n",
       "      <td>1</td>\n",
       "      <td>Avengers: Endgame</td>\n",
       "      <td>(2019)</td>\n",
       "      <td>8.5</td>\n",
       "      <td>78</td>\n",
       "      <td>598830</td>\n",
       "      <td>858,373,000</td>\n",
       "      <td>\\nAction, Adventure, Drama</td>\n",
       "      <td>tt4154796</td>\n",
       "    </tr>\n",
       "    <tr>\n",
       "      <th>2</th>\n",
       "      <td>2</td>\n",
       "      <td>2</td>\n",
       "      <td>Avatar</td>\n",
       "      <td>(2009)</td>\n",
       "      <td>7.8</td>\n",
       "      <td>83</td>\n",
       "      <td>1065708</td>\n",
       "      <td>760,507,625</td>\n",
       "      <td>\\nAction, Adventure, Fantasy</td>\n",
       "      <td>tt0499549</td>\n",
       "    </tr>\n",
       "    <tr>\n",
       "      <th>3</th>\n",
       "      <td>3</td>\n",
       "      <td>3</td>\n",
       "      <td>Black Panther</td>\n",
       "      <td>(2018)</td>\n",
       "      <td>7.3</td>\n",
       "      <td>88</td>\n",
       "      <td>550256</td>\n",
       "      <td>700,059,566</td>\n",
       "      <td>\\nAction, Adventure, Sci-Fi</td>\n",
       "      <td>tt1825683</td>\n",
       "    </tr>\n",
       "    <tr>\n",
       "      <th>4</th>\n",
       "      <td>4</td>\n",
       "      <td>4</td>\n",
       "      <td>Avengers: Infinity War</td>\n",
       "      <td>(2018)</td>\n",
       "      <td>8.5</td>\n",
       "      <td>68</td>\n",
       "      <td>723574</td>\n",
       "      <td>678,815,482</td>\n",
       "      <td>\\nAction, Adventure, Sci-Fi</td>\n",
       "      <td>tt4154756</td>\n",
       "    </tr>\n",
       "  </tbody>\n",
       "</table>\n",
       "</div>"
      ],
      "text/plain": [
       "   Unnamed: 0  Unnamed: 0.1                                  all_titles  \\\n",
       "0           0             0  Star Wars: Episode VII - The Force Awakens   \n",
       "1           1             1                           Avengers: Endgame   \n",
       "2           2             2                                      Avatar   \n",
       "3           3             3                               Black Panther   \n",
       "4           4             4                      Avengers: Infinity War   \n",
       "\n",
       "  all_years all_scores    all_meta all_votes    all_gross  \\\n",
       "0    (2015)        7.9  81            799424  936,662,225   \n",
       "1    (2019)        8.5  78            598830  858,373,000   \n",
       "2    (2009)        7.8  83           1065708  760,507,625   \n",
       "3    (2018)        7.3  88            550256  700,059,566   \n",
       "4    (2018)        8.5  68            723574  678,815,482   \n",
       "\n",
       "                                 all_genres         id  \n",
       "0   \\nAction, Adventure, Sci-Fi              tt2488496  \n",
       "1    \\nAction, Adventure, Drama              tt4154796  \n",
       "2  \\nAction, Adventure, Fantasy              tt0499549  \n",
       "3   \\nAction, Adventure, Sci-Fi              tt1825683  \n",
       "4   \\nAction, Adventure, Sci-Fi              tt4154756  "
      ]
     },
     "execution_count": 3,
     "metadata": {},
     "output_type": "execute_result"
    }
   ],
   "source": [
    "data.head()"
   ]
  },
  {
   "cell_type": "code",
   "execution_count": 4,
   "metadata": {
    "ExecuteTime": {
     "end_time": "2019-11-13T09:35:30.763098Z",
     "start_time": "2019-11-13T09:35:30.758430Z"
    }
   },
   "outputs": [],
   "source": [
    "data.drop(['Unnamed: 0', 'Unnamed: 0.1'], axis=1, inplace = True)"
   ]
  },
  {
   "cell_type": "code",
   "execution_count": 5,
   "metadata": {
    "ExecuteTime": {
     "end_time": "2019-11-13T09:35:30.777251Z",
     "start_time": "2019-11-13T09:35:30.765830Z"
    }
   },
   "outputs": [
    {
     "name": "stdout",
     "output_type": "stream",
     "text": [
      "<class 'pandas.core.frame.DataFrame'>\n",
      "RangeIndex: 5050 entries, 0 to 5049\n",
      "Data columns (total 8 columns):\n",
      "all_titles    5050 non-null object\n",
      "all_years     5050 non-null object\n",
      "all_scores    5050 non-null object\n",
      "all_meta      5050 non-null object\n",
      "all_votes     5050 non-null object\n",
      "all_gross     5050 non-null object\n",
      "all_genres    5050 non-null object\n",
      "id            5050 non-null object\n",
      "dtypes: object(8)\n",
      "memory usage: 315.7+ KB\n"
     ]
    }
   ],
   "source": [
    "data.info()"
   ]
  },
  {
   "cell_type": "code",
   "execution_count": 6,
   "metadata": {
    "ExecuteTime": {
     "end_time": "2019-11-13T09:35:30.795105Z",
     "start_time": "2019-11-13T09:35:30.779233Z"
    }
   },
   "outputs": [
    {
     "data": {
      "text/html": [
       "<div>\n",
       "<style scoped>\n",
       "    .dataframe tbody tr th:only-of-type {\n",
       "        vertical-align: middle;\n",
       "    }\n",
       "\n",
       "    .dataframe tbody tr th {\n",
       "        vertical-align: top;\n",
       "    }\n",
       "\n",
       "    .dataframe thead th {\n",
       "        text-align: right;\n",
       "    }\n",
       "</style>\n",
       "<table border=\"1\" class=\"dataframe\">\n",
       "  <thead>\n",
       "    <tr style=\"text-align: right;\">\n",
       "      <th></th>\n",
       "      <th>all_titles</th>\n",
       "      <th>all_years</th>\n",
       "      <th>all_scores</th>\n",
       "      <th>all_meta</th>\n",
       "      <th>all_votes</th>\n",
       "      <th>all_gross</th>\n",
       "      <th>all_genres</th>\n",
       "      <th>id</th>\n",
       "    </tr>\n",
       "  </thead>\n",
       "  <tbody>\n",
       "    <tr>\n",
       "      <th>0</th>\n",
       "      <td>Star Wars: Episode VII - The Force Awakens</td>\n",
       "      <td>(2015)</td>\n",
       "      <td>7.9</td>\n",
       "      <td>81</td>\n",
       "      <td>799424</td>\n",
       "      <td>936,662,225</td>\n",
       "      <td>\\nAction, Adventure, Sci-Fi</td>\n",
       "      <td>tt2488496</td>\n",
       "    </tr>\n",
       "    <tr>\n",
       "      <th>1</th>\n",
       "      <td>Avengers: Endgame</td>\n",
       "      <td>(2019)</td>\n",
       "      <td>8.5</td>\n",
       "      <td>78</td>\n",
       "      <td>598830</td>\n",
       "      <td>858,373,000</td>\n",
       "      <td>\\nAction, Adventure, Drama</td>\n",
       "      <td>tt4154796</td>\n",
       "    </tr>\n",
       "    <tr>\n",
       "      <th>2</th>\n",
       "      <td>Avatar</td>\n",
       "      <td>(2009)</td>\n",
       "      <td>7.8</td>\n",
       "      <td>83</td>\n",
       "      <td>1065708</td>\n",
       "      <td>760,507,625</td>\n",
       "      <td>\\nAction, Adventure, Fantasy</td>\n",
       "      <td>tt0499549</td>\n",
       "    </tr>\n",
       "    <tr>\n",
       "      <th>3</th>\n",
       "      <td>Black Panther</td>\n",
       "      <td>(2018)</td>\n",
       "      <td>7.3</td>\n",
       "      <td>88</td>\n",
       "      <td>550256</td>\n",
       "      <td>700,059,566</td>\n",
       "      <td>\\nAction, Adventure, Sci-Fi</td>\n",
       "      <td>tt1825683</td>\n",
       "    </tr>\n",
       "    <tr>\n",
       "      <th>4</th>\n",
       "      <td>Avengers: Infinity War</td>\n",
       "      <td>(2018)</td>\n",
       "      <td>8.5</td>\n",
       "      <td>68</td>\n",
       "      <td>723574</td>\n",
       "      <td>678,815,482</td>\n",
       "      <td>\\nAction, Adventure, Sci-Fi</td>\n",
       "      <td>tt4154756</td>\n",
       "    </tr>\n",
       "  </tbody>\n",
       "</table>\n",
       "</div>"
      ],
      "text/plain": [
       "                                   all_titles all_years all_scores  \\\n",
       "0  Star Wars: Episode VII - The Force Awakens    (2015)        7.9   \n",
       "1                           Avengers: Endgame    (2019)        8.5   \n",
       "2                                      Avatar    (2009)        7.8   \n",
       "3                               Black Panther    (2018)        7.3   \n",
       "4                      Avengers: Infinity War    (2018)        8.5   \n",
       "\n",
       "     all_meta all_votes    all_gross  \\\n",
       "0  81            799424  936,662,225   \n",
       "1  78            598830  858,373,000   \n",
       "2  83           1065708  760,507,625   \n",
       "3  88            550256  700,059,566   \n",
       "4  68            723574  678,815,482   \n",
       "\n",
       "                                 all_genres         id  \n",
       "0   \\nAction, Adventure, Sci-Fi              tt2488496  \n",
       "1    \\nAction, Adventure, Drama              tt4154796  \n",
       "2  \\nAction, Adventure, Fantasy              tt0499549  \n",
       "3   \\nAction, Adventure, Sci-Fi              tt1825683  \n",
       "4   \\nAction, Adventure, Sci-Fi              tt4154756  "
      ]
     },
     "execution_count": 6,
     "metadata": {},
     "output_type": "execute_result"
    }
   ],
   "source": [
    "data.head()"
   ]
  },
  {
   "cell_type": "markdown",
   "metadata": {},
   "source": [
    "# Clean data "
   ]
  },
  {
   "cell_type": "code",
   "execution_count": 7,
   "metadata": {
    "ExecuteTime": {
     "end_time": "2019-11-13T09:35:30.801370Z",
     "start_time": "2019-11-13T09:35:30.797650Z"
    }
   },
   "outputs": [],
   "source": [
    "import re"
   ]
  },
  {
   "cell_type": "code",
   "execution_count": 8,
   "metadata": {
    "ExecuteTime": {
     "end_time": "2019-11-13T09:35:30.810251Z",
     "start_time": "2019-11-13T09:35:30.805976Z"
    }
   },
   "outputs": [],
   "source": [
    "def get_decade(x):\n",
    "    if x == 5:\n",
    "        return '50s'\n",
    "    elif x == 6:\n",
    "        return '60s'\n",
    "    elif x == 7:\n",
    "        return '70s'\n",
    "    elif x == 8:\n",
    "        return '80s'\n",
    "    elif x == 9:\n",
    "        return '90s'\n",
    "    elif x == 0:\n",
    "        return '00s'\n",
    "    elif x == 1:\n",
    "        return '10s'\n",
    "    \n",
    "    "
   ]
  },
  {
   "cell_type": "code",
   "execution_count": 9,
   "metadata": {
    "ExecuteTime": {
     "end_time": "2019-11-13T09:35:30.816474Z",
     "start_time": "2019-11-13T09:35:30.813030Z"
    }
   },
   "outputs": [],
   "source": [
    "# def inflation_adjust()"
   ]
  },
  {
   "cell_type": "code",
   "execution_count": null,
   "metadata": {
    "ExecuteTime": {
     "end_time": "2019-11-13T09:18:22.732889Z",
     "start_time": "2019-11-13T09:18:22.575321Z"
    }
   },
   "outputs": [],
   "source": []
  },
  {
   "cell_type": "code",
   "execution_count": 10,
   "metadata": {
    "ExecuteTime": {
     "end_time": "2019-11-13T09:35:30.823326Z",
     "start_time": "2019-11-13T09:35:30.820508Z"
    }
   },
   "outputs": [],
   "source": [
    "# inlf"
   ]
  },
  {
   "cell_type": "code",
   "execution_count": 11,
   "metadata": {
    "ExecuteTime": {
     "end_time": "2019-11-13T09:35:30.892984Z",
     "start_time": "2019-11-13T09:35:30.825587Z"
    }
   },
   "outputs": [],
   "source": [
    "data['all_years'] = data['all_years'].apply(lambda x: re.sub('[^0-9]','', x))\n",
    "\n",
    "data['all_genres'] = data['all_genres'].apply(lambda x: x[1:])\n",
    "\n",
    "data['all_gross'] = data['all_gross'].apply(lambda x: x.replace(',',''))\n",
    "data['all_gross'] = data['all_gross'].apply(lambda x:  int(x) if x != 'no' else 0)\n",
    "\n",
    "data['all_scores'] = data['all_scores'].apply(lambda x: x.replace('.',''))\n",
    "data['all_scores'] = data['all_scores'].apply(lambda x: int(x) if x != 'NO' else 0)\n",
    "\n",
    "data['all_meta'] = data['all_meta'].apply(lambda x: int(x.replace('.','')) if x != 'no' else 0)\n",
    "\n",
    "\n",
    "data['all_years'] = data['all_years'].apply(lambda x: int(x))\n",
    "\n",
    "data['dec'] = data['all_years'].apply(lambda x: int(str(x)[2]))\n",
    "data['decade'] = data['dec'].apply(lambda x: get_decade(x) )\n",
    "\n",
    "\n",
    "\n",
    "\n",
    "\n",
    "\n"
   ]
  },
  {
   "cell_type": "code",
   "execution_count": 12,
   "metadata": {
    "ExecuteTime": {
     "end_time": "2019-11-13T09:35:30.900552Z",
     "start_time": "2019-11-13T09:35:30.895192Z"
    }
   },
   "outputs": [],
   "source": [
    "del data['dec']"
   ]
  },
  {
   "cell_type": "code",
   "execution_count": 13,
   "metadata": {
    "ExecuteTime": {
     "end_time": "2019-11-13T09:35:30.916769Z",
     "start_time": "2019-11-13T09:35:30.902808Z"
    }
   },
   "outputs": [
    {
     "data": {
      "text/html": [
       "<div>\n",
       "<style scoped>\n",
       "    .dataframe tbody tr th:only-of-type {\n",
       "        vertical-align: middle;\n",
       "    }\n",
       "\n",
       "    .dataframe tbody tr th {\n",
       "        vertical-align: top;\n",
       "    }\n",
       "\n",
       "    .dataframe thead th {\n",
       "        text-align: right;\n",
       "    }\n",
       "</style>\n",
       "<table border=\"1\" class=\"dataframe\">\n",
       "  <thead>\n",
       "    <tr style=\"text-align: right;\">\n",
       "      <th></th>\n",
       "      <th>all_titles</th>\n",
       "      <th>all_years</th>\n",
       "      <th>all_scores</th>\n",
       "      <th>all_meta</th>\n",
       "      <th>all_votes</th>\n",
       "      <th>all_gross</th>\n",
       "      <th>all_genres</th>\n",
       "      <th>id</th>\n",
       "      <th>decade</th>\n",
       "    </tr>\n",
       "  </thead>\n",
       "  <tbody>\n",
       "    <tr>\n",
       "      <th>0</th>\n",
       "      <td>Star Wars: Episode VII - The Force Awakens</td>\n",
       "      <td>2015</td>\n",
       "      <td>79</td>\n",
       "      <td>81</td>\n",
       "      <td>799424</td>\n",
       "      <td>936662225</td>\n",
       "      <td>Action, Adventure, Sci-Fi</td>\n",
       "      <td>tt2488496</td>\n",
       "      <td>10s</td>\n",
       "    </tr>\n",
       "    <tr>\n",
       "      <th>1</th>\n",
       "      <td>Avengers: Endgame</td>\n",
       "      <td>2019</td>\n",
       "      <td>85</td>\n",
       "      <td>78</td>\n",
       "      <td>598830</td>\n",
       "      <td>858373000</td>\n",
       "      <td>Action, Adventure, Drama</td>\n",
       "      <td>tt4154796</td>\n",
       "      <td>10s</td>\n",
       "    </tr>\n",
       "    <tr>\n",
       "      <th>2</th>\n",
       "      <td>Avatar</td>\n",
       "      <td>2009</td>\n",
       "      <td>78</td>\n",
       "      <td>83</td>\n",
       "      <td>1065708</td>\n",
       "      <td>760507625</td>\n",
       "      <td>Action, Adventure, Fantasy</td>\n",
       "      <td>tt0499549</td>\n",
       "      <td>00s</td>\n",
       "    </tr>\n",
       "    <tr>\n",
       "      <th>3</th>\n",
       "      <td>Black Panther</td>\n",
       "      <td>2018</td>\n",
       "      <td>73</td>\n",
       "      <td>88</td>\n",
       "      <td>550256</td>\n",
       "      <td>700059566</td>\n",
       "      <td>Action, Adventure, Sci-Fi</td>\n",
       "      <td>tt1825683</td>\n",
       "      <td>10s</td>\n",
       "    </tr>\n",
       "    <tr>\n",
       "      <th>4</th>\n",
       "      <td>Avengers: Infinity War</td>\n",
       "      <td>2018</td>\n",
       "      <td>85</td>\n",
       "      <td>68</td>\n",
       "      <td>723574</td>\n",
       "      <td>678815482</td>\n",
       "      <td>Action, Adventure, Sci-Fi</td>\n",
       "      <td>tt4154756</td>\n",
       "      <td>10s</td>\n",
       "    </tr>\n",
       "  </tbody>\n",
       "</table>\n",
       "</div>"
      ],
      "text/plain": [
       "                                   all_titles  all_years  all_scores  \\\n",
       "0  Star Wars: Episode VII - The Force Awakens       2015          79   \n",
       "1                           Avengers: Endgame       2019          85   \n",
       "2                                      Avatar       2009          78   \n",
       "3                               Black Panther       2018          73   \n",
       "4                      Avengers: Infinity War       2018          85   \n",
       "\n",
       "   all_meta all_votes  all_gross                              all_genres  \\\n",
       "0        81    799424  936662225   Action, Adventure, Sci-Fi               \n",
       "1        78    598830  858373000    Action, Adventure, Drama               \n",
       "2        83   1065708  760507625  Action, Adventure, Fantasy               \n",
       "3        88    550256  700059566   Action, Adventure, Sci-Fi               \n",
       "4        68    723574  678815482   Action, Adventure, Sci-Fi               \n",
       "\n",
       "          id decade  \n",
       "0  tt2488496    10s  \n",
       "1  tt4154796    10s  \n",
       "2  tt0499549    00s  \n",
       "3  tt1825683    10s  \n",
       "4  tt4154756    10s  "
      ]
     },
     "execution_count": 13,
     "metadata": {},
     "output_type": "execute_result"
    }
   ],
   "source": [
    "data.head()"
   ]
  },
  {
   "cell_type": "markdown",
   "metadata": {},
   "source": [
    "# Importing external csv to get the budget "
   ]
  },
  {
   "cell_type": "code",
   "execution_count": 14,
   "metadata": {
    "ExecuteTime": {
     "end_time": "2019-11-13T09:35:31.795134Z",
     "start_time": "2019-11-13T09:35:30.918699Z"
    }
   },
   "outputs": [
    {
     "name": "stderr",
     "output_type": "stream",
     "text": [
      "/Users/carloscutillas/anaconda3/lib/python3.7/site-packages/IPython/core/interactiveshell.py:3057: DtypeWarning: Columns (10) have mixed types. Specify dtype option on import or set low_memory=False.\n",
      "  interactivity=interactivity, compiler=compiler, result=result)\n"
     ]
    }
   ],
   "source": [
    "movies_metadata = pd.read_csv('movies_metadata.csv')"
   ]
  },
  {
   "cell_type": "code",
   "execution_count": 15,
   "metadata": {
    "ExecuteTime": {
     "end_time": "2019-11-13T09:35:31.808225Z",
     "start_time": "2019-11-13T09:35:31.799981Z"
    }
   },
   "outputs": [],
   "source": [
    "budget_and_id = movies_metadata[['budget', 'imdb_id']]"
   ]
  },
  {
   "cell_type": "code",
   "execution_count": 16,
   "metadata": {
    "ExecuteTime": {
     "end_time": "2019-11-13T09:35:31.814748Z",
     "start_time": "2019-11-13T09:35:31.810171Z"
    }
   },
   "outputs": [],
   "source": [
    "# budget_and_id"
   ]
  },
  {
   "cell_type": "markdown",
   "metadata": {},
   "source": [
    "#  Importing external csv to get CPI inflation index "
   ]
  },
  {
   "cell_type": "code",
   "execution_count": 115,
   "metadata": {
    "ExecuteTime": {
     "end_time": "2019-11-13T10:38:32.585937Z",
     "start_time": "2019-11-13T10:38:32.382456Z"
    }
   },
   "outputs": [],
   "source": [
    "inflation = pd.read_csv('https://pkgstore.datahub.io/core/cpi-us/cpiai_csv/data/b17bfacbda3c08e51cd13fe544b8fca4/cpiai_csv.csv')"
   ]
  },
  {
   "cell_type": "code",
   "execution_count": 116,
   "metadata": {
    "ExecuteTime": {
     "end_time": "2019-11-13T10:38:41.051340Z",
     "start_time": "2019-11-13T10:38:41.028690Z"
    }
   },
   "outputs": [
    {
     "data": {
      "text/html": [
       "<div>\n",
       "<style scoped>\n",
       "    .dataframe tbody tr th:only-of-type {\n",
       "        vertical-align: middle;\n",
       "    }\n",
       "\n",
       "    .dataframe tbody tr th {\n",
       "        vertical-align: top;\n",
       "    }\n",
       "\n",
       "    .dataframe thead th {\n",
       "        text-align: right;\n",
       "    }\n",
       "</style>\n",
       "<table border=\"1\" class=\"dataframe\">\n",
       "  <thead>\n",
       "    <tr style=\"text-align: right;\">\n",
       "      <th></th>\n",
       "      <th>Date</th>\n",
       "      <th>Index</th>\n",
       "      <th>Inflation</th>\n",
       "    </tr>\n",
       "  </thead>\n",
       "  <tbody>\n",
       "    <tr>\n",
       "      <th>0</th>\n",
       "      <td>1913-01-01</td>\n",
       "      <td>9.8</td>\n",
       "      <td>NaN</td>\n",
       "    </tr>\n",
       "    <tr>\n",
       "      <th>1</th>\n",
       "      <td>1913-02-01</td>\n",
       "      <td>9.8</td>\n",
       "      <td>0.00</td>\n",
       "    </tr>\n",
       "    <tr>\n",
       "      <th>2</th>\n",
       "      <td>1913-03-01</td>\n",
       "      <td>9.8</td>\n",
       "      <td>0.00</td>\n",
       "    </tr>\n",
       "    <tr>\n",
       "      <th>3</th>\n",
       "      <td>1913-04-01</td>\n",
       "      <td>9.8</td>\n",
       "      <td>0.00</td>\n",
       "    </tr>\n",
       "    <tr>\n",
       "      <th>4</th>\n",
       "      <td>1913-05-01</td>\n",
       "      <td>9.7</td>\n",
       "      <td>-1.02</td>\n",
       "    </tr>\n",
       "  </tbody>\n",
       "</table>\n",
       "</div>"
      ],
      "text/plain": [
       "         Date  Index  Inflation\n",
       "0  1913-01-01    9.8        NaN\n",
       "1  1913-02-01    9.8       0.00\n",
       "2  1913-03-01    9.8       0.00\n",
       "3  1913-04-01    9.8       0.00\n",
       "4  1913-05-01    9.7      -1.02"
      ]
     },
     "execution_count": 116,
     "metadata": {},
     "output_type": "execute_result"
    }
   ],
   "source": [
    "inflation.head()"
   ]
  },
  {
   "cell_type": "code",
   "execution_count": 78,
   "metadata": {
    "ExecuteTime": {
     "end_time": "2019-11-13T09:54:14.150113Z",
     "start_time": "2019-11-13T09:54:14.142311Z"
    }
   },
   "outputs": [
    {
     "name": "stdout",
     "output_type": "stream",
     "text": [
      "<class 'pandas.core.frame.DataFrame'>\n",
      "RangeIndex: 1213 entries, 0 to 1212\n",
      "Data columns (total 3 columns):\n",
      "Date         1213 non-null object\n",
      "Index        1213 non-null float64\n",
      "Inflation    1212 non-null float64\n",
      "dtypes: float64(2), object(1)\n",
      "memory usage: 28.5+ KB\n"
     ]
    }
   ],
   "source": [
    "inflation.info()"
   ]
  },
  {
   "cell_type": "code",
   "execution_count": 117,
   "metadata": {
    "ExecuteTime": {
     "end_time": "2019-11-13T10:38:49.302027Z",
     "start_time": "2019-11-13T10:38:49.297548Z"
    }
   },
   "outputs": [],
   "source": [
    "inflation['Date'] = inflation['Date'].apply(lambda x: x[:4]) \n",
    "\n",
    "inflation['Date'] = inflation['Date'].astype(int)"
   ]
  },
  {
   "cell_type": "code",
   "execution_count": 80,
   "metadata": {
    "ExecuteTime": {
     "end_time": "2019-11-13T09:54:39.161597Z",
     "start_time": "2019-11-13T09:54:39.148253Z"
    }
   },
   "outputs": [
    {
     "data": {
      "text/html": [
       "<div>\n",
       "<style scoped>\n",
       "    .dataframe tbody tr th:only-of-type {\n",
       "        vertical-align: middle;\n",
       "    }\n",
       "\n",
       "    .dataframe tbody tr th {\n",
       "        vertical-align: top;\n",
       "    }\n",
       "\n",
       "    .dataframe thead th {\n",
       "        text-align: right;\n",
       "    }\n",
       "</style>\n",
       "<table border=\"1\" class=\"dataframe\">\n",
       "  <thead>\n",
       "    <tr style=\"text-align: right;\">\n",
       "      <th></th>\n",
       "      <th>Date</th>\n",
       "      <th>Index</th>\n",
       "      <th>Inflation</th>\n",
       "    </tr>\n",
       "  </thead>\n",
       "  <tbody>\n",
       "    <tr>\n",
       "      <th>0</th>\n",
       "      <td>1913</td>\n",
       "      <td>9.8</td>\n",
       "      <td>NaN</td>\n",
       "    </tr>\n",
       "    <tr>\n",
       "      <th>1</th>\n",
       "      <td>1913</td>\n",
       "      <td>9.8</td>\n",
       "      <td>0.00</td>\n",
       "    </tr>\n",
       "    <tr>\n",
       "      <th>2</th>\n",
       "      <td>1913</td>\n",
       "      <td>9.8</td>\n",
       "      <td>0.00</td>\n",
       "    </tr>\n",
       "    <tr>\n",
       "      <th>3</th>\n",
       "      <td>1913</td>\n",
       "      <td>9.8</td>\n",
       "      <td>0.00</td>\n",
       "    </tr>\n",
       "    <tr>\n",
       "      <th>4</th>\n",
       "      <td>1913</td>\n",
       "      <td>9.7</td>\n",
       "      <td>-1.02</td>\n",
       "    </tr>\n",
       "  </tbody>\n",
       "</table>\n",
       "</div>"
      ],
      "text/plain": [
       "   Date  Index  Inflation\n",
       "0  1913    9.8        NaN\n",
       "1  1913    9.8       0.00\n",
       "2  1913    9.8       0.00\n",
       "3  1913    9.8       0.00\n",
       "4  1913    9.7      -1.02"
      ]
     },
     "execution_count": 80,
     "metadata": {},
     "output_type": "execute_result"
    }
   ],
   "source": [
    "inflation.head()"
   ]
  },
  {
   "cell_type": "code",
   "execution_count": 118,
   "metadata": {
    "ExecuteTime": {
     "end_time": "2019-11-13T10:38:57.286018Z",
     "start_time": "2019-11-13T10:38:57.278315Z"
    }
   },
   "outputs": [],
   "source": [
    "inf = inflation.groupby('Date').mean().reset_index(level= 0)"
   ]
  },
  {
   "cell_type": "code",
   "execution_count": 119,
   "metadata": {
    "ExecuteTime": {
     "end_time": "2019-11-13T10:39:04.934832Z",
     "start_time": "2019-11-13T10:39:04.927760Z"
    }
   },
   "outputs": [
    {
     "data": {
      "text/html": [
       "<div>\n",
       "<style scoped>\n",
       "    .dataframe tbody tr th:only-of-type {\n",
       "        vertical-align: middle;\n",
       "    }\n",
       "\n",
       "    .dataframe tbody tr th {\n",
       "        vertical-align: top;\n",
       "    }\n",
       "\n",
       "    .dataframe thead th {\n",
       "        text-align: right;\n",
       "    }\n",
       "</style>\n",
       "<table border=\"1\" class=\"dataframe\">\n",
       "  <thead>\n",
       "    <tr style=\"text-align: right;\">\n",
       "      <th></th>\n",
       "      <th>Date</th>\n",
       "      <th>Index</th>\n",
       "      <th>Inflation</th>\n",
       "    </tr>\n",
       "  </thead>\n",
       "  <tbody>\n",
       "    <tr>\n",
       "      <th>97</th>\n",
       "      <td>2010</td>\n",
       "      <td>218.055500</td>\n",
       "      <td>0.122500</td>\n",
       "    </tr>\n",
       "    <tr>\n",
       "      <th>98</th>\n",
       "      <td>2011</td>\n",
       "      <td>224.939167</td>\n",
       "      <td>0.244167</td>\n",
       "    </tr>\n",
       "    <tr>\n",
       "      <th>99</th>\n",
       "      <td>2012</td>\n",
       "      <td>229.593917</td>\n",
       "      <td>0.145000</td>\n",
       "    </tr>\n",
       "    <tr>\n",
       "      <th>100</th>\n",
       "      <td>2013</td>\n",
       "      <td>232.957083</td>\n",
       "      <td>0.125833</td>\n",
       "    </tr>\n",
       "    <tr>\n",
       "      <th>101</th>\n",
       "      <td>2014</td>\n",
       "      <td>233.916000</td>\n",
       "      <td>0.370000</td>\n",
       "    </tr>\n",
       "  </tbody>\n",
       "</table>\n",
       "</div>"
      ],
      "text/plain": [
       "     Date       Index  Inflation\n",
       "97   2010  218.055500   0.122500\n",
       "98   2011  224.939167   0.244167\n",
       "99   2012  229.593917   0.145000\n",
       "100  2013  232.957083   0.125833\n",
       "101  2014  233.916000   0.370000"
      ]
     },
     "execution_count": 119,
     "metadata": {},
     "output_type": "execute_result"
    }
   ],
   "source": [
    "inf.tail()"
   ]
  },
  {
   "cell_type": "code",
   "execution_count": null,
   "metadata": {},
   "outputs": [],
   "source": []
  },
  {
   "cell_type": "markdown",
   "metadata": {},
   "source": [
    "# Creating new dataframe"
   ]
  },
  {
   "cell_type": "code",
   "execution_count": 120,
   "metadata": {
    "ExecuteTime": {
     "end_time": "2019-11-13T10:39:12.634972Z",
     "start_time": "2019-11-13T10:39:12.612322Z"
    }
   },
   "outputs": [],
   "source": [
    "all_data = pd.merge(data, budget_and_id,how='left', left_on='id', right_on='imdb_id')"
   ]
  },
  {
   "cell_type": "code",
   "execution_count": 121,
   "metadata": {
    "ExecuteTime": {
     "end_time": "2019-11-13T10:39:20.527779Z",
     "start_time": "2019-11-13T10:39:20.525238Z"
    }
   },
   "outputs": [],
   "source": [
    "# all_data.head(5)"
   ]
  },
  {
   "cell_type": "code",
   "execution_count": 122,
   "metadata": {
    "ExecuteTime": {
     "end_time": "2019-11-13T10:39:28.452768Z",
     "start_time": "2019-11-13T10:39:28.442331Z"
    }
   },
   "outputs": [],
   "source": [
    "all_data.dropna(inplace=True)"
   ]
  },
  {
   "cell_type": "code",
   "execution_count": 123,
   "metadata": {
    "ExecuteTime": {
     "end_time": "2019-11-13T10:39:36.236294Z",
     "start_time": "2019-11-13T10:39:36.231593Z"
    }
   },
   "outputs": [],
   "source": [
    "all_data['budget'] = all_data['budget'].astype(int)"
   ]
  },
  {
   "cell_type": "code",
   "execution_count": null,
   "metadata": {
    "ExecuteTime": {
     "end_time": "2019-11-13T08:26:49.585976Z",
     "start_time": "2019-11-13T08:26:43.453Z"
    }
   },
   "outputs": [],
   "source": []
  },
  {
   "cell_type": "code",
   "execution_count": 124,
   "metadata": {
    "ExecuteTime": {
     "end_time": "2019-11-13T10:39:44.041871Z",
     "start_time": "2019-11-13T10:39:44.032310Z"
    }
   },
   "outputs": [
    {
     "name": "stdout",
     "output_type": "stream",
     "text": [
      "<class 'pandas.core.frame.DataFrame'>\n",
      "Int64Index: 4714 entries, 0 to 5053\n",
      "Data columns (total 11 columns):\n",
      "all_titles    4714 non-null object\n",
      "all_years     4714 non-null int64\n",
      "all_scores    4714 non-null int64\n",
      "all_meta      4714 non-null int64\n",
      "all_votes     4714 non-null object\n",
      "all_gross     4714 non-null int64\n",
      "all_genres    4714 non-null object\n",
      "id            4714 non-null object\n",
      "decade        4714 non-null object\n",
      "budget        4714 non-null int64\n",
      "imdb_id       4714 non-null object\n",
      "dtypes: int64(5), object(6)\n",
      "memory usage: 441.9+ KB\n"
     ]
    }
   ],
   "source": [
    "all_data.info()"
   ]
  },
  {
   "cell_type": "code",
   "execution_count": 125,
   "metadata": {
    "ExecuteTime": {
     "end_time": "2019-11-13T10:39:52.263420Z",
     "start_time": "2019-11-13T10:39:52.261003Z"
    }
   },
   "outputs": [],
   "source": [
    "# sns.distplot(all_data.all_years)"
   ]
  },
  {
   "cell_type": "code",
   "execution_count": 126,
   "metadata": {
    "ExecuteTime": {
     "end_time": "2019-11-13T10:40:00.072320Z",
     "start_time": "2019-11-13T10:40:00.065231Z"
    }
   },
   "outputs": [],
   "source": [
    "all_data['genre_bis'] = all_data['all_genres'].apply(lambda x: 'Action' if 'Action' in x\n",
    "                                                     else ('Romance' if 'Romance' in x else 'no') \n",
    "                                                    )"
   ]
  },
  {
   "cell_type": "code",
   "execution_count": 127,
   "metadata": {
    "ExecuteTime": {
     "end_time": "2019-11-13T10:40:08.050585Z",
     "start_time": "2019-11-13T10:40:08.044066Z"
    }
   },
   "outputs": [
    {
     "data": {
      "text/plain": [
       "no         2667\n",
       "Action     1218\n",
       "Romance     829\n",
       "Name: genre_bis, dtype: int64"
      ]
     },
     "execution_count": 127,
     "metadata": {},
     "output_type": "execute_result"
    }
   ],
   "source": [
    "all_data.genre_bis.value_counts()"
   ]
  },
  {
   "cell_type": "code",
   "execution_count": 128,
   "metadata": {
    "ExecuteTime": {
     "end_time": "2019-11-13T10:40:15.822926Z",
     "start_time": "2019-11-13T10:40:15.818536Z"
    }
   },
   "outputs": [
    {
     "data": {
      "text/plain": [
       "(4714, 12)"
      ]
     },
     "execution_count": 128,
     "metadata": {},
     "output_type": "execute_result"
    }
   ],
   "source": [
    "all_data.shape"
   ]
  },
  {
   "cell_type": "code",
   "execution_count": 129,
   "metadata": {
    "ExecuteTime": {
     "end_time": "2019-11-13T10:40:24.607395Z",
     "start_time": "2019-11-13T10:40:24.592719Z"
    }
   },
   "outputs": [
    {
     "data": {
      "text/html": [
       "<div>\n",
       "<style scoped>\n",
       "    .dataframe tbody tr th:only-of-type {\n",
       "        vertical-align: middle;\n",
       "    }\n",
       "\n",
       "    .dataframe tbody tr th {\n",
       "        vertical-align: top;\n",
       "    }\n",
       "\n",
       "    .dataframe thead th {\n",
       "        text-align: right;\n",
       "    }\n",
       "</style>\n",
       "<table border=\"1\" class=\"dataframe\">\n",
       "  <thead>\n",
       "    <tr style=\"text-align: right;\">\n",
       "      <th></th>\n",
       "      <th>all_titles</th>\n",
       "      <th>all_years</th>\n",
       "      <th>all_scores</th>\n",
       "      <th>all_meta</th>\n",
       "      <th>all_votes</th>\n",
       "      <th>all_gross</th>\n",
       "      <th>all_genres</th>\n",
       "      <th>id</th>\n",
       "      <th>decade</th>\n",
       "      <th>budget</th>\n",
       "      <th>imdb_id</th>\n",
       "      <th>genre_bis</th>\n",
       "    </tr>\n",
       "  </thead>\n",
       "  <tbody>\n",
       "    <tr>\n",
       "      <th>0</th>\n",
       "      <td>Star Wars: Episode VII - The Force Awakens</td>\n",
       "      <td>2015</td>\n",
       "      <td>79</td>\n",
       "      <td>81</td>\n",
       "      <td>799424</td>\n",
       "      <td>936662225</td>\n",
       "      <td>Action, Adventure, Sci-Fi</td>\n",
       "      <td>tt2488496</td>\n",
       "      <td>10s</td>\n",
       "      <td>245000000</td>\n",
       "      <td>tt2488496</td>\n",
       "      <td>Action</td>\n",
       "    </tr>\n",
       "    <tr>\n",
       "      <th>2</th>\n",
       "      <td>Avatar</td>\n",
       "      <td>2009</td>\n",
       "      <td>78</td>\n",
       "      <td>83</td>\n",
       "      <td>1065708</td>\n",
       "      <td>760507625</td>\n",
       "      <td>Action, Adventure, Fantasy</td>\n",
       "      <td>tt0499549</td>\n",
       "      <td>00s</td>\n",
       "      <td>237000000</td>\n",
       "      <td>tt0499549</td>\n",
       "      <td>Action</td>\n",
       "    </tr>\n",
       "    <tr>\n",
       "      <th>5</th>\n",
       "      <td>Titanic</td>\n",
       "      <td>1997</td>\n",
       "      <td>78</td>\n",
       "      <td>75</td>\n",
       "      <td>979853</td>\n",
       "      <td>659325379</td>\n",
       "      <td>Drama, Romance</td>\n",
       "      <td>tt0120338</td>\n",
       "      <td>90s</td>\n",
       "      <td>200000000</td>\n",
       "      <td>tt0120338</td>\n",
       "      <td>Romance</td>\n",
       "    </tr>\n",
       "    <tr>\n",
       "      <th>6</th>\n",
       "      <td>Jurassic World</td>\n",
       "      <td>2015</td>\n",
       "      <td>70</td>\n",
       "      <td>59</td>\n",
       "      <td>549843</td>\n",
       "      <td>652270625</td>\n",
       "      <td>Action, Adventure, Sci-Fi</td>\n",
       "      <td>tt0369610</td>\n",
       "      <td>10s</td>\n",
       "      <td>150000000</td>\n",
       "      <td>tt0369610</td>\n",
       "      <td>Action</td>\n",
       "    </tr>\n",
       "    <tr>\n",
       "      <th>7</th>\n",
       "      <td>Avengers Assemble</td>\n",
       "      <td>2012</td>\n",
       "      <td>80</td>\n",
       "      <td>69</td>\n",
       "      <td>1206183</td>\n",
       "      <td>623279547</td>\n",
       "      <td>Action, Adventure, Sci-Fi</td>\n",
       "      <td>tt0848228</td>\n",
       "      <td>10s</td>\n",
       "      <td>220000000</td>\n",
       "      <td>tt0848228</td>\n",
       "      <td>Action</td>\n",
       "    </tr>\n",
       "  </tbody>\n",
       "</table>\n",
       "</div>"
      ],
      "text/plain": [
       "                                   all_titles  all_years  all_scores  \\\n",
       "0  Star Wars: Episode VII - The Force Awakens       2015          79   \n",
       "2                                      Avatar       2009          78   \n",
       "5                                     Titanic       1997          78   \n",
       "6                              Jurassic World       2015          70   \n",
       "7                           Avengers Assemble       2012          80   \n",
       "\n",
       "   all_meta all_votes  all_gross                              all_genres  \\\n",
       "0        81    799424  936662225   Action, Adventure, Sci-Fi               \n",
       "2        83   1065708  760507625  Action, Adventure, Fantasy               \n",
       "5        75    979853  659325379              Drama, Romance               \n",
       "6        59    549843  652270625   Action, Adventure, Sci-Fi               \n",
       "7        69   1206183  623279547   Action, Adventure, Sci-Fi               \n",
       "\n",
       "          id decade     budget    imdb_id genre_bis  \n",
       "0  tt2488496    10s  245000000  tt2488496    Action  \n",
       "2  tt0499549    00s  237000000  tt0499549    Action  \n",
       "5  tt0120338    90s  200000000  tt0120338   Romance  \n",
       "6  tt0369610    10s  150000000  tt0369610    Action  \n",
       "7  tt0848228    10s  220000000  tt0848228    Action  "
      ]
     },
     "execution_count": 129,
     "metadata": {},
     "output_type": "execute_result"
    }
   ],
   "source": [
    "all_data.head()"
   ]
  },
  {
   "cell_type": "code",
   "execution_count": 130,
   "metadata": {
    "ExecuteTime": {
     "end_time": "2019-11-13T10:40:32.458946Z",
     "start_time": "2019-11-13T10:40:32.454863Z"
    }
   },
   "outputs": [],
   "source": [
    "all_data['profit'] = all_data['all_gross'] - all_data['budget']"
   ]
  },
  {
   "cell_type": "code",
   "execution_count": 131,
   "metadata": {
    "ExecuteTime": {
     "end_time": "2019-11-13T10:40:40.437735Z",
     "start_time": "2019-11-13T10:40:40.405673Z"
    }
   },
   "outputs": [
    {
     "data": {
      "text/html": [
       "<div>\n",
       "<style scoped>\n",
       "    .dataframe tbody tr th:only-of-type {\n",
       "        vertical-align: middle;\n",
       "    }\n",
       "\n",
       "    .dataframe tbody tr th {\n",
       "        vertical-align: top;\n",
       "    }\n",
       "\n",
       "    .dataframe thead th {\n",
       "        text-align: right;\n",
       "    }\n",
       "</style>\n",
       "<table border=\"1\" class=\"dataframe\">\n",
       "  <thead>\n",
       "    <tr style=\"text-align: right;\">\n",
       "      <th></th>\n",
       "      <th>count</th>\n",
       "      <th>mean</th>\n",
       "      <th>std</th>\n",
       "      <th>min</th>\n",
       "      <th>25%</th>\n",
       "      <th>50%</th>\n",
       "      <th>75%</th>\n",
       "      <th>max</th>\n",
       "    </tr>\n",
       "  </thead>\n",
       "  <tbody>\n",
       "    <tr>\n",
       "      <th>all_years</th>\n",
       "      <td>4714.0</td>\n",
       "      <td>1.997816e+03</td>\n",
       "      <td>1.347506e+01</td>\n",
       "      <td>1915.0</td>\n",
       "      <td>1990.00</td>\n",
       "      <td>2000.0</td>\n",
       "      <td>2008.00</td>\n",
       "      <td>2019.0</td>\n",
       "    </tr>\n",
       "    <tr>\n",
       "      <th>all_scores</th>\n",
       "      <td>4714.0</td>\n",
       "      <td>6.405388e+01</td>\n",
       "      <td>9.691270e+00</td>\n",
       "      <td>19.0</td>\n",
       "      <td>58.00</td>\n",
       "      <td>64.0</td>\n",
       "      <td>71.00</td>\n",
       "      <td>93.0</td>\n",
       "    </tr>\n",
       "    <tr>\n",
       "      <th>all_meta</th>\n",
       "      <td>4714.0</td>\n",
       "      <td>4.585342e+01</td>\n",
       "      <td>2.553559e+01</td>\n",
       "      <td>0.0</td>\n",
       "      <td>32.00</td>\n",
       "      <td>49.0</td>\n",
       "      <td>64.00</td>\n",
       "      <td>100.0</td>\n",
       "    </tr>\n",
       "    <tr>\n",
       "      <th>all_gross</th>\n",
       "      <td>4714.0</td>\n",
       "      <td>5.506381e+07</td>\n",
       "      <td>6.546027e+07</td>\n",
       "      <td>9074550.0</td>\n",
       "      <td>17540190.75</td>\n",
       "      <td>32864742.5</td>\n",
       "      <td>64469889.00</td>\n",
       "      <td>936662225.0</td>\n",
       "    </tr>\n",
       "    <tr>\n",
       "      <th>budget</th>\n",
       "      <td>4714.0</td>\n",
       "      <td>3.268043e+07</td>\n",
       "      <td>4.281290e+07</td>\n",
       "      <td>0.0</td>\n",
       "      <td>233750.00</td>\n",
       "      <td>19000000.0</td>\n",
       "      <td>45000000.00</td>\n",
       "      <td>380000000.0</td>\n",
       "    </tr>\n",
       "    <tr>\n",
       "      <th>profit</th>\n",
       "      <td>4714.0</td>\n",
       "      <td>2.238338e+07</td>\n",
       "      <td>5.090702e+07</td>\n",
       "      <td>-186921900.0</td>\n",
       "      <td>435454.00</td>\n",
       "      <td>15101924.0</td>\n",
       "      <td>33580143.25</td>\n",
       "      <td>691662225.0</td>\n",
       "    </tr>\n",
       "  </tbody>\n",
       "</table>\n",
       "</div>"
      ],
      "text/plain": [
       "             count          mean           std          min          25%  \\\n",
       "all_years   4714.0  1.997816e+03  1.347506e+01       1915.0      1990.00   \n",
       "all_scores  4714.0  6.405388e+01  9.691270e+00         19.0        58.00   \n",
       "all_meta    4714.0  4.585342e+01  2.553559e+01          0.0        32.00   \n",
       "all_gross   4714.0  5.506381e+07  6.546027e+07    9074550.0  17540190.75   \n",
       "budget      4714.0  3.268043e+07  4.281290e+07          0.0    233750.00   \n",
       "profit      4714.0  2.238338e+07  5.090702e+07 -186921900.0    435454.00   \n",
       "\n",
       "                   50%          75%          max  \n",
       "all_years       2000.0      2008.00       2019.0  \n",
       "all_scores        64.0        71.00         93.0  \n",
       "all_meta          49.0        64.00        100.0  \n",
       "all_gross   32864742.5  64469889.00  936662225.0  \n",
       "budget      19000000.0  45000000.00  380000000.0  \n",
       "profit      15101924.0  33580143.25  691662225.0  "
      ]
     },
     "execution_count": 131,
     "metadata": {},
     "output_type": "execute_result"
    }
   ],
   "source": [
    "all_data.describe().T"
   ]
  },
  {
   "cell_type": "markdown",
   "metadata": {},
   "source": [
    "#  Merging the inflation"
   ]
  },
  {
   "cell_type": "code",
   "execution_count": 132,
   "metadata": {
    "ExecuteTime": {
     "end_time": "2019-11-13T10:40:48.800840Z",
     "start_time": "2019-11-13T10:40:48.791497Z"
    }
   },
   "outputs": [
    {
     "name": "stdout",
     "output_type": "stream",
     "text": [
      "<class 'pandas.core.frame.DataFrame'>\n",
      "Int64Index: 4714 entries, 0 to 5053\n",
      "Data columns (total 13 columns):\n",
      "all_titles    4714 non-null object\n",
      "all_years     4714 non-null int64\n",
      "all_scores    4714 non-null int64\n",
      "all_meta      4714 non-null int64\n",
      "all_votes     4714 non-null object\n",
      "all_gross     4714 non-null int64\n",
      "all_genres    4714 non-null object\n",
      "id            4714 non-null object\n",
      "decade        4714 non-null object\n",
      "budget        4714 non-null int64\n",
      "imdb_id       4714 non-null object\n",
      "genre_bis     4714 non-null object\n",
      "profit        4714 non-null int64\n",
      "dtypes: int64(6), object(7)\n",
      "memory usage: 515.6+ KB\n"
     ]
    }
   ],
   "source": [
    "all_data.info()"
   ]
  },
  {
   "cell_type": "code",
   "execution_count": 133,
   "metadata": {
    "ExecuteTime": {
     "end_time": "2019-11-13T10:40:56.913695Z",
     "start_time": "2019-11-13T10:40:56.905820Z"
    }
   },
   "outputs": [
    {
     "name": "stdout",
     "output_type": "stream",
     "text": [
      "<class 'pandas.core.frame.DataFrame'>\n",
      "RangeIndex: 102 entries, 0 to 101\n",
      "Data columns (total 3 columns):\n",
      "Date         102 non-null int64\n",
      "Index        102 non-null float64\n",
      "Inflation    102 non-null float64\n",
      "dtypes: float64(2), int64(1)\n",
      "memory usage: 2.5 KB\n"
     ]
    }
   ],
   "source": [
    "inf.info()"
   ]
  },
  {
   "cell_type": "code",
   "execution_count": 134,
   "metadata": {
    "ExecuteTime": {
     "end_time": "2019-11-13T10:41:04.946216Z",
     "start_time": "2019-11-13T10:41:04.937144Z"
    }
   },
   "outputs": [],
   "source": [
    "data_with_inflation = pd.merge(all_data, inf,how='left', left_on='all_years', right_on='Date')"
   ]
  },
  {
   "cell_type": "markdown",
   "metadata": {},
   "source": [
    "# Clean data with inflation "
   ]
  },
  {
   "cell_type": "code",
   "execution_count": 135,
   "metadata": {
    "ExecuteTime": {
     "end_time": "2019-11-13T10:41:13.071438Z",
     "start_time": "2019-11-13T10:41:13.067752Z"
    }
   },
   "outputs": [],
   "source": [
    "del data_with_inflation['Inflation']"
   ]
  },
  {
   "cell_type": "code",
   "execution_count": 136,
   "metadata": {
    "ExecuteTime": {
     "end_time": "2019-11-13T10:41:20.852924Z",
     "start_time": "2019-11-13T10:41:20.839941Z"
    }
   },
   "outputs": [
    {
     "data": {
      "text/html": [
       "<div>\n",
       "<style scoped>\n",
       "    .dataframe tbody tr th:only-of-type {\n",
       "        vertical-align: middle;\n",
       "    }\n",
       "\n",
       "    .dataframe tbody tr th {\n",
       "        vertical-align: top;\n",
       "    }\n",
       "\n",
       "    .dataframe thead th {\n",
       "        text-align: right;\n",
       "    }\n",
       "</style>\n",
       "<table border=\"1\" class=\"dataframe\">\n",
       "  <thead>\n",
       "    <tr style=\"text-align: right;\">\n",
       "      <th></th>\n",
       "      <th>all_titles</th>\n",
       "      <th>all_years</th>\n",
       "      <th>all_scores</th>\n",
       "      <th>all_meta</th>\n",
       "      <th>all_votes</th>\n",
       "      <th>all_gross</th>\n",
       "      <th>all_genres</th>\n",
       "      <th>id</th>\n",
       "      <th>decade</th>\n",
       "      <th>budget</th>\n",
       "      <th>imdb_id</th>\n",
       "      <th>genre_bis</th>\n",
       "      <th>profit</th>\n",
       "      <th>Date</th>\n",
       "      <th>Index</th>\n",
       "    </tr>\n",
       "  </thead>\n",
       "  <tbody>\n",
       "    <tr>\n",
       "      <th>0</th>\n",
       "      <td>Star Wars: Episode VII - The Force Awakens</td>\n",
       "      <td>2015</td>\n",
       "      <td>79</td>\n",
       "      <td>81</td>\n",
       "      <td>799424</td>\n",
       "      <td>936662225</td>\n",
       "      <td>Action, Adventure, Sci-Fi</td>\n",
       "      <td>tt2488496</td>\n",
       "      <td>10s</td>\n",
       "      <td>245000000</td>\n",
       "      <td>tt2488496</td>\n",
       "      <td>Action</td>\n",
       "      <td>691662225</td>\n",
       "      <td>NaN</td>\n",
       "      <td>NaN</td>\n",
       "    </tr>\n",
       "    <tr>\n",
       "      <th>1</th>\n",
       "      <td>Avatar</td>\n",
       "      <td>2009</td>\n",
       "      <td>78</td>\n",
       "      <td>83</td>\n",
       "      <td>1065708</td>\n",
       "      <td>760507625</td>\n",
       "      <td>Action, Adventure, Fantasy</td>\n",
       "      <td>tt0499549</td>\n",
       "      <td>00s</td>\n",
       "      <td>237000000</td>\n",
       "      <td>tt0499549</td>\n",
       "      <td>Action</td>\n",
       "      <td>523507625</td>\n",
       "      <td>2009.0</td>\n",
       "      <td>214.537000</td>\n",
       "    </tr>\n",
       "    <tr>\n",
       "      <th>2</th>\n",
       "      <td>Titanic</td>\n",
       "      <td>1997</td>\n",
       "      <td>78</td>\n",
       "      <td>75</td>\n",
       "      <td>979853</td>\n",
       "      <td>659325379</td>\n",
       "      <td>Drama, Romance</td>\n",
       "      <td>tt0120338</td>\n",
       "      <td>90s</td>\n",
       "      <td>200000000</td>\n",
       "      <td>tt0120338</td>\n",
       "      <td>Romance</td>\n",
       "      <td>459325379</td>\n",
       "      <td>1997.0</td>\n",
       "      <td>160.516667</td>\n",
       "    </tr>\n",
       "    <tr>\n",
       "      <th>3</th>\n",
       "      <td>Jurassic World</td>\n",
       "      <td>2015</td>\n",
       "      <td>70</td>\n",
       "      <td>59</td>\n",
       "      <td>549843</td>\n",
       "      <td>652270625</td>\n",
       "      <td>Action, Adventure, Sci-Fi</td>\n",
       "      <td>tt0369610</td>\n",
       "      <td>10s</td>\n",
       "      <td>150000000</td>\n",
       "      <td>tt0369610</td>\n",
       "      <td>Action</td>\n",
       "      <td>502270625</td>\n",
       "      <td>NaN</td>\n",
       "      <td>NaN</td>\n",
       "    </tr>\n",
       "    <tr>\n",
       "      <th>4</th>\n",
       "      <td>Avengers Assemble</td>\n",
       "      <td>2012</td>\n",
       "      <td>80</td>\n",
       "      <td>69</td>\n",
       "      <td>1206183</td>\n",
       "      <td>623279547</td>\n",
       "      <td>Action, Adventure, Sci-Fi</td>\n",
       "      <td>tt0848228</td>\n",
       "      <td>10s</td>\n",
       "      <td>220000000</td>\n",
       "      <td>tt0848228</td>\n",
       "      <td>Action</td>\n",
       "      <td>403279547</td>\n",
       "      <td>2012.0</td>\n",
       "      <td>229.593917</td>\n",
       "    </tr>\n",
       "  </tbody>\n",
       "</table>\n",
       "</div>"
      ],
      "text/plain": [
       "                                   all_titles  all_years  all_scores  \\\n",
       "0  Star Wars: Episode VII - The Force Awakens       2015          79   \n",
       "1                                      Avatar       2009          78   \n",
       "2                                     Titanic       1997          78   \n",
       "3                              Jurassic World       2015          70   \n",
       "4                           Avengers Assemble       2012          80   \n",
       "\n",
       "   all_meta all_votes  all_gross                              all_genres  \\\n",
       "0        81    799424  936662225   Action, Adventure, Sci-Fi               \n",
       "1        83   1065708  760507625  Action, Adventure, Fantasy               \n",
       "2        75    979853  659325379              Drama, Romance               \n",
       "3        59    549843  652270625   Action, Adventure, Sci-Fi               \n",
       "4        69   1206183  623279547   Action, Adventure, Sci-Fi               \n",
       "\n",
       "          id decade     budget    imdb_id genre_bis     profit    Date  \\\n",
       "0  tt2488496    10s  245000000  tt2488496    Action  691662225     NaN   \n",
       "1  tt0499549    00s  237000000  tt0499549    Action  523507625  2009.0   \n",
       "2  tt0120338    90s  200000000  tt0120338   Romance  459325379  1997.0   \n",
       "3  tt0369610    10s  150000000  tt0369610    Action  502270625     NaN   \n",
       "4  tt0848228    10s  220000000  tt0848228    Action  403279547  2012.0   \n",
       "\n",
       "        Index  \n",
       "0         NaN  \n",
       "1  214.537000  \n",
       "2  160.516667  \n",
       "3         NaN  \n",
       "4  229.593917  "
      ]
     },
     "execution_count": 136,
     "metadata": {},
     "output_type": "execute_result"
    }
   ],
   "source": [
    "data_with_inflation.head()"
   ]
  },
  {
   "cell_type": "code",
   "execution_count": 90,
   "metadata": {
    "ExecuteTime": {
     "end_time": "2019-11-13T10:25:42.578843Z",
     "start_time": "2019-11-13T10:25:42.574514Z"
    }
   },
   "outputs": [],
   "source": [
    "def get_last_years_inflation(x):\n",
    "    if x == int(2015):\n",
    "        return 237\n",
    "    elif x == 2016:\n",
    "        return 240\n",
    "    elif x == 2017:\n",
    "        return 245\n",
    "    elif x == 2018:\n",
    "        return 251\n",
    "    elif x == 2019:\n",
    "        return 256\n",
    "#     else:\n",
    "#         return x\n",
    "    "
   ]
  },
  {
   "cell_type": "code",
   "execution_count": 74,
   "metadata": {
    "ExecuteTime": {
     "end_time": "2019-11-13T09:53:26.978454Z",
     "start_time": "2019-11-13T09:53:26.975973Z"
    }
   },
   "outputs": [],
   "source": [
    "# data_with_inflation['Index_all'] = data_with_inflation['all_years'].apply(lambda x: 237 if x == 2015 else data_with_inflation['Index_all'] )"
   ]
  },
  {
   "cell_type": "code",
   "execution_count": null,
   "metadata": {},
   "outputs": [],
   "source": []
  },
  {
   "cell_type": "code",
   "execution_count": 137,
   "metadata": {
    "ExecuteTime": {
     "end_time": "2019-11-13T10:41:47.249438Z",
     "start_time": "2019-11-13T10:41:47.236711Z"
    }
   },
   "outputs": [],
   "source": [
    "data_with_inflation['Index_all'] = data_with_inflation['all_years'].apply(lambda x: get_last_years_inflation(x) )\n",
    "data_with_inflation['Index_all'] = data_with_inflation['Index_all'].astype(str)\n",
    "\n",
    "data_with_inflation['Index'] = data_with_inflation['Index'].astype(str)\n"
   ]
  },
  {
   "cell_type": "code",
   "execution_count": 150,
   "metadata": {
    "ExecuteTime": {
     "end_time": "2019-11-13T10:49:24.178671Z",
     "start_time": "2019-11-13T10:49:24.167397Z"
    }
   },
   "outputs": [],
   "source": [
    "data_with_inflation['Index_all_years'] = data_with_inflation.Index.fillna('') + data_with_inflation.Index_all.fillna('')\n",
    "\n",
    "# data_with_inflation['Index_all_years'] = data_with_inflation['Index_all'].combine_first(data_with_inflation['Index'])\n",
    "\n",
    "data_with_inflation['Index_all_years'] = data_with_inflation['Index_all_years'].apply(\n",
    "    lambda x: x.lstrip('nan').rstrip('nan'))\n"
   ]
  },
  {
   "cell_type": "code",
   "execution_count": 151,
   "metadata": {
    "ExecuteTime": {
     "end_time": "2019-11-13T10:49:32.170285Z",
     "start_time": "2019-11-13T10:49:32.164672Z"
    }
   },
   "outputs": [
    {
     "data": {
      "text/plain": [
       "0                    237.0\n",
       "1                  214.537\n",
       "2       160.51666666666665\n",
       "3                    237.0\n",
       "4        229.5939166666667\n",
       "5                 215.3025\n",
       "6                    240.0\n",
       "7                    245.0\n",
       "8                    240.0\n",
       "9       166.57500000000002\n",
       "10                   237.0\n",
       "11       229.5939166666667\n",
       "12      188.88333333333335\n",
       "13                    96.5\n",
       "14      232.95708333333332\n",
       "15       201.5916666666667\n",
       "16      148.22500000000002\n",
       "17      218.05550000000002\n",
       "18                   245.0\n",
       "19      232.95708333333332\n",
       "20                   240.0\n",
       "21       229.5939166666667\n",
       "22                 179.875\n",
       "23      144.45833333333331\n",
       "24                 214.537\n",
       "25      232.95708333333332\n",
       "26                   245.0\n",
       "27      224.93916666666667\n",
       "28      183.95833333333334\n",
       "29       195.2916666666667\n",
       "               ...        \n",
       "4684    38.824999999999996\n",
       "4685    156.84999999999997\n",
       "4686    30.249999999999996\n",
       "4687    163.00833333333335\n",
       "4688    130.65833333333333\n",
       "4689                 251.0\n",
       "4690     140.3166666666667\n",
       "4691    160.51666666666665\n",
       "4692    118.25833333333333\n",
       "4693    224.93916666666667\n",
       "4694     99.60000000000001\n",
       "4695                 256.0\n",
       "4696               214.537\n",
       "4697    136.19166666666666\n",
       "4698    172.19999999999996\n",
       "4699                90.925\n",
       "4700               214.537\n",
       "4701    144.45833333333331\n",
       "4702               214.537\n",
       "4703     34.78333333333334\n",
       "4704    118.25833333333333\n",
       "4705    232.95708333333332\n",
       "4706    123.96666666666665\n",
       "4707    188.88333333333335\n",
       "4708    123.96666666666665\n",
       "4709                 240.0\n",
       "4710    107.56666666666665\n",
       "4711               214.537\n",
       "4712                  96.5\n",
       "4713    183.95833333333334\n",
       "Name: Index_all_years, Length: 4714, dtype: object"
      ]
     },
     "execution_count": 151,
     "metadata": {},
     "output_type": "execute_result"
    }
   ],
   "source": [
    "data_with_inflation['Index_all_years']"
   ]
  },
  {
   "cell_type": "code",
   "execution_count": 156,
   "metadata": {
    "ExecuteTime": {
     "end_time": "2019-11-13T10:50:43.728108Z",
     "start_time": "2019-11-13T10:50:43.724967Z"
    }
   },
   "outputs": [],
   "source": [
    "del data_with_inflation['Index_all']\n",
    "del data_with_inflation['Index']\n",
    "del data_with_inflation['Date']\n"
   ]
  },
  {
   "cell_type": "code",
   "execution_count": 157,
   "metadata": {
    "ExecuteTime": {
     "end_time": "2019-11-13T10:50:52.232978Z",
     "start_time": "2019-11-13T10:50:52.218694Z"
    },
    "scrolled": true
   },
   "outputs": [
    {
     "data": {
      "text/html": [
       "<div>\n",
       "<style scoped>\n",
       "    .dataframe tbody tr th:only-of-type {\n",
       "        vertical-align: middle;\n",
       "    }\n",
       "\n",
       "    .dataframe tbody tr th {\n",
       "        vertical-align: top;\n",
       "    }\n",
       "\n",
       "    .dataframe thead th {\n",
       "        text-align: right;\n",
       "    }\n",
       "</style>\n",
       "<table border=\"1\" class=\"dataframe\">\n",
       "  <thead>\n",
       "    <tr style=\"text-align: right;\">\n",
       "      <th></th>\n",
       "      <th>all_titles</th>\n",
       "      <th>all_years</th>\n",
       "      <th>all_scores</th>\n",
       "      <th>all_meta</th>\n",
       "      <th>all_votes</th>\n",
       "      <th>all_gross</th>\n",
       "      <th>all_genres</th>\n",
       "      <th>id</th>\n",
       "      <th>decade</th>\n",
       "      <th>budget</th>\n",
       "      <th>imdb_id</th>\n",
       "      <th>genre_bis</th>\n",
       "      <th>profit</th>\n",
       "      <th>Index_all_years</th>\n",
       "    </tr>\n",
       "  </thead>\n",
       "  <tbody>\n",
       "    <tr>\n",
       "      <th>0</th>\n",
       "      <td>Star Wars: Episode VII - The Force Awakens</td>\n",
       "      <td>2015</td>\n",
       "      <td>79</td>\n",
       "      <td>81</td>\n",
       "      <td>799424</td>\n",
       "      <td>936662225</td>\n",
       "      <td>Action, Adventure, Sci-Fi</td>\n",
       "      <td>tt2488496</td>\n",
       "      <td>10s</td>\n",
       "      <td>245000000</td>\n",
       "      <td>tt2488496</td>\n",
       "      <td>Action</td>\n",
       "      <td>691662225</td>\n",
       "      <td>237.0</td>\n",
       "    </tr>\n",
       "    <tr>\n",
       "      <th>1</th>\n",
       "      <td>Avatar</td>\n",
       "      <td>2009</td>\n",
       "      <td>78</td>\n",
       "      <td>83</td>\n",
       "      <td>1065708</td>\n",
       "      <td>760507625</td>\n",
       "      <td>Action, Adventure, Fantasy</td>\n",
       "      <td>tt0499549</td>\n",
       "      <td>00s</td>\n",
       "      <td>237000000</td>\n",
       "      <td>tt0499549</td>\n",
       "      <td>Action</td>\n",
       "      <td>523507625</td>\n",
       "      <td>214.537</td>\n",
       "    </tr>\n",
       "    <tr>\n",
       "      <th>2</th>\n",
       "      <td>Titanic</td>\n",
       "      <td>1997</td>\n",
       "      <td>78</td>\n",
       "      <td>75</td>\n",
       "      <td>979853</td>\n",
       "      <td>659325379</td>\n",
       "      <td>Drama, Romance</td>\n",
       "      <td>tt0120338</td>\n",
       "      <td>90s</td>\n",
       "      <td>200000000</td>\n",
       "      <td>tt0120338</td>\n",
       "      <td>Romance</td>\n",
       "      <td>459325379</td>\n",
       "      <td>160.51666666666665</td>\n",
       "    </tr>\n",
       "    <tr>\n",
       "      <th>3</th>\n",
       "      <td>Jurassic World</td>\n",
       "      <td>2015</td>\n",
       "      <td>70</td>\n",
       "      <td>59</td>\n",
       "      <td>549843</td>\n",
       "      <td>652270625</td>\n",
       "      <td>Action, Adventure, Sci-Fi</td>\n",
       "      <td>tt0369610</td>\n",
       "      <td>10s</td>\n",
       "      <td>150000000</td>\n",
       "      <td>tt0369610</td>\n",
       "      <td>Action</td>\n",
       "      <td>502270625</td>\n",
       "      <td>237.0</td>\n",
       "    </tr>\n",
       "    <tr>\n",
       "      <th>4</th>\n",
       "      <td>Avengers Assemble</td>\n",
       "      <td>2012</td>\n",
       "      <td>80</td>\n",
       "      <td>69</td>\n",
       "      <td>1206183</td>\n",
       "      <td>623279547</td>\n",
       "      <td>Action, Adventure, Sci-Fi</td>\n",
       "      <td>tt0848228</td>\n",
       "      <td>10s</td>\n",
       "      <td>220000000</td>\n",
       "      <td>tt0848228</td>\n",
       "      <td>Action</td>\n",
       "      <td>403279547</td>\n",
       "      <td>229.5939166666667</td>\n",
       "    </tr>\n",
       "  </tbody>\n",
       "</table>\n",
       "</div>"
      ],
      "text/plain": [
       "                                   all_titles  all_years  all_scores  \\\n",
       "0  Star Wars: Episode VII - The Force Awakens       2015          79   \n",
       "1                                      Avatar       2009          78   \n",
       "2                                     Titanic       1997          78   \n",
       "3                              Jurassic World       2015          70   \n",
       "4                           Avengers Assemble       2012          80   \n",
       "\n",
       "   all_meta all_votes  all_gross                              all_genres  \\\n",
       "0        81    799424  936662225   Action, Adventure, Sci-Fi               \n",
       "1        83   1065708  760507625  Action, Adventure, Fantasy               \n",
       "2        75    979853  659325379              Drama, Romance               \n",
       "3        59    549843  652270625   Action, Adventure, Sci-Fi               \n",
       "4        69   1206183  623279547   Action, Adventure, Sci-Fi               \n",
       "\n",
       "          id decade     budget    imdb_id genre_bis     profit  \\\n",
       "0  tt2488496    10s  245000000  tt2488496    Action  691662225   \n",
       "1  tt0499549    00s  237000000  tt0499549    Action  523507625   \n",
       "2  tt0120338    90s  200000000  tt0120338   Romance  459325379   \n",
       "3  tt0369610    10s  150000000  tt0369610    Action  502270625   \n",
       "4  tt0848228    10s  220000000  tt0848228    Action  403279547   \n",
       "\n",
       "      Index_all_years  \n",
       "0               237.0  \n",
       "1             214.537  \n",
       "2  160.51666666666665  \n",
       "3               237.0  \n",
       "4   229.5939166666667  "
      ]
     },
     "execution_count": 157,
     "metadata": {},
     "output_type": "execute_result"
    }
   ],
   "source": [
    "data_with_inflation.head()"
   ]
  },
  {
   "cell_type": "markdown",
   "metadata": {},
   "source": [
    "## Adjusting budget and gross to inflation"
   ]
  },
  {
   "cell_type": "code",
   "execution_count": 161,
   "metadata": {
    "ExecuteTime": {
     "end_time": "2019-11-13T10:53:57.177735Z",
     "start_time": "2019-11-13T10:53:57.171926Z"
    }
   },
   "outputs": [],
   "source": [
    "#  Re converting stringg to integer on index \n",
    "\n",
    "data_with_inflation['Index_all_years'] = data_with_inflation['Index_all_years'].astype(float)"
   ]
  },
  {
   "cell_type": "code",
   "execution_count": 176,
   "metadata": {
    "ExecuteTime": {
     "end_time": "2019-11-13T11:00:11.314766Z",
     "start_time": "2019-11-13T11:00:11.308782Z"
    }
   },
   "outputs": [],
   "source": [
    "data_with_inflation['budget_adjusted'] = (data_with_inflation['budget'] / data_with_inflation['Index_all_years'])*100\n",
    "\n",
    "data_with_inflation['gross_adjusted'] = (data_with_inflation['all_gross'] / data_with_inflation['Index_all_years'])*100\n",
    "\n"
   ]
  },
  {
   "cell_type": "code",
   "execution_count": 177,
   "metadata": {
    "ExecuteTime": {
     "end_time": "2019-11-13T11:00:19.483548Z",
     "start_time": "2019-11-13T11:00:19.479673Z"
    }
   },
   "outputs": [],
   "source": [
    "data_with_inflation['profit_adjusted'] =  data_with_inflation['gross_adjusted'] - data_with_inflation['budget_adjusted'] "
   ]
  },
  {
   "cell_type": "code",
   "execution_count": 181,
   "metadata": {
    "ExecuteTime": {
     "end_time": "2019-11-13T11:01:55.589363Z",
     "start_time": "2019-11-13T11:01:55.550128Z"
    }
   },
   "outputs": [
    {
     "data": {
      "text/html": [
       "<div>\n",
       "<style scoped>\n",
       "    .dataframe tbody tr th:only-of-type {\n",
       "        vertical-align: middle;\n",
       "    }\n",
       "\n",
       "    .dataframe tbody tr th {\n",
       "        vertical-align: top;\n",
       "    }\n",
       "\n",
       "    .dataframe thead th {\n",
       "        text-align: right;\n",
       "    }\n",
       "</style>\n",
       "<table border=\"1\" class=\"dataframe\">\n",
       "  <thead>\n",
       "    <tr style=\"text-align: right;\">\n",
       "      <th></th>\n",
       "      <th>all_years</th>\n",
       "      <th>all_scores</th>\n",
       "      <th>all_meta</th>\n",
       "      <th>all_gross</th>\n",
       "      <th>budget</th>\n",
       "      <th>profit</th>\n",
       "      <th>Index_all_years</th>\n",
       "      <th>budget_adjusted</th>\n",
       "      <th>gross_adjusted</th>\n",
       "      <th>profit_adjusted</th>\n",
       "    </tr>\n",
       "  </thead>\n",
       "  <tbody>\n",
       "    <tr>\n",
       "      <th>count</th>\n",
       "      <td>4714.000000</td>\n",
       "      <td>4714.000000</td>\n",
       "      <td>4714.000000</td>\n",
       "      <td>4.714000e+03</td>\n",
       "      <td>4.714000e+03</td>\n",
       "      <td>4.714000e+03</td>\n",
       "      <td>4714.000000</td>\n",
       "      <td>4.714000e+03</td>\n",
       "      <td>4.714000e+03</td>\n",
       "      <td>4.714000e+03</td>\n",
       "    </tr>\n",
       "    <tr>\n",
       "      <th>mean</th>\n",
       "      <td>1997.815868</td>\n",
       "      <td>64.053882</td>\n",
       "      <td>45.853415</td>\n",
       "      <td>5.506381e+07</td>\n",
       "      <td>3.268043e+07</td>\n",
       "      <td>2.238338e+07</td>\n",
       "      <td>164.620712</td>\n",
       "      <td>1.807042e+07</td>\n",
       "      <td>3.699981e+07</td>\n",
       "      <td>1.892939e+07</td>\n",
       "    </tr>\n",
       "    <tr>\n",
       "      <th>std</th>\n",
       "      <td>13.475065</td>\n",
       "      <td>9.691270</td>\n",
       "      <td>25.535594</td>\n",
       "      <td>6.546027e+07</td>\n",
       "      <td>4.281290e+07</td>\n",
       "      <td>5.090702e+07</td>\n",
       "      <td>57.179633</td>\n",
       "      <td>2.120612e+07</td>\n",
       "      <td>4.449424e+07</td>\n",
       "      <td>4.148857e+07</td>\n",
       "    </tr>\n",
       "    <tr>\n",
       "      <th>min</th>\n",
       "      <td>1915.000000</td>\n",
       "      <td>19.000000</td>\n",
       "      <td>0.000000</td>\n",
       "      <td>9.074550e+06</td>\n",
       "      <td>0.000000e+00</td>\n",
       "      <td>-1.869219e+08</td>\n",
       "      <td>10.108333</td>\n",
       "      <td>0.000000e+00</td>\n",
       "      <td>3.593108e+06</td>\n",
       "      <td>-1.176050e+08</td>\n",
       "    </tr>\n",
       "    <tr>\n",
       "      <th>25%</th>\n",
       "      <td>1990.000000</td>\n",
       "      <td>58.000000</td>\n",
       "      <td>32.000000</td>\n",
       "      <td>1.754019e+07</td>\n",
       "      <td>2.337500e+05</td>\n",
       "      <td>4.354540e+05</td>\n",
       "      <td>130.658333</td>\n",
       "      <td>2.124862e+05</td>\n",
       "      <td>1.205651e+07</td>\n",
       "      <td>2.533111e+05</td>\n",
       "    </tr>\n",
       "    <tr>\n",
       "      <th>50%</th>\n",
       "      <td>2000.000000</td>\n",
       "      <td>64.000000</td>\n",
       "      <td>49.000000</td>\n",
       "      <td>3.286474e+07</td>\n",
       "      <td>1.900000e+07</td>\n",
       "      <td>1.510192e+07</td>\n",
       "      <td>172.200000</td>\n",
       "      <td>1.196467e+07</td>\n",
       "      <td>2.243993e+07</td>\n",
       "      <td>1.064802e+07</td>\n",
       "    </tr>\n",
       "    <tr>\n",
       "      <th>75%</th>\n",
       "      <td>2008.000000</td>\n",
       "      <td>71.000000</td>\n",
       "      <td>64.000000</td>\n",
       "      <td>6.446989e+07</td>\n",
       "      <td>4.500000e+07</td>\n",
       "      <td>3.358014e+07</td>\n",
       "      <td>214.537000</td>\n",
       "      <td>2.594637e+07</td>\n",
       "      <td>4.389225e+07</td>\n",
       "      <td>2.582133e+07</td>\n",
       "    </tr>\n",
       "    <tr>\n",
       "      <th>max</th>\n",
       "      <td>2019.000000</td>\n",
       "      <td>93.000000</td>\n",
       "      <td>100.000000</td>\n",
       "      <td>9.366622e+08</td>\n",
       "      <td>3.800000e+08</td>\n",
       "      <td>6.916622e+08</td>\n",
       "      <td>256.000000</td>\n",
       "      <td>1.689346e+08</td>\n",
       "      <td>5.325013e+08</td>\n",
       "      <td>5.143519e+08</td>\n",
       "    </tr>\n",
       "  </tbody>\n",
       "</table>\n",
       "</div>"
      ],
      "text/plain": [
       "         all_years   all_scores     all_meta     all_gross        budget  \\\n",
       "count  4714.000000  4714.000000  4714.000000  4.714000e+03  4.714000e+03   \n",
       "mean   1997.815868    64.053882    45.853415  5.506381e+07  3.268043e+07   \n",
       "std      13.475065     9.691270    25.535594  6.546027e+07  4.281290e+07   \n",
       "min    1915.000000    19.000000     0.000000  9.074550e+06  0.000000e+00   \n",
       "25%    1990.000000    58.000000    32.000000  1.754019e+07  2.337500e+05   \n",
       "50%    2000.000000    64.000000    49.000000  3.286474e+07  1.900000e+07   \n",
       "75%    2008.000000    71.000000    64.000000  6.446989e+07  4.500000e+07   \n",
       "max    2019.000000    93.000000   100.000000  9.366622e+08  3.800000e+08   \n",
       "\n",
       "             profit  Index_all_years  budget_adjusted  gross_adjusted  \\\n",
       "count  4.714000e+03      4714.000000     4.714000e+03    4.714000e+03   \n",
       "mean   2.238338e+07       164.620712     1.807042e+07    3.699981e+07   \n",
       "std    5.090702e+07        57.179633     2.120612e+07    4.449424e+07   \n",
       "min   -1.869219e+08        10.108333     0.000000e+00    3.593108e+06   \n",
       "25%    4.354540e+05       130.658333     2.124862e+05    1.205651e+07   \n",
       "50%    1.510192e+07       172.200000     1.196467e+07    2.243993e+07   \n",
       "75%    3.358014e+07       214.537000     2.594637e+07    4.389225e+07   \n",
       "max    6.916622e+08       256.000000     1.689346e+08    5.325013e+08   \n",
       "\n",
       "       profit_adjusted  \n",
       "count     4.714000e+03  \n",
       "mean      1.892939e+07  \n",
       "std       4.148857e+07  \n",
       "min      -1.176050e+08  \n",
       "25%       2.533111e+05  \n",
       "50%       1.064802e+07  \n",
       "75%       2.582133e+07  \n",
       "max       5.143519e+08  "
      ]
     },
     "execution_count": 181,
     "metadata": {},
     "output_type": "execute_result"
    }
   ],
   "source": [
    "data_with_inflation.describe()"
   ]
  },
  {
   "cell_type": "code",
   "execution_count": 184,
   "metadata": {
    "ExecuteTime": {
     "end_time": "2019-11-13T11:04:26.385701Z",
     "start_time": "2019-11-13T11:04:26.378338Z"
    }
   },
   "outputs": [
    {
     "data": {
      "text/plain": [
       "1915      1\n",
       "1918      1\n",
       "1950      1\n",
       "1951      1\n",
       "1952      4\n",
       "1953      6\n",
       "1954      7\n",
       "1955      7\n",
       "1956      9\n",
       "1957      7\n",
       "1958      4\n",
       "1959     13\n",
       "1960     15\n",
       "1961     10\n",
       "1962     12\n",
       "1963     13\n",
       "1964     11\n",
       "1965     14\n",
       "1966     10\n",
       "1967     18\n",
       "1968     14\n",
       "1969     15\n",
       "1970     14\n",
       "1971     14\n",
       "1972     12\n",
       "1973     16\n",
       "1974     22\n",
       "1975     25\n",
       "1976     19\n",
       "1977     32\n",
       "       ... \n",
       "1990     99\n",
       "1991     97\n",
       "1992     99\n",
       "1993    113\n",
       "1994    113\n",
       "1995    118\n",
       "1996    132\n",
       "1997    118\n",
       "1998    122\n",
       "1999    128\n",
       "2000    127\n",
       "2001    127\n",
       "2002    145\n",
       "2003    128\n",
       "2004    141\n",
       "2005    149\n",
       "2006    153\n",
       "2007    142\n",
       "2008    147\n",
       "2009    142\n",
       "2010    127\n",
       "2011    142\n",
       "2012    126\n",
       "2013    128\n",
       "2014    137\n",
       "2015    120\n",
       "2016    141\n",
       "2017     73\n",
       "2018     10\n",
       "2019      5\n",
       "Name: all_years, Length: 72, dtype: int64"
      ]
     },
     "execution_count": 184,
     "metadata": {},
     "output_type": "execute_result"
    }
   ],
   "source": []
  },
  {
   "cell_type": "code",
   "execution_count": 179,
   "metadata": {
    "ExecuteTime": {
     "end_time": "2019-11-13T11:00:35.783465Z",
     "start_time": "2019-11-13T11:00:35.532283Z"
    }
   },
   "outputs": [
    {
     "data": {
      "text/plain": [
       "<matplotlib.axes._subplots.AxesSubplot at 0x1a234ef438>"
      ]
     },
     "execution_count": 179,
     "metadata": {},
     "output_type": "execute_result"
    },
    {
     "data": {
      "image/png": "[encoded data removed]",
      "text/plain": [
       "<Figure size 432x288 with 1 Axes>"
      ]
     },
     "metadata": {
      "needs_background": "light"
     },
     "output_type": "display_data"
    }
   ],
   "source": [
    "sns.distplot(data_with_inflation.gross_adjusted)"
   ]
  },
  {
   "cell_type": "code",
   "execution_count": null,
   "metadata": {},
   "outputs": [],
   "source": []
  },
  {
   "cell_type": "code",
   "execution_count": null,
   "metadata": {
    "ExecuteTime": {
     "end_time": "2019-11-13T09:35:32.710110Z",
     "start_time": "2019-11-13T09:35:29.485Z"
    }
   },
   "outputs": [],
   "source": [
    "# data_for_budget = all_data[all_data['budget'] > 0]"
   ]
  },
  {
   "cell_type": "code",
   "execution_count": null,
   "metadata": {
    "ExecuteTime": {
     "end_time": "2019-11-13T09:35:32.712884Z",
     "start_time": "2019-11-13T09:35:29.509Z"
    }
   },
   "outputs": [],
   "source": [
    "# data_for_budget.to_csv('movies_for_budget', encoding='utf-8')\n",
    "# all_data.to_csv('movies_all', encoding='utf-8')\n"
   ]
  },
  {
   "cell_type": "code",
   "execution_count": 185,
   "metadata": {
    "ExecuteTime": {
     "end_time": "2019-11-13T11:05:33.570366Z",
     "start_time": "2019-11-13T11:05:33.478343Z"
    }
   },
   "outputs": [],
   "source": [
    "data_with_inflation.to_csv('data_adjusted_to_inflation.csv')"
   ]
  },
  {
   "cell_type": "code",
   "execution_count": null,
   "metadata": {},
   "outputs": [],
   "source": []
  }
 ],
 "metadata": {
  "hide_input": false,
  "kernelspec": {
   "display_name": "Python 3",
   "language": "python",
   "name": "python3"
  },
  "language_info": {
   "codemirror_mode": {
    "name": "ipython",
    "version": 3
   },
   "file_extension": ".py",
   "mimetype": "text/x-python",
   "name": "python",
   "nbconvert_exporter": "python",
   "pygments_lexer": "ipython3",
   "version": "3.7.3"
  },
  "toc": {
   "base_numbering": 1,
   "nav_menu": {},
   "number_sections": true,
   "sideBar": true,
   "skip_h1_title": false,
   "title_cell": "Table of Contents",
   "title_sidebar": "Contents",
   "toc_cell": false,
   "toc_position": {},
   "toc_section_display": true,
   "toc_window_display": true
  },
  "varInspector": {
   "cols": {
    "lenName": 16,
    "lenType": 16,
    "lenVar": 40
   },
   "kernels_config": {
    "python": {
     "delete_cmd_postfix": "",
     "delete_cmd_prefix": "del ",
     "library": "var_list.py",
     "varRefreshCmd": "print(var_dic_list())"
    },
    "r": {
     "delete_cmd_postfix": ") ",
     "delete_cmd_prefix": "rm(",
     "library": "var_list.r",
     "varRefreshCmd": "cat(var_dic_list()) "
    }
   },
   "types_to_exclude": [
    "module",
    "function",
    "builtin_function_or_method",
    "instance",
    "_Feature"
   ],
   "window_display": false
  }
 },
 "nbformat": 4,
 "nbformat_minor": 2
}
