{
 "cells": [
  {
   "cell_type": "code",
   "execution_count": 9,
   "metadata": {
    "ExecuteTime": {
     "end_time": "2019-11-14T19:48:51.794535Z",
     "start_time": "2019-11-14T19:48:51.788261Z"
    }
   },
   "outputs": [],
   "source": [
    "import pandas as pd \n",
    "import numpy as np \n",
    "from matplotlib import pyplot as plt\n",
    "%matplotlib inline\n",
    "import seaborn as sns\n",
    "sns.set_style('darkgrid')\n",
    "import random"
   ]
  },
  {
   "cell_type": "markdown",
   "metadata": {
    "heading_collapsed": true
   },
   "source": [
    "# Importing data "
   ]
  },
  {
   "cell_type": "code",
   "execution_count": 6,
   "metadata": {
    "ExecuteTime": {
     "end_time": "2019-11-14T19:47:10.384059Z",
     "start_time": "2019-11-14T19:47:10.296104Z"
    },
    "hidden": true
   },
   "outputs": [],
   "source": [
    "data_with_inflation = pd.read_csv('data_adjusted_to_inflation.csv')\n",
    "data_for_ht = data_with_inflation.replace(0,data_with_inflation.median())"
   ]
  },
  {
   "cell_type": "markdown",
   "metadata": {},
   "source": [
    "# H3 - 50's and 60's movies made more profit than movies nowadays"
   ]
  },
  {
   "cell_type": "code",
   "execution_count": null,
   "metadata": {},
   "outputs": [],
   "source": []
  },
  {
   "cell_type": "code",
   "execution_count": 11,
   "metadata": {
    "ExecuteTime": {
     "end_time": "2019-11-14T19:50:10.276006Z",
     "start_time": "2019-11-14T19:50:10.262738Z"
    }
   },
   "outputs": [],
   "source": [
    "fifth_movies = list((data_for_ht[(data_for_ht['decade'] == \"50s\")|(data_for_ht['decade'] == \"60s\")]['profit_adjusted']))\n",
    "now_movies = list((data_for_ht[(data_for_ht['decade']== \"00s\")|(data_for_ht['decade'] == \"10s\")]['profit_adjusted']))"
   ]
  },
  {
   "cell_type": "markdown",
   "metadata": {},
   "source": [
    "## Getting 2 samples of equal size "
   ]
  },
  {
   "cell_type": "code",
   "execution_count": 12,
   "metadata": {
    "ExecuteTime": {
     "end_time": "2019-11-14T19:50:11.669729Z",
     "start_time": "2019-11-14T19:50:11.665497Z"
    }
   },
   "outputs": [],
   "source": [
    "fifth_movies_sample = random.sample(fifth_movies, 190)\n",
    "now_movies_sample = random.sample(now_movies, 190)"
   ]
  },
  {
   "cell_type": "markdown",
   "metadata": {},
   "source": [
    "## Variance and mean of the samples "
   ]
  },
  {
   "cell_type": "code",
   "execution_count": 62,
   "metadata": {
    "ExecuteTime": {
     "end_time": "2019-11-14T22:38:11.883588Z",
     "start_time": "2019-11-14T22:38:11.875711Z"
    }
   },
   "outputs": [
    {
     "name": "stdout",
     "output_type": "stream",
     "text": [
      "The variance for the movies on 50s/60s is: 6922157516638159.0\n",
      "The std for the movies on 50s/60s is: 83199504.30524306\n",
      "The mean for the movies on 50s/60s is: 76533373.36606313\n",
      "===============\n",
      "The variance for the movies nowadays is: 653275416623971.5\n",
      "The std for the movies on nowadays is: 25559253.052935086\n",
      "The mean for the movies on nowadays is: 10534458.463258183\n"
     ]
    }
   ],
   "source": [
    "print(\"The variance for the movies on 50s/60s is: {}\".format(np.var(fifth_movies_sample)))\n",
    "print(\"The std for the movies on 50s/60s is: {}\".format(np.std(fifth_movies_sample)))\n",
    "print(\"The mean for the movies on 50s/60s is: {}\".format(np.mean(fifth_movies_sample)))\n",
    "\n",
    "print('===============')\n",
    "\n",
    "print(\"The variance for the movies nowadays is: {}\".format(np.var(now_movies_sample)))\n",
    "print(\"The std for the movies on nowadays is: {}\".format(np.std(now_movies_sample)))\n",
    "print(\"The mean for the movies on nowadays is: {}\".format(np.mean(now_movies_sample)))\n",
    "\n"
   ]
  },
  {
   "cell_type": "markdown",
   "metadata": {},
   "source": [
    "## Normality test for samples "
   ]
  },
  {
   "cell_type": "code",
   "execution_count": 65,
   "metadata": {
    "ExecuteTime": {
     "end_time": "2019-11-14T22:40:51.242221Z",
     "start_time": "2019-11-14T22:40:51.235755Z"
    }
   },
   "outputs": [
    {
     "data": {
      "text/plain": [
       "1.6711738037003125e-21"
      ]
     },
     "execution_count": 65,
     "metadata": {},
     "output_type": "execute_result"
    }
   ],
   "source": [
    "stats.normaltest(now_movies_sample)"
   ]
  },
  {
   "cell_type": "code",
   "execution_count": 67,
   "metadata": {
    "ExecuteTime": {
     "end_time": "2019-11-14T22:41:10.522072Z",
     "start_time": "2019-11-14T22:41:10.514705Z"
    }
   },
   "outputs": [
    {
     "data": {
      "text/plain": [
       "NormaltestResult(statistic=114.48351959430283, pvalue=1.3810823836266182e-25)"
      ]
     },
     "execution_count": 67,
     "metadata": {},
     "output_type": "execute_result"
    }
   ],
   "source": [
    "stats.normaltest(fifth_movies_sample)"
   ]
  },
  {
   "cell_type": "markdown",
   "metadata": {
    "ExecuteTime": {
     "end_time": "2019-11-14T19:50:26.075666Z",
     "start_time": "2019-11-14T19:50:26.071941Z"
    }
   },
   "source": [
    "## Plotting the distribution for both samples"
   ]
  },
  {
   "cell_type": "code",
   "execution_count": 84,
   "metadata": {
    "ExecuteTime": {
     "end_time": "2019-11-14T22:48:13.120396Z",
     "start_time": "2019-11-14T22:48:12.796934Z"
    }
   },
   "outputs": [
    {
     "data": {
      "text/plain": [
       "Text(0, 0.5, 'Probability')"
      ]
     },
     "execution_count": 84,
     "metadata": {},
     "output_type": "execute_result"
    },
    {
     "data": {
      "image/png": "[encoded data removed]",
      "text/plain": [
       "<Figure size 720x432 with 1 Axes>"
      ]
     },
     "metadata": {},
     "output_type": "display_data"
    }
   ],
   "source": [
    "plt.figure(figsize=(10,6))\n",
    "sns.distplot(fifth_movies_sample, label='50s and 60s movies', hist= False)\n",
    "sns.distplot(now_movies_sample, label='00s and 10s movies', hist=False)\n",
    "\n",
    "plt.xlabel('Profit')\n",
    "plt.ylabel('Probability')"
   ]
  },
  {
   "cell_type": "markdown",
   "metadata": {},
   "source": [
    "## Difference between distribution means"
   ]
  },
  {
   "cell_type": "code",
   "execution_count": 85,
   "metadata": {
    "ExecuteTime": {
     "end_time": "2019-11-14T22:48:17.818393Z",
     "start_time": "2019-11-14T22:48:17.812655Z"
    }
   },
   "outputs": [
    {
     "name": "stdout",
     "output_type": "stream",
     "text": [
      "The difference between means is 65998914.90280495\n"
     ]
    }
   ],
   "source": [
    "diff_means = np.mean(fifth_movies_sample) - np.mean(now_movies_sample)\n",
    "print(\"The difference between means is {}\".format(diff_means))"
   ]
  },
  {
   "cell_type": "markdown",
   "metadata": {},
   "source": [
    "## Functions to create t-statistic"
   ]
  },
  {
   "cell_type": "markdown",
   "metadata": {},
   "source": [
    "$$\\large t = \\frac{\\bar{x}{1} - \\bar{x}{2}}{\\sqrt{s^{2}{p} (\\frac{1}{n{1}} + \\frac{1}{n_{2}}) } } $$\n",
    "\n",
    "Where $s^{2}_{p}$ is the pooled sample variance, calculated as:\n",
    "\n",
    "$$\\large s^{2}{p} = \\frac{(n{1} -1)s^{2}{1} + (n{2} -1)s^{2}{2}}{n{1} + n_{2} - 2} $$\n",
    "\n",
    "Where $s^{2}{1}$ and $s^{2}{2}$ are the variances for each sample given by the formula $$ \\large s^{2} = \\frac{\\sum_{i=1}^{n}(x_{i} - \\bar{x})^{2}}{n-1} $$"
   ]
  },
  {
   "cell_type": "code",
   "execution_count": 89,
   "metadata": {
    "ExecuteTime": {
     "end_time": "2019-11-14T22:48:40.360687Z",
     "start_time": "2019-11-14T22:48:40.355823Z"
    }
   },
   "outputs": [],
   "source": [
    "def pooled_variance(sample1, sample2):\n",
    "    n1 = len(sample1)\n",
    "    n2 = len(sample2)\n",
    "    var1 = np.var(sample1)\n",
    "    var2 = np.var(sample2)\n",
    "    num = (n1-1)*var1 + (n2-1)*var2\n",
    "    den = n1 + n2 - 2\n",
    "    return num/den"
   ]
  },
  {
   "cell_type": "code",
   "execution_count": 90,
   "metadata": {
    "ExecuteTime": {
     "end_time": "2019-11-14T22:48:40.746353Z",
     "start_time": "2019-11-14T22:48:40.739790Z"
    }
   },
   "outputs": [
    {
     "data": {
      "text/plain": [
       "10.452251881825967"
      ]
     },
     "execution_count": 90,
     "metadata": {},
     "output_type": "execute_result"
    }
   ],
   "source": [
    "def tstatistic(fifth, now):\n",
    "    fifth_mean, now_mean = np.mean(fifth), np.mean(now)\n",
    "    pool_var = pooled_variance(fifth, now)\n",
    "    n_f, n_n = len(fifth), len(now)\n",
    "    num = fifth_mean - now_mean\n",
    "    denom = np.sqrt(pool_var * ((1/n_f)+(1/n_n)))\n",
    "    return num / denom\n",
    "\n",
    "t_stat = tstatistic(fifth_movies_sample, now_movies_sample)\n",
    "t_stat"
   ]
  },
  {
   "cell_type": "code",
   "execution_count": 91,
   "metadata": {
    "ExecuteTime": {
     "end_time": "2019-11-14T22:48:41.097092Z",
     "start_time": "2019-11-14T22:48:41.094383Z"
    }
   },
   "outputs": [],
   "source": [
    "import scipy.stats\n",
    "# import stats.t\n",
    "from scipy import stats"
   ]
  },
  {
   "cell_type": "code",
   "execution_count": 92,
   "metadata": {
    "ExecuteTime": {
     "end_time": "2019-11-14T22:48:42.306507Z",
     "start_time": "2019-11-14T22:48:42.077912Z"
    }
   },
   "outputs": [
    {
     "data": {
      "image/png": "[encoded data removed]",
      "text/plain": [
       "<Figure size 576x360 with 1 Axes>"
      ]
     },
     "metadata": {},
     "output_type": "display_data"
    }
   ],
   "source": [
    "def visualize_t(t_stat, n_control, n_experimental):\n",
    "    \n",
    "    \"\"\"\n",
    "    Visualize the critical t values on a t distribution\n",
    "    \n",
    "    Parameters\n",
    "    -----------\n",
    "    t-stat: float\n",
    "    n_control: int\n",
    "    n_experiment: int\n",
    "    \n",
    "    Returns\n",
    "    ----------\n",
    "    None\n",
    "    \n",
    "    \"\"\"\n",
    "    # initialize a matplotlib \"figure\"\n",
    "    fig = plt.figure(figsize=(8,5))\n",
    "    ax = fig.gca()\n",
    "    # generate points on the x axis between -4 and 4:\n",
    "    xs = np.linspace(-12, 12, 500)\n",
    "\n",
    "    # use stats.t.ppf to get critical value. For alpha = 0.05 and two tailed test\n",
    "    crit = stats.t.ppf(1-0.025, (n_control+n_experimental-2))\n",
    "    \n",
    "    # use stats.t.pdf to get values on the probability density function for the t-distribution\n",
    "    \n",
    "    ys= stats.t.pdf(xs, (n_control+n_experimental-2), 0, 1)\n",
    "    ax.plot(xs, ys, linewidth=3, color='darkred')\n",
    "\n",
    "    ax.axvline(crit, color='black', linestyle='--', lw=5)\n",
    "    ax.axvline(-crit, color='black', linestyle='--', lw=5)\n",
    "    ax.axvline(t_stat, color='black', linestyle='--', lw=5)\n",
    "    \n",
    "    plt.show()\n",
    "    return None\n",
    "\n",
    "n_control = len(fifth_movies_sample)\n",
    "n_experimental = len(now_movies_sample)\n",
    "visualize_t(t_stat, n_control, n_experimental)\n"
   ]
  },
  {
   "cell_type": "markdown",
   "metadata": {},
   "source": [
    "## Getting p-value"
   ]
  },
  {
   "cell_type": "code",
   "execution_count": null,
   "metadata": {},
   "outputs": [],
   "source": []
  },
  {
   "cell_type": "code",
   "execution_count": 93,
   "metadata": {
    "ExecuteTime": {
     "end_time": "2019-11-14T22:49:07.609005Z",
     "start_time": "2019-11-14T22:49:07.603257Z"
    }
   },
   "outputs": [
    {
     "name": "stdout",
     "output_type": "stream",
     "text": [
      "6.217240341460524e-23\n"
     ]
    }
   ],
   "source": [
    "lower_tail = stats.t.cdf(-t_stat, (190+190-2), 0, 1)\n",
    "# Upper tail comulative density function returns area under upper tail curve\n",
    "upper_tail = 1. - stats.t.cdf(t_stat, (190+190-2), 0, 1)\n",
    "\n",
    "p_value = lower_tail+upper_tail\n",
    "print(p_value)"
   ]
  },
  {
   "cell_type": "code",
   "execution_count": 94,
   "metadata": {
    "ExecuteTime": {
     "end_time": "2019-11-14T22:49:08.367938Z",
     "start_time": "2019-11-14T22:49:08.362803Z"
    }
   },
   "outputs": [
    {
     "data": {
      "text/plain": [
       "Ttest_indResult(statistic=10.42470966825668, pvalue=1.5574637704270018e-22)"
      ]
     },
     "execution_count": 94,
     "metadata": {},
     "output_type": "execute_result"
    }
   ],
   "source": [
    "stats.ttest_ind(fifth_movies_sample, now_movies_sample)"
   ]
  },
  {
   "cell_type": "code",
   "execution_count": null,
   "metadata": {},
   "outputs": [],
   "source": []
  },
  {
   "cell_type": "code",
   "execution_count": null,
   "metadata": {},
   "outputs": [],
   "source": []
  },
  {
   "cell_type": "markdown",
   "metadata": {},
   "source": [
    "# H4 - Movies nowadays have more budget than in 50s and 60s"
   ]
  },
  {
   "cell_type": "code",
   "execution_count": 100,
   "metadata": {
    "ExecuteTime": {
     "end_time": "2019-11-14T22:57:27.173802Z",
     "start_time": "2019-11-14T22:57:27.160094Z"
    }
   },
   "outputs": [],
   "source": [
    "fifth_movies = list((data_for_ht[(data_for_ht['decade'] == \"50s\")|(data_for_ht['decade'] == \"60s\")]['budget_adjusted']))\n",
    "now_movies = list((data_for_ht[(data_for_ht['decade']== \"00s\")|(data_for_ht['decade'] == \"10s\")]['budget_adjusted']))"
   ]
  },
  {
   "cell_type": "markdown",
   "metadata": {},
   "source": [
    "## Getting 2 samples of equal size "
   ]
  },
  {
   "cell_type": "code",
   "execution_count": 101,
   "metadata": {
    "ExecuteTime": {
     "end_time": "2019-11-14T22:57:27.864803Z",
     "start_time": "2019-11-14T22:57:27.860699Z"
    }
   },
   "outputs": [],
   "source": [
    "fifth_movies_sample = random.sample(fifth_movies, 190)\n",
    "now_movies_sample = random.sample(now_movies, 190)"
   ]
  },
  {
   "cell_type": "markdown",
   "metadata": {},
   "source": [
    "## Variance and mean of the samples "
   ]
  },
  {
   "cell_type": "code",
   "execution_count": 97,
   "metadata": {
    "ExecuteTime": {
     "end_time": "2019-11-14T22:56:46.055752Z",
     "start_time": "2019-11-14T22:56:46.047286Z"
    }
   },
   "outputs": [
    {
     "name": "stdout",
     "output_type": "stream",
     "text": [
      "The variance for the movies on 50s/60s is: 481427044520174.4\n",
      "The std for the movies on 50s/60s is: 21941445.816540312\n",
      "The mean for the movies on 50s/60s is: 19805174.75636675\n",
      "===============\n",
      "The variance for the movies nowadays is: 549011119428743.94\n",
      "The std for the movies on nowadays is: 23430986.309345663\n",
      "The mean for the movies on nowadays is: 25993960.314521857\n"
     ]
    }
   ],
   "source": [
    "print(\"The variance for the movies on 50s/60s is: {}\".format(np.var(fifth_movies_sample)))\n",
    "print(\"The std for the movies on 50s/60s is: {}\".format(np.std(fifth_movies_sample)))\n",
    "print(\"The mean for the movies on 50s/60s is: {}\".format(np.mean(fifth_movies_sample)))\n",
    "\n",
    "print('===============')\n",
    "\n",
    "print(\"The variance for the movies nowadays is: {}\".format(np.var(now_movies_sample)))\n",
    "print(\"The std for the movies on nowadays is: {}\".format(np.std(now_movies_sample)))\n",
    "print(\"The mean for the movies on nowadays is: {}\".format(np.mean(now_movies_sample)))\n",
    "\n"
   ]
  },
  {
   "cell_type": "markdown",
   "metadata": {},
   "source": [
    "## Normality test for samples "
   ]
  },
  {
   "cell_type": "code",
   "execution_count": 98,
   "metadata": {
    "ExecuteTime": {
     "end_time": "2019-11-14T22:57:04.235921Z",
     "start_time": "2019-11-14T22:57:04.226565Z"
    }
   },
   "outputs": [
    {
     "data": {
      "text/plain": [
       "NormaltestResult(statistic=102.41014813403888, pvalue=5.779880870568595e-23)"
      ]
     },
     "execution_count": 98,
     "metadata": {},
     "output_type": "execute_result"
    }
   ],
   "source": [
    "stats.normaltest(now_movies_sample)"
   ]
  },
  {
   "cell_type": "code",
   "execution_count": 99,
   "metadata": {
    "ExecuteTime": {
     "end_time": "2019-11-14T22:57:09.198599Z",
     "start_time": "2019-11-14T22:57:09.192135Z"
    }
   },
   "outputs": [
    {
     "data": {
      "text/plain": [
       "NormaltestResult(statistic=168.27091130705898, pvalue=2.8869274984362527e-37)"
      ]
     },
     "execution_count": 99,
     "metadata": {},
     "output_type": "execute_result"
    }
   ],
   "source": [
    "stats.normaltest(fifth_movies_sample)"
   ]
  },
  {
   "cell_type": "markdown",
   "metadata": {
    "ExecuteTime": {
     "end_time": "2019-11-14T19:50:26.075666Z",
     "start_time": "2019-11-14T19:50:26.071941Z"
    }
   },
   "source": [
    "## Plotting the distribution for both samples"
   ]
  },
  {
   "cell_type": "code",
   "execution_count": 84,
   "metadata": {
    "ExecuteTime": {
     "end_time": "2019-11-14T22:48:13.120396Z",
     "start_time": "2019-11-14T22:48:12.796934Z"
    }
   },
   "outputs": [
    {
     "data": {
      "text/plain": [
       "Text(0, 0.5, 'Probability')"
      ]
     },
     "execution_count": 84,
     "metadata": {},
     "output_type": "execute_result"
    },
    {
     "data": {
      "image/png": "[encoded data removed]",
      "text/plain": [
       "<Figure size 720x432 with 1 Axes>"
      ]
     },
     "metadata": {},
     "output_type": "display_data"
    }
   ],
   "source": [
    "plt.figure(figsize=(10,6))\n",
    "sns.distplot(fifth_movies_sample, label='50s and 60s movies', hist= False)\n",
    "sns.distplot(now_movies_sample, label='00s and 10s movies', hist=False)\n",
    "\n",
    "plt.xlabel('Profit')\n",
    "plt.ylabel('Probability')"
   ]
  },
  {
   "cell_type": "markdown",
   "metadata": {},
   "source": [
    "## Difference between distribution means"
   ]
  },
  {
   "cell_type": "code",
   "execution_count": 85,
   "metadata": {
    "ExecuteTime": {
     "end_time": "2019-11-14T22:48:17.818393Z",
     "start_time": "2019-11-14T22:48:17.812655Z"
    }
   },
   "outputs": [
    {
     "name": "stdout",
     "output_type": "stream",
     "text": [
      "The difference between means is 65998914.90280495\n"
     ]
    }
   ],
   "source": [
    "diff_means = np.mean(fifth_movies_sample) - np.mean(now_movies_sample)\n",
    "print(\"The difference between means is {}\".format(diff_means))"
   ]
  },
  {
   "cell_type": "markdown",
   "metadata": {},
   "source": [
    "## Functions to create t-statistic"
   ]
  },
  {
   "cell_type": "markdown",
   "metadata": {},
   "source": [
    "$$\\large t = \\frac{\\bar{x}{1} - \\bar{x}{2}}{\\sqrt{s^{2}{p} (\\frac{1}{n{1}} + \\frac{1}{n_{2}}) } } $$\n",
    "\n",
    "Where $s^{2}_{p}$ is the pooled sample variance, calculated as:\n",
    "\n",
    "$$\\large s^{2}{p} = \\frac{(n{1} -1)s^{2}{1} + (n{2} -1)s^{2}{2}}{n{1} + n_{2} - 2} $$\n",
    "\n",
    "Where $s^{2}{1}$ and $s^{2}{2}$ are the variances for each sample given by the formula $$ \\large s^{2} = \\frac{\\sum_{i=1}^{n}(x_{i} - \\bar{x})^{2}}{n-1} $$"
   ]
  },
  {
   "cell_type": "code",
   "execution_count": 89,
   "metadata": {
    "ExecuteTime": {
     "end_time": "2019-11-14T22:48:40.360687Z",
     "start_time": "2019-11-14T22:48:40.355823Z"
    }
   },
   "outputs": [],
   "source": [
    "def pooled_variance(sample1, sample2):\n",
    "    n1 = len(sample1)\n",
    "    n2 = len(sample2)\n",
    "    var1 = np.var(sample1)\n",
    "    var2 = np.var(sample2)\n",
    "    num = (n1-1)*var1 + (n2-1)*var2\n",
    "    den = n1 + n2 - 2\n",
    "    return num/den"
   ]
  },
  {
   "cell_type": "code",
   "execution_count": 90,
   "metadata": {
    "ExecuteTime": {
     "end_time": "2019-11-14T22:48:40.746353Z",
     "start_time": "2019-11-14T22:48:40.739790Z"
    }
   },
   "outputs": [
    {
     "data": {
      "text/plain": [
       "10.452251881825967"
      ]
     },
     "execution_count": 90,
     "metadata": {},
     "output_type": "execute_result"
    }
   ],
   "source": [
    "def tstatistic(fifth, now):\n",
    "    fifth_mean, now_mean = np.mean(fifth), np.mean(now)\n",
    "    pool_var = pooled_variance(fifth, now)\n",
    "    n_f, n_n = len(fifth), len(now)\n",
    "    num = fifth_mean - now_mean\n",
    "    denom = np.sqrt(pool_var * ((1/n_f)+(1/n_n)))\n",
    "    return num / denom\n",
    "\n",
    "t_stat = tstatistic(fifth_movies_sample, now_movies_sample)\n",
    "t_stat"
   ]
  },
  {
   "cell_type": "code",
   "execution_count": 91,
   "metadata": {
    "ExecuteTime": {
     "end_time": "2019-11-14T22:48:41.097092Z",
     "start_time": "2019-11-14T22:48:41.094383Z"
    }
   },
   "outputs": [],
   "source": [
    "import scipy.stats\n",
    "# import stats.t\n",
    "from scipy import stats"
   ]
  },
  {
   "cell_type": "code",
   "execution_count": 92,
   "metadata": {
    "ExecuteTime": {
     "end_time": "2019-11-14T22:48:42.306507Z",
     "start_time": "2019-11-14T22:48:42.077912Z"
    }
   },
   "outputs": [
    {
     "data": {
      "image/png": "[encoded data removed]",
      "text/plain": [
       "<Figure size 576x360 with 1 Axes>"
      ]
     },
     "metadata": {},
     "output_type": "display_data"
    }
   ],
   "source": [
    "def visualize_t(t_stat, n_control, n_experimental):\n",
    "    \n",
    "    \"\"\"\n",
    "    Visualize the critical t values on a t distribution\n",
    "    \n",
    "    Parameters\n",
    "    -----------\n",
    "    t-stat: float\n",
    "    n_control: int\n",
    "    n_experiment: int\n",
    "    \n",
    "    Returns\n",
    "    ----------\n",
    "    None\n",
    "    \n",
    "    \"\"\"\n",
    "    # initialize a matplotlib \"figure\"\n",
    "    fig = plt.figure(figsize=(8,5))\n",
    "    ax = fig.gca()\n",
    "    # generate points on the x axis between -4 and 4:\n",
    "    xs = np.linspace(-12, 12, 500)\n",
    "\n",
    "    # use stats.t.ppf to get critical value. For alpha = 0.05 and two tailed test\n",
    "    crit = stats.t.ppf(1-0.025, (n_control+n_experimental-2))\n",
    "    \n",
    "    # use stats.t.pdf to get values on the probability density function for the t-distribution\n",
    "    \n",
    "    ys= stats.t.pdf(xs, (n_control+n_experimental-2), 0, 1)\n",
    "    ax.plot(xs, ys, linewidth=3, color='darkred')\n",
    "\n",
    "    ax.axvline(crit, color='black', linestyle='--', lw=5)\n",
    "    ax.axvline(-crit, color='black', linestyle='--', lw=5)\n",
    "    ax.axvline(t_stat, color='black', linestyle='--', lw=5)\n",
    "    \n",
    "    plt.show()\n",
    "    return None\n",
    "\n",
    "n_control = len(fifth_movies_sample)\n",
    "n_experimental = len(now_movies_sample)\n",
    "visualize_t(t_stat, n_control, n_experimental)\n"
   ]
  },
  {
   "cell_type": "markdown",
   "metadata": {},
   "source": [
    "## Getting p-value"
   ]
  },
  {
   "cell_type": "code",
   "execution_count": null,
   "metadata": {},
   "outputs": [],
   "source": []
  },
  {
   "cell_type": "code",
   "execution_count": 93,
   "metadata": {
    "ExecuteTime": {
     "end_time": "2019-11-14T22:49:07.609005Z",
     "start_time": "2019-11-14T22:49:07.603257Z"
    }
   },
   "outputs": [
    {
     "name": "stdout",
     "output_type": "stream",
     "text": [
      "6.217240341460524e-23\n"
     ]
    }
   ],
   "source": [
    "lower_tail = stats.t.cdf(-t_stat, (190+190-2), 0, 1)\n",
    "# Upper tail comulative density function returns area under upper tail curve\n",
    "upper_tail = 1. - stats.t.cdf(t_stat, (190+190-2), 0, 1)\n",
    "\n",
    "p_value = lower_tail+upper_tail\n",
    "print(p_value)"
   ]
  },
  {
   "cell_type": "code",
   "execution_count": 94,
   "metadata": {
    "ExecuteTime": {
     "end_time": "2019-11-14T22:49:08.367938Z",
     "start_time": "2019-11-14T22:49:08.362803Z"
    }
   },
   "outputs": [
    {
     "data": {
      "text/plain": [
       "Ttest_indResult(statistic=10.42470966825668, pvalue=1.5574637704270018e-22)"
      ]
     },
     "execution_count": 94,
     "metadata": {},
     "output_type": "execute_result"
    }
   ],
   "source": [
    "stats.ttest_ind(fifth_movies_sample, now_movies_sample)"
   ]
  },
  {
   "cell_type": "code",
   "execution_count": null,
   "metadata": {},
   "outputs": [],
   "source": []
  }
 ],
 "metadata": {
  "hide_input": false,
  "kernelspec": {
   "display_name": "Python 3",
   "language": "python",
   "name": "python3"
  },
  "language_info": {
   "codemirror_mode": {
    "name": "ipython",
    "version": 3
   },
   "file_extension": ".py",
   "mimetype": "text/x-python",
   "name": "python",
   "nbconvert_exporter": "python",
   "pygments_lexer": "ipython3",
   "version": "3.7.3"
  },
  "toc": {
   "base_numbering": 1,
   "nav_menu": {},
   "number_sections": true,
   "sideBar": true,
   "skip_h1_title": false,
   "title_cell": "Table of Contents",
   "title_sidebar": "Contents",
   "toc_cell": false,
   "toc_position": {},
   "toc_section_display": true,
   "toc_window_display": true
  },
  "varInspector": {
   "cols": {
    "lenName": 16,
    "lenType": 16,
    "lenVar": 40
   },
   "kernels_config": {
    "python": {
     "delete_cmd_postfix": "",
     "delete_cmd_prefix": "del ",
     "library": "var_list.py",
     "varRefreshCmd": "print(var_dic_list())"
    },
    "r": {
     "delete_cmd_postfix": ") ",
     "delete_cmd_prefix": "rm(",
     "library": "var_list.r",
     "varRefreshCmd": "cat(var_dic_list()) "
    }
   },
   "types_to_exclude": [
    "module",
    "function",
    "builtin_function_or_method",
    "instance",
    "_Feature"
   ],
   "window_display": false
  }
 },
 "nbformat": 4,
 "nbformat_minor": 2
}
