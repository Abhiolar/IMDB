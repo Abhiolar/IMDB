{
 "cells": [
  {
   "cell_type": "code",
   "execution_count": 1,
   "metadata": {
    "ExecuteTime": {
     "end_time": "2019-11-11T19:19:37.234242Z",
     "start_time": "2019-11-11T19:19:35.581502Z"
    }
   },
   "outputs": [],
   "source": [
    "import pandas as pd \n",
    "import numpy as np \n",
    "from matplotlib import pyplot as plt\n",
    "%matplotlib inline\n",
    "import seaborn as sns"
   ]
  },
  {
   "cell_type": "code",
   "execution_count": null,
   "metadata": {},
   "outputs": [],
   "source": []
  },
  {
   "cell_type": "code",
   "execution_count": 2,
   "metadata": {
    "ExecuteTime": {
     "end_time": "2019-11-11T19:19:37.273909Z",
     "start_time": "2019-11-11T19:19:37.237438Z"
    }
   },
   "outputs": [],
   "source": [
    "data = pd.read_csv('movies')"
   ]
  },
  {
   "cell_type": "code",
   "execution_count": 3,
   "metadata": {
    "ExecuteTime": {
     "end_time": "2019-11-11T19:19:37.290246Z",
     "start_time": "2019-11-11T19:19:37.276224Z"
    }
   },
   "outputs": [
    {
     "data": {
      "text/html": [
       "<div>\n",
       "<style scoped>\n",
       "    .dataframe tbody tr th:only-of-type {\n",
       "        vertical-align: middle;\n",
       "    }\n",
       "\n",
       "    .dataframe tbody tr th {\n",
       "        vertical-align: top;\n",
       "    }\n",
       "\n",
       "    .dataframe thead th {\n",
       "        text-align: right;\n",
       "    }\n",
       "</style>\n",
       "<table border=\"1\" class=\"dataframe\">\n",
       "  <thead>\n",
       "    <tr style=\"text-align: right;\">\n",
       "      <th></th>\n",
       "      <th>Unnamed: 0</th>\n",
       "      <th>all_titles</th>\n",
       "      <th>all_years</th>\n",
       "      <th>all_scores</th>\n",
       "      <th>all_meta</th>\n",
       "      <th>all_votes</th>\n",
       "      <th>all_gross</th>\n",
       "      <th>all_genres</th>\n",
       "    </tr>\n",
       "  </thead>\n",
       "  <tbody>\n",
       "    <tr>\n",
       "      <th>0</th>\n",
       "      <td>0</td>\n",
       "      <td>Star Wars: Episode VII - The Force Awakens</td>\n",
       "      <td>(2015)</td>\n",
       "      <td>7.9</td>\n",
       "      <td>81</td>\n",
       "      <td>799424</td>\n",
       "      <td>936,662,225</td>\n",
       "      <td>\\nAction, Adventure, Sci-Fi</td>\n",
       "    </tr>\n",
       "    <tr>\n",
       "      <th>1</th>\n",
       "      <td>1</td>\n",
       "      <td>Avengers: Endgame</td>\n",
       "      <td>(2019)</td>\n",
       "      <td>8.5</td>\n",
       "      <td>78</td>\n",
       "      <td>598830</td>\n",
       "      <td>858,373,000</td>\n",
       "      <td>\\nAction, Adventure, Drama</td>\n",
       "    </tr>\n",
       "    <tr>\n",
       "      <th>2</th>\n",
       "      <td>2</td>\n",
       "      <td>Avatar</td>\n",
       "      <td>(2009)</td>\n",
       "      <td>7.8</td>\n",
       "      <td>83</td>\n",
       "      <td>1065708</td>\n",
       "      <td>760,507,625</td>\n",
       "      <td>\\nAction, Adventure, Fantasy</td>\n",
       "    </tr>\n",
       "    <tr>\n",
       "      <th>3</th>\n",
       "      <td>3</td>\n",
       "      <td>Black Panther</td>\n",
       "      <td>(2018)</td>\n",
       "      <td>7.3</td>\n",
       "      <td>88</td>\n",
       "      <td>550256</td>\n",
       "      <td>700,059,566</td>\n",
       "      <td>\\nAction, Adventure, Sci-Fi</td>\n",
       "    </tr>\n",
       "    <tr>\n",
       "      <th>4</th>\n",
       "      <td>4</td>\n",
       "      <td>Avengers: Infinity War</td>\n",
       "      <td>(2018)</td>\n",
       "      <td>8.5</td>\n",
       "      <td>68</td>\n",
       "      <td>723574</td>\n",
       "      <td>678,815,482</td>\n",
       "      <td>\\nAction, Adventure, Sci-Fi</td>\n",
       "    </tr>\n",
       "  </tbody>\n",
       "</table>\n",
       "</div>"
      ],
      "text/plain": [
       "   Unnamed: 0                                  all_titles all_years  \\\n",
       "0           0  Star Wars: Episode VII - The Force Awakens    (2015)   \n",
       "1           1                           Avengers: Endgame    (2019)   \n",
       "2           2                                      Avatar    (2009)   \n",
       "3           3                               Black Panther    (2018)   \n",
       "4           4                      Avengers: Infinity War    (2018)   \n",
       "\n",
       "  all_scores    all_meta all_votes    all_gross  \\\n",
       "0        7.9  81            799424  936,662,225   \n",
       "1        8.5  78            598830  858,373,000   \n",
       "2        7.8  83           1065708  760,507,625   \n",
       "3        7.3  88            550256  700,059,566   \n",
       "4        8.5  68            723574  678,815,482   \n",
       "\n",
       "                                 all_genres  \n",
       "0   \\nAction, Adventure, Sci-Fi              \n",
       "1    \\nAction, Adventure, Drama              \n",
       "2  \\nAction, Adventure, Fantasy              \n",
       "3   \\nAction, Adventure, Sci-Fi              \n",
       "4   \\nAction, Adventure, Sci-Fi              "
      ]
     },
     "execution_count": 3,
     "metadata": {},
     "output_type": "execute_result"
    }
   ],
   "source": [
    "data.head()"
   ]
  },
  {
   "cell_type": "code",
   "execution_count": 4,
   "metadata": {
    "ExecuteTime": {
     "end_time": "2019-11-11T19:19:37.301925Z",
     "start_time": "2019-11-11T19:19:37.293175Z"
    }
   },
   "outputs": [],
   "source": [
    "data.drop(['Unnamed: 0'], axis=1, inplace = True)"
   ]
  },
  {
   "cell_type": "code",
   "execution_count": 5,
   "metadata": {
    "ExecuteTime": {
     "end_time": "2019-11-11T19:19:37.314748Z",
     "start_time": "2019-11-11T19:19:37.303726Z"
    }
   },
   "outputs": [
    {
     "data": {
      "text/html": [
       "<div>\n",
       "<style scoped>\n",
       "    .dataframe tbody tr th:only-of-type {\n",
       "        vertical-align: middle;\n",
       "    }\n",
       "\n",
       "    .dataframe tbody tr th {\n",
       "        vertical-align: top;\n",
       "    }\n",
       "\n",
       "    .dataframe thead th {\n",
       "        text-align: right;\n",
       "    }\n",
       "</style>\n",
       "<table border=\"1\" class=\"dataframe\">\n",
       "  <thead>\n",
       "    <tr style=\"text-align: right;\">\n",
       "      <th></th>\n",
       "      <th>all_titles</th>\n",
       "      <th>all_years</th>\n",
       "      <th>all_scores</th>\n",
       "      <th>all_meta</th>\n",
       "      <th>all_votes</th>\n",
       "      <th>all_gross</th>\n",
       "      <th>all_genres</th>\n",
       "    </tr>\n",
       "  </thead>\n",
       "  <tbody>\n",
       "    <tr>\n",
       "      <th>0</th>\n",
       "      <td>Star Wars: Episode VII - The Force Awakens</td>\n",
       "      <td>(2015)</td>\n",
       "      <td>7.9</td>\n",
       "      <td>81</td>\n",
       "      <td>799424</td>\n",
       "      <td>936,662,225</td>\n",
       "      <td>\\nAction, Adventure, Sci-Fi</td>\n",
       "    </tr>\n",
       "    <tr>\n",
       "      <th>1</th>\n",
       "      <td>Avengers: Endgame</td>\n",
       "      <td>(2019)</td>\n",
       "      <td>8.5</td>\n",
       "      <td>78</td>\n",
       "      <td>598830</td>\n",
       "      <td>858,373,000</td>\n",
       "      <td>\\nAction, Adventure, Drama</td>\n",
       "    </tr>\n",
       "    <tr>\n",
       "      <th>2</th>\n",
       "      <td>Avatar</td>\n",
       "      <td>(2009)</td>\n",
       "      <td>7.8</td>\n",
       "      <td>83</td>\n",
       "      <td>1065708</td>\n",
       "      <td>760,507,625</td>\n",
       "      <td>\\nAction, Adventure, Fantasy</td>\n",
       "    </tr>\n",
       "    <tr>\n",
       "      <th>3</th>\n",
       "      <td>Black Panther</td>\n",
       "      <td>(2018)</td>\n",
       "      <td>7.3</td>\n",
       "      <td>88</td>\n",
       "      <td>550256</td>\n",
       "      <td>700,059,566</td>\n",
       "      <td>\\nAction, Adventure, Sci-Fi</td>\n",
       "    </tr>\n",
       "    <tr>\n",
       "      <th>4</th>\n",
       "      <td>Avengers: Infinity War</td>\n",
       "      <td>(2018)</td>\n",
       "      <td>8.5</td>\n",
       "      <td>68</td>\n",
       "      <td>723574</td>\n",
       "      <td>678,815,482</td>\n",
       "      <td>\\nAction, Adventure, Sci-Fi</td>\n",
       "    </tr>\n",
       "  </tbody>\n",
       "</table>\n",
       "</div>"
      ],
      "text/plain": [
       "                                   all_titles all_years all_scores  \\\n",
       "0  Star Wars: Episode VII - The Force Awakens    (2015)        7.9   \n",
       "1                           Avengers: Endgame    (2019)        8.5   \n",
       "2                                      Avatar    (2009)        7.8   \n",
       "3                               Black Panther    (2018)        7.3   \n",
       "4                      Avengers: Infinity War    (2018)        8.5   \n",
       "\n",
       "     all_meta all_votes    all_gross                                all_genres  \n",
       "0  81            799424  936,662,225   \\nAction, Adventure, Sci-Fi              \n",
       "1  78            598830  858,373,000    \\nAction, Adventure, Drama              \n",
       "2  83           1065708  760,507,625  \\nAction, Adventure, Fantasy              \n",
       "3  88            550256  700,059,566   \\nAction, Adventure, Sci-Fi              \n",
       "4  68            723574  678,815,482   \\nAction, Adventure, Sci-Fi              "
      ]
     },
     "execution_count": 5,
     "metadata": {},
     "output_type": "execute_result"
    }
   ],
   "source": [
    "data.head()"
   ]
  },
  {
   "cell_type": "code",
   "execution_count": 6,
   "metadata": {
    "ExecuteTime": {
     "end_time": "2019-11-11T19:19:37.321171Z",
     "start_time": "2019-11-11T19:19:37.318512Z"
    }
   },
   "outputs": [],
   "source": [
    "import re"
   ]
  },
  {
   "cell_type": "code",
   "execution_count": 7,
   "metadata": {
    "ExecuteTime": {
     "end_time": "2019-11-11T19:19:37.341198Z",
     "start_time": "2019-11-11T19:19:37.323745Z"
    }
   },
   "outputs": [],
   "source": [
    "data['all_years'] = data['all_years'].apply(lambda x: re.sub('[^0-9]','', x))"
   ]
  },
  {
   "cell_type": "code",
   "execution_count": 8,
   "metadata": {
    "ExecuteTime": {
     "end_time": "2019-11-11T19:19:37.358487Z",
     "start_time": "2019-11-11T19:19:37.346874Z"
    }
   },
   "outputs": [
    {
     "data": {
      "text/html": [
       "<div>\n",
       "<style scoped>\n",
       "    .dataframe tbody tr th:only-of-type {\n",
       "        vertical-align: middle;\n",
       "    }\n",
       "\n",
       "    .dataframe tbody tr th {\n",
       "        vertical-align: top;\n",
       "    }\n",
       "\n",
       "    .dataframe thead th {\n",
       "        text-align: right;\n",
       "    }\n",
       "</style>\n",
       "<table border=\"1\" class=\"dataframe\">\n",
       "  <thead>\n",
       "    <tr style=\"text-align: right;\">\n",
       "      <th></th>\n",
       "      <th>all_titles</th>\n",
       "      <th>all_years</th>\n",
       "      <th>all_scores</th>\n",
       "      <th>all_meta</th>\n",
       "      <th>all_votes</th>\n",
       "      <th>all_gross</th>\n",
       "      <th>all_genres</th>\n",
       "    </tr>\n",
       "  </thead>\n",
       "  <tbody>\n",
       "    <tr>\n",
       "      <th>0</th>\n",
       "      <td>Star Wars: Episode VII - The Force Awakens</td>\n",
       "      <td>2015</td>\n",
       "      <td>7.9</td>\n",
       "      <td>81</td>\n",
       "      <td>799424</td>\n",
       "      <td>936,662,225</td>\n",
       "      <td>\\nAction, Adventure, Sci-Fi</td>\n",
       "    </tr>\n",
       "    <tr>\n",
       "      <th>1</th>\n",
       "      <td>Avengers: Endgame</td>\n",
       "      <td>2019</td>\n",
       "      <td>8.5</td>\n",
       "      <td>78</td>\n",
       "      <td>598830</td>\n",
       "      <td>858,373,000</td>\n",
       "      <td>\\nAction, Adventure, Drama</td>\n",
       "    </tr>\n",
       "    <tr>\n",
       "      <th>2</th>\n",
       "      <td>Avatar</td>\n",
       "      <td>2009</td>\n",
       "      <td>7.8</td>\n",
       "      <td>83</td>\n",
       "      <td>1065708</td>\n",
       "      <td>760,507,625</td>\n",
       "      <td>\\nAction, Adventure, Fantasy</td>\n",
       "    </tr>\n",
       "    <tr>\n",
       "      <th>3</th>\n",
       "      <td>Black Panther</td>\n",
       "      <td>2018</td>\n",
       "      <td>7.3</td>\n",
       "      <td>88</td>\n",
       "      <td>550256</td>\n",
       "      <td>700,059,566</td>\n",
       "      <td>\\nAction, Adventure, Sci-Fi</td>\n",
       "    </tr>\n",
       "    <tr>\n",
       "      <th>4</th>\n",
       "      <td>Avengers: Infinity War</td>\n",
       "      <td>2018</td>\n",
       "      <td>8.5</td>\n",
       "      <td>68</td>\n",
       "      <td>723574</td>\n",
       "      <td>678,815,482</td>\n",
       "      <td>\\nAction, Adventure, Sci-Fi</td>\n",
       "    </tr>\n",
       "  </tbody>\n",
       "</table>\n",
       "</div>"
      ],
      "text/plain": [
       "                                   all_titles all_years all_scores  \\\n",
       "0  Star Wars: Episode VII - The Force Awakens      2015        7.9   \n",
       "1                           Avengers: Endgame      2019        8.5   \n",
       "2                                      Avatar      2009        7.8   \n",
       "3                               Black Panther      2018        7.3   \n",
       "4                      Avengers: Infinity War      2018        8.5   \n",
       "\n",
       "     all_meta all_votes    all_gross                                all_genres  \n",
       "0  81            799424  936,662,225   \\nAction, Adventure, Sci-Fi              \n",
       "1  78            598830  858,373,000    \\nAction, Adventure, Drama              \n",
       "2  83           1065708  760,507,625  \\nAction, Adventure, Fantasy              \n",
       "3  88            550256  700,059,566   \\nAction, Adventure, Sci-Fi              \n",
       "4  68            723574  678,815,482   \\nAction, Adventure, Sci-Fi              "
      ]
     },
     "execution_count": 8,
     "metadata": {},
     "output_type": "execute_result"
    }
   ],
   "source": [
    "data.head()"
   ]
  },
  {
   "cell_type": "code",
   "execution_count": 9,
   "metadata": {
    "ExecuteTime": {
     "end_time": "2019-11-11T19:19:37.363938Z",
     "start_time": "2019-11-11T19:19:37.361333Z"
    }
   },
   "outputs": [],
   "source": [
    "# data.all_years.value_counts(normalize=True).sort_index()"
   ]
  },
  {
   "cell_type": "code",
   "execution_count": 10,
   "metadata": {
    "ExecuteTime": {
     "end_time": "2019-11-11T19:19:37.376122Z",
     "start_time": "2019-11-11T19:19:37.366301Z"
    }
   },
   "outputs": [],
   "source": [
    "data['all_genres'] = data['all_genres'].apply(lambda x: x[1:])"
   ]
  },
  {
   "cell_type": "code",
   "execution_count": 11,
   "metadata": {
    "ExecuteTime": {
     "end_time": "2019-11-11T19:19:37.393052Z",
     "start_time": "2019-11-11T19:19:37.381293Z"
    }
   },
   "outputs": [
    {
     "data": {
      "text/html": [
       "<div>\n",
       "<style scoped>\n",
       "    .dataframe tbody tr th:only-of-type {\n",
       "        vertical-align: middle;\n",
       "    }\n",
       "\n",
       "    .dataframe tbody tr th {\n",
       "        vertical-align: top;\n",
       "    }\n",
       "\n",
       "    .dataframe thead th {\n",
       "        text-align: right;\n",
       "    }\n",
       "</style>\n",
       "<table border=\"1\" class=\"dataframe\">\n",
       "  <thead>\n",
       "    <tr style=\"text-align: right;\">\n",
       "      <th></th>\n",
       "      <th>all_titles</th>\n",
       "      <th>all_years</th>\n",
       "      <th>all_scores</th>\n",
       "      <th>all_meta</th>\n",
       "      <th>all_votes</th>\n",
       "      <th>all_gross</th>\n",
       "      <th>all_genres</th>\n",
       "    </tr>\n",
       "  </thead>\n",
       "  <tbody>\n",
       "    <tr>\n",
       "      <th>0</th>\n",
       "      <td>Star Wars: Episode VII - The Force Awakens</td>\n",
       "      <td>2015</td>\n",
       "      <td>7.9</td>\n",
       "      <td>81</td>\n",
       "      <td>799424</td>\n",
       "      <td>936,662,225</td>\n",
       "      <td>Action, Adventure, Sci-Fi</td>\n",
       "    </tr>\n",
       "    <tr>\n",
       "      <th>1</th>\n",
       "      <td>Avengers: Endgame</td>\n",
       "      <td>2019</td>\n",
       "      <td>8.5</td>\n",
       "      <td>78</td>\n",
       "      <td>598830</td>\n",
       "      <td>858,373,000</td>\n",
       "      <td>Action, Adventure, Drama</td>\n",
       "    </tr>\n",
       "    <tr>\n",
       "      <th>2</th>\n",
       "      <td>Avatar</td>\n",
       "      <td>2009</td>\n",
       "      <td>7.8</td>\n",
       "      <td>83</td>\n",
       "      <td>1065708</td>\n",
       "      <td>760,507,625</td>\n",
       "      <td>Action, Adventure, Fantasy</td>\n",
       "    </tr>\n",
       "    <tr>\n",
       "      <th>3</th>\n",
       "      <td>Black Panther</td>\n",
       "      <td>2018</td>\n",
       "      <td>7.3</td>\n",
       "      <td>88</td>\n",
       "      <td>550256</td>\n",
       "      <td>700,059,566</td>\n",
       "      <td>Action, Adventure, Sci-Fi</td>\n",
       "    </tr>\n",
       "    <tr>\n",
       "      <th>4</th>\n",
       "      <td>Avengers: Infinity War</td>\n",
       "      <td>2018</td>\n",
       "      <td>8.5</td>\n",
       "      <td>68</td>\n",
       "      <td>723574</td>\n",
       "      <td>678,815,482</td>\n",
       "      <td>Action, Adventure, Sci-Fi</td>\n",
       "    </tr>\n",
       "  </tbody>\n",
       "</table>\n",
       "</div>"
      ],
      "text/plain": [
       "                                   all_titles all_years all_scores  \\\n",
       "0  Star Wars: Episode VII - The Force Awakens      2015        7.9   \n",
       "1                           Avengers: Endgame      2019        8.5   \n",
       "2                                      Avatar      2009        7.8   \n",
       "3                               Black Panther      2018        7.3   \n",
       "4                      Avengers: Infinity War      2018        8.5   \n",
       "\n",
       "     all_meta all_votes    all_gross                              all_genres  \n",
       "0  81            799424  936,662,225   Action, Adventure, Sci-Fi              \n",
       "1  78            598830  858,373,000    Action, Adventure, Drama              \n",
       "2  83           1065708  760,507,625  Action, Adventure, Fantasy              \n",
       "3  88            550256  700,059,566   Action, Adventure, Sci-Fi              \n",
       "4  68            723574  678,815,482   Action, Adventure, Sci-Fi              "
      ]
     },
     "execution_count": 11,
     "metadata": {},
     "output_type": "execute_result"
    }
   ],
   "source": [
    "data.head()"
   ]
  },
  {
   "cell_type": "code",
   "execution_count": 12,
   "metadata": {
    "ExecuteTime": {
     "end_time": "2019-11-11T19:19:37.399240Z",
     "start_time": "2019-11-11T19:19:37.396174Z"
    }
   },
   "outputs": [],
   "source": [
    "# data.all_genres.value_counts()"
   ]
  },
  {
   "cell_type": "code",
   "execution_count": 13,
   "metadata": {
    "ExecuteTime": {
     "end_time": "2019-11-11T19:19:37.410395Z",
     "start_time": "2019-11-11T19:19:37.402306Z"
    }
   },
   "outputs": [],
   "source": [
    "data['all_gross'] = data['all_gross'].apply(lambda x: x.replace(',',''))"
   ]
  },
  {
   "cell_type": "code",
   "execution_count": 17,
   "metadata": {
    "ExecuteTime": {
     "end_time": "2019-11-11T19:20:30.853280Z",
     "start_time": "2019-11-11T19:20:30.843605Z"
    }
   },
   "outputs": [],
   "source": [
    "data['all_gross'] = data['all_gross'].apply(lambda x:  int(x) if x != 'no' else 0)"
   ]
  },
  {
   "cell_type": "code",
   "execution_count": 18,
   "metadata": {
    "ExecuteTime": {
     "end_time": "2019-11-11T19:20:39.045800Z",
     "start_time": "2019-11-11T19:20:39.030869Z"
    }
   },
   "outputs": [],
   "source": [
    "data['all_scores'] = data['all_scores'].apply(lambda x: x.replace('.',''))\n",
    "data['all_scores'] = data['all_scores'].apply(lambda x: int(x) if x != 'NO' else 0)\n",
    "\n"
   ]
  },
  {
   "cell_type": "code",
   "execution_count": 19,
   "metadata": {
    "ExecuteTime": {
     "end_time": "2019-11-11T19:20:47.546402Z",
     "start_time": "2019-11-11T19:20:47.537539Z"
    }
   },
   "outputs": [],
   "source": [
    "data['all_meta'] = data['all_meta'].apply(lambda x: int(x.replace('.','')) if x != 'no' else 0)"
   ]
  },
  {
   "cell_type": "code",
   "execution_count": 20,
   "metadata": {
    "ExecuteTime": {
     "end_time": "2019-11-11T19:20:48.678333Z",
     "start_time": "2019-11-11T19:20:48.397516Z"
    }
   },
   "outputs": [
    {
     "data": {
      "text/plain": [
       "<matplotlib.axes._subplots.AxesSubplot at 0x1a1cad45c0>"
      ]
     },
     "execution_count": 20,
     "metadata": {},
     "output_type": "execute_result"
    },
    {
     "data": {
      "image/png": "[encoded data removed]",
      "text/plain": [
       "<Figure size 432x288 with 1 Axes>"
      ]
     },
     "metadata": {
      "needs_background": "light"
     },
     "output_type": "display_data"
    }
   ],
   "source": [
    "sns.distplot(data.all_gross)"
   ]
  },
  {
   "cell_type": "code",
   "execution_count": 21,
   "metadata": {
    "ExecuteTime": {
     "end_time": "2019-11-11T19:20:52.351776Z",
     "start_time": "2019-11-11T19:20:52.139031Z"
    }
   },
   "outputs": [
    {
     "data": {
      "text/plain": [
       "<matplotlib.axes._subplots.AxesSubplot at 0x1a1d65f550>"
      ]
     },
     "execution_count": 21,
     "metadata": {},
     "output_type": "execute_result"
    },
    {
     "data": {
      "image/png": "[encoded data removed]",
      "text/plain": [
       "<Figure size 432x288 with 1 Axes>"
      ]
     },
     "metadata": {
      "needs_background": "light"
     },
     "output_type": "display_data"
    }
   ],
   "source": [
    "sns.distplot(data.all_meta)"
   ]
  },
  {
   "cell_type": "code",
   "execution_count": null,
   "metadata": {},
   "outputs": [],
   "source": []
  }
 ],
 "metadata": {
  "hide_input": false,
  "kernelspec": {
   "display_name": "Python 3",
   "language": "python",
   "name": "python3"
  },
  "language_info": {
   "codemirror_mode": {
    "name": "ipython",
    "version": 3
   },
   "file_extension": ".py",
   "mimetype": "text/x-python",
   "name": "python",
   "nbconvert_exporter": "python",
   "pygments_lexer": "ipython3",
   "version": "3.7.3"
  },
  "toc": {
   "base_numbering": 1,
   "nav_menu": {},
   "number_sections": true,
   "sideBar": true,
   "skip_h1_title": false,
   "title_cell": "Table of Contents",
   "title_sidebar": "Contents",
   "toc_cell": false,
   "toc_position": {},
   "toc_section_display": true,
   "toc_window_display": false
  },
  "varInspector": {
   "cols": {
    "lenName": 16,
    "lenType": 16,
    "lenVar": 40
   },
   "kernels_config": {
    "python": {
     "delete_cmd_postfix": "",
     "delete_cmd_prefix": "del ",
     "library": "var_list.py",
     "varRefreshCmd": "print(var_dic_list())"
    },
    "r": {
     "delete_cmd_postfix": ") ",
     "delete_cmd_prefix": "rm(",
     "library": "var_list.r",
     "varRefreshCmd": "cat(var_dic_list()) "
    }
   },
   "types_to_exclude": [
    "module",
    "function",
    "builtin_function_or_method",
    "instance",
    "_Feature"
   ],
   "window_display": false
  }
 },
 "nbformat": 4,
 "nbformat_minor": 2
}
